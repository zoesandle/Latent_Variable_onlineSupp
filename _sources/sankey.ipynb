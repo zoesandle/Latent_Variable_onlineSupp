{
 "cells": [
  {
   "cell_type": "markdown",
   "id": "9aa45f8f",
   "metadata": {},
   "source": [
    "#### Supplemental Materials \n",
    "For my systematic review on latent Variable modeling approaches, here are some additional plots and data that might be of interest. If you discover any issues, please contact zoe.sandle@donders.ru.nl."
   ]
  },
  {
   "cell_type": "code",
   "execution_count": 26,
   "id": "754d5901",
   "metadata": {},
   "outputs": [],
   "source": [
    "### read in data and activate the environmentimport pandas as pd\n",
    "import numpy as np\n",
    "import matplotlib.pyplot as plt\n",
    "import seaborn as sns\n",
    "import statsmodels.api as sm\n",
    "import statsmodels.formula.api as smf\n",
    "import pandas as pd\n",
    "import plotly.graph_objects as go\n",
    "\n",
    "#setting wd to where the data is\n",
    "import os\n",
    "os.chdir('C:/Users/U727148/Desktop/DATA/REVIEW/')\n",
    "df = pd.read_excel('updated_from_cleaned_20250423.xlsx')\n",
    "df_sankey_models_transformed = pd.read_excel('dfsankeymodels_updated_20250424.xlsx')\n",
    "LCA_outcomes = pd.read_excel('LCA_outcomes.xlsx')\n",
    "df_sankey_cups = pd.read_excel('dfsankeycu.xlsx')\n",
    "df_sankey_beh = pd.read_excel('dfsankey_behavioral_variables.xlsx')\n",
    "df_sankey_cog = pd.read_excel('df_sankey_cog.xlsx')\n",
    "df_reports = pd.read_excel('df_reports.xlsx')"
   ]
  },
  {
   "cell_type": "markdown",
   "id": "0e85264d",
   "metadata": {},
   "source": [
    "#### Sankey Plots \n",
    "\n",
    "In this first plot, the first column represents the general model used in all studies, the second column includes additional specifications (e.g. for factor analysis, whether it was exploratory or confirmatory, or which type of rotation was used). Follow up analyses are shown in the third column. Hovering over each node shows the number of incoming and outgoing flow, hovering over the connections shows the First Author & Year. Each node can be moved around for readability or bundled using box or lasso select. 4\n",
    "\n",
    "Variables have been exploded, meaning that if a study assessed more than one variable for each of the nodes, its name will show up in multiple parts of the graph. "
   ]
  },
  {
   "cell_type": "code",
   "execution_count": 27,
   "id": "debf1e77",
   "metadata": {},
   "outputs": [
    {
     "data": {
      "application/vnd.plotly.v1+json": {
       "config": {
        "plotlyServerURL": "https://plot.ly"
       },
       "data": [
        {
         "link": {
          "color": [
           "rgba(224,189,144,0.6)",
           "rgba(104,136,185,0.6)",
           "rgba(224,189,144,0.6)",
           "rgba(224,189,144,0.6)",
           "rgba(240,220,216,0.6)",
           "rgba(227,233,183,0.6)",
           "rgba(240,220,216,0.6)",
           "rgba(104,136,185,0.6)",
           "rgba(224,189,144,0.6)",
           "rgba(104,136,185,0.6)",
           "rgba(224,189,144,0.6)",
           "rgba(104,136,185,0.6)",
           "rgba(224,189,144,0.6)",
           "rgba(104,136,185,0.6)",
           "rgba(250,179,141,0.6)",
           "rgba(109,211,152,0.6)",
           "rgba(156,179,147,0.6)",
           "rgba(156,179,147,0.6)",
           "rgba(224,189,144,0.6)",
           "rgba(224,189,144,0.6)",
           "rgba(104,136,185,0.6)",
           "rgba(104,136,185,0.6)",
           "rgba(104,136,185,0.6)",
           "rgba(227,233,183,0.6)",
           "rgba(224,189,144,0.6)",
           "rgba(250,179,141,0.6)",
           "rgba(224,189,144,0.6)",
           "rgba(104,136,185,0.6)",
           "rgba(221,171,154,0.6)",
           "rgba(224,189,144,0.6)",
           "rgba(104,136,185,0.6)",
           "rgba(104,136,185,0.6)",
           "rgba(227,233,183,0.6)",
           "rgba(227,233,183,0.6)",
           "rgba(104,136,185,0.6)",
           "rgba(104,136,185,0.6)",
           "rgba(224,189,144,0.6)",
           "rgba(156,179,147,0.6)",
           "rgba(250,179,141,0.6)",
           "rgba(104,136,185,0.6)",
           "rgba(156,179,147,0.6)",
           "rgba(224,189,144,0.6)",
           "rgba(250,179,141,0.6)",
           "rgba(224,189,144,0.6)",
           "rgba(104,136,185,0.6)",
           "rgba(104,136,185,0.6)",
           "rgba(224,189,144,0.6)",
           "rgba(104,136,185,0.6)",
           "rgba(104,136,185,0.6)",
           "rgba(104,136,185,0.6)",
           "rgba(250,179,141,0.6)",
           "rgba(224,189,144,0.6)",
           "rgba(221,171,154,0.6)",
           "rgba(227,233,183,0.6)",
           "rgba(104,136,185,0.6)",
           "rgba(104,136,185,0.6)",
           "rgba(104,136,185,0.6)",
           "rgba(250,179,141,0.6)",
           "rgba(224,189,144,0.6)",
           "rgba(227,233,183,0.6)",
           "rgba(250,179,141,0.6)",
           "rgba(104,136,185,0.6)",
           "rgba(104,136,185,0.6)",
           "rgba(104,136,185,0.6)",
           "rgba(227,233,183,0.6)",
           "rgba(227,233,183,0.6)",
           "rgba(250,179,141,0.6)",
           "rgba(104,136,185,0.6)",
           "rgba(250,179,141,0.6)",
           "rgba(224,189,144,0.6)",
           "rgba(227,233,183,0.6)",
           "rgba(104,136,185,0.6)",
           "rgba(104,136,185,0.6)",
           "rgba(250,179,141,0.6)",
           "rgba(104,136,185,0.6)",
           "rgba(104,136,185,0.6)",
           "rgba(104,136,185,0.6)",
           "rgba(104,136,185,0.6)",
           "rgba(224,189,144,0.6)",
           "rgba(224,189,144,0.6)",
           "rgba(156,179,147,0.6)",
           "rgba(250,179,141,0.6)",
           "rgba(104,136,185,0.6)",
           "rgba(104,136,185,0.6)",
           "rgba(227,233,183,0.6)",
           "rgba(132,250,133,0.6)",
           "rgba(224,189,144,0.6)",
           "rgba(104,136,185,0.6)",
           "rgba(227,233,183,0.6)",
           "rgba(224,189,144,0.6)",
           "rgba(224,189,144,0.6)",
           "rgba(224,189,144,0.6)",
           "rgba(194,114,180,0.6)",
           "rgba(121,252,168,0.6)",
           "rgba(174,229,115,0.6)",
           "rgba(204,226,199,0.6)",
           "rgba(233,113,233,0.6)",
           "rgba(198,228,218,0.6)",
           "rgba(239,116,157,0.6)",
           "rgba(134,120,176,0.6)",
           "rgba(218,107,119,0.6)",
           "rgba(134,120,176,0.6)",
           "rgba(160,107,118,0.6)",
           "rgba(134,120,176,0.6)",
           "rgba(174,229,115,0.6)",
           "rgba(134,120,176,0.6)",
           "rgba(209,195,119,0.6)",
           "rgba(107,115,215,0.6)",
           "rgba(165,221,212,0.6)",
           "rgba(176,112,251,0.6)",
           "rgba(171,136,254,0.6)",
           "rgba(174,229,115,0.6)",
           "rgba(134,120,176,0.6)",
           "rgba(134,120,176,0.6)",
           "rgba(134,120,176,0.6)",
           "rgba(198,228,218,0.6)",
           "rgba(171,136,254,0.6)",
           "rgba(156,150,234,0.6)",
           "rgba(174,229,115,0.6)",
           "rgba(132,131,153,0.6)",
           "rgba(183,138,137,0.6)",
           "rgba(218,107,119,0.6)",
           "rgba(134,120,176,0.6)",
           "rgba(134,120,176,0.6)",
           "rgba(198,228,218,0.6)",
           "rgba(198,228,218,0.6)",
           "rgba(134,120,176,0.6)",
           "rgba(134,120,176,0.6)",
           "rgba(233,229,134,0.6)",
           "rgba(143,144,150,0.6)",
           "rgba(156,150,234,0.6)",
           "rgba(134,120,176,0.6)",
           "rgba(161,112,229,0.6)",
           "rgba(174,229,115,0.6)",
           "rgba(156,150,234,0.6)",
           "rgba(174,229,115,0.6)",
           "rgba(134,120,176,0.6)",
           "rgba(134,120,176,0.6)",
           "rgba(174,229,115,0.6)",
           "rgba(134,120,176,0.6)",
           "rgba(134,120,176,0.6)",
           "rgba(134,120,176,0.6)",
           "rgba(156,150,234,0.6)",
           "rgba(183,138,137,0.6)",
           "rgba(174,229,115,0.6)",
           "rgba(198,228,218,0.6)",
           "rgba(121,252,168,0.6)",
           "rgba(134,120,176,0.6)",
           "rgba(134,120,176,0.6)",
           "rgba(156,150,234,0.6)",
           "rgba(174,229,115,0.6)",
           "rgba(198,228,218,0.6)",
           "rgba(156,150,234,0.6)",
           "rgba(134,120,176,0.6)",
           "rgba(134,120,176,0.6)",
           "rgba(134,120,176,0.6)",
           "rgba(204,226,199,0.6)",
           "rgba(216,129,129,0.6)",
           "rgba(229,148,195,0.6)",
           "rgba(134,120,176,0.6)",
           "rgba(156,150,234,0.6)",
           "rgba(174,229,115,0.6)",
           "rgba(198,228,218,0.6)",
           "rgba(134,120,176,0.6)",
           "rgba(121,252,168,0.6)",
           "rgba(124,119,145,0.6)",
           "rgba(134,120,176,0.6)",
           "rgba(121,252,168,0.6)",
           "rgba(134,120,176,0.6)",
           "rgba(121,252,168,0.6)",
           "rgba(174,229,115,0.6)",
           "rgba(198,228,218,0.6)",
           "rgba(179,150,176,0.6)",
           "rgba(156,150,234,0.6)",
           "rgba(134,120,176,0.6)",
           "rgba(134,120,176,0.6)",
           "rgba(198,228,218,0.6)",
           "rgba(162,100,121,0.6)",
           "rgba(174,229,115,0.6)",
           "rgba(121,252,168,0.6)",
           "rgba(213,149,150,0.6)",
           "rgba(174,229,115,0.6)",
           "rgba(174,229,115,0.6)",
           "rgba(174,229,115,0.6)"
          ],
          "customdata": [
           "Winters 2025",
           "Ciesenski 2024",
           "Kemp 2024",
           "Kemp 2024",
           "Castagna 2024",
           "Cohn 2024",
           "Elster 2024",
           "Neumann 2024",
           "Međedovic 2024",
           "Roy 2023",
           "Joyner 2024",
           "Brislin 2024",
           "Shields 2024",
           "Shields 2024",
           "Alvarez-Voces 2024",
           "Tillem 2023",
           "Murray 2022",
           "Dugre 2023",
           "Pechorro 2023",
           "Payot 2022",
           "Hare 2022",
           "Colins  2022",
           "Gong 2022",
           "Sellbom 2022",
           "Drislane 2022",
           "Dugre 2022",
           "Wissenburg 2022",
           "Voulgaridou 2022",
           "Willoughby 2022",
           "Willoughby 2022",
           "Willoughby 2022",
           "Michielsen 2022",
           "Woerhle 2022",
           "Friedman 2021",
           "Lopez-Romero 2021",
           "Harrop 2021",
           "Sellbom 2021",
           "Byrd 2021",
           "Goulter 2021",
           "Gillespie 2021",
           "Hawes 2021",
           "Roy 2021",
           "Altikriti 2020",
           "Breaux 2020",
           "Breaux 2020",
           "Maneiro 2020",
           "Wang 2020",
           "Wang 2020",
           "Lehmann 2019",
           "Piehler 2019",
           "Docherty 2019",
           "Maneiro 2019",
           "Maneiro 2019",
           "Maneiro 2019",
           "Waller 2019",
           "Goulter 2019",
           "Colins  2018",
           "Byrd 2018",
           "Adjorlolo 2018",
           "Carre 2018",
           "Dubas  2018",
           "Driessen 2018",
           "Boduszek 2017",
           "Fanti 2017",
           "Barhight 2017",
           "Barhight 2017",
           "Hawes  2017",
           "Colins 2017",
           "Fanti 2017",
           "Krstic 2017",
           "Krstic 2017",
           "Krstic 2017",
           "Ray 2016",
           "Muratori 2016",
           "Wall 2016",
           "Andrade 2016",
           "Mokros 2015",
           "Dhingra 2015",
           "Neumann 2014",
           "Neumann 2014",
           "White 2014",
           "Pardini 2013",
           "Fanti 2013",
           "Fanti 2013",
           "Hawes 2013",
           "Kimonis 2011",
           "Nijhof 2011",
           "Nijhof 2011",
           "Neumann 2010",
           "Blonigen 2010",
           "Kimonis 2008",
           "Vitacco 2006",
           "Winters 2025",
           "Ciesenski 2024",
           "Kemp 2024",
           "Kemp 2024",
           "Castagna 2024",
           "Cohn 2024",
           "Elster 2024",
           "Neumann 2024",
           "Međedovic 2024",
           "Roy 2023",
           "Joyner 2024",
           "Brislin 2024",
           "Shields 2024",
           "Shields 2024",
           "Alvarez-Voces 2024",
           "Tillem 2023",
           "Murray 2022",
           "Dugre 2023",
           "Pechorro 2023",
           "Payot 2022",
           "Hare 2022",
           "Colins  2022",
           "Gong 2022",
           "Sellbom 2022",
           "Drislane 2022",
           "Dugre 2022",
           "Wissenburg 2022",
           "Voulgaridou 2022",
           "Willoughby 2022",
           "Willoughby 2022",
           "Willoughby 2022",
           "Michielsen 2022",
           "Woerhle 2022",
           "Friedman 2021",
           "Lopez-Romero 2021",
           "Harrop 2021",
           "Sellbom 2021",
           "Byrd 2021",
           "Goulter 2021",
           "Gillespie 2021",
           "Hawes 2021",
           "Roy 2021",
           "Altikriti 2020",
           "Breaux 2020",
           "Breaux 2020",
           "Maneiro 2020",
           "Wang 2020",
           "Wang 2020",
           "Lehmann 2019",
           "Piehler 2019",
           "Docherty 2019",
           "Maneiro 2019",
           "Maneiro 2019",
           "Maneiro 2019",
           "Waller 2019",
           "Goulter 2019",
           "Colins  2018",
           "Byrd 2018",
           "Adjorlolo 2018",
           "Carre 2018",
           "Dubas  2018",
           "Driessen 2018",
           "Boduszek 2017",
           "Fanti 2017",
           "Barhight 2017",
           "Barhight 2017",
           "Hawes  2017",
           "Colins 2017",
           "Fanti 2017",
           "Krstic 2017",
           "Krstic 2017",
           "Krstic 2017",
           "Ray 2016",
           "Muratori 2016",
           "Wall 2016",
           "Andrade 2016",
           "Mokros 2015",
           "Dhingra 2015",
           "Neumann 2014",
           "Neumann 2014",
           "White 2014",
           "Pardini 2013",
           "Fanti 2013",
           "Fanti 2013",
           "Hawes 2013",
           "Kimonis 2011",
           "Nijhof 2011",
           "Nijhof 2011",
           "Neumann 2010",
           "Blonigen 2010",
           "Kimonis 2008",
           "Vitacco 2006"
          ],
          "hovertemplate": "%{customdata}<extra></extra>",
          "source": [
           0,
           1,
           0,
           0,
           2,
           3,
           2,
           1,
           0,
           1,
           0,
           1,
           0,
           1,
           4,
           5,
           6,
           6,
           0,
           0,
           1,
           1,
           1,
           3,
           0,
           4,
           0,
           1,
           7,
           0,
           1,
           1,
           3,
           3,
           1,
           1,
           0,
           6,
           4,
           1,
           6,
           0,
           4,
           0,
           1,
           1,
           0,
           1,
           1,
           1,
           4,
           0,
           7,
           3,
           1,
           1,
           1,
           4,
           0,
           3,
           4,
           1,
           1,
           1,
           3,
           3,
           4,
           1,
           4,
           0,
           3,
           1,
           1,
           4,
           1,
           1,
           1,
           1,
           0,
           0,
           6,
           4,
           1,
           1,
           3,
           8,
           0,
           1,
           3,
           0,
           0,
           0,
           9,
           10,
           11,
           12,
           13,
           14,
           15,
           16,
           17,
           16,
           18,
           16,
           11,
           16,
           19,
           20,
           21,
           22,
           23,
           11,
           16,
           16,
           16,
           14,
           23,
           24,
           11,
           25,
           26,
           17,
           16,
           16,
           14,
           14,
           16,
           16,
           27,
           28,
           24,
           16,
           29,
           11,
           24,
           11,
           16,
           16,
           11,
           16,
           16,
           16,
           24,
           26,
           11,
           14,
           10,
           16,
           16,
           24,
           11,
           14,
           24,
           16,
           16,
           16,
           12,
           30,
           31,
           16,
           24,
           11,
           14,
           16,
           10,
           32,
           16,
           10,
           16,
           10,
           11,
           14,
           33,
           24,
           16,
           16,
           14,
           34,
           11,
           10,
           35,
           11,
           11,
           11
          ],
          "target": [
           9,
           10,
           11,
           12,
           13,
           14,
           15,
           16,
           17,
           16,
           18,
           16,
           11,
           16,
           19,
           20,
           21,
           22,
           23,
           11,
           16,
           16,
           16,
           14,
           23,
           24,
           11,
           25,
           26,
           17,
           16,
           16,
           14,
           14,
           16,
           16,
           27,
           28,
           24,
           16,
           29,
           11,
           24,
           11,
           16,
           16,
           11,
           16,
           16,
           16,
           24,
           26,
           11,
           14,
           10,
           16,
           16,
           24,
           11,
           14,
           24,
           16,
           16,
           16,
           12,
           30,
           31,
           16,
           24,
           11,
           14,
           16,
           10,
           32,
           16,
           10,
           16,
           10,
           11,
           14,
           33,
           24,
           16,
           16,
           14,
           34,
           11,
           10,
           35,
           11,
           11,
           11,
           36,
           37,
           38,
           38,
           38,
           39,
           40,
           41,
           38,
           39,
           39,
           42,
           38,
           39,
           38,
           38,
           38,
           36,
           39,
           39,
           39,
           38,
           39,
           38,
           43,
           44,
           39,
           39,
           38,
           38,
           38,
           39,
           38,
           45,
           39,
           46,
           38,
           38,
           47,
           38,
           38,
           39,
           48,
           39,
           39,
           39,
           39,
           39,
           38,
           37,
           37,
           41,
           39,
           47,
           49,
           39,
           38,
           38,
           39,
           39,
           47,
           46,
           39,
           38,
           39,
           39,
           50,
           41,
           40,
           46,
           46,
           46,
           38,
           39,
           41,
           37,
           51,
           38,
           39,
           39,
           51,
           37,
           41,
           41,
           39,
           39,
           39,
           39,
           39,
           39,
           39,
           39
          ],
          "value": [
           21,
           29,
           21,
           null,
           2,
           8,
           2,
           29,
           21,
           29,
           21,
           29,
           21,
           6,
           11,
           1,
           5,
           5,
           21,
           21,
           29,
           29,
           29,
           8,
           21,
           11,
           21,
           29,
           1,
           1,
           6,
           29,
           8,
           8,
           29,
           29,
           21,
           5,
           11,
           29,
           5,
           21,
           11,
           21,
           6,
           29,
           21,
           6,
           29,
           29,
           11,
           21,
           1,
           2,
           29,
           29,
           29,
           11,
           21,
           8,
           11,
           29,
           29,
           29,
           8,
           null,
           11,
           29,
           11,
           21,
           2,
           6,
           29,
           11,
           29,
           29,
           29,
           29,
           21,
           null,
           5,
           11,
           29,
           29,
           8,
           1,
           21,
           6,
           8,
           21,
           21,
           21,
           1,
           2,
           2,
           null,
           9,
           29,
           2,
           6,
           9,
           29,
           29,
           1,
           9,
           2,
           9,
           1,
           1,
           1,
           29,
           29,
           29,
           1,
           29,
           1,
           1,
           1,
           29,
           29,
           1,
           null,
           null,
           29,
           9,
           1,
           29,
           4,
           9,
           9,
           null,
           2,
           4,
           29,
           1,
           29,
           null,
           29,
           29,
           null,
           9,
           4,
           2,
           6,
           2,
           null,
           1,
           29,
           1,
           4,
           29,
           29,
           null,
           4,
           29,
           4,
           29,
           null,
           1,
           6,
           2,
           4,
           null,
           null,
           9,
           29,
           6,
           2,
           2,
           4,
           29,
           null,
           2,
           2,
           6,
           6,
           29,
           29,
           29,
           null,
           29,
           29,
           29,
           29
          ]
         },
         "node": {
          "align": "left",
          "color": [
           "rgba(224,189,144,0.6)",
           "rgba(104,136,185,0.6)",
           "rgba(240,220,216,0.6)",
           "rgba(227,233,183,0.6)",
           "rgba(250,179,141,0.6)",
           "rgba(109,211,152,0.6)",
           "rgba(156,179,147,0.6)",
           "rgba(221,171,154,0.6)",
           "rgba(132,250,133,0.6)",
           "rgba(194,114,180,0.6)",
           "rgba(121,252,168,0.6)",
           "rgba(174,229,115,0.6)",
           "rgba(204,226,199,0.6)",
           "rgba(233,113,233,0.6)",
           "rgba(198,228,218,0.6)",
           "rgba(239,116,157,0.6)",
           "rgba(134,120,176,0.6)",
           "rgba(218,107,119,0.6)",
           "rgba(160,107,118,0.6)",
           "rgba(209,195,119,0.6)",
           "rgba(107,115,215,0.6)",
           "rgba(165,221,212,0.6)",
           "rgba(176,112,251,0.6)",
           "rgba(171,136,254,0.6)",
           "rgba(156,150,234,0.6)",
           "rgba(132,131,153,0.6)",
           "rgba(183,138,137,0.6)",
           "rgba(233,229,134,0.6)",
           "rgba(143,144,150,0.6)",
           "rgba(161,112,229,0.6)",
           "rgba(216,129,129,0.6)",
           "rgba(229,148,195,0.6)",
           "rgba(124,119,145,0.6)",
           "rgba(179,150,176,0.6)",
           "rgba(162,100,121,0.6)",
           "rgba(213,149,150,0.6)",
           "rgba(160,218,216,0.6)",
           "rgba(101,114,237,0.6)",
           "rgba(218,191,153,0.6)",
           "rgba(244,231,238,0.6)",
           "rgba(178,235,202,0.6)",
           "rgba(247,200,232,0.6)",
           "rgba(121,201,175,0.6)",
           "rgba(209,199,112,0.6)",
           "rgba(111,171,181,0.6)",
           "rgba(222,186,174,0.6)",
           "rgba(203,108,206,0.6)",
           "rgba(119,201,233,0.6)",
           "rgba(151,154,152,0.6)",
           "rgba(200,140,221,0.6)",
           "rgba(122,139,178,0.6)",
           "rgba(227,173,151,0.6)"
          ],
          "label": [
           "factor analysis",
           "LCA",
           "computational modeling",
           "SEM",
           "growth model",
           "graph analysis",
           "fMRI task",
           "principal component analysis",
           "clustering ",
           "EF brain model (CFA with connectivity density as variable of interest) with interaction terms for CU and CP",
           "latent class analysis",
           "CFA",
           "multitrait–multimethod (MT-MM) design",
           "drift diffusion model",
           "structural equation model",
           "rescorla-wagner model",
           "latent profile analysis",
           "EFA (correlated)",
           "bass-ackwards confirmatory factor analysis with varimax rotation",
           "Univariate Latent Growth Curve Model",
           "minimum spanning tree analysis using the Kruskal algorithm",
           "whole brain analysis",
           "ROI analysis",
           "CFA (correlated)",
           "Latent Class Growth Analysis (LCGA)",
           "latent transition analysis (LPA at 2 time points)",
           "PCA (correlated)",
           "EFA (uncorrelated)",
           "Higher-order latent network factor model with Monte Carlo numerical integration",
           "second order CFA with Monte Carlo numerical integration",
           "correlated trait–correlated method (CT-CM)",
           "Latent Growth Curve Modeling (LGCM)",
           "Unconditional latent growth curve model",
           "computational EV and PE links to activation ",
           "model based clustering",
           "structural equation modeling",
           "post hoc tests (kruskal-wallis)",
           "chi squared test ",
           "regression",
           "correlation",
           "rm-ANOVA",
           "MANOVA",
           "R3STEP auxiliary command",
           "SEM with latent regression",
           "generalized estimating equations (GEE) models",
           "standard twin model",
           "ANOVA",
           "none",
           "bootstrapped likelihood ratio test (BLRT)",
           "MANCOVA",
           "latent trajectory interaction",
           "t-Test"
          ],
          "line": {
           "color": "black",
           "width": 0.9
          },
          "pad": 15,
          "thickness": 20
         },
         "type": "sankey"
        }
       ],
       "layout": {
        "font": {
         "size": 16.5
        },
        "height": 800,
        "hovermode": "x",
        "template": {
         "data": {
          "bar": [
           {
            "error_x": {
             "color": "#2a3f5f"
            },
            "error_y": {
             "color": "#2a3f5f"
            },
            "marker": {
             "line": {
              "color": "#E5ECF6",
              "width": 0.5
             },
             "pattern": {
              "fillmode": "overlay",
              "size": 10,
              "solidity": 0.2
             }
            },
            "type": "bar"
           }
          ],
          "barpolar": [
           {
            "marker": {
             "line": {
              "color": "#E5ECF6",
              "width": 0.5
             },
             "pattern": {
              "fillmode": "overlay",
              "size": 10,
              "solidity": 0.2
             }
            },
            "type": "barpolar"
           }
          ],
          "carpet": [
           {
            "aaxis": {
             "endlinecolor": "#2a3f5f",
             "gridcolor": "white",
             "linecolor": "white",
             "minorgridcolor": "white",
             "startlinecolor": "#2a3f5f"
            },
            "baxis": {
             "endlinecolor": "#2a3f5f",
             "gridcolor": "white",
             "linecolor": "white",
             "minorgridcolor": "white",
             "startlinecolor": "#2a3f5f"
            },
            "type": "carpet"
           }
          ],
          "choropleth": [
           {
            "colorbar": {
             "outlinewidth": 0,
             "ticks": ""
            },
            "type": "choropleth"
           }
          ],
          "contour": [
           {
            "colorbar": {
             "outlinewidth": 0,
             "ticks": ""
            },
            "colorscale": [
             [
              0,
              "#0d0887"
             ],
             [
              0.1111111111111111,
              "#46039f"
             ],
             [
              0.2222222222222222,
              "#7201a8"
             ],
             [
              0.3333333333333333,
              "#9c179e"
             ],
             [
              0.4444444444444444,
              "#bd3786"
             ],
             [
              0.5555555555555556,
              "#d8576b"
             ],
             [
              0.6666666666666666,
              "#ed7953"
             ],
             [
              0.7777777777777778,
              "#fb9f3a"
             ],
             [
              0.8888888888888888,
              "#fdca26"
             ],
             [
              1,
              "#f0f921"
             ]
            ],
            "type": "contour"
           }
          ],
          "contourcarpet": [
           {
            "colorbar": {
             "outlinewidth": 0,
             "ticks": ""
            },
            "type": "contourcarpet"
           }
          ],
          "heatmap": [
           {
            "colorbar": {
             "outlinewidth": 0,
             "ticks": ""
            },
            "colorscale": [
             [
              0,
              "#0d0887"
             ],
             [
              0.1111111111111111,
              "#46039f"
             ],
             [
              0.2222222222222222,
              "#7201a8"
             ],
             [
              0.3333333333333333,
              "#9c179e"
             ],
             [
              0.4444444444444444,
              "#bd3786"
             ],
             [
              0.5555555555555556,
              "#d8576b"
             ],
             [
              0.6666666666666666,
              "#ed7953"
             ],
             [
              0.7777777777777778,
              "#fb9f3a"
             ],
             [
              0.8888888888888888,
              "#fdca26"
             ],
             [
              1,
              "#f0f921"
             ]
            ],
            "type": "heatmap"
           }
          ],
          "histogram": [
           {
            "marker": {
             "pattern": {
              "fillmode": "overlay",
              "size": 10,
              "solidity": 0.2
             }
            },
            "type": "histogram"
           }
          ],
          "histogram2d": [
           {
            "colorbar": {
             "outlinewidth": 0,
             "ticks": ""
            },
            "colorscale": [
             [
              0,
              "#0d0887"
             ],
             [
              0.1111111111111111,
              "#46039f"
             ],
             [
              0.2222222222222222,
              "#7201a8"
             ],
             [
              0.3333333333333333,
              "#9c179e"
             ],
             [
              0.4444444444444444,
              "#bd3786"
             ],
             [
              0.5555555555555556,
              "#d8576b"
             ],
             [
              0.6666666666666666,
              "#ed7953"
             ],
             [
              0.7777777777777778,
              "#fb9f3a"
             ],
             [
              0.8888888888888888,
              "#fdca26"
             ],
             [
              1,
              "#f0f921"
             ]
            ],
            "type": "histogram2d"
           }
          ],
          "histogram2dcontour": [
           {
            "colorbar": {
             "outlinewidth": 0,
             "ticks": ""
            },
            "colorscale": [
             [
              0,
              "#0d0887"
             ],
             [
              0.1111111111111111,
              "#46039f"
             ],
             [
              0.2222222222222222,
              "#7201a8"
             ],
             [
              0.3333333333333333,
              "#9c179e"
             ],
             [
              0.4444444444444444,
              "#bd3786"
             ],
             [
              0.5555555555555556,
              "#d8576b"
             ],
             [
              0.6666666666666666,
              "#ed7953"
             ],
             [
              0.7777777777777778,
              "#fb9f3a"
             ],
             [
              0.8888888888888888,
              "#fdca26"
             ],
             [
              1,
              "#f0f921"
             ]
            ],
            "type": "histogram2dcontour"
           }
          ],
          "mesh3d": [
           {
            "colorbar": {
             "outlinewidth": 0,
             "ticks": ""
            },
            "type": "mesh3d"
           }
          ],
          "parcoords": [
           {
            "line": {
             "colorbar": {
              "outlinewidth": 0,
              "ticks": ""
             }
            },
            "type": "parcoords"
           }
          ],
          "pie": [
           {
            "automargin": true,
            "type": "pie"
           }
          ],
          "scatter": [
           {
            "fillpattern": {
             "fillmode": "overlay",
             "size": 10,
             "solidity": 0.2
            },
            "type": "scatter"
           }
          ],
          "scatter3d": [
           {
            "line": {
             "colorbar": {
              "outlinewidth": 0,
              "ticks": ""
             }
            },
            "marker": {
             "colorbar": {
              "outlinewidth": 0,
              "ticks": ""
             }
            },
            "type": "scatter3d"
           }
          ],
          "scattercarpet": [
           {
            "marker": {
             "colorbar": {
              "outlinewidth": 0,
              "ticks": ""
             }
            },
            "type": "scattercarpet"
           }
          ],
          "scattergeo": [
           {
            "marker": {
             "colorbar": {
              "outlinewidth": 0,
              "ticks": ""
             }
            },
            "type": "scattergeo"
           }
          ],
          "scattergl": [
           {
            "marker": {
             "colorbar": {
              "outlinewidth": 0,
              "ticks": ""
             }
            },
            "type": "scattergl"
           }
          ],
          "scattermap": [
           {
            "marker": {
             "colorbar": {
              "outlinewidth": 0,
              "ticks": ""
             }
            },
            "type": "scattermap"
           }
          ],
          "scattermapbox": [
           {
            "marker": {
             "colorbar": {
              "outlinewidth": 0,
              "ticks": ""
             }
            },
            "type": "scattermapbox"
           }
          ],
          "scatterpolar": [
           {
            "marker": {
             "colorbar": {
              "outlinewidth": 0,
              "ticks": ""
             }
            },
            "type": "scatterpolar"
           }
          ],
          "scatterpolargl": [
           {
            "marker": {
             "colorbar": {
              "outlinewidth": 0,
              "ticks": ""
             }
            },
            "type": "scatterpolargl"
           }
          ],
          "scatterternary": [
           {
            "marker": {
             "colorbar": {
              "outlinewidth": 0,
              "ticks": ""
             }
            },
            "type": "scatterternary"
           }
          ],
          "surface": [
           {
            "colorbar": {
             "outlinewidth": 0,
             "ticks": ""
            },
            "colorscale": [
             [
              0,
              "#0d0887"
             ],
             [
              0.1111111111111111,
              "#46039f"
             ],
             [
              0.2222222222222222,
              "#7201a8"
             ],
             [
              0.3333333333333333,
              "#9c179e"
             ],
             [
              0.4444444444444444,
              "#bd3786"
             ],
             [
              0.5555555555555556,
              "#d8576b"
             ],
             [
              0.6666666666666666,
              "#ed7953"
             ],
             [
              0.7777777777777778,
              "#fb9f3a"
             ],
             [
              0.8888888888888888,
              "#fdca26"
             ],
             [
              1,
              "#f0f921"
             ]
            ],
            "type": "surface"
           }
          ],
          "table": [
           {
            "cells": {
             "fill": {
              "color": "#EBF0F8"
             },
             "line": {
              "color": "white"
             }
            },
            "header": {
             "fill": {
              "color": "#C8D4E3"
             },
             "line": {
              "color": "white"
             }
            },
            "type": "table"
           }
          ]
         },
         "layout": {
          "annotationdefaults": {
           "arrowcolor": "#2a3f5f",
           "arrowhead": 0,
           "arrowwidth": 1
          },
          "autotypenumbers": "strict",
          "coloraxis": {
           "colorbar": {
            "outlinewidth": 0,
            "ticks": ""
           }
          },
          "colorscale": {
           "diverging": [
            [
             0,
             "#8e0152"
            ],
            [
             0.1,
             "#c51b7d"
            ],
            [
             0.2,
             "#de77ae"
            ],
            [
             0.3,
             "#f1b6da"
            ],
            [
             0.4,
             "#fde0ef"
            ],
            [
             0.5,
             "#f7f7f7"
            ],
            [
             0.6,
             "#e6f5d0"
            ],
            [
             0.7,
             "#b8e186"
            ],
            [
             0.8,
             "#7fbc41"
            ],
            [
             0.9,
             "#4d9221"
            ],
            [
             1,
             "#276419"
            ]
           ],
           "sequential": [
            [
             0,
             "#0d0887"
            ],
            [
             0.1111111111111111,
             "#46039f"
            ],
            [
             0.2222222222222222,
             "#7201a8"
            ],
            [
             0.3333333333333333,
             "#9c179e"
            ],
            [
             0.4444444444444444,
             "#bd3786"
            ],
            [
             0.5555555555555556,
             "#d8576b"
            ],
            [
             0.6666666666666666,
             "#ed7953"
            ],
            [
             0.7777777777777778,
             "#fb9f3a"
            ],
            [
             0.8888888888888888,
             "#fdca26"
            ],
            [
             1,
             "#f0f921"
            ]
           ],
           "sequentialminus": [
            [
             0,
             "#0d0887"
            ],
            [
             0.1111111111111111,
             "#46039f"
            ],
            [
             0.2222222222222222,
             "#7201a8"
            ],
            [
             0.3333333333333333,
             "#9c179e"
            ],
            [
             0.4444444444444444,
             "#bd3786"
            ],
            [
             0.5555555555555556,
             "#d8576b"
            ],
            [
             0.6666666666666666,
             "#ed7953"
            ],
            [
             0.7777777777777778,
             "#fb9f3a"
            ],
            [
             0.8888888888888888,
             "#fdca26"
            ],
            [
             1,
             "#f0f921"
            ]
           ]
          },
          "colorway": [
           "#636efa",
           "#EF553B",
           "#00cc96",
           "#ab63fa",
           "#FFA15A",
           "#19d3f3",
           "#FF6692",
           "#B6E880",
           "#FF97FF",
           "#FECB52"
          ],
          "font": {
           "color": "#2a3f5f"
          },
          "geo": {
           "bgcolor": "white",
           "lakecolor": "white",
           "landcolor": "#E5ECF6",
           "showlakes": true,
           "showland": true,
           "subunitcolor": "white"
          },
          "hoverlabel": {
           "align": "left"
          },
          "hovermode": "closest",
          "mapbox": {
           "style": "light"
          },
          "paper_bgcolor": "white",
          "plot_bgcolor": "#E5ECF6",
          "polar": {
           "angularaxis": {
            "gridcolor": "white",
            "linecolor": "white",
            "ticks": ""
           },
           "bgcolor": "#E5ECF6",
           "radialaxis": {
            "gridcolor": "white",
            "linecolor": "white",
            "ticks": ""
           }
          },
          "scene": {
           "xaxis": {
            "backgroundcolor": "#E5ECF6",
            "gridcolor": "white",
            "gridwidth": 2,
            "linecolor": "white",
            "showbackground": true,
            "ticks": "",
            "zerolinecolor": "white"
           },
           "yaxis": {
            "backgroundcolor": "#E5ECF6",
            "gridcolor": "white",
            "gridwidth": 2,
            "linecolor": "white",
            "showbackground": true,
            "ticks": "",
            "zerolinecolor": "white"
           },
           "zaxis": {
            "backgroundcolor": "#E5ECF6",
            "gridcolor": "white",
            "gridwidth": 2,
            "linecolor": "white",
            "showbackground": true,
            "ticks": "",
            "zerolinecolor": "white"
           }
          },
          "shapedefaults": {
           "line": {
            "color": "#2a3f5f"
           }
          },
          "ternary": {
           "aaxis": {
            "gridcolor": "white",
            "linecolor": "white",
            "ticks": ""
           },
           "baxis": {
            "gridcolor": "white",
            "linecolor": "white",
            "ticks": ""
           },
           "bgcolor": "#E5ECF6",
           "caxis": {
            "gridcolor": "white",
            "linecolor": "white",
            "ticks": ""
           }
          },
          "title": {
           "x": 0.05
          },
          "xaxis": {
           "automargin": true,
           "gridcolor": "white",
           "linecolor": "white",
           "ticks": "",
           "title": {
            "standoff": 15
           },
           "zerolinecolor": "white",
           "zerolinewidth": 2
          },
          "yaxis": {
           "automargin": true,
           "gridcolor": "white",
           "linecolor": "white",
           "ticks": "",
           "title": {
            "standoff": 15
           },
           "zerolinecolor": "white",
           "zerolinewidth": 2
          }
         }
        },
        "title": {
         "text": "Sankey Diagram for model types"
        },
        "width": 1500
       }
      }
     },
     "metadata": {},
     "output_type": "display_data"
    }
   ],
   "source": [
    "# 1. Create unique labels\n",
    "labels = list(pd.concat([\n",
    "    df_sankey_models_transformed['gm'], \n",
    "    df_sankey_models_transformed['mit'], \n",
    "    df_sankey_models_transformed['oa']\n",
    "]).unique())\n",
    "\n",
    "# 2. Map labels to indices\n",
    "label_map = {label: idx for idx, label in enumerate(labels)}\n",
    "\n",
    "# 3. Define sources, targets, and values\n",
    "sources = df_sankey_models_transformed['gm'].map(label_map).tolist() + \\\n",
    "          df_sankey_models_transformed['mit'].map(label_map).tolist()\n",
    "\n",
    "targets = df_sankey_models_transformed['mit'].map(label_map).tolist() + \\\n",
    "          df_sankey_models_transformed['oa'].map(label_map).tolist()\n",
    "\n",
    "values = df_sankey_models_transformed['gm_count'].tolist() + \\\n",
    "         df_sankey_models_transformed['oa_count'].tolist()\n",
    "\n",
    "# 4. Generate pastel colors\n",
    "import random\n",
    "\n",
    "def pastel_color():\n",
    "    r = lambda: random.randint(100, 255)\n",
    "    return f'rgba({r()},{r()},{r()},0.6)'\n",
    "\n",
    "label_to_color = {label: pastel_color() for label in labels}\n",
    "node_color_list = [label_to_color[label] for label in labels]\n",
    "\n",
    "# 5. Set link colors by source node's color (first half) and middle node (second half)\n",
    "link_colors = [label_to_color[df_sankey_models_transformed['gm'].iloc[i]] \n",
    "               for i in range(len(df_sankey_models_transformed))] + \\\n",
    "              [label_to_color[df_sankey_models_transformed['mit'].iloc[i]] \n",
    "               for i in range(len(df_sankey_models_transformed))]\n",
    "\n",
    "# 7. Create the figure\n",
    "fig = go.Figure(data=[go.Sankey(\n",
    "    node=dict(\n",
    "        pad=15,\n",
    "        thickness=20,\n",
    "        line=dict(color=\"black\", width=0.9),\n",
    "        label=labels,\n",
    "        color=node_color_list,\n",
    "        align=\"left\"\n",
    "    ),\n",
    "    link=dict(\n",
    "        source=sources,\n",
    "        target=targets,\n",
    "        value=values,\n",
    "        color=link_colors,\n",
    "        customdata=df_sankey_models_transformed['nameyear'].tolist() * 2,\n",
    "        hovertemplate='%{customdata}<extra></extra>'\n",
    "    )\n",
    ")])\n",
    "\n",
    "fig.update_layout(\n",
    "    title_text=\"Sankey Diagram for model types\",\n",
    "    font_size=16.5,\n",
    "    width=1500,\n",
    "    height=800,\n",
    "    hovermode='x'\n",
    ")\n",
    "fig.show()\n",
    "\n",
    "fig.write_html(\"C:/Users/U727148/Latent_Variable_Supplement/sankey_models_plot.html\", include_plotlyjs=\"cdn\")"
   ]
  },
  {
   "cell_type": "markdown",
   "id": "f2778692",
   "metadata": {},
   "source": [
    "#### Variable Plots\n",
    "\n",
    "In these plots, I am modeling the flow of usage from 1. variable, 2. scale used, 3. type of assessment (self and other report, experimental, observational). This is for the psychopathic traits/CU traits variable, the behavioral variable, and the cognitive variable (for the brain variables, there was not enough data available).\n"
   ]
  },
  {
   "cell_type": "code",
   "execution_count": 28,
   "id": "10e7c495",
   "metadata": {},
   "outputs": [
    {
     "data": {
      "application/vnd.plotly.v1+json": {
       "config": {
        "plotlyServerURL": "https://plot.ly"
       },
       "data": [
        {
         "link": {
          "color": [
           "rgba(102,248,192,0.6)",
           "rgba(102,248,192,0.6)",
           "rgba(102,248,192,0.6)",
           "rgba(102,248,192,0.6)",
           "rgba(234,248,165,0.6)",
           "rgba(102,248,192,0.6)",
           "rgba(102,248,192,0.6)",
           "rgba(234,248,165,0.6)",
           "rgba(234,248,165,0.6)",
           "rgba(234,248,165,0.6)",
           "rgba(102,248,192,0.6)",
           "rgba(102,248,192,0.6)",
           "rgba(102,248,192,0.6)",
           "rgba(102,248,192,0.6)",
           "rgba(102,248,192,0.6)",
           "rgba(102,248,192,0.6)",
           "rgba(234,248,165,0.6)",
           "rgba(102,248,192,0.6)",
           "rgba(234,248,165,0.6)",
           "rgba(234,248,165,0.6)",
           "rgba(234,248,165,0.6)",
           "rgba(234,248,165,0.6)",
           "rgba(234,248,165,0.6)",
           "rgba(102,248,192,0.6)",
           "rgba(234,248,165,0.6)",
           "rgba(102,248,192,0.6)",
           "rgba(102,248,192,0.6)",
           "rgba(102,248,192,0.6)",
           "rgba(234,248,165,0.6)",
           "rgba(234,248,165,0.6)",
           "rgba(234,248,165,0.6)",
           "rgba(234,248,165,0.6)",
           "rgba(234,248,165,0.6)",
           "rgba(102,248,192,0.6)",
           "rgba(102,248,192,0.6)",
           "rgba(234,248,165,0.6)",
           "rgba(102,248,192,0.6)",
           "rgba(234,248,165,0.6)",
           "rgba(234,248,165,0.6)",
           "rgba(254,123,149,0.6)",
           "rgba(234,248,165,0.6)",
           "rgba(234,248,165,0.6)",
           "rgba(234,248,165,0.6)",
           "rgba(102,248,192,0.6)",
           "rgba(254,123,149,0.6)",
           "rgba(234,248,165,0.6)",
           "rgba(234,248,165,0.6)",
           "rgba(234,248,165,0.6)",
           "rgba(234,248,165,0.6)",
           "rgba(102,248,192,0.6)",
           "rgba(234,248,165,0.6)",
           "rgba(234,248,165,0.6)",
           "rgba(234,248,165,0.6)",
           "rgba(234,248,165,0.6)",
           "rgba(234,248,165,0.6)",
           "rgba(102,248,192,0.6)",
           "rgba(102,248,192,0.6)",
           "rgba(254,123,149,0.6)",
           "rgba(234,248,165,0.6)",
           "rgba(102,248,192,0.6)",
           "rgba(234,248,165,0.6)",
           "rgba(102,248,192,0.6)",
           "rgba(102,248,192,0.6)",
           "rgba(102,248,192,0.6)",
           "rgba(102,248,192,0.6)",
           "rgba(234,248,165,0.6)",
           "rgba(234,248,165,0.6)",
           "rgba(234,248,165,0.6)",
           "rgba(102,248,192,0.6)",
           "rgba(234,248,165,0.6)",
           "rgba(102,248,192,0.6)",
           "rgba(102,248,192,0.6)",
           "rgba(102,248,192,0.6)",
           "rgba(234,248,165,0.6)",
           "rgba(234,248,165,0.6)",
           "rgba(234,248,165,0.6)",
           "rgba(234,248,165,0.6)",
           "rgba(102,248,192,0.6)",
           "rgba(234,248,165,0.6)",
           "rgba(234,248,165,0.6)",
           "rgba(102,248,192,0.6)",
           "rgba(102,248,192,0.6)",
           "rgba(102,248,192,0.6)",
           "rgba(102,248,192,0.6)",
           "rgba(234,248,165,0.6)",
           "rgba(234,248,165,0.6)",
           "rgba(234,248,165,0.6)",
           "rgba(234,248,165,0.6)",
           "rgba(234,248,165,0.6)",
           "rgba(102,248,192,0.6)",
           "rgba(234,248,165,0.6)",
           "rgba(102,248,192,0.6)",
           "rgba(102,248,192,0.6)",
           "rgba(102,248,192,0.6)",
           "rgba(102,248,192,0.6)",
           "rgba(234,248,165,0.6)",
           "rgba(234,248,165,0.6)",
           "rgba(234,248,165,0.6)",
           "rgba(234,248,165,0.6)",
           "rgba(234,248,165,0.6)",
           "rgba(102,248,192,0.6)",
           "rgba(234,248,165,0.6)",
           "rgba(129,159,221,0.6)",
           "rgba(209,133,108,0.6)",
           "rgba(129,159,221,0.6)",
           "rgba(129,159,221,0.6)",
           "rgba(109,123,116,0.6)",
           "rgba(198,106,190,0.6)",
           "rgba(188,181,114,0.6)",
           "rgba(245,215,228,0.6)",
           "rgba(209,133,108,0.6)",
           "rgba(109,123,116,0.6)",
           "rgba(145,106,208,0.6)",
           "rgba(144,156,153,0.6)",
           "rgba(210,251,137,0.6)",
           "rgba(109,123,116,0.6)",
           "rgba(222,192,132,0.6)",
           "rgba(129,159,221,0.6)",
           "rgba(229,174,136,0.6)",
           "rgba(129,159,221,0.6)",
           "rgba(129,159,221,0.6)",
           "rgba(129,159,221,0.6)",
           "rgba(129,159,221,0.6)",
           "rgba(129,159,221,0.6)",
           "rgba(119,122,157,0.6)",
           "rgba(129,159,221,0.6)",
           "rgba(209,133,108,0.6)",
           "rgba(109,123,116,0.6)",
           "rgba(112,235,241,0.6)",
           "rgba(210,251,137,0.6)",
           "rgba(203,119,181,0.6)",
           "rgba(145,106,208,0.6)",
           "rgba(203,119,181,0.6)",
           "rgba(145,106,208,0.6)",
           "rgba(216,192,179,0.6)",
           "rgba(209,133,108,0.6)",
           "rgba(172,249,120,0.6)",
           "rgba(210,251,137,0.6)",
           "rgba(129,159,221,0.6)",
           "rgba(229,174,136,0.6)",
           "rgba(198,106,190,0.6)",
           "rgba(209,133,108,0.6)",
           "rgba(210,251,137,0.6)",
           "rgba(229,174,136,0.6)",
           "rgba(210,251,137,0.6)",
           "rgba(129,248,229,0.6)",
           "rgba(222,192,132,0.6)",
           "rgba(112,235,241,0.6)",
           "rgba(209,133,108,0.6)",
           "rgba(222,192,132,0.6)",
           "rgba(203,119,181,0.6)",
           "rgba(209,133,108,0.6)",
           "rgba(102,145,230,0.6)",
           "rgba(129,159,221,0.6)",
           "rgba(109,131,240,0.6)",
           "rgba(210,251,137,0.6)",
           "rgba(209,133,108,0.6)",
           "rgba(129,159,221,0.6)",
           "rgba(229,157,104,0.6)",
           "rgba(109,123,116,0.6)",
           "rgba(109,131,240,0.6)",
           "rgba(198,106,190,0.6)",
           "rgba(209,133,108,0.6)",
           "rgba(145,106,208,0.6)",
           "rgba(198,106,190,0.6)",
           "rgba(229,157,104,0.6)",
           "rgba(109,123,116,0.6)",
           "rgba(198,106,190,0.6)",
           "rgba(109,123,116,0.6)",
           "rgba(203,119,181,0.6)",
           "rgba(198,106,190,0.6)",
           "rgba(109,123,116,0.6)",
           "rgba(176,104,184,0.6)",
           "rgba(176,144,102,0.6)",
           "rgba(198,106,190,0.6)",
           "rgba(129,159,221,0.6)",
           "rgba(129,159,221,0.6)",
           "rgba(229,157,104,0.6)",
           "rgba(109,123,116,0.6)",
           "rgba(198,106,190,0.6)",
           "rgba(129,159,221,0.6)",
           "rgba(209,133,108,0.6)",
           "rgba(129,159,221,0.6)",
           "rgba(112,235,241,0.6)",
           "rgba(129,159,221,0.6)",
           "rgba(159,162,203,0.6)",
           "rgba(209,133,108,0.6)",
           "rgba(109,123,116,0.6)",
           "rgba(209,133,108,0.6)",
           "rgba(198,106,190,0.6)",
           "rgba(109,123,116,0.6)",
           "rgba(129,159,221,0.6)",
           "rgba(109,123,116,0.6)",
           "rgba(129,159,221,0.6)",
           "rgba(129,159,221,0.6)",
           "rgba(112,235,241,0.6)",
           "rgba(116,235,164,0.6)",
           "rgba(209,133,108,0.6)",
           "rgba(198,106,190,0.6)",
           "rgba(161,154,198,0.6)",
           "rgba(209,133,108,0.6)",
           "rgba(176,213,162,0.6)",
           "rgba(129,159,221,0.6)",
           "rgba(209,133,108,0.6)"
          ],
          "customdata": [
           "Winters 2025",
           "Ciesenski 2024",
           "Kemp 2024",
           "Kemp 2024",
           "Castagna 2024",
           "Cohn 2024",
           "Elster 2024",
           "Neumann 2024",
           "Međedovic 2024",
           "Roy 2023",
           "Joyner 2024",
           "Brislin 2024",
           "Shields 2024",
           "Shields 2024",
           "Alvarez-Voces 2024",
           "Tillem 2023",
           "Murray 2022",
           "Dugre 2023",
           "Pechorro 2023",
           "Payot 2022",
           "Hare 2022",
           "Colins  2022",
           "Gong 2022",
           "Sellbom 2022",
           "Drislane 2022",
           "Dugre 2022",
           "Wissenburg 2022",
           "Voulgaridou 2022",
           "Willoughby 2022",
           "Willoughby 2022",
           "Willoughby 2022",
           "Michielsen 2022",
           "Woerhle 2022",
           "Friedman 2021",
           "Lopez-Romero 2021",
           "Harrop 2021",
           "Sellbom 2021",
           "Byrd 2021",
           "Goulter 2021",
           "Gillespie 2021",
           "Hawes 2021",
           "Roy 2021",
           "Altikriti 2020",
           "Breaux 2020",
           "Breaux 2020",
           "Maneiro 2020",
           "Wang 2020",
           "Wang 2020",
           "Lehmann 2019",
           "Piehler 2019",
           "Docherty 2019",
           "Maneiro 2019",
           "Maneiro 2019",
           "Maneiro 2019",
           "Waller 2019",
           "Goulter 2019",
           "Colins  2018",
           "Byrd 2018",
           "Adjorlolo 2018",
           "Carre 2018",
           "Dubas  2018",
           "Driessen 2018",
           "Boduszek 2017",
           "Fanti 2017",
           "Barhight 2017",
           "Barhight 2017",
           "Hawes  2017",
           "Colins 2017",
           "Fanti 2017",
           "Krstic 2017",
           "Krstic 2017",
           "Krstic 2017",
           "Ray 2016",
           "Muratori 2016",
           "Wall 2016",
           "Andrade 2016",
           "Mokros 2015",
           "Dhingra 2015",
           "Neumann 2014",
           "Neumann 2014",
           "White 2014",
           "Pardini 2013",
           "Fanti 2013",
           "Fanti 2013",
           "Hawes 2013",
           "Kimonis 2011",
           "Nijhof 2011",
           "Nijhof 2011",
           "Neumann 2010",
           "Blonigen 2010",
           "Kimonis 2008",
           "Vitacco 2006",
           "Winters 2025",
           "Ciesenski 2024",
           "Kemp 2024",
           "Kemp 2024",
           "Castagna 2024",
           "Cohn 2024",
           "Elster 2024",
           "Neumann 2024",
           "Međedovic 2024",
           "Roy 2023",
           "Joyner 2024",
           "Brislin 2024",
           "Shields 2024",
           "Shields 2024",
           "Alvarez-Voces 2024",
           "Tillem 2023",
           "Murray 2022",
           "Dugre 2023",
           "Pechorro 2023",
           "Payot 2022",
           "Hare 2022",
           "Colins  2022",
           "Gong 2022",
           "Sellbom 2022",
           "Drislane 2022",
           "Dugre 2022",
           "Wissenburg 2022",
           "Voulgaridou 2022",
           "Willoughby 2022",
           "Willoughby 2022",
           "Willoughby 2022",
           "Michielsen 2022",
           "Woerhle 2022",
           "Friedman 2021",
           "Lopez-Romero 2021",
           "Harrop 2021",
           "Sellbom 2021",
           "Byrd 2021",
           "Goulter 2021",
           "Gillespie 2021",
           "Hawes 2021",
           "Roy 2021",
           "Altikriti 2020",
           "Breaux 2020",
           "Breaux 2020",
           "Maneiro 2020",
           "Wang 2020",
           "Wang 2020",
           "Lehmann 2019",
           "Piehler 2019",
           "Docherty 2019",
           "Maneiro 2019",
           "Maneiro 2019",
           "Maneiro 2019",
           "Waller 2019",
           "Goulter 2019",
           "Colins  2018",
           "Byrd 2018",
           "Adjorlolo 2018",
           "Carre 2018",
           "Dubas  2018",
           "Driessen 2018",
           "Boduszek 2017",
           "Fanti 2017",
           "Barhight 2017",
           "Barhight 2017",
           "Hawes  2017",
           "Colins 2017",
           "Fanti 2017",
           "Krstic 2017",
           "Krstic 2017",
           "Krstic 2017",
           "Ray 2016",
           "Muratori 2016",
           "Wall 2016",
           "Andrade 2016",
           "Mokros 2015",
           "Dhingra 2015",
           "Neumann 2014",
           "Neumann 2014",
           "White 2014",
           "Pardini 2013",
           "Fanti 2013",
           "Fanti 2013",
           "Hawes 2013",
           "Kimonis 2011",
           "Nijhof 2011",
           "Nijhof 2011",
           "Neumann 2010",
           "Blonigen 2010",
           "Kimonis 2008",
           "Vitacco 2006"
          ],
          "hovertemplate": "%{customdata}<extra></extra>",
          "source": [
           0,
           0,
           0,
           0,
           1,
           0,
           0,
           1,
           1,
           1,
           0,
           0,
           0,
           0,
           0,
           0,
           1,
           0,
           1,
           1,
           1,
           1,
           1,
           0,
           1,
           0,
           0,
           0,
           1,
           1,
           1,
           1,
           1,
           0,
           0,
           1,
           0,
           1,
           1,
           2,
           1,
           1,
           1,
           0,
           2,
           1,
           1,
           1,
           1,
           0,
           1,
           1,
           1,
           1,
           1,
           0,
           0,
           2,
           1,
           0,
           1,
           0,
           0,
           0,
           0,
           1,
           1,
           1,
           0,
           1,
           0,
           0,
           0,
           1,
           1,
           1,
           1,
           0,
           1,
           1,
           0,
           0,
           0,
           0,
           1,
           1,
           1,
           1,
           1,
           0,
           1,
           0,
           0,
           0,
           0,
           1,
           1,
           1,
           1,
           1,
           0,
           1,
           3,
           4,
           3,
           3,
           5,
           6,
           7,
           8,
           4,
           5,
           9,
           10,
           11,
           5,
           12,
           3,
           13,
           3,
           3,
           3,
           3,
           3,
           14,
           3,
           4,
           5,
           15,
           11,
           16,
           9,
           16,
           9,
           17,
           4,
           18,
           11,
           3,
           13,
           6,
           4,
           11,
           13,
           11,
           19,
           12,
           15,
           4,
           12,
           16,
           4,
           20,
           3,
           21,
           11,
           4,
           3,
           22,
           5,
           21,
           6,
           4,
           9,
           6,
           22,
           5,
           6,
           5,
           16,
           6,
           5,
           23,
           24,
           6,
           3,
           3,
           22,
           5,
           6,
           3,
           4,
           3,
           15,
           3,
           25,
           4,
           5,
           4,
           6,
           5,
           3,
           5,
           3,
           3,
           15,
           26,
           4,
           6,
           27,
           4,
           28,
           3,
           4
          ],
          "target": [
           3,
           4,
           3,
           3,
           5,
           6,
           7,
           8,
           4,
           5,
           9,
           10,
           11,
           5,
           12,
           3,
           13,
           3,
           3,
           3,
           3,
           3,
           14,
           3,
           4,
           5,
           15,
           11,
           16,
           9,
           16,
           9,
           17,
           4,
           18,
           11,
           3,
           13,
           6,
           4,
           11,
           13,
           11,
           19,
           12,
           15,
           4,
           12,
           16,
           4,
           20,
           3,
           21,
           11,
           4,
           3,
           22,
           5,
           21,
           6,
           4,
           9,
           6,
           22,
           5,
           6,
           5,
           16,
           6,
           5,
           23,
           24,
           6,
           3,
           3,
           22,
           5,
           6,
           3,
           4,
           3,
           15,
           3,
           25,
           4,
           5,
           4,
           6,
           5,
           3,
           5,
           3,
           3,
           15,
           26,
           4,
           6,
           27,
           4,
           28,
           3,
           4,
           29,
           30,
           30,
           29,
           30,
           29,
           29,
           30,
           30,
           30,
           30,
           30,
           30,
           30,
           29,
           29,
           29,
           30,
           29,
           30,
           29,
           29,
           30,
           29,
           31,
           30,
           30,
           30,
           30,
           30,
           30,
           30,
           30,
           29,
           29,
           30,
           29,
           29,
           29,
           31,
           30,
           29,
           30,
           30,
           29,
           29,
           29,
           29,
           30,
           31,
           29,
           29,
           30,
           30,
           31,
           29,
           30,
           29,
           30,
           30,
           31,
           30,
           30,
           29,
           30,
           30,
           30,
           30,
           30,
           30,
           30,
           29,
           29,
           30,
           29,
           30,
           31,
           30,
           29,
           31,
           29,
           29,
           29,
           29,
           31,
           30,
           31,
           30,
           30,
           29,
           30,
           29,
           30,
           29,
           29,
           31,
           30,
           30,
           31,
           30,
           29,
           31
          ],
          "value": [
           44,
           44,
           44,
           44,
           55,
           44,
           44,
           55,
           55,
           55,
           44,
           44,
           44,
           44,
           44,
           44,
           55,
           44,
           55,
           55,
           55,
           55,
           55,
           44,
           55,
           44,
           44,
           44,
           55,
           55,
           55,
           55,
           55,
           44,
           44,
           55,
           44,
           55,
           55,
           3,
           55,
           55,
           55,
           44,
           3,
           55,
           55,
           55,
           55,
           44,
           55,
           55,
           55,
           55,
           55,
           44,
           44,
           3,
           55,
           44,
           55,
           44,
           44,
           44,
           44,
           55,
           55,
           55,
           44,
           55,
           44,
           44,
           44,
           55,
           55,
           55,
           55,
           44,
           55,
           55,
           44,
           44,
           44,
           44,
           55,
           55,
           55,
           55,
           55,
           44,
           55,
           44,
           44,
           44,
           44,
           55,
           55,
           55,
           55,
           55,
           44,
           55,
           39,
           51,
           51,
           39,
           51,
           39,
           39,
           51,
           51,
           51,
           51,
           51,
           51,
           51,
           39,
           39,
           39,
           51,
           39,
           51,
           39,
           39,
           51,
           39,
           12,
           51,
           51,
           51,
           51,
           51,
           51,
           51,
           51,
           39,
           39,
           51,
           39,
           39,
           39,
           12,
           51,
           39,
           51,
           51,
           39,
           39,
           39,
           39,
           51,
           12,
           39,
           39,
           51,
           51,
           12,
           39,
           51,
           39,
           51,
           51,
           12,
           51,
           51,
           39,
           51,
           51,
           51,
           51,
           51,
           51,
           51,
           39,
           39,
           51,
           39,
           51,
           12,
           51,
           39,
           12,
           39,
           39,
           39,
           39,
           12,
           51,
           12,
           51,
           51,
           39,
           51,
           39,
           51,
           39,
           39,
           12,
           51,
           51,
           12,
           51,
           39,
           12
          ]
         },
         "node": {
          "align": "left",
          "color": [
           "rgba(102,248,192,0.6)",
           "rgba(234,248,165,0.6)",
           "rgba(254,123,149,0.6)",
           "rgba(129,159,221,0.6)",
           "rgba(209,133,108,0.6)",
           "rgba(109,123,116,0.6)",
           "rgba(198,106,190,0.6)",
           "rgba(188,181,114,0.6)",
           "rgba(245,215,228,0.6)",
           "rgba(145,106,208,0.6)",
           "rgba(144,156,153,0.6)",
           "rgba(210,251,137,0.6)",
           "rgba(222,192,132,0.6)",
           "rgba(229,174,136,0.6)",
           "rgba(119,122,157,0.6)",
           "rgba(112,235,241,0.6)",
           "rgba(203,119,181,0.6)",
           "rgba(216,192,179,0.6)",
           "rgba(172,249,120,0.6)",
           "rgba(129,248,229,0.6)",
           "rgba(102,145,230,0.6)",
           "rgba(109,131,240,0.6)",
           "rgba(229,157,104,0.6)",
           "rgba(176,104,184,0.6)",
           "rgba(176,144,102,0.6)",
           "rgba(159,162,203,0.6)",
           "rgba(116,235,164,0.6)",
           "rgba(161,154,198,0.6)",
           "rgba(176,213,162,0.6)",
           "rgba(118,251,207,0.6)",
           "rgba(107,104,142,0.6)",
           "rgba(143,114,133,0.6)"
          ],
          "label": [
           "cu traits",
           "psychopathic traits",
           "cu traits; psychopathic traits",
           "Inventory of Callous-Unemotional Traits (ICU)",
           "Psychopathy Checklist: Revised (PCL-R)",
           "Self Report Psychopathy Scale (SRP)",
           "Youth Psychopathic Traits Inventory (YPI)",
           "Proposed Specifiers for Conduct Disorder Scale (PSDC)",
           "Short Psychopathy Rating Scale (SPRS)",
           "Psychopathic Personality Inventory (PPI)",
           "Elemental Psychopathy Assessment (EPA)",
           "Levenson Self Report Psychopathy Rating scale (LSRP)",
           "ABCD cu trait scale (SDQ/CBCL)",
           "Child Problematic Traits Inventory (CPTI)",
           "Short Dark Tetrad (SD4)",
           "Antisocial Process Screening Device (APSD)",
           "Triarchic Psychopathy Measure (TriPM)",
           "Minnesota Multiphasic Personality Inventory-Triarchic (MMPI-Tri)",
           "Hurtful and Uncaring Behavior Scale (HUB)",
           "Comprehensive Assessment of Psychopathic Personality (CAPP)",
           "Child Psychopathy Scale (CPS)",
           "Dark Triad Dirty Dozen",
           "Teacher Report Form Interpersonal Calloussness (TRF-IC)",
           "Psychopathic Personality Traits Scale (PPTS)",
           "Achenbach System of Empirically Based Assessment (ASEBA)",
           "Callous-Unemotional Traits—Brief Measure (3 items)",
           "Strengths and Difficulties Questionnaire (SDQ)",
           "Minnesota Temperament Inventory (MTI)",
           "Psychoapthic Personality Inventory (PPI)",
           "other report",
           "self report",
           "interview"
          ],
          "line": {
           "color": "black",
           "width": 0.9
          },
          "pad": 15,
          "thickness": 20
         },
         "type": "sankey"
        }
       ],
       "layout": {
        "font": {
         "size": 16.5
        },
        "height": 800,
        "hovermode": "x",
        "template": {
         "data": {
          "bar": [
           {
            "error_x": {
             "color": "#2a3f5f"
            },
            "error_y": {
             "color": "#2a3f5f"
            },
            "marker": {
             "line": {
              "color": "#E5ECF6",
              "width": 0.5
             },
             "pattern": {
              "fillmode": "overlay",
              "size": 10,
              "solidity": 0.2
             }
            },
            "type": "bar"
           }
          ],
          "barpolar": [
           {
            "marker": {
             "line": {
              "color": "#E5ECF6",
              "width": 0.5
             },
             "pattern": {
              "fillmode": "overlay",
              "size": 10,
              "solidity": 0.2
             }
            },
            "type": "barpolar"
           }
          ],
          "carpet": [
           {
            "aaxis": {
             "endlinecolor": "#2a3f5f",
             "gridcolor": "white",
             "linecolor": "white",
             "minorgridcolor": "white",
             "startlinecolor": "#2a3f5f"
            },
            "baxis": {
             "endlinecolor": "#2a3f5f",
             "gridcolor": "white",
             "linecolor": "white",
             "minorgridcolor": "white",
             "startlinecolor": "#2a3f5f"
            },
            "type": "carpet"
           }
          ],
          "choropleth": [
           {
            "colorbar": {
             "outlinewidth": 0,
             "ticks": ""
            },
            "type": "choropleth"
           }
          ],
          "contour": [
           {
            "colorbar": {
             "outlinewidth": 0,
             "ticks": ""
            },
            "colorscale": [
             [
              0,
              "#0d0887"
             ],
             [
              0.1111111111111111,
              "#46039f"
             ],
             [
              0.2222222222222222,
              "#7201a8"
             ],
             [
              0.3333333333333333,
              "#9c179e"
             ],
             [
              0.4444444444444444,
              "#bd3786"
             ],
             [
              0.5555555555555556,
              "#d8576b"
             ],
             [
              0.6666666666666666,
              "#ed7953"
             ],
             [
              0.7777777777777778,
              "#fb9f3a"
             ],
             [
              0.8888888888888888,
              "#fdca26"
             ],
             [
              1,
              "#f0f921"
             ]
            ],
            "type": "contour"
           }
          ],
          "contourcarpet": [
           {
            "colorbar": {
             "outlinewidth": 0,
             "ticks": ""
            },
            "type": "contourcarpet"
           }
          ],
          "heatmap": [
           {
            "colorbar": {
             "outlinewidth": 0,
             "ticks": ""
            },
            "colorscale": [
             [
              0,
              "#0d0887"
             ],
             [
              0.1111111111111111,
              "#46039f"
             ],
             [
              0.2222222222222222,
              "#7201a8"
             ],
             [
              0.3333333333333333,
              "#9c179e"
             ],
             [
              0.4444444444444444,
              "#bd3786"
             ],
             [
              0.5555555555555556,
              "#d8576b"
             ],
             [
              0.6666666666666666,
              "#ed7953"
             ],
             [
              0.7777777777777778,
              "#fb9f3a"
             ],
             [
              0.8888888888888888,
              "#fdca26"
             ],
             [
              1,
              "#f0f921"
             ]
            ],
            "type": "heatmap"
           }
          ],
          "histogram": [
           {
            "marker": {
             "pattern": {
              "fillmode": "overlay",
              "size": 10,
              "solidity": 0.2
             }
            },
            "type": "histogram"
           }
          ],
          "histogram2d": [
           {
            "colorbar": {
             "outlinewidth": 0,
             "ticks": ""
            },
            "colorscale": [
             [
              0,
              "#0d0887"
             ],
             [
              0.1111111111111111,
              "#46039f"
             ],
             [
              0.2222222222222222,
              "#7201a8"
             ],
             [
              0.3333333333333333,
              "#9c179e"
             ],
             [
              0.4444444444444444,
              "#bd3786"
             ],
             [
              0.5555555555555556,
              "#d8576b"
             ],
             [
              0.6666666666666666,
              "#ed7953"
             ],
             [
              0.7777777777777778,
              "#fb9f3a"
             ],
             [
              0.8888888888888888,
              "#fdca26"
             ],
             [
              1,
              "#f0f921"
             ]
            ],
            "type": "histogram2d"
           }
          ],
          "histogram2dcontour": [
           {
            "colorbar": {
             "outlinewidth": 0,
             "ticks": ""
            },
            "colorscale": [
             [
              0,
              "#0d0887"
             ],
             [
              0.1111111111111111,
              "#46039f"
             ],
             [
              0.2222222222222222,
              "#7201a8"
             ],
             [
              0.3333333333333333,
              "#9c179e"
             ],
             [
              0.4444444444444444,
              "#bd3786"
             ],
             [
              0.5555555555555556,
              "#d8576b"
             ],
             [
              0.6666666666666666,
              "#ed7953"
             ],
             [
              0.7777777777777778,
              "#fb9f3a"
             ],
             [
              0.8888888888888888,
              "#fdca26"
             ],
             [
              1,
              "#f0f921"
             ]
            ],
            "type": "histogram2dcontour"
           }
          ],
          "mesh3d": [
           {
            "colorbar": {
             "outlinewidth": 0,
             "ticks": ""
            },
            "type": "mesh3d"
           }
          ],
          "parcoords": [
           {
            "line": {
             "colorbar": {
              "outlinewidth": 0,
              "ticks": ""
             }
            },
            "type": "parcoords"
           }
          ],
          "pie": [
           {
            "automargin": true,
            "type": "pie"
           }
          ],
          "scatter": [
           {
            "fillpattern": {
             "fillmode": "overlay",
             "size": 10,
             "solidity": 0.2
            },
            "type": "scatter"
           }
          ],
          "scatter3d": [
           {
            "line": {
             "colorbar": {
              "outlinewidth": 0,
              "ticks": ""
             }
            },
            "marker": {
             "colorbar": {
              "outlinewidth": 0,
              "ticks": ""
             }
            },
            "type": "scatter3d"
           }
          ],
          "scattercarpet": [
           {
            "marker": {
             "colorbar": {
              "outlinewidth": 0,
              "ticks": ""
             }
            },
            "type": "scattercarpet"
           }
          ],
          "scattergeo": [
           {
            "marker": {
             "colorbar": {
              "outlinewidth": 0,
              "ticks": ""
             }
            },
            "type": "scattergeo"
           }
          ],
          "scattergl": [
           {
            "marker": {
             "colorbar": {
              "outlinewidth": 0,
              "ticks": ""
             }
            },
            "type": "scattergl"
           }
          ],
          "scattermap": [
           {
            "marker": {
             "colorbar": {
              "outlinewidth": 0,
              "ticks": ""
             }
            },
            "type": "scattermap"
           }
          ],
          "scattermapbox": [
           {
            "marker": {
             "colorbar": {
              "outlinewidth": 0,
              "ticks": ""
             }
            },
            "type": "scattermapbox"
           }
          ],
          "scatterpolar": [
           {
            "marker": {
             "colorbar": {
              "outlinewidth": 0,
              "ticks": ""
             }
            },
            "type": "scatterpolar"
           }
          ],
          "scatterpolargl": [
           {
            "marker": {
             "colorbar": {
              "outlinewidth": 0,
              "ticks": ""
             }
            },
            "type": "scatterpolargl"
           }
          ],
          "scatterternary": [
           {
            "marker": {
             "colorbar": {
              "outlinewidth": 0,
              "ticks": ""
             }
            },
            "type": "scatterternary"
           }
          ],
          "surface": [
           {
            "colorbar": {
             "outlinewidth": 0,
             "ticks": ""
            },
            "colorscale": [
             [
              0,
              "#0d0887"
             ],
             [
              0.1111111111111111,
              "#46039f"
             ],
             [
              0.2222222222222222,
              "#7201a8"
             ],
             [
              0.3333333333333333,
              "#9c179e"
             ],
             [
              0.4444444444444444,
              "#bd3786"
             ],
             [
              0.5555555555555556,
              "#d8576b"
             ],
             [
              0.6666666666666666,
              "#ed7953"
             ],
             [
              0.7777777777777778,
              "#fb9f3a"
             ],
             [
              0.8888888888888888,
              "#fdca26"
             ],
             [
              1,
              "#f0f921"
             ]
            ],
            "type": "surface"
           }
          ],
          "table": [
           {
            "cells": {
             "fill": {
              "color": "#EBF0F8"
             },
             "line": {
              "color": "white"
             }
            },
            "header": {
             "fill": {
              "color": "#C8D4E3"
             },
             "line": {
              "color": "white"
             }
            },
            "type": "table"
           }
          ]
         },
         "layout": {
          "annotationdefaults": {
           "arrowcolor": "#2a3f5f",
           "arrowhead": 0,
           "arrowwidth": 1
          },
          "autotypenumbers": "strict",
          "coloraxis": {
           "colorbar": {
            "outlinewidth": 0,
            "ticks": ""
           }
          },
          "colorscale": {
           "diverging": [
            [
             0,
             "#8e0152"
            ],
            [
             0.1,
             "#c51b7d"
            ],
            [
             0.2,
             "#de77ae"
            ],
            [
             0.3,
             "#f1b6da"
            ],
            [
             0.4,
             "#fde0ef"
            ],
            [
             0.5,
             "#f7f7f7"
            ],
            [
             0.6,
             "#e6f5d0"
            ],
            [
             0.7,
             "#b8e186"
            ],
            [
             0.8,
             "#7fbc41"
            ],
            [
             0.9,
             "#4d9221"
            ],
            [
             1,
             "#276419"
            ]
           ],
           "sequential": [
            [
             0,
             "#0d0887"
            ],
            [
             0.1111111111111111,
             "#46039f"
            ],
            [
             0.2222222222222222,
             "#7201a8"
            ],
            [
             0.3333333333333333,
             "#9c179e"
            ],
            [
             0.4444444444444444,
             "#bd3786"
            ],
            [
             0.5555555555555556,
             "#d8576b"
            ],
            [
             0.6666666666666666,
             "#ed7953"
            ],
            [
             0.7777777777777778,
             "#fb9f3a"
            ],
            [
             0.8888888888888888,
             "#fdca26"
            ],
            [
             1,
             "#f0f921"
            ]
           ],
           "sequentialminus": [
            [
             0,
             "#0d0887"
            ],
            [
             0.1111111111111111,
             "#46039f"
            ],
            [
             0.2222222222222222,
             "#7201a8"
            ],
            [
             0.3333333333333333,
             "#9c179e"
            ],
            [
             0.4444444444444444,
             "#bd3786"
            ],
            [
             0.5555555555555556,
             "#d8576b"
            ],
            [
             0.6666666666666666,
             "#ed7953"
            ],
            [
             0.7777777777777778,
             "#fb9f3a"
            ],
            [
             0.8888888888888888,
             "#fdca26"
            ],
            [
             1,
             "#f0f921"
            ]
           ]
          },
          "colorway": [
           "#636efa",
           "#EF553B",
           "#00cc96",
           "#ab63fa",
           "#FFA15A",
           "#19d3f3",
           "#FF6692",
           "#B6E880",
           "#FF97FF",
           "#FECB52"
          ],
          "font": {
           "color": "#2a3f5f"
          },
          "geo": {
           "bgcolor": "white",
           "lakecolor": "white",
           "landcolor": "#E5ECF6",
           "showlakes": true,
           "showland": true,
           "subunitcolor": "white"
          },
          "hoverlabel": {
           "align": "left"
          },
          "hovermode": "closest",
          "mapbox": {
           "style": "light"
          },
          "paper_bgcolor": "white",
          "plot_bgcolor": "#E5ECF6",
          "polar": {
           "angularaxis": {
            "gridcolor": "white",
            "linecolor": "white",
            "ticks": ""
           },
           "bgcolor": "#E5ECF6",
           "radialaxis": {
            "gridcolor": "white",
            "linecolor": "white",
            "ticks": ""
           }
          },
          "scene": {
           "xaxis": {
            "backgroundcolor": "#E5ECF6",
            "gridcolor": "white",
            "gridwidth": 2,
            "linecolor": "white",
            "showbackground": true,
            "ticks": "",
            "zerolinecolor": "white"
           },
           "yaxis": {
            "backgroundcolor": "#E5ECF6",
            "gridcolor": "white",
            "gridwidth": 2,
            "linecolor": "white",
            "showbackground": true,
            "ticks": "",
            "zerolinecolor": "white"
           },
           "zaxis": {
            "backgroundcolor": "#E5ECF6",
            "gridcolor": "white",
            "gridwidth": 2,
            "linecolor": "white",
            "showbackground": true,
            "ticks": "",
            "zerolinecolor": "white"
           }
          },
          "shapedefaults": {
           "line": {
            "color": "#2a3f5f"
           }
          },
          "ternary": {
           "aaxis": {
            "gridcolor": "white",
            "linecolor": "white",
            "ticks": ""
           },
           "baxis": {
            "gridcolor": "white",
            "linecolor": "white",
            "ticks": ""
           },
           "bgcolor": "#E5ECF6",
           "caxis": {
            "gridcolor": "white",
            "linecolor": "white",
            "ticks": ""
           }
          },
          "title": {
           "x": 0.05
          },
          "xaxis": {
           "automargin": true,
           "gridcolor": "white",
           "linecolor": "white",
           "ticks": "",
           "title": {
            "standoff": 15
           },
           "zerolinecolor": "white",
           "zerolinewidth": 2
          },
          "yaxis": {
           "automargin": true,
           "gridcolor": "white",
           "linecolor": "white",
           "ticks": "",
           "title": {
            "standoff": 15
           },
           "zerolinecolor": "white",
           "zerolinewidth": 2
          }
         }
        },
        "title": {
         "text": "Sankey Diagram for psychopathic/CU traits, scales, and assessment types"
        },
        "width": 1500
       }
      }
     },
     "metadata": {},
     "output_type": "display_data"
    }
   ],
   "source": [
    "# 1. Create unique labels\n",
    "labels = list(pd.concat([\n",
    "    df_sankey_cups['p_or_cu'], \n",
    "    df_sankey_cups['scale'], \n",
    "    df_sankey_cups['reporting_type']\n",
    "]).unique())\n",
    "\n",
    "# 2. Map labels to indices\n",
    "label_map = {label: idx for idx, label in enumerate(labels)}\n",
    "\n",
    "# 3. Define sources, targets, and values\n",
    "sources = df_sankey_cups['p_or_cu'].map(label_map).tolist() + \\\n",
    "          df_sankey_cups['scale'].map(label_map).tolist()\n",
    "\n",
    "targets = df_sankey_cups['scale'].map(label_map).tolist() + \\\n",
    "          df_sankey_cups['reporting_type'].map(label_map).tolist()\n",
    "\n",
    "values = df_sankey_cups['pcu_count'].tolist() + \\\n",
    "         df_sankey_cups['reporttype_count'].tolist()\n",
    "\n",
    "# 4. Generate pastel colors\n",
    "import random\n",
    "\n",
    "def pastel_color():\n",
    "    r = lambda: random.randint(100, 255)\n",
    "    return f'rgba({r()},{r()},{r()},0.6)'\n",
    "\n",
    "label_to_color = {label: pastel_color() for label in labels}\n",
    "node_color_list = [label_to_color[label] for label in labels]\n",
    "\n",
    "# 5. Set link colors by source node's color (first half) and middle node (second half)\n",
    "link_colors = [label_to_color[df_sankey_cups['p_or_cu'].iloc[i]] \n",
    "               for i in range(len(df_sankey_cups))] + \\\n",
    "              [label_to_color[df_sankey_cups['scale'].iloc[i]] \n",
    "               for i in range(len(df_sankey_cups))]\n",
    "\n",
    "# 7. Create the figure\n",
    "fig = go.Figure(data=[go.Sankey(\n",
    "    node=dict(\n",
    "        pad=15,\n",
    "        thickness=20,\n",
    "        line=dict(color=\"black\", width=0.9),\n",
    "        label=labels,\n",
    "        color=node_color_list,\n",
    "        align=\"left\"\n",
    "    ),\n",
    "    link=dict(\n",
    "        source=sources,\n",
    "        target=targets,\n",
    "        value=values,\n",
    "        color=link_colors,\n",
    "        customdata=df_sankey_models_transformed['nameyear'].tolist() * 2,\n",
    "        hovertemplate='%{customdata}<extra></extra>'\n",
    "    )\n",
    ")])\n",
    "\n",
    "fig.update_layout(\n",
    "    title_text=\"Sankey Diagram for psychopathic/CU traits, scales, and assessment types\",\n",
    "    font_size=16.5,\n",
    "    width=1500,\n",
    "    height=800,\n",
    "    hovermode='x'\n",
    ")\n",
    "fig.show()\n",
    "\n",
    "fig.write_html(\"C:/Users/U727148/Latent_Variable_Supplement/sankey_pcu_plot.html\", include_plotlyjs=\"cdn\")"
   ]
  },
  {
   "cell_type": "code",
   "execution_count": 29,
   "id": "19b5d9fc",
   "metadata": {},
   "outputs": [],
   "source": [
    "#adding count vars to the behavioral variables based on how many times they appear in the data\n",
    "#we add a new column to the df_sankey_beh dataframe that counts the number of times each behavioral variable appears in the data\n",
    "df_sankey_beh['b_count'] = df_sankey_beh['behavioral_variable'].map(df_sankey_beh['behavioral_variable'].value_counts())\n",
    "df_sankey_beh['ss_count'] = df_sankey_beh['scale_summarized'].map(df_sankey_beh['scale_summarized'].value_counts())\n",
    "df_sankey_beh['a_count'] = df_sankey_beh['behavioral_assessment'].map(df_sankey_beh['behavioral_assessment'].value_counts())\n",
    "df_sankey_beh['at_count'] = df_sankey_beh['behavioral_assessment_type'].map(df_sankey_beh['behavioral_assessment_type'].value_counts())\n",
    "\n"
   ]
  },
  {
   "cell_type": "markdown",
   "id": "05f86534",
   "metadata": {},
   "source": [
    "#### Behavioral Variables\n",
    "\n",
    "In this plot, we see the behavioral variables, the scale they were investigated with, and reporting types. Because of the diversity of scales, I also added a node where I summarize the type of scale for easier viewing between the scale and the reporting type. "
   ]
  },
  {
   "cell_type": "code",
   "execution_count": 30,
   "id": "0aab3ebe",
   "metadata": {},
   "outputs": [
    {
     "data": {
      "application/vnd.plotly.v1+json": {
       "config": {
        "plotlyServerURL": "https://plot.ly"
       },
       "data": [
        {
         "link": {
          "color": [
           "rgba(161,202,139,0.6)",
           "rgba(153,164,227,0.6)",
           "rgba(251,176,210,0.6)",
           "rgba(251,176,210,0.6)",
           "rgba(121,100,219,0.6)",
           "rgba(153,164,227,0.6)",
           "rgba(161,202,139,0.6)",
           "rgba(161,202,139,0.6)",
           "rgba(224,221,127,0.6)",
           "rgba(153,164,227,0.6)",
           "rgba(161,202,139,0.6)",
           "rgba(251,176,210,0.6)",
           "rgba(224,221,127,0.6)",
           "rgba(251,176,210,0.6)",
           "rgba(251,176,210,0.6)",
           "rgba(161,202,139,0.6)",
           "rgba(121,100,219,0.6)",
           "rgba(153,164,227,0.6)",
           "rgba(161,202,139,0.6)",
           "rgba(121,100,219,0.6)",
           "rgba(153,164,227,0.6)",
           "rgba(161,202,139,0.6)",
           "rgba(251,176,210,0.6)",
           "rgba(121,100,219,0.6)",
           "rgba(251,176,210,0.6)",
           "rgba(161,202,139,0.6)",
           "rgba(224,221,127,0.6)",
           "rgba(153,164,227,0.6)",
           "rgba(251,176,210,0.6)",
           "rgba(224,221,127,0.6)",
           "rgba(230,103,229,0.6)",
           "rgba(161,202,139,0.6)",
           "rgba(251,176,210,0.6)",
           "rgba(224,221,127,0.6)",
           "rgba(153,164,227,0.6)",
           "rgba(153,164,227,0.6)",
           "rgba(173,131,181,0.6)",
           "rgba(121,100,219,0.6)",
           "rgba(121,100,219,0.6)",
           "rgba(251,176,210,0.6)",
           "rgba(224,221,127,0.6)",
           "rgba(121,100,219,0.6)",
           "rgba(153,164,227,0.6)",
           "rgba(121,100,219,0.6)",
           "rgba(153,164,227,0.6)",
           "rgba(161,202,139,0.6)",
           "rgba(153,164,227,0.6)",
           "rgba(251,176,210,0.6)",
           "rgba(121,100,219,0.6)",
           "rgba(224,221,127,0.6)",
           "rgba(121,100,219,0.6)",
           "rgba(161,202,139,0.6)",
           "rgba(153,164,227,0.6)",
           "rgba(121,100,219,0.6)",
           "rgba(121,100,219,0.6)",
           "rgba(121,100,219,0.6)",
           "rgba(224,221,127,0.6)",
           "rgba(251,176,210,0.6)",
           "rgba(121,100,219,0.6)",
           "rgba(153,164,227,0.6)",
           "rgba(224,221,127,0.6)",
           "rgba(153,164,227,0.6)",
           "rgba(251,176,210,0.6)",
           "rgba(251,176,210,0.6)",
           "rgba(161,202,139,0.6)",
           "rgba(121,100,219,0.6)",
           "rgba(153,164,227,0.6)",
           "rgba(121,100,219,0.6)",
           "rgba(153,164,227,0.6)",
           "rgba(251,176,210,0.6)",
           "rgba(224,221,127,0.6)",
           "rgba(153,164,227,0.6)",
           "rgba(153,164,227,0.6)",
           "rgba(161,202,139,0.6)",
           "rgba(251,176,210,0.6)",
           "rgba(224,221,127,0.6)",
           "rgba(121,100,219,0.6)",
           "rgba(153,164,227,0.6)",
           "rgba(251,176,210,0.6)",
           "rgba(138,239,243,0.6)",
           "rgba(224,221,127,0.6)",
           "rgba(121,100,219,0.6)",
           "rgba(251,176,210,0.6)",
           "rgba(251,176,210,0.6)",
           "rgba(153,164,227,0.6)",
           "rgba(121,100,219,0.6)",
           "rgba(153,164,227,0.6)",
           "rgba(161,202,139,0.6)",
           "rgba(153,164,227,0.6)",
           "rgba(251,176,210,0.6)",
           "rgba(224,221,127,0.6)",
           "rgba(121,100,219,0.6)",
           "rgba(173,131,181,0.6)",
           "rgba(161,202,139,0.6)",
           "rgba(146,209,215,0.6)",
           "rgba(251,176,210,0.6)",
           "rgba(224,221,127,0.6)",
           "rgba(173,131,181,0.6)",
           "rgba(121,100,219,0.6)",
           "rgba(224,221,127,0.6)",
           "rgba(161,202,139,0.6)",
           "rgba(153,164,227,0.6)",
           "rgba(121,100,219,0.6)",
           "rgba(146,166,182,0.6)",
           "rgba(173,131,181,0.6)",
           "rgba(251,176,210,0.6)",
           "rgba(251,176,210,0.6)",
           "rgba(121,100,219,0.6)",
           "rgba(121,100,219,0.6)",
           "rgba(251,176,210,0.6)",
           "rgba(224,221,127,0.6)",
           "rgba(173,131,181,0.6)",
           "rgba(161,202,139,0.6)",
           "rgba(121,100,219,0.6)",
           "rgba(153,164,227,0.6)",
           "rgba(230,103,229,0.6)",
           "rgba(251,176,210,0.6)",
           "rgba(121,100,219,0.6)",
           "rgba(224,221,127,0.6)",
           "rgba(121,100,219,0.6)",
           "rgba(121,100,219,0.6)",
           "rgba(251,176,210,0.6)",
           "rgba(153,164,227,0.6)",
           "rgba(254,213,105,0.6)",
           "rgba(184,172,186,0.6)",
           "rgba(222,143,234,0.6)",
           "rgba(222,143,234,0.6)",
           "rgba(132,191,222,0.6)",
           "rgba(184,172,186,0.6)",
           "rgba(132,191,222,0.6)",
           "rgba(254,213,105,0.6)",
           "rgba(231,232,221,0.6)",
           "rgba(184,172,186,0.6)",
           "rgba(222,143,234,0.6)",
           "rgba(147,220,203,0.6)",
           "rgba(231,232,221,0.6)",
           "rgba(222,143,234,0.6)",
           "rgba(222,143,234,0.6)",
           "rgba(132,191,222,0.6)",
           "rgba(254,213,105,0.6)",
           "rgba(184,172,186,0.6)",
           "rgba(132,191,222,0.6)",
           "rgba(254,213,105,0.6)",
           "rgba(254,213,105,0.6)",
           "rgba(254,213,105,0.6)",
           "rgba(222,143,234,0.6)",
           "rgba(254,213,105,0.6)",
           "rgba(147,220,203,0.6)",
           "rgba(132,191,222,0.6)",
           "rgba(147,220,203,0.6)",
           "rgba(184,172,186,0.6)",
           "rgba(184,172,186,0.6)",
           "rgba(231,232,221,0.6)",
           "rgba(147,220,203,0.6)",
           "rgba(254,213,105,0.6)",
           "rgba(106,203,136,0.6)",
           "rgba(106,203,136,0.6)",
           "rgba(222,143,234,0.6)",
           "rgba(184,172,186,0.6)",
           "rgba(132,191,222,0.6)",
           "rgba(147,220,203,0.6)",
           "rgba(254,213,105,0.6)",
           "rgba(222,143,234,0.6)",
           "rgba(231,232,221,0.6)",
           "rgba(254,213,105,0.6)",
           "rgba(184,172,186,0.6)",
           "rgba(254,213,105,0.6)",
           "rgba(132,191,222,0.6)",
           "rgba(184,172,186,0.6)",
           "rgba(184,172,186,0.6)",
           "rgba(184,172,186,0.6)",
           "rgba(222,143,234,0.6)",
           "rgba(231,232,221,0.6)",
           "rgba(254,213,105,0.6)",
           "rgba(254,213,105,0.6)",
           "rgba(254,213,105,0.6)",
           "rgba(132,191,222,0.6)",
           "rgba(132,191,222,0.6)",
           "rgba(222,143,234,0.6)",
           "rgba(231,232,221,0.6)",
           "rgba(147,220,203,0.6)",
           "rgba(132,191,222,0.6)",
           "rgba(184,172,186,0.6)",
           "rgba(231,232,221,0.6)",
           "rgba(184,172,186,0.6)",
           "rgba(147,220,203,0.6)",
           "rgba(147,220,203,0.6)",
           "rgba(254,213,105,0.6)",
           "rgba(222,143,234,0.6)",
           "rgba(184,172,186,0.6)",
           "rgba(147,220,203,0.6)",
           "rgba(184,172,186,0.6)",
           "rgba(147,220,203,0.6)",
           "rgba(231,232,221,0.6)",
           "rgba(254,213,105,0.6)",
           "rgba(184,172,186,0.6)",
           "rgba(254,213,105,0.6)",
           "rgba(147,220,203,0.6)",
           "rgba(231,232,221,0.6)",
           "rgba(254,213,105,0.6)",
           "rgba(184,172,186,0.6)",
           "rgba(147,220,203,0.6)",
           "rgba(106,203,136,0.6)",
           "rgba(231,232,221,0.6)",
           "rgba(254,213,105,0.6)",
           "rgba(147,220,203,0.6)",
           "rgba(147,220,203,0.6)",
           "rgba(254,213,105,0.6)",
           "rgba(184,172,186,0.6)",
           "rgba(184,172,186,0.6)",
           "rgba(222,143,234,0.6)",
           "rgba(184,172,186,0.6)",
           "rgba(106,203,136,0.6)",
           "rgba(231,232,221,0.6)",
           "rgba(132,191,222,0.6)",
           "rgba(132,191,222,0.6)",
           "rgba(254,213,105,0.6)",
           "rgba(106,203,136,0.6)",
           "rgba(222,143,234,0.6)",
           "rgba(231,232,221,0.6)",
           "rgba(254,213,105,0.6)",
           "rgba(231,232,221,0.6)",
           "rgba(132,191,222,0.6)",
           "rgba(132,191,222,0.6)",
           "rgba(254,213,105,0.6)",
           "rgba(184,172,186,0.6)",
           "rgba(254,213,105,0.6)",
           "rgba(132,191,222,0.6)",
           "rgba(184,172,186,0.6)",
           "rgba(254,213,105,0.6)",
           "rgba(132,191,222,0.6)",
           "rgba(132,191,222,0.6)",
           "rgba(147,220,203,0.6)",
           "rgba(231,232,221,0.6)",
           "rgba(132,191,222,0.6)",
           "rgba(254,213,105,0.6)",
           "rgba(132,191,222,0.6)",
           "rgba(184,172,186,0.6)",
           "rgba(147,220,203,0.6)",
           "rgba(254,213,105,0.6)",
           "rgba(106,203,136,0.6)",
           "rgba(106,203,136,0.6)",
           "rgba(132,191,222,0.6)",
           "rgba(132,191,222,0.6)",
           "rgba(222,143,234,0.6)",
           "rgba(184,172,186,0.6)",
           "rgba(209,152,152,0.6)",
           "rgba(209,152,152,0.6)",
           "rgba(192,238,186,0.6)",
           "rgba(209,152,152,0.6)",
           "rgba(233,229,185,0.6)",
           "rgba(209,152,152,0.6)",
           "rgba(233,229,185,0.6)",
           "rgba(209,152,152,0.6)",
           "rgba(209,152,152,0.6)",
           "rgba(192,226,129,0.6)",
           "rgba(233,229,185,0.6)",
           "rgba(192,238,186,0.6)",
           "rgba(209,152,152,0.6)",
           "rgba(209,152,152,0.6)",
           "rgba(209,152,152,0.6)",
           "rgba(233,229,185,0.6)",
           "rgba(192,226,129,0.6)",
           "rgba(192,226,129,0.6)",
           "rgba(192,226,129,0.6)",
           "rgba(192,226,129,0.6)",
           "rgba(192,226,129,0.6)",
           "rgba(192,226,129,0.6)",
           "rgba(209,152,152,0.6)",
           "rgba(192,226,129,0.6)",
           "rgba(192,238,186,0.6)",
           "rgba(192,226,129,0.6)",
           "rgba(192,238,186,0.6)",
           "rgba(209,152,152,0.6)",
           "rgba(209,152,152,0.6)",
           "rgba(209,152,152,0.6)",
           "rgba(209,104,239,0.6)",
           "rgba(192,226,129,0.6)",
           "rgba(209,152,152,0.6)",
           "rgba(209,152,152,0.6)",
           "rgba(209,152,152,0.6)",
           "rgba(209,152,152,0.6)",
           "rgba(233,229,185,0.6)",
           "rgba(209,104,239,0.6)",
           "rgba(209,152,152,0.6)",
           "rgba(209,152,152,0.6)",
           "rgba(209,152,152,0.6)",
           "rgba(192,226,129,0.6)",
           "rgba(209,152,152,0.6)",
           "rgba(209,152,152,0.6)",
           "rgba(192,226,129,0.6)",
           "rgba(192,226,129,0.6)",
           "rgba(209,152,152,0.6)",
           "rgba(209,152,152,0.6)",
           "rgba(209,152,152,0.6)",
           "rgba(209,152,152,0.6)",
           "rgba(192,226,129,0.6)",
           "rgba(192,226,129,0.6)",
           "rgba(137,227,253,0.6)",
           "rgba(192,226,129,0.6)",
           "rgba(233,229,185,0.6)",
           "rgba(209,152,152,0.6)",
           "rgba(209,152,152,0.6)",
           "rgba(209,152,152,0.6)",
           "rgba(192,226,129,0.6)",
           "rgba(209,152,152,0.6)",
           "rgba(209,152,152,0.6)",
           "rgba(209,152,152,0.6)",
           "rgba(192,238,186,0.6)",
           "rgba(192,238,186,0.6)",
           "rgba(192,226,129,0.6)",
           "rgba(209,152,152,0.6)",
           "rgba(137,227,253,0.6)",
           "rgba(192,238,186,0.6)",
           "rgba(209,152,152,0.6)",
           "rgba(209,152,152,0.6)",
           "rgba(209,152,152,0.6)",
           "rgba(209,152,152,0.6)",
           "rgba(209,152,152,0.6)",
           "rgba(209,152,152,0.6)",
           "rgba(192,238,186,0.6)",
           "rgba(209,152,152,0.6)",
           "rgba(192,226,129,0.6)",
           "rgba(209,152,152,0.6)",
           "rgba(192,238,186,0.6)",
           "rgba(209,152,152,0.6)",
           "rgba(209,152,152,0.6)",
           "rgba(209,152,152,0.6)",
           "rgba(192,238,186,0.6)",
           "rgba(192,238,186,0.6)",
           "rgba(192,226,129,0.6)",
           "rgba(192,226,129,0.6)",
           "rgba(209,152,152,0.6)",
           "rgba(209,152,152,0.6)",
           "rgba(209,152,152,0.6)",
           "rgba(209,152,152,0.6)",
           "rgba(209,152,152,0.6)",
           "rgba(192,226,129,0.6)",
           "rgba(209,152,152,0.6)",
           "rgba(192,226,129,0.6)",
           "rgba(192,238,186,0.6)",
           "rgba(209,152,152,0.6)",
           "rgba(209,152,152,0.6)",
           "rgba(192,226,129,0.6)",
           "rgba(192,226,129,0.6)",
           "rgba(233,229,185,0.6)",
           "rgba(192,226,129,0.6)",
           "rgba(192,226,129,0.6)",
           "rgba(209,152,152,0.6)",
           "rgba(209,152,152,0.6)",
           "rgba(233,229,185,0.6)",
           "rgba(209,152,152,0.6)",
           "rgba(209,152,152,0.6)",
           "rgba(209,104,239,0.6)",
           "rgba(233,229,185,0.6)",
           "rgba(209,152,152,0.6)",
           "rgba(209,152,152,0.6)",
           "rgba(209,152,152,0.6)",
           "rgba(209,152,152,0.6)",
           "rgba(233,229,185,0.6)",
           "rgba(209,152,152,0.6)",
           "rgba(209,104,239,0.6)",
           "rgba(209,152,152,0.6)",
           "rgba(209,152,152,0.6)",
           "rgba(209,152,152,0.6)",
           "rgba(209,152,152,0.6)",
           "rgba(209,152,152,0.6)",
           "rgba(209,152,152,0.6)",
           "rgba(192,238,186,0.6)"
          ],
          "customdata": [
           "Winters 2025",
           "Ciesenski 2024",
           "Kemp 2024",
           "Kemp 2024",
           "Castagna 2024",
           "Cohn 2024",
           "Elster 2024",
           "Neumann 2024",
           "Međedovic 2024",
           "Roy 2023",
           "Joyner 2024",
           "Brislin 2024",
           "Shields 2024",
           "Shields 2024",
           "Alvarez-Voces 2024",
           "Tillem 2023",
           "Murray 2022",
           "Dugre 2023",
           "Pechorro 2023",
           "Payot 2022",
           "Hare 2022",
           "Colins  2022",
           "Gong 2022",
           "Sellbom 2022",
           "Drislane 2022",
           "Dugre 2022",
           "Wissenburg 2022",
           "Voulgaridou 2022",
           "Willoughby 2022",
           "Willoughby 2022",
           "Willoughby 2022",
           "Michielsen 2022",
           "Woerhle 2022",
           "Friedman 2021",
           "Lopez-Romero 2021",
           "Harrop 2021",
           "Sellbom 2021",
           "Byrd 2021",
           "Goulter 2021",
           "Gillespie 2021",
           "Hawes 2021",
           "Roy 2021",
           "Altikriti 2020",
           "Breaux 2020",
           "Breaux 2020",
           "Maneiro 2020",
           "Wang 2020",
           "Wang 2020",
           "Lehmann 2019",
           "Piehler 2019",
           "Docherty 2019",
           "Maneiro 2019",
           "Maneiro 2019",
           "Maneiro 2019",
           "Waller 2019",
           "Goulter 2019",
           "Colins  2018",
           "Byrd 2018",
           "Adjorlolo 2018",
           "Carre 2018",
           "Dubas  2018",
           "Driessen 2018",
           "Boduszek 2017",
           "Fanti 2017",
           "Barhight 2017",
           "Barhight 2017",
           "Hawes  2017",
           "Colins 2017",
           "Fanti 2017",
           "Krstic 2017",
           "Krstic 2017",
           "Krstic 2017",
           "Ray 2016",
           "Muratori 2016",
           "Wall 2016",
           "Andrade 2016",
           "Mokros 2015",
           "Dhingra 2015",
           "Neumann 2014",
           "Neumann 2014",
           "White 2014",
           "Pardini 2013",
           "Fanti 2013",
           "Fanti 2013",
           "Hawes 2013",
           "Kimonis 2011",
           "Nijhof 2011",
           "Nijhof 2011",
           "Neumann 2010",
           "Blonigen 2010",
           "Kimonis 2008",
           "Vitacco 2006",
           "Winters 2025",
           "Ciesenski 2024",
           "Kemp 2024",
           "Kemp 2024",
           "Castagna 2024",
           "Cohn 2024",
           "Elster 2024",
           "Neumann 2024",
           "Međedovic 2024",
           "Roy 2023",
           "Joyner 2024",
           "Brislin 2024",
           "Shields 2024",
           "Shields 2024",
           "Alvarez-Voces 2024",
           "Tillem 2023",
           "Murray 2022",
           "Dugre 2023",
           "Pechorro 2023",
           "Payot 2022",
           "Hare 2022",
           "Colins  2022",
           "Gong 2022",
           "Sellbom 2022",
           "Drislane 2022",
           "Dugre 2022",
           "Wissenburg 2022",
           "Voulgaridou 2022",
           "Willoughby 2022",
           "Willoughby 2022",
           "Willoughby 2022",
           "Michielsen 2022",
           "Woerhle 2022",
           "Friedman 2021",
           "Lopez-Romero 2021",
           "Harrop 2021",
           "Sellbom 2021",
           "Byrd 2021",
           "Goulter 2021",
           "Gillespie 2021",
           "Hawes 2021",
           "Roy 2021",
           "Altikriti 2020",
           "Breaux 2020",
           "Breaux 2020",
           "Maneiro 2020",
           "Wang 2020",
           "Wang 2020",
           "Lehmann 2019",
           "Piehler 2019",
           "Docherty 2019",
           "Maneiro 2019",
           "Maneiro 2019",
           "Maneiro 2019",
           "Waller 2019",
           "Goulter 2019",
           "Colins  2018",
           "Byrd 2018",
           "Adjorlolo 2018",
           "Carre 2018",
           "Dubas  2018",
           "Driessen 2018",
           "Boduszek 2017",
           "Fanti 2017",
           "Barhight 2017",
           "Barhight 2017",
           "Hawes  2017",
           "Colins 2017",
           "Fanti 2017",
           "Krstic 2017",
           "Krstic 2017",
           "Krstic 2017",
           "Ray 2016",
           "Muratori 2016",
           "Wall 2016",
           "Andrade 2016",
           "Mokros 2015",
           "Dhingra 2015",
           "Neumann 2014",
           "Neumann 2014",
           "White 2014",
           "Pardini 2013",
           "Fanti 2013",
           "Fanti 2013",
           "Hawes 2013",
           "Kimonis 2011",
           "Nijhof 2011",
           "Nijhof 2011",
           "Neumann 2010",
           "Blonigen 2010",
           "Kimonis 2008",
           "Vitacco 2006",
           "Winters 2025",
           "Ciesenski 2024",
           "Kemp 2024",
           "Kemp 2024",
           "Castagna 2024",
           "Cohn 2024",
           "Elster 2024",
           "Neumann 2024",
           "Međedovic 2024",
           "Roy 2023",
           "Joyner 2024",
           "Brislin 2024",
           "Shields 2024",
           "Shields 2024",
           "Alvarez-Voces 2024",
           "Tillem 2023",
           "Murray 2022",
           "Dugre 2023",
           "Pechorro 2023",
           "Payot 2022",
           "Hare 2022",
           "Colins  2022",
           "Gong 2022",
           "Sellbom 2022",
           "Drislane 2022",
           "Dugre 2022",
           "Wissenburg 2022",
           "Voulgaridou 2022",
           "Willoughby 2022",
           "Willoughby 2022",
           "Willoughby 2022",
           "Michielsen 2022",
           "Woerhle 2022",
           "Friedman 2021",
           "Lopez-Romero 2021",
           "Harrop 2021",
           "Sellbom 2021",
           "Byrd 2021",
           "Goulter 2021",
           "Gillespie 2021",
           "Hawes 2021",
           "Roy 2021",
           "Altikriti 2020",
           "Breaux 2020",
           "Breaux 2020",
           "Maneiro 2020",
           "Wang 2020",
           "Wang 2020",
           "Lehmann 2019",
           "Piehler 2019",
           "Docherty 2019",
           "Maneiro 2019",
           "Maneiro 2019",
           "Maneiro 2019",
           "Waller 2019",
           "Goulter 2019",
           "Colins  2018",
           "Byrd 2018",
           "Adjorlolo 2018",
           "Carre 2018",
           "Dubas  2018",
           "Driessen 2018",
           "Boduszek 2017",
           "Fanti 2017",
           "Barhight 2017",
           "Barhight 2017",
           "Hawes  2017",
           "Colins 2017",
           "Fanti 2017",
           "Krstic 2017",
           "Krstic 2017",
           "Krstic 2017",
           "Ray 2016",
           "Muratori 2016",
           "Wall 2016",
           "Andrade 2016",
           "Mokros 2015",
           "Dhingra 2015",
           "Neumann 2014",
           "Neumann 2014",
           "White 2014",
           "Pardini 2013",
           "Fanti 2013",
           "Fanti 2013",
           "Hawes 2013",
           "Kimonis 2011",
           "Nijhof 2011",
           "Nijhof 2011",
           "Neumann 2010",
           "Blonigen 2010",
           "Kimonis 2008",
           "Vitacco 2006",
           "Winters 2025",
           "Ciesenski 2024",
           "Kemp 2024",
           "Kemp 2024",
           "Castagna 2024",
           "Cohn 2024",
           "Elster 2024",
           "Neumann 2024",
           "Međedovic 2024",
           "Roy 2023",
           "Joyner 2024",
           "Brislin 2024",
           "Shields 2024",
           "Shields 2024",
           "Alvarez-Voces 2024",
           "Tillem 2023",
           "Murray 2022",
           "Dugre 2023",
           "Pechorro 2023",
           "Payot 2022",
           "Hare 2022",
           "Colins  2022",
           "Gong 2022",
           "Sellbom 2022",
           "Drislane 2022",
           "Dugre 2022",
           "Wissenburg 2022",
           "Voulgaridou 2022",
           "Willoughby 2022",
           "Willoughby 2022",
           "Willoughby 2022",
           "Michielsen 2022",
           "Woerhle 2022",
           "Friedman 2021",
           "Lopez-Romero 2021",
           "Harrop 2021",
           "Sellbom 2021",
           "Byrd 2021",
           "Goulter 2021",
           "Gillespie 2021",
           "Hawes 2021",
           "Roy 2021",
           "Altikriti 2020",
           "Breaux 2020",
           "Breaux 2020",
           "Maneiro 2020",
           "Wang 2020",
           "Wang 2020",
           "Lehmann 2019",
           "Piehler 2019",
           "Docherty 2019",
           "Maneiro 2019",
           "Maneiro 2019",
           "Maneiro 2019",
           "Waller 2019",
           "Goulter 2019",
           "Colins  2018",
           "Byrd 2018",
           "Adjorlolo 2018",
           "Carre 2018",
           "Dubas  2018",
           "Driessen 2018",
           "Boduszek 2017",
           "Fanti 2017",
           "Barhight 2017",
           "Barhight 2017",
           "Hawes  2017",
           "Colins 2017",
           "Fanti 2017",
           "Krstic 2017",
           "Krstic 2017",
           "Krstic 2017",
           "Ray 2016",
           "Muratori 2016",
           "Wall 2016",
           "Andrade 2016",
           "Mokros 2015",
           "Dhingra 2015",
           "Neumann 2014",
           "Neumann 2014",
           "White 2014",
           "Pardini 2013",
           "Fanti 2013",
           "Fanti 2013",
           "Hawes 2013",
           "Kimonis 2011",
           "Nijhof 2011",
           "Nijhof 2011",
           "Neumann 2010",
           "Blonigen 2010",
           "Kimonis 2008",
           "Vitacco 2006",
           "Winters 2025",
           "Ciesenski 2024",
           "Kemp 2024",
           "Kemp 2024",
           "Castagna 2024",
           "Cohn 2024",
           "Elster 2024",
           "Neumann 2024",
           "Međedovic 2024",
           "Roy 2023",
           "Joyner 2024",
           "Brislin 2024",
           "Shields 2024",
           "Shields 2024",
           "Alvarez-Voces 2024",
           "Tillem 2023",
           "Murray 2022",
           "Dugre 2023",
           "Pechorro 2023",
           "Payot 2022",
           "Hare 2022",
           "Colins  2022",
           "Gong 2022",
           "Sellbom 2022",
           "Drislane 2022",
           "Dugre 2022",
           "Wissenburg 2022",
           "Voulgaridou 2022",
           "Willoughby 2022",
           "Willoughby 2022",
           "Willoughby 2022",
           "Michielsen 2022",
           "Woerhle 2022",
           "Friedman 2021",
           "Lopez-Romero 2021",
           "Harrop 2021",
           "Sellbom 2021",
           "Byrd 2021",
           "Goulter 2021",
           "Gillespie 2021",
           "Hawes 2021",
           "Roy 2021",
           "Altikriti 2020",
           "Breaux 2020",
           "Breaux 2020",
           "Maneiro 2020",
           "Wang 2020",
           "Wang 2020",
           "Lehmann 2019",
           "Piehler 2019",
           "Docherty 2019",
           "Maneiro 2019",
           "Maneiro 2019",
           "Maneiro 2019",
           "Waller 2019",
           "Goulter 2019",
           "Colins  2018",
           "Byrd 2018",
           "Adjorlolo 2018",
           "Carre 2018",
           "Dubas  2018",
           "Driessen 2018",
           "Boduszek 2017",
           "Fanti 2017",
           "Barhight 2017",
           "Barhight 2017",
           "Hawes  2017",
           "Colins 2017",
           "Fanti 2017",
           "Krstic 2017",
           "Krstic 2017",
           "Krstic 2017",
           "Ray 2016",
           "Muratori 2016",
           "Wall 2016",
           "Andrade 2016",
           "Mokros 2015",
           "Dhingra 2015",
           "Neumann 2014",
           "Neumann 2014",
           "White 2014",
           "Pardini 2013",
           "Fanti 2013",
           "Fanti 2013",
           "Hawes 2013",
           "Kimonis 2011",
           "Nijhof 2011",
           "Nijhof 2011",
           "Neumann 2010",
           "Blonigen 2010",
           "Kimonis 2008",
           "Vitacco 2006"
          ],
          "hovertemplate": "%{customdata}<extra></extra>",
          "source": [
           0,
           1,
           2,
           2,
           3,
           1,
           0,
           0,
           4,
           1,
           0,
           2,
           4,
           2,
           2,
           0,
           3,
           1,
           0,
           3,
           1,
           0,
           2,
           3,
           2,
           0,
           4,
           1,
           2,
           4,
           5,
           0,
           2,
           4,
           1,
           1,
           6,
           3,
           3,
           2,
           4,
           3,
           1,
           3,
           1,
           0,
           1,
           2,
           3,
           4,
           3,
           0,
           1,
           3,
           3,
           3,
           4,
           2,
           3,
           1,
           4,
           1,
           2,
           2,
           0,
           3,
           1,
           3,
           1,
           2,
           4,
           1,
           1,
           0,
           2,
           4,
           3,
           1,
           2,
           7,
           4,
           3,
           2,
           2,
           1,
           3,
           1,
           0,
           1,
           2,
           4,
           3,
           6,
           0,
           8,
           2,
           4,
           6,
           3,
           4,
           0,
           1,
           3,
           9,
           6,
           2,
           2,
           3,
           3,
           2,
           4,
           6,
           0,
           3,
           1,
           5,
           2,
           3,
           4,
           3,
           3,
           2,
           1,
           10,
           11,
           12,
           13,
           14,
           11,
           15,
           16,
           13,
           11,
           17,
           12,
           18,
           19,
           20,
           15,
           21,
           22,
           17,
           21,
           21,
           21,
           23,
           21,
           12,
           24,
           12,
           25,
           26,
           27,
           28,
           21,
           29,
           13,
           30,
           31,
           17,
           28,
           10,
           32,
           32,
           21,
           33,
           10,
           17,
           34,
           11,
           35,
           36,
           37,
           21,
           21,
           38,
           21,
           15,
           20,
           39,
           12,
           14,
           25,
           13,
           25,
           12,
           12,
           40,
           41,
           11,
           12,
           25,
           42,
           43,
           44,
           25,
           45,
           12,
           46,
           21,
           33,
           12,
           13,
           13,
           47,
           12,
           12,
           10,
           31,
           25,
           41,
           33,
           13,
           39,
           48,
           49,
           50,
           13,
           51,
           52,
           21,
           53,
           15,
           49,
           54,
           55,
           56,
           17,
           57,
           58,
           59,
           15,
           12,
           60,
           61,
           50,
           62,
           63,
           28,
           64,
           13,
           13,
           17,
           17,
           41,
           65,
           66,
           67,
           68,
           68,
           69,
           67,
           69,
           66,
           70,
           67,
           68,
           71,
           70,
           68,
           68,
           69,
           66,
           67,
           69,
           66,
           66,
           66,
           68,
           66,
           71,
           69,
           71,
           67,
           67,
           70,
           71,
           66,
           72,
           72,
           68,
           67,
           69,
           71,
           66,
           68,
           70,
           66,
           67,
           66,
           69,
           67,
           67,
           67,
           68,
           70,
           66,
           66,
           66,
           69,
           69,
           68,
           70,
           71,
           69,
           67,
           70,
           67,
           71,
           71,
           66,
           68,
           67,
           71,
           67,
           71,
           70,
           66,
           67,
           66,
           71,
           70,
           66,
           67,
           71,
           72,
           70,
           66,
           71,
           71,
           66,
           67,
           67,
           68,
           67,
           72,
           70,
           69,
           69,
           66,
           72,
           68,
           70,
           66,
           70,
           69,
           69,
           66,
           67,
           66,
           69,
           67,
           66,
           69,
           69,
           71,
           70,
           69,
           66,
           69,
           67,
           71,
           66,
           72,
           72,
           69,
           69,
           68,
           67
          ],
          "target": [
           10,
           11,
           12,
           13,
           14,
           11,
           15,
           16,
           13,
           11,
           17,
           12,
           18,
           19,
           20,
           15,
           21,
           22,
           17,
           21,
           21,
           21,
           23,
           21,
           12,
           24,
           12,
           25,
           26,
           27,
           28,
           21,
           29,
           13,
           30,
           31,
           17,
           28,
           10,
           32,
           32,
           21,
           33,
           10,
           17,
           34,
           11,
           35,
           36,
           37,
           21,
           21,
           38,
           21,
           15,
           20,
           39,
           12,
           14,
           25,
           13,
           25,
           12,
           12,
           40,
           41,
           11,
           12,
           25,
           42,
           43,
           44,
           25,
           45,
           12,
           46,
           21,
           33,
           12,
           13,
           13,
           47,
           12,
           12,
           10,
           31,
           25,
           41,
           33,
           13,
           39,
           48,
           49,
           50,
           13,
           51,
           52,
           21,
           53,
           15,
           49,
           54,
           55,
           56,
           17,
           57,
           58,
           59,
           15,
           12,
           60,
           61,
           50,
           62,
           63,
           28,
           64,
           13,
           13,
           17,
           17,
           41,
           65,
           66,
           67,
           68,
           68,
           69,
           67,
           69,
           66,
           70,
           67,
           68,
           71,
           70,
           68,
           68,
           69,
           66,
           67,
           69,
           66,
           66,
           66,
           68,
           66,
           71,
           69,
           71,
           67,
           67,
           70,
           71,
           66,
           72,
           72,
           68,
           67,
           69,
           71,
           66,
           68,
           70,
           66,
           67,
           66,
           69,
           67,
           67,
           67,
           68,
           70,
           66,
           66,
           66,
           69,
           69,
           68,
           70,
           71,
           69,
           67,
           70,
           67,
           71,
           71,
           66,
           68,
           67,
           71,
           67,
           71,
           70,
           66,
           67,
           66,
           71,
           70,
           66,
           67,
           71,
           72,
           70,
           66,
           71,
           71,
           66,
           67,
           67,
           68,
           67,
           72,
           70,
           69,
           69,
           66,
           72,
           68,
           70,
           66,
           70,
           69,
           69,
           66,
           67,
           66,
           69,
           67,
           66,
           69,
           69,
           71,
           70,
           69,
           66,
           69,
           67,
           71,
           66,
           72,
           72,
           69,
           69,
           68,
           67,
           73,
           73,
           74,
           73,
           75,
           73,
           75,
           73,
           73,
           76,
           75,
           74,
           73,
           73,
           73,
           75,
           76,
           76,
           76,
           76,
           76,
           76,
           73,
           76,
           74,
           76,
           74,
           73,
           73,
           73,
           77,
           76,
           73,
           73,
           73,
           73,
           75,
           77,
           73,
           73,
           73,
           76,
           73,
           73,
           76,
           76,
           73,
           73,
           73,
           73,
           76,
           76,
           78,
           76,
           75,
           73,
           73,
           73,
           76,
           73,
           73,
           73,
           74,
           74,
           76,
           73,
           78,
           74,
           73,
           73,
           73,
           73,
           73,
           73,
           74,
           73,
           76,
           73,
           74,
           73,
           73,
           73,
           74,
           74,
           76,
           76,
           73,
           73,
           73,
           73,
           73,
           76,
           73,
           76,
           74,
           73,
           73,
           76,
           76,
           75,
           76,
           76,
           73,
           73,
           75,
           73,
           73,
           77,
           75,
           73,
           73,
           73,
           73,
           75,
           73,
           77,
           73,
           73,
           73,
           73,
           73,
           73,
           74
          ],
          "value": [
           17,
           25,
           26,
           26,
           28,
           25,
           17,
           17,
           17,
           25,
           17,
           26,
           17,
           26,
           26,
           17,
           28,
           25,
           17,
           28,
           25,
           17,
           26,
           28,
           26,
           17,
           17,
           25,
           26,
           17,
           2,
           17,
           26,
           17,
           25,
           25,
           5,
           28,
           28,
           26,
           17,
           28,
           25,
           28,
           25,
           17,
           25,
           26,
           28,
           17,
           28,
           17,
           25,
           28,
           28,
           28,
           17,
           26,
           28,
           25,
           17,
           25,
           26,
           26,
           17,
           28,
           25,
           28,
           25,
           26,
           17,
           25,
           25,
           17,
           26,
           17,
           28,
           25,
           26,
           1,
           17,
           28,
           26,
           26,
           25,
           28,
           25,
           17,
           25,
           26,
           17,
           28,
           5,
           17,
           1,
           26,
           17,
           5,
           28,
           17,
           17,
           25,
           28,
           1,
           5,
           26,
           26,
           28,
           28,
           26,
           17,
           5,
           17,
           28,
           25,
           2,
           26,
           28,
           17,
           28,
           28,
           26,
           25,
           27,
           24,
           14,
           14,
           21,
           24,
           21,
           27,
           14,
           24,
           14,
           16,
           14,
           14,
           14,
           21,
           27,
           24,
           21,
           27,
           27,
           27,
           14,
           27,
           16,
           21,
           16,
           24,
           24,
           14,
           16,
           27,
           7,
           7,
           14,
           24,
           21,
           16,
           27,
           14,
           14,
           27,
           24,
           27,
           21,
           24,
           24,
           24,
           14,
           14,
           27,
           27,
           27,
           21,
           21,
           14,
           14,
           16,
           21,
           24,
           14,
           24,
           16,
           16,
           27,
           14,
           24,
           16,
           24,
           16,
           14,
           27,
           24,
           27,
           16,
           14,
           27,
           24,
           16,
           7,
           14,
           27,
           16,
           16,
           27,
           24,
           24,
           14,
           24,
           7,
           14,
           21,
           21,
           27,
           7,
           14,
           14,
           27,
           14,
           21,
           21,
           27,
           24,
           27,
           21,
           24,
           27,
           21,
           21,
           16,
           14,
           21,
           27,
           21,
           24,
           16,
           27,
           7,
           7,
           21,
           21,
           14,
           24,
           67,
           67,
           13,
           67,
           10,
           67,
           10,
           67,
           67,
           27,
           10,
           13,
           67,
           67,
           67,
           10,
           27,
           27,
           27,
           27,
           27,
           27,
           67,
           27,
           13,
           27,
           13,
           67,
           67,
           67,
           4,
           27,
           67,
           67,
           67,
           67,
           10,
           4,
           67,
           67,
           67,
           27,
           67,
           67,
           27,
           27,
           67,
           67,
           67,
           67,
           27,
           27,
           2,
           27,
           10,
           67,
           67,
           67,
           27,
           67,
           67,
           67,
           13,
           13,
           27,
           67,
           2,
           13,
           67,
           67,
           67,
           67,
           67,
           67,
           13,
           67,
           27,
           67,
           13,
           67,
           67,
           67,
           13,
           13,
           27,
           27,
           67,
           67,
           67,
           67,
           67,
           27,
           67,
           27,
           13,
           67,
           67,
           27,
           27,
           10,
           27,
           27,
           67,
           67,
           10,
           67,
           67,
           4,
           10,
           67,
           67,
           67,
           67,
           10,
           67,
           4,
           67,
           67,
           67,
           67,
           67,
           67,
           13
          ]
         },
         "node": {
          "align": "left",
          "color": [
           "rgba(161,202,139,0.6)",
           "rgba(153,164,227,0.6)",
           "rgba(251,176,210,0.6)",
           "rgba(121,100,219,0.6)",
           "rgba(224,221,127,0.6)",
           "rgba(230,103,229,0.6)",
           "rgba(173,131,181,0.6)",
           "rgba(138,239,243,0.6)",
           "rgba(146,209,215,0.6)",
           "rgba(146,166,182,0.6)",
           "rgba(174,127,203,0.6)",
           "rgba(179,120,213,0.6)",
           "rgba(114,152,200,0.6)",
           "rgba(123,160,136,0.6)",
           "rgba(147,218,193,0.6)",
           "rgba(128,118,145,0.6)",
           "rgba(167,145,154,0.6)",
           "rgba(126,162,254,0.6)",
           "rgba(222,115,182,0.6)",
           "rgba(162,125,132,0.6)",
           "rgba(226,195,182,0.6)",
           "rgba(215,103,115,0.6)",
           "rgba(139,102,148,0.6)",
           "rgba(175,213,170,0.6)",
           "rgba(187,162,199,0.6)",
           "rgba(195,252,226,0.6)",
           "rgba(237,243,193,0.6)",
           "rgba(176,181,243,0.6)",
           "rgba(231,110,167,0.6)",
           "rgba(202,234,147,0.6)",
           "rgba(253,129,108,0.6)",
           "rgba(213,205,142,0.6)",
           "rgba(237,250,205,0.6)",
           "rgba(125,247,215,0.6)",
           "rgba(106,194,123,0.6)",
           "rgba(140,146,176,0.6)",
           "rgba(124,173,115,0.6)",
           "rgba(111,102,185,0.6)",
           "rgba(124,139,231,0.6)",
           "rgba(139,221,234,0.6)",
           "rgba(128,139,248,0.6)",
           "rgba(217,118,151,0.6)",
           "rgba(216,233,126,0.6)",
           "rgba(180,149,103,0.6)",
           "rgba(180,247,202,0.6)",
           "rgba(213,125,158,0.6)",
           "rgba(176,111,141,0.6)",
           "rgba(116,177,189,0.6)",
           "rgba(243,210,253,0.6)",
           "rgba(201,231,187,0.6)",
           "rgba(101,243,140,0.6)",
           "rgba(108,160,227,0.6)",
           "rgba(140,180,197,0.6)",
           "rgba(175,236,142,0.6)",
           "rgba(246,111,204,0.6)",
           "rgba(125,226,183,0.6)",
           "rgba(101,241,237,0.6)",
           "rgba(128,203,168,0.6)",
           "rgba(150,153,177,0.6)",
           "rgba(241,186,204,0.6)",
           "rgba(146,142,143,0.6)",
           "rgba(244,122,170,0.6)",
           "rgba(108,152,114,0.6)",
           "rgba(148,148,207,0.6)",
           "rgba(136,192,239,0.6)",
           "rgba(107,217,191,0.6)",
           "rgba(254,213,105,0.6)",
           "rgba(184,172,186,0.6)",
           "rgba(222,143,234,0.6)",
           "rgba(132,191,222,0.6)",
           "rgba(231,232,221,0.6)",
           "rgba(147,220,203,0.6)",
           "rgba(106,203,136,0.6)",
           "rgba(209,152,152,0.6)",
           "rgba(192,238,186,0.6)",
           "rgba(233,229,185,0.6)",
           "rgba(192,226,129,0.6)",
           "rgba(209,104,239,0.6)",
           "rgba(137,227,253,0.6)"
          ],
          "label": [
           "conduct problems",
           "aggression",
           "criminal behavior",
           "externalizing behavior",
           "substance use",
           "prison behavior",
           "clinical symptoms",
           "workplace deviance",
           "sexual violence",
           "behavioral inhibition",
           "Achenbach System of Empirically Based Assessment (ASEBA)",
           "Buss-Perry Aggressiveness Questionnaire (BPAQ)",
           "criminal record",
           "study specific",
           "Disruptive Behavior Disorders Rating Scale (DBD)",
           "Kiddie-Schedule for Affective Disorders and Schizophrenia (K-SADS)",
           "Personality Assessment Inventory (PAI)",
           "DSM",
           "Daily Drinking Questionnaire (DDQ)",
           "Delinquent Behavior Index",
           "Crime and Analogous Behavior scale (CAB)",
           "Child Behavior Checklist (CBCL)",
           "Forms and Functions of aggression Questionnaire (FFA)",
           "General Delinquency Seriousness Classification (GDSC)",
           "Diagnostic Interview Schedule for Children (DISC-IV)",
           "Reactive-Proactive Aggression Questionnaire (RPAQ)",
           "Antisocial Behavior Questionnaire (ABQ)",
           "Substance Abuse factor scale",
           "observed behavior",
           "Measure of Criminal Attitudes and Associates",
           "Aggression Questionnaire (AQ)",
           "Relational Aggression Scale (RAS)",
           "Self-Reported Early Delinquency (SRED)",
           "Agresssion Questionnaire (AQ)",
           "The Parents’ and Teachers’ Report of Reactive and Proactive Behaviors ",
           "Antisocial Behavior Questionnaire (ASB)",
           "Offender Assessment System",
           "Drug Abuse Screening Test",
           "Conflict Tactics Scale (CTS)",
           "The Alcohol Use Disorders Identification Test (AUDIT)",
           "Behavior Assessment System for Children Rating Scales (BASC-2 PRS)",
           "Self Reported Delinquency Scale (SRD)",
           "Self Reported Offending",
           "Substance use/Abuse Inventory",
           "Peer Conflict Scale (PCS)",
           "Strengths and Difficulties Questionnaire (SDQ)",
           "MAYSI-2 Alcohol/ Drug Use (ADU) scale",
           "Externalizing Spectrum Inventory (ESI)",
           "Adult ADHD Self-Report Scale",
           "Child Symptom Inventory for Parents-4 (CSI-4)",
           "Checkmate plus Youth’s Inventory-4 (YI-4)",
           "self-report of offending scale (SRO)",
           "substance use/Abuse Inventory",
           "CSAP (Center for Substance Abuse Prevention) Student Survey",
           "IOWA Conners Rating Scale",
           "aggression rating scale (ARS)",
           "Behavioral Inhibition System (BIS)",
           "violence screen MacArthur Risk (8 items)",
           "Adult Self-Report (ASR)",
           "The Computerized Diagnostic Interview Schedule for ASPD and INT",
           "Substance Use Questionnaire (SUQ)",
           "Adolescent Symptom Inventory (ASI-4)",
           "Diagnostic Interview Schedule for Children, Adolescents and Parents (DISCAP)",
           "Aggressive Incident Coding Scheme (AICS)",
           "Youth self report (YSR)",
           "Aggression, Reactivity, Fear (ARF)",
           "Behavioral Checklists and Rating Scales",
           "Aggression and Antisocial Behavior Questionnaires",
           "Delinquency and Criminal Behavior Scales",
           "Psychiatric and Symptom Inventories",
           "Substance Use and Abuse Scales",
           "no scale",
           "Other Scale",
           "self report",
           "criminal records",
           "clinical assessment",
           "other report",
           "observational",
           "interview"
          ],
          "line": {
           "color": "black",
           "width": 0.9
          },
          "pad": 15,
          "thickness": 20
         },
         "type": "sankey"
        }
       ],
       "layout": {
        "font": {
         "size": 16.5
        },
        "height": 1200,
        "hovermode": "x",
        "template": {
         "data": {
          "bar": [
           {
            "error_x": {
             "color": "#2a3f5f"
            },
            "error_y": {
             "color": "#2a3f5f"
            },
            "marker": {
             "line": {
              "color": "#E5ECF6",
              "width": 0.5
             },
             "pattern": {
              "fillmode": "overlay",
              "size": 10,
              "solidity": 0.2
             }
            },
            "type": "bar"
           }
          ],
          "barpolar": [
           {
            "marker": {
             "line": {
              "color": "#E5ECF6",
              "width": 0.5
             },
             "pattern": {
              "fillmode": "overlay",
              "size": 10,
              "solidity": 0.2
             }
            },
            "type": "barpolar"
           }
          ],
          "carpet": [
           {
            "aaxis": {
             "endlinecolor": "#2a3f5f",
             "gridcolor": "white",
             "linecolor": "white",
             "minorgridcolor": "white",
             "startlinecolor": "#2a3f5f"
            },
            "baxis": {
             "endlinecolor": "#2a3f5f",
             "gridcolor": "white",
             "linecolor": "white",
             "minorgridcolor": "white",
             "startlinecolor": "#2a3f5f"
            },
            "type": "carpet"
           }
          ],
          "choropleth": [
           {
            "colorbar": {
             "outlinewidth": 0,
             "ticks": ""
            },
            "type": "choropleth"
           }
          ],
          "contour": [
           {
            "colorbar": {
             "outlinewidth": 0,
             "ticks": ""
            },
            "colorscale": [
             [
              0,
              "#0d0887"
             ],
             [
              0.1111111111111111,
              "#46039f"
             ],
             [
              0.2222222222222222,
              "#7201a8"
             ],
             [
              0.3333333333333333,
              "#9c179e"
             ],
             [
              0.4444444444444444,
              "#bd3786"
             ],
             [
              0.5555555555555556,
              "#d8576b"
             ],
             [
              0.6666666666666666,
              "#ed7953"
             ],
             [
              0.7777777777777778,
              "#fb9f3a"
             ],
             [
              0.8888888888888888,
              "#fdca26"
             ],
             [
              1,
              "#f0f921"
             ]
            ],
            "type": "contour"
           }
          ],
          "contourcarpet": [
           {
            "colorbar": {
             "outlinewidth": 0,
             "ticks": ""
            },
            "type": "contourcarpet"
           }
          ],
          "heatmap": [
           {
            "colorbar": {
             "outlinewidth": 0,
             "ticks": ""
            },
            "colorscale": [
             [
              0,
              "#0d0887"
             ],
             [
              0.1111111111111111,
              "#46039f"
             ],
             [
              0.2222222222222222,
              "#7201a8"
             ],
             [
              0.3333333333333333,
              "#9c179e"
             ],
             [
              0.4444444444444444,
              "#bd3786"
             ],
             [
              0.5555555555555556,
              "#d8576b"
             ],
             [
              0.6666666666666666,
              "#ed7953"
             ],
             [
              0.7777777777777778,
              "#fb9f3a"
             ],
             [
              0.8888888888888888,
              "#fdca26"
             ],
             [
              1,
              "#f0f921"
             ]
            ],
            "type": "heatmap"
           }
          ],
          "histogram": [
           {
            "marker": {
             "pattern": {
              "fillmode": "overlay",
              "size": 10,
              "solidity": 0.2
             }
            },
            "type": "histogram"
           }
          ],
          "histogram2d": [
           {
            "colorbar": {
             "outlinewidth": 0,
             "ticks": ""
            },
            "colorscale": [
             [
              0,
              "#0d0887"
             ],
             [
              0.1111111111111111,
              "#46039f"
             ],
             [
              0.2222222222222222,
              "#7201a8"
             ],
             [
              0.3333333333333333,
              "#9c179e"
             ],
             [
              0.4444444444444444,
              "#bd3786"
             ],
             [
              0.5555555555555556,
              "#d8576b"
             ],
             [
              0.6666666666666666,
              "#ed7953"
             ],
             [
              0.7777777777777778,
              "#fb9f3a"
             ],
             [
              0.8888888888888888,
              "#fdca26"
             ],
             [
              1,
              "#f0f921"
             ]
            ],
            "type": "histogram2d"
           }
          ],
          "histogram2dcontour": [
           {
            "colorbar": {
             "outlinewidth": 0,
             "ticks": ""
            },
            "colorscale": [
             [
              0,
              "#0d0887"
             ],
             [
              0.1111111111111111,
              "#46039f"
             ],
             [
              0.2222222222222222,
              "#7201a8"
             ],
             [
              0.3333333333333333,
              "#9c179e"
             ],
             [
              0.4444444444444444,
              "#bd3786"
             ],
             [
              0.5555555555555556,
              "#d8576b"
             ],
             [
              0.6666666666666666,
              "#ed7953"
             ],
             [
              0.7777777777777778,
              "#fb9f3a"
             ],
             [
              0.8888888888888888,
              "#fdca26"
             ],
             [
              1,
              "#f0f921"
             ]
            ],
            "type": "histogram2dcontour"
           }
          ],
          "mesh3d": [
           {
            "colorbar": {
             "outlinewidth": 0,
             "ticks": ""
            },
            "type": "mesh3d"
           }
          ],
          "parcoords": [
           {
            "line": {
             "colorbar": {
              "outlinewidth": 0,
              "ticks": ""
             }
            },
            "type": "parcoords"
           }
          ],
          "pie": [
           {
            "automargin": true,
            "type": "pie"
           }
          ],
          "scatter": [
           {
            "fillpattern": {
             "fillmode": "overlay",
             "size": 10,
             "solidity": 0.2
            },
            "type": "scatter"
           }
          ],
          "scatter3d": [
           {
            "line": {
             "colorbar": {
              "outlinewidth": 0,
              "ticks": ""
             }
            },
            "marker": {
             "colorbar": {
              "outlinewidth": 0,
              "ticks": ""
             }
            },
            "type": "scatter3d"
           }
          ],
          "scattercarpet": [
           {
            "marker": {
             "colorbar": {
              "outlinewidth": 0,
              "ticks": ""
             }
            },
            "type": "scattercarpet"
           }
          ],
          "scattergeo": [
           {
            "marker": {
             "colorbar": {
              "outlinewidth": 0,
              "ticks": ""
             }
            },
            "type": "scattergeo"
           }
          ],
          "scattergl": [
           {
            "marker": {
             "colorbar": {
              "outlinewidth": 0,
              "ticks": ""
             }
            },
            "type": "scattergl"
           }
          ],
          "scattermap": [
           {
            "marker": {
             "colorbar": {
              "outlinewidth": 0,
              "ticks": ""
             }
            },
            "type": "scattermap"
           }
          ],
          "scattermapbox": [
           {
            "marker": {
             "colorbar": {
              "outlinewidth": 0,
              "ticks": ""
             }
            },
            "type": "scattermapbox"
           }
          ],
          "scatterpolar": [
           {
            "marker": {
             "colorbar": {
              "outlinewidth": 0,
              "ticks": ""
             }
            },
            "type": "scatterpolar"
           }
          ],
          "scatterpolargl": [
           {
            "marker": {
             "colorbar": {
              "outlinewidth": 0,
              "ticks": ""
             }
            },
            "type": "scatterpolargl"
           }
          ],
          "scatterternary": [
           {
            "marker": {
             "colorbar": {
              "outlinewidth": 0,
              "ticks": ""
             }
            },
            "type": "scatterternary"
           }
          ],
          "surface": [
           {
            "colorbar": {
             "outlinewidth": 0,
             "ticks": ""
            },
            "colorscale": [
             [
              0,
              "#0d0887"
             ],
             [
              0.1111111111111111,
              "#46039f"
             ],
             [
              0.2222222222222222,
              "#7201a8"
             ],
             [
              0.3333333333333333,
              "#9c179e"
             ],
             [
              0.4444444444444444,
              "#bd3786"
             ],
             [
              0.5555555555555556,
              "#d8576b"
             ],
             [
              0.6666666666666666,
              "#ed7953"
             ],
             [
              0.7777777777777778,
              "#fb9f3a"
             ],
             [
              0.8888888888888888,
              "#fdca26"
             ],
             [
              1,
              "#f0f921"
             ]
            ],
            "type": "surface"
           }
          ],
          "table": [
           {
            "cells": {
             "fill": {
              "color": "#EBF0F8"
             },
             "line": {
              "color": "white"
             }
            },
            "header": {
             "fill": {
              "color": "#C8D4E3"
             },
             "line": {
              "color": "white"
             }
            },
            "type": "table"
           }
          ]
         },
         "layout": {
          "annotationdefaults": {
           "arrowcolor": "#2a3f5f",
           "arrowhead": 0,
           "arrowwidth": 1
          },
          "autotypenumbers": "strict",
          "coloraxis": {
           "colorbar": {
            "outlinewidth": 0,
            "ticks": ""
           }
          },
          "colorscale": {
           "diverging": [
            [
             0,
             "#8e0152"
            ],
            [
             0.1,
             "#c51b7d"
            ],
            [
             0.2,
             "#de77ae"
            ],
            [
             0.3,
             "#f1b6da"
            ],
            [
             0.4,
             "#fde0ef"
            ],
            [
             0.5,
             "#f7f7f7"
            ],
            [
             0.6,
             "#e6f5d0"
            ],
            [
             0.7,
             "#b8e186"
            ],
            [
             0.8,
             "#7fbc41"
            ],
            [
             0.9,
             "#4d9221"
            ],
            [
             1,
             "#276419"
            ]
           ],
           "sequential": [
            [
             0,
             "#0d0887"
            ],
            [
             0.1111111111111111,
             "#46039f"
            ],
            [
             0.2222222222222222,
             "#7201a8"
            ],
            [
             0.3333333333333333,
             "#9c179e"
            ],
            [
             0.4444444444444444,
             "#bd3786"
            ],
            [
             0.5555555555555556,
             "#d8576b"
            ],
            [
             0.6666666666666666,
             "#ed7953"
            ],
            [
             0.7777777777777778,
             "#fb9f3a"
            ],
            [
             0.8888888888888888,
             "#fdca26"
            ],
            [
             1,
             "#f0f921"
            ]
           ],
           "sequentialminus": [
            [
             0,
             "#0d0887"
            ],
            [
             0.1111111111111111,
             "#46039f"
            ],
            [
             0.2222222222222222,
             "#7201a8"
            ],
            [
             0.3333333333333333,
             "#9c179e"
            ],
            [
             0.4444444444444444,
             "#bd3786"
            ],
            [
             0.5555555555555556,
             "#d8576b"
            ],
            [
             0.6666666666666666,
             "#ed7953"
            ],
            [
             0.7777777777777778,
             "#fb9f3a"
            ],
            [
             0.8888888888888888,
             "#fdca26"
            ],
            [
             1,
             "#f0f921"
            ]
           ]
          },
          "colorway": [
           "#636efa",
           "#EF553B",
           "#00cc96",
           "#ab63fa",
           "#FFA15A",
           "#19d3f3",
           "#FF6692",
           "#B6E880",
           "#FF97FF",
           "#FECB52"
          ],
          "font": {
           "color": "#2a3f5f"
          },
          "geo": {
           "bgcolor": "white",
           "lakecolor": "white",
           "landcolor": "#E5ECF6",
           "showlakes": true,
           "showland": true,
           "subunitcolor": "white"
          },
          "hoverlabel": {
           "align": "left"
          },
          "hovermode": "closest",
          "mapbox": {
           "style": "light"
          },
          "paper_bgcolor": "white",
          "plot_bgcolor": "#E5ECF6",
          "polar": {
           "angularaxis": {
            "gridcolor": "white",
            "linecolor": "white",
            "ticks": ""
           },
           "bgcolor": "#E5ECF6",
           "radialaxis": {
            "gridcolor": "white",
            "linecolor": "white",
            "ticks": ""
           }
          },
          "scene": {
           "xaxis": {
            "backgroundcolor": "#E5ECF6",
            "gridcolor": "white",
            "gridwidth": 2,
            "linecolor": "white",
            "showbackground": true,
            "ticks": "",
            "zerolinecolor": "white"
           },
           "yaxis": {
            "backgroundcolor": "#E5ECF6",
            "gridcolor": "white",
            "gridwidth": 2,
            "linecolor": "white",
            "showbackground": true,
            "ticks": "",
            "zerolinecolor": "white"
           },
           "zaxis": {
            "backgroundcolor": "#E5ECF6",
            "gridcolor": "white",
            "gridwidth": 2,
            "linecolor": "white",
            "showbackground": true,
            "ticks": "",
            "zerolinecolor": "white"
           }
          },
          "shapedefaults": {
           "line": {
            "color": "#2a3f5f"
           }
          },
          "ternary": {
           "aaxis": {
            "gridcolor": "white",
            "linecolor": "white",
            "ticks": ""
           },
           "baxis": {
            "gridcolor": "white",
            "linecolor": "white",
            "ticks": ""
           },
           "bgcolor": "#E5ECF6",
           "caxis": {
            "gridcolor": "white",
            "linecolor": "white",
            "ticks": ""
           }
          },
          "title": {
           "x": 0.05
          },
          "xaxis": {
           "automargin": true,
           "gridcolor": "white",
           "linecolor": "white",
           "ticks": "",
           "title": {
            "standoff": 15
           },
           "zerolinecolor": "white",
           "zerolinewidth": 2
          },
          "yaxis": {
           "automargin": true,
           "gridcolor": "white",
           "linecolor": "white",
           "ticks": "",
           "title": {
            "standoff": 15
           },
           "zerolinecolor": "white",
           "zerolinewidth": 2
          }
         }
        },
        "title": {
         "text": "Sankey Diagram for variables, scales, and assessment types"
        },
        "width": 1700
       }
      }
     },
     "metadata": {},
     "output_type": "display_data"
    }
   ],
   "source": [
    "#Sankey plot for behavioral variables\n",
    "# 1. Create unique labels\n",
    "labels = list(pd.concat([\n",
    "    df_sankey_beh['behavioral_variable'], \n",
    "    df_sankey_beh['behavioral_assessment'], \n",
    "    df_sankey_beh['scale_summarized'],\n",
    "    df_sankey_beh['behavioral_assessment_type'],\n",
    "]).unique())\n",
    "\n",
    "# 2. Map labels to indices\n",
    "label_map = {label: idx for idx, label in enumerate(labels)}\n",
    "\n",
    "# 3. Define sources, targets, and values\n",
    "sources = df_sankey_beh['behavioral_variable'].map(label_map).tolist() + \\\n",
    "          df_sankey_beh['behavioral_assessment'].map(label_map).tolist() + \\\n",
    "          df_sankey_beh['scale_summarized'].map(label_map).tolist() \n",
    "\n",
    "targets = df_sankey_beh['behavioral_assessment'].map(label_map).tolist() + \\\n",
    "          df_sankey_beh['scale_summarized'].map(label_map).tolist() + \\\n",
    "          df_sankey_beh['behavioral_assessment_type'].map(label_map).tolist()\n",
    "\n",
    "values = df_sankey_beh['b_count'].tolist() + \\\n",
    "         df_sankey_beh['ss_count'].tolist() + \\\n",
    "         df_sankey_beh['at_count'].tolist()\n",
    "\n",
    "# 4. Generate pastel colors\n",
    "import random\n",
    "\n",
    "def pastel_color():\n",
    "    r = lambda: random.randint(100, 255)\n",
    "    return f'rgba({r()},{r()},{r()},0.6)'\n",
    "\n",
    "label_to_color = {label: pastel_color() for label in labels}\n",
    "node_color_list = [label_to_color[label] for label in labels]\n",
    "\n",
    "# 5. Set link colors by source node's color (first) and middle nodes (second) and last node\n",
    "link_colors = [label_to_color[df_sankey_beh['behavioral_variable'].iloc[i]] \n",
    "               for i in range(len(df_sankey_beh))] + \\\n",
    "              [label_to_color[df_sankey_beh['scale_summarized'].iloc[i]] \n",
    "               for i in range(len(df_sankey_beh))] + \\\n",
    "              [label_to_color[df_sankey_beh['behavioral_assessment_type'].iloc[i]] \n",
    "               for i in range(len(df_sankey_beh))]\n",
    "\n",
    "# 7. Create the figure\n",
    "fig = go.Figure(data=[go.Sankey(\n",
    "    node=dict(\n",
    "        pad=15,\n",
    "        thickness=20,\n",
    "        line=dict(color=\"black\", width=0.9),\n",
    "        label=labels,\n",
    "        color=node_color_list,\n",
    "        align=\"left\"\n",
    "    ),\n",
    "    link=dict(\n",
    "        source=sources,\n",
    "        target=targets,\n",
    "        value=values,\n",
    "        color=link_colors,\n",
    "        customdata=df_sankey_models_transformed['nameyear'].tolist() * 5,\n",
    "        hovertemplate='%{customdata}<extra></extra>'\n",
    "    )\n",
    ")])\n",
    "\n",
    "fig.update_layout(\n",
    "    title_text=\"Sankey Diagram for variables, scales, and assessment types\",\n",
    "    font_size=16.5,\n",
    "    width=1700,\n",
    "    height=1200,\n",
    "    hovermode='x'\n",
    ")\n",
    "fig.show()\n",
    "\n",
    "fig.write_html(\"C:/Users/U727148/Latent_Variable_Supplement/sankey_behavior_plot.html\", include_plotlyjs=\"cdn\")"
   ]
  },
  {
   "cell_type": "markdown",
   "id": "4ab2da25",
   "metadata": {},
   "source": [
    "#### Cognitive variables\n",
    "\n",
    "This is an overview plot for the studies using cognitive variables (which of course is only 40.5% of studies actually did). Left is the variable, in the middle is the name of the scale or test used, and left is the type of report."
   ]
  },
  {
   "cell_type": "code",
   "execution_count": 31,
   "id": "773d0b03",
   "metadata": {},
   "outputs": [
    {
     "data": {
      "application/vnd.plotly.v1+json": {
       "config": {
        "plotlyServerURL": "https://plot.ly"
       },
       "data": [
        {
         "link": {
          "color": [
           "rgba(237,113,196,0.6)",
           "rgba(230,161,249,0.6)",
           "rgba(129,100,241,0.6)",
           "rgba(237,113,196,0.6)",
           "rgba(230,161,249,0.6)",
           "rgba(150,231,109,0.6)",
           "rgba(167,148,148,0.6)",
           "rgba(230,161,249,0.6)",
           "rgba(146,180,108,0.6)",
           "rgba(167,148,148,0.6)",
           "rgba(160,107,130,0.6)",
           "rgba(142,172,215,0.6)",
           "rgba(237,113,196,0.6)",
           "rgba(237,113,196,0.6)",
           "rgba(237,113,196,0.6)",
           "rgba(237,113,196,0.6)",
           "rgba(142,172,215,0.6)",
           "rgba(130,114,238,0.6)",
           "rgba(160,107,130,0.6)",
           "rgba(230,161,249,0.6)",
           "rgba(128,228,175,0.6)",
           "rgba(237,113,196,0.6)",
           "rgba(230,161,249,0.6)",
           "rgba(167,148,148,0.6)",
           "rgba(230,161,249,0.6)",
           "rgba(167,148,148,0.6)",
           "rgba(160,107,130,0.6)",
           "rgba(230,161,249,0.6)",
           "rgba(160,107,130,0.6)",
           "rgba(237,113,196,0.6)",
           "rgba(160,107,130,0.6)",
           "rgba(237,113,196,0.6)",
           "rgba(230,161,249,0.6)",
           "rgba(230,161,249,0.6)",
           "rgba(230,161,249,0.6)",
           "rgba(230,161,249,0.6)",
           "rgba(160,107,130,0.6)",
           "rgba(160,107,130,0.6)",
           "rgba(160,107,130,0.6)",
           "rgba(237,113,196,0.6)",
           "rgba(230,161,249,0.6)",
           "rgba(230,161,249,0.6)",
           "rgba(230,161,249,0.6)",
           "rgba(237,113,196,0.6)",
           "rgba(160,107,130,0.6)",
           "rgba(167,148,148,0.6)",
           "rgba(230,161,249,0.6)",
           "rgba(230,161,249,0.6)",
           "rgba(130,114,238,0.6)",
           "rgba(145,233,198,0.6)",
           "rgba(134,183,160,0.6)",
           "rgba(192,247,220,0.6)",
           "rgba(189,249,207,0.6)",
           "rgba(134,183,160,0.6)",
           "rgba(120,132,192,0.6)",
           "rgba(226,109,148,0.6)",
           "rgba(134,183,160,0.6)",
           "rgba(192,122,177,0.6)",
           "rgba(141,109,151,0.6)",
           "rgba(119,148,135,0.6)",
           "rgba(119,119,213,0.6)",
           "rgba(156,158,163,0.6)",
           "rgba(173,249,112,0.6)",
           "rgba(226,241,247,0.6)",
           "rgba(132,151,140,0.6)",
           "rgba(156,204,180,0.6)",
           "rgba(164,211,141,0.6)",
           "rgba(209,236,231,0.6)",
           "rgba(134,183,160,0.6)",
           "rgba(192,182,181,0.6)",
           "rgba(246,182,149,0.6)",
           "rgba(200,218,234,0.6)",
           "rgba(141,109,151,0.6)",
           "rgba(134,183,160,0.6)",
           "rgba(141,109,151,0.6)",
           "rgba(107,141,211,0.6)",
           "rgba(134,183,160,0.6)",
           "rgba(227,103,182,0.6)",
           "rgba(226,241,247,0.6)",
           "rgba(247,141,113,0.6)",
           "rgba(128,152,229,0.6)",
           "rgba(200,218,234,0.6)",
           "rgba(170,177,210,0.6)",
           "rgba(134,183,160,0.6)",
           "rgba(171,224,121,0.6)",
           "rgba(246,194,138,0.6)",
           "rgba(192,182,181,0.6)",
           "rgba(170,177,210,0.6)",
           "rgba(229,184,128,0.6)",
           "rgba(170,177,210,0.6)",
           "rgba(224,186,153,0.6)",
           "rgba(252,112,201,0.6)",
           "rgba(229,184,128,0.6)",
           "rgba(123,126,250,0.6)",
           "rgba(218,167,157,0.6)",
           "rgba(224,186,153,0.6)",
           "rgba(224,186,153,0.6)",
           "rgba(210,249,247,0.6)"
          ],
          "customdata": [
           "Winters 2025",
           "Ciesenski 2024",
           "Castagna 2024",
           "Cohn 2024",
           "Cohn 2024",
           "Cohn 2024",
           "Elster 2024",
           "Međedovic 2024",
           "Brislin 2024",
           "Murray 2022",
           "Pechorro 2023",
           "Payot 2022",
           "Sellbom 2022",
           "Sellbom 2022",
           "Sellbom 2022",
           "Sellbom 2022",
           "Wissenburg 2022",
           "Wissenburg 2022",
           "Wissenburg 2022",
           "Wissenburg 2022",
           "Willoughby 2022",
           "Friedman 2021",
           "Harrop 2021",
           "Byrd 2021",
           "Gillespie 2021",
           "Hawes 2021",
           "Altikriti 2020",
           "Wang 2020",
           "Piehler 2019",
           "Piehler 2019",
           "Piehler 2019",
           "Piehler 2019",
           "Maneiro 2019",
           "Waller 2019",
           "Adjorlolo 2018",
           "Dubas  2018",
           "Fanti 2017",
           "Fanti 2017",
           "Fanti 2017",
           "Fanti 2017",
           "Ray 2016",
           "Wall 2016",
           "Wall 2016",
           "Wall 2016",
           "Wall 2016",
           "White 2014",
           "Fanti 2013a",
           "Fanti 2013b",
           "Fanti 2013a",
           "Winters 2025",
           "Ciesenski 2024",
           "Castagna 2024",
           "Cohn 2024",
           "Cohn 2024",
           "Cohn 2024",
           "Elster 2024",
           "Međedovic 2024",
           "Brislin 2024",
           "Murray 2022",
           "Pechorro 2023",
           "Payot 2022",
           "Sellbom 2022",
           "Sellbom 2022",
           "Sellbom 2022",
           "Sellbom 2022",
           "Wissenburg 2022",
           "Wissenburg 2022",
           "Wissenburg 2022",
           "Wissenburg 2022",
           "Willoughby 2022",
           "Friedman 2021",
           "Harrop 2021",
           "Byrd 2021",
           "Gillespie 2021",
           "Hawes 2021",
           "Altikriti 2020",
           "Wang 2020",
           "Piehler 2019",
           "Piehler 2019",
           "Piehler 2019",
           "Piehler 2019",
           "Maneiro 2019",
           "Waller 2019",
           "Adjorlolo 2018",
           "Dubas  2018",
           "Fanti 2017",
           "Fanti 2017",
           "Fanti 2017",
           "Fanti 2017",
           "Ray 2016",
           "Wall 2016",
           "Wall 2016",
           "Wall 2016",
           "Wall 2016",
           "White 2014",
           "Fanti 2013a",
           "Fanti 2013b",
           "Fanti 2013a"
          ],
          "hovertemplate": "%{customdata}<extra></extra>",
          "source": [
           0,
           1,
           2,
           0,
           1,
           3,
           4,
           1,
           5,
           4,
           6,
           7,
           0,
           0,
           0,
           0,
           7,
           8,
           6,
           1,
           9,
           0,
           1,
           4,
           1,
           4,
           6,
           1,
           6,
           0,
           6,
           0,
           1,
           1,
           1,
           1,
           6,
           6,
           6,
           0,
           1,
           1,
           1,
           0,
           6,
           4,
           1,
           1,
           8,
           10,
           11,
           12,
           13,
           11,
           14,
           15,
           11,
           16,
           17,
           18,
           19,
           20,
           21,
           22,
           23,
           24,
           25,
           26,
           11,
           27,
           28,
           29,
           17,
           11,
           17,
           30,
           11,
           31,
           22,
           32,
           33,
           29,
           34,
           11,
           35,
           36,
           27,
           34,
           37,
           34,
           38,
           39,
           37,
           40,
           41,
           38,
           38,
           42
          ],
          "target": [
           10,
           11,
           12,
           13,
           11,
           14,
           15,
           11,
           16,
           17,
           18,
           19,
           20,
           21,
           22,
           23,
           24,
           25,
           26,
           11,
           27,
           28,
           29,
           17,
           11,
           17,
           30,
           11,
           31,
           22,
           32,
           33,
           29,
           34,
           11,
           35,
           36,
           27,
           34,
           37,
           34,
           38,
           39,
           37,
           40,
           41,
           38,
           38,
           42,
           43,
           44,
           43,
           44,
           44,
           44,
           43,
           45,
           44,
           43,
           44,
           45,
           43,
           43,
           43,
           43,
           44,
           44,
           44,
           44,
           43,
           43,
           44,
           43,
           44,
           43,
           44,
           44,
           43,
           43,
           45,
           43,
           44,
           44,
           44,
           44,
           43,
           43,
           44,
           45,
           44,
           44,
           44,
           45,
           45,
           43,
           44,
           44,
           44
          ],
          "value": [
           11,
           16,
           1,
           11,
           16,
           1,
           5,
           16,
           1,
           5,
           9,
           2,
           11,
           11,
           11,
           11,
           2,
           2,
           9,
           16,
           1,
           11,
           16,
           5,
           16,
           5,
           9,
           16,
           9,
           11,
           9,
           11,
           16,
           16,
           16,
           16,
           9,
           9,
           9,
           11,
           16,
           16,
           16,
           11,
           9,
           5,
           16,
           16,
           2,
           18,
           25,
           18,
           25,
           25,
           25,
           18,
           6,
           25,
           18,
           25,
           6,
           18,
           18,
           18,
           18,
           25,
           25,
           25,
           25,
           18,
           18,
           25,
           18,
           25,
           18,
           25,
           25,
           18,
           18,
           6,
           18,
           25,
           25,
           25,
           25,
           18,
           18,
           25,
           6,
           25,
           25,
           25,
           6,
           6,
           18,
           25,
           25,
           25
          ]
         },
         "node": {
          "align": "left",
          "color": [
           "rgba(237,113,196,0.6)",
           "rgba(230,161,249,0.6)",
           "rgba(129,100,241,0.6)",
           "rgba(150,231,109,0.6)",
           "rgba(167,148,148,0.6)",
           "rgba(146,180,108,0.6)",
           "rgba(160,107,130,0.6)",
           "rgba(142,172,215,0.6)",
           "rgba(130,114,238,0.6)",
           "rgba(128,228,175,0.6)",
           "rgba(145,233,198,0.6)",
           "rgba(134,183,160,0.6)",
           "rgba(192,247,220,0.6)",
           "rgba(189,249,207,0.6)",
           "rgba(120,132,192,0.6)",
           "rgba(226,109,148,0.6)",
           "rgba(192,122,177,0.6)",
           "rgba(141,109,151,0.6)",
           "rgba(119,148,135,0.6)",
           "rgba(119,119,213,0.6)",
           "rgba(156,158,163,0.6)",
           "rgba(173,249,112,0.6)",
           "rgba(226,241,247,0.6)",
           "rgba(132,151,140,0.6)",
           "rgba(156,204,180,0.6)",
           "rgba(164,211,141,0.6)",
           "rgba(209,236,231,0.6)",
           "rgba(192,182,181,0.6)",
           "rgba(246,182,149,0.6)",
           "rgba(200,218,234,0.6)",
           "rgba(107,141,211,0.6)",
           "rgba(227,103,182,0.6)",
           "rgba(247,141,113,0.6)",
           "rgba(128,152,229,0.6)",
           "rgba(170,177,210,0.6)",
           "rgba(171,224,121,0.6)",
           "rgba(246,194,138,0.6)",
           "rgba(229,184,128,0.6)",
           "rgba(224,186,153,0.6)",
           "rgba(252,112,201,0.6)",
           "rgba(123,126,250,0.6)",
           "rgba(218,167,157,0.6)",
           "rgba(210,249,247,0.6)",
           "rgba(159,100,196,0.6)",
           "rgba(137,249,186,0.6)",
           "rgba(147,152,176,0.6)"
          ],
          "label": [
           "executive function",
           "impulsivity",
           "drift rate",
           "disinhibition",
           "reward/punishment learning",
           "general cognitive ability",
           "self control",
           "empathy",
           "sensation seeking",
           "Inhibition",
           "Delis-Kaplan Executive Function System (D-KEFS)",
           "Barratt Impulsiveness Scale (BIS)",
           "Conners Continious Perfromance Test (CPT-3)",
           "Behavior Rating Inventory of Executive Functioning-Inhibit Scale (BRIEF)",
           "Personality Disorder Inventory for DSM-5 Brief Form-Disinhibition Scale (PID-5-BF)",
           "probabilistic RL-task",
           "General Cognitive Ability (GCA)",
           "Monetary Incentive Delay Task",
           "Low Self-Control Scale (LSCS)",
           "Griffith Empathy Measure (GEM)",
           "Trail Making Test (TMT)",
           "Porteus Maze",
           "Flanker Task",
           "Diagnostic Analysis of Nonverbal Accuracy Scale-2 (DANVA)",
           "Interpersonal Reactivity Index (IRI)",
           "Brief Sensation Seeking Scale (BSSS)",
           "Self-Control Scale (SCS)",
           "Stroop Task",
           "study specific EF tasks for inhibiting, updating, shifting",
           "Impulsive Behavior Scale (UPPS-P)",
           "study specific self-control items (8)",
           "Dimensional change card sort (DCCS)",
           "Early Adolescent Temperament Questionnaire Revised (EATQ)",
           "Iowa Gambling Task (IGT)",
           "Weinberger Adjustment Inventory (WAI)",
           "Eysenck Impulsiveness Scale (EIS)",
           "Tower of London",
           "Executive Skills Questionnaire (ESQ)",
           "Antisocial Process Screening Device (APSD)",
           "Impulsive-Hyperactive symptoms score CSI-4",
           "Social-Emotional Assets and Resilience scale (SEARS)",
           "Doors Task (images behind three doors were either contamination-oriented, appetetive or fear inducing)",
           "Sensation Seeking Scale Form-V (SSS-V)",
           "experimental",
           "self report",
           "other report"
          ],
          "line": {
           "color": "black",
           "width": 0.9
          },
          "pad": 15,
          "thickness": 20
         },
         "type": "sankey"
        }
       ],
       "layout": {
        "font": {
         "size": 16.5
        },
        "height": 1200,
        "hovermode": "x",
        "template": {
         "data": {
          "bar": [
           {
            "error_x": {
             "color": "#2a3f5f"
            },
            "error_y": {
             "color": "#2a3f5f"
            },
            "marker": {
             "line": {
              "color": "#E5ECF6",
              "width": 0.5
             },
             "pattern": {
              "fillmode": "overlay",
              "size": 10,
              "solidity": 0.2
             }
            },
            "type": "bar"
           }
          ],
          "barpolar": [
           {
            "marker": {
             "line": {
              "color": "#E5ECF6",
              "width": 0.5
             },
             "pattern": {
              "fillmode": "overlay",
              "size": 10,
              "solidity": 0.2
             }
            },
            "type": "barpolar"
           }
          ],
          "carpet": [
           {
            "aaxis": {
             "endlinecolor": "#2a3f5f",
             "gridcolor": "white",
             "linecolor": "white",
             "minorgridcolor": "white",
             "startlinecolor": "#2a3f5f"
            },
            "baxis": {
             "endlinecolor": "#2a3f5f",
             "gridcolor": "white",
             "linecolor": "white",
             "minorgridcolor": "white",
             "startlinecolor": "#2a3f5f"
            },
            "type": "carpet"
           }
          ],
          "choropleth": [
           {
            "colorbar": {
             "outlinewidth": 0,
             "ticks": ""
            },
            "type": "choropleth"
           }
          ],
          "contour": [
           {
            "colorbar": {
             "outlinewidth": 0,
             "ticks": ""
            },
            "colorscale": [
             [
              0,
              "#0d0887"
             ],
             [
              0.1111111111111111,
              "#46039f"
             ],
             [
              0.2222222222222222,
              "#7201a8"
             ],
             [
              0.3333333333333333,
              "#9c179e"
             ],
             [
              0.4444444444444444,
              "#bd3786"
             ],
             [
              0.5555555555555556,
              "#d8576b"
             ],
             [
              0.6666666666666666,
              "#ed7953"
             ],
             [
              0.7777777777777778,
              "#fb9f3a"
             ],
             [
              0.8888888888888888,
              "#fdca26"
             ],
             [
              1,
              "#f0f921"
             ]
            ],
            "type": "contour"
           }
          ],
          "contourcarpet": [
           {
            "colorbar": {
             "outlinewidth": 0,
             "ticks": ""
            },
            "type": "contourcarpet"
           }
          ],
          "heatmap": [
           {
            "colorbar": {
             "outlinewidth": 0,
             "ticks": ""
            },
            "colorscale": [
             [
              0,
              "#0d0887"
             ],
             [
              0.1111111111111111,
              "#46039f"
             ],
             [
              0.2222222222222222,
              "#7201a8"
             ],
             [
              0.3333333333333333,
              "#9c179e"
             ],
             [
              0.4444444444444444,
              "#bd3786"
             ],
             [
              0.5555555555555556,
              "#d8576b"
             ],
             [
              0.6666666666666666,
              "#ed7953"
             ],
             [
              0.7777777777777778,
              "#fb9f3a"
             ],
             [
              0.8888888888888888,
              "#fdca26"
             ],
             [
              1,
              "#f0f921"
             ]
            ],
            "type": "heatmap"
           }
          ],
          "histogram": [
           {
            "marker": {
             "pattern": {
              "fillmode": "overlay",
              "size": 10,
              "solidity": 0.2
             }
            },
            "type": "histogram"
           }
          ],
          "histogram2d": [
           {
            "colorbar": {
             "outlinewidth": 0,
             "ticks": ""
            },
            "colorscale": [
             [
              0,
              "#0d0887"
             ],
             [
              0.1111111111111111,
              "#46039f"
             ],
             [
              0.2222222222222222,
              "#7201a8"
             ],
             [
              0.3333333333333333,
              "#9c179e"
             ],
             [
              0.4444444444444444,
              "#bd3786"
             ],
             [
              0.5555555555555556,
              "#d8576b"
             ],
             [
              0.6666666666666666,
              "#ed7953"
             ],
             [
              0.7777777777777778,
              "#fb9f3a"
             ],
             [
              0.8888888888888888,
              "#fdca26"
             ],
             [
              1,
              "#f0f921"
             ]
            ],
            "type": "histogram2d"
           }
          ],
          "histogram2dcontour": [
           {
            "colorbar": {
             "outlinewidth": 0,
             "ticks": ""
            },
            "colorscale": [
             [
              0,
              "#0d0887"
             ],
             [
              0.1111111111111111,
              "#46039f"
             ],
             [
              0.2222222222222222,
              "#7201a8"
             ],
             [
              0.3333333333333333,
              "#9c179e"
             ],
             [
              0.4444444444444444,
              "#bd3786"
             ],
             [
              0.5555555555555556,
              "#d8576b"
             ],
             [
              0.6666666666666666,
              "#ed7953"
             ],
             [
              0.7777777777777778,
              "#fb9f3a"
             ],
             [
              0.8888888888888888,
              "#fdca26"
             ],
             [
              1,
              "#f0f921"
             ]
            ],
            "type": "histogram2dcontour"
           }
          ],
          "mesh3d": [
           {
            "colorbar": {
             "outlinewidth": 0,
             "ticks": ""
            },
            "type": "mesh3d"
           }
          ],
          "parcoords": [
           {
            "line": {
             "colorbar": {
              "outlinewidth": 0,
              "ticks": ""
             }
            },
            "type": "parcoords"
           }
          ],
          "pie": [
           {
            "automargin": true,
            "type": "pie"
           }
          ],
          "scatter": [
           {
            "fillpattern": {
             "fillmode": "overlay",
             "size": 10,
             "solidity": 0.2
            },
            "type": "scatter"
           }
          ],
          "scatter3d": [
           {
            "line": {
             "colorbar": {
              "outlinewidth": 0,
              "ticks": ""
             }
            },
            "marker": {
             "colorbar": {
              "outlinewidth": 0,
              "ticks": ""
             }
            },
            "type": "scatter3d"
           }
          ],
          "scattercarpet": [
           {
            "marker": {
             "colorbar": {
              "outlinewidth": 0,
              "ticks": ""
             }
            },
            "type": "scattercarpet"
           }
          ],
          "scattergeo": [
           {
            "marker": {
             "colorbar": {
              "outlinewidth": 0,
              "ticks": ""
             }
            },
            "type": "scattergeo"
           }
          ],
          "scattergl": [
           {
            "marker": {
             "colorbar": {
              "outlinewidth": 0,
              "ticks": ""
             }
            },
            "type": "scattergl"
           }
          ],
          "scattermap": [
           {
            "marker": {
             "colorbar": {
              "outlinewidth": 0,
              "ticks": ""
             }
            },
            "type": "scattermap"
           }
          ],
          "scattermapbox": [
           {
            "marker": {
             "colorbar": {
              "outlinewidth": 0,
              "ticks": ""
             }
            },
            "type": "scattermapbox"
           }
          ],
          "scatterpolar": [
           {
            "marker": {
             "colorbar": {
              "outlinewidth": 0,
              "ticks": ""
             }
            },
            "type": "scatterpolar"
           }
          ],
          "scatterpolargl": [
           {
            "marker": {
             "colorbar": {
              "outlinewidth": 0,
              "ticks": ""
             }
            },
            "type": "scatterpolargl"
           }
          ],
          "scatterternary": [
           {
            "marker": {
             "colorbar": {
              "outlinewidth": 0,
              "ticks": ""
             }
            },
            "type": "scatterternary"
           }
          ],
          "surface": [
           {
            "colorbar": {
             "outlinewidth": 0,
             "ticks": ""
            },
            "colorscale": [
             [
              0,
              "#0d0887"
             ],
             [
              0.1111111111111111,
              "#46039f"
             ],
             [
              0.2222222222222222,
              "#7201a8"
             ],
             [
              0.3333333333333333,
              "#9c179e"
             ],
             [
              0.4444444444444444,
              "#bd3786"
             ],
             [
              0.5555555555555556,
              "#d8576b"
             ],
             [
              0.6666666666666666,
              "#ed7953"
             ],
             [
              0.7777777777777778,
              "#fb9f3a"
             ],
             [
              0.8888888888888888,
              "#fdca26"
             ],
             [
              1,
              "#f0f921"
             ]
            ],
            "type": "surface"
           }
          ],
          "table": [
           {
            "cells": {
             "fill": {
              "color": "#EBF0F8"
             },
             "line": {
              "color": "white"
             }
            },
            "header": {
             "fill": {
              "color": "#C8D4E3"
             },
             "line": {
              "color": "white"
             }
            },
            "type": "table"
           }
          ]
         },
         "layout": {
          "annotationdefaults": {
           "arrowcolor": "#2a3f5f",
           "arrowhead": 0,
           "arrowwidth": 1
          },
          "autotypenumbers": "strict",
          "coloraxis": {
           "colorbar": {
            "outlinewidth": 0,
            "ticks": ""
           }
          },
          "colorscale": {
           "diverging": [
            [
             0,
             "#8e0152"
            ],
            [
             0.1,
             "#c51b7d"
            ],
            [
             0.2,
             "#de77ae"
            ],
            [
             0.3,
             "#f1b6da"
            ],
            [
             0.4,
             "#fde0ef"
            ],
            [
             0.5,
             "#f7f7f7"
            ],
            [
             0.6,
             "#e6f5d0"
            ],
            [
             0.7,
             "#b8e186"
            ],
            [
             0.8,
             "#7fbc41"
            ],
            [
             0.9,
             "#4d9221"
            ],
            [
             1,
             "#276419"
            ]
           ],
           "sequential": [
            [
             0,
             "#0d0887"
            ],
            [
             0.1111111111111111,
             "#46039f"
            ],
            [
             0.2222222222222222,
             "#7201a8"
            ],
            [
             0.3333333333333333,
             "#9c179e"
            ],
            [
             0.4444444444444444,
             "#bd3786"
            ],
            [
             0.5555555555555556,
             "#d8576b"
            ],
            [
             0.6666666666666666,
             "#ed7953"
            ],
            [
             0.7777777777777778,
             "#fb9f3a"
            ],
            [
             0.8888888888888888,
             "#fdca26"
            ],
            [
             1,
             "#f0f921"
            ]
           ],
           "sequentialminus": [
            [
             0,
             "#0d0887"
            ],
            [
             0.1111111111111111,
             "#46039f"
            ],
            [
             0.2222222222222222,
             "#7201a8"
            ],
            [
             0.3333333333333333,
             "#9c179e"
            ],
            [
             0.4444444444444444,
             "#bd3786"
            ],
            [
             0.5555555555555556,
             "#d8576b"
            ],
            [
             0.6666666666666666,
             "#ed7953"
            ],
            [
             0.7777777777777778,
             "#fb9f3a"
            ],
            [
             0.8888888888888888,
             "#fdca26"
            ],
            [
             1,
             "#f0f921"
            ]
           ]
          },
          "colorway": [
           "#636efa",
           "#EF553B",
           "#00cc96",
           "#ab63fa",
           "#FFA15A",
           "#19d3f3",
           "#FF6692",
           "#B6E880",
           "#FF97FF",
           "#FECB52"
          ],
          "font": {
           "color": "#2a3f5f"
          },
          "geo": {
           "bgcolor": "white",
           "lakecolor": "white",
           "landcolor": "#E5ECF6",
           "showlakes": true,
           "showland": true,
           "subunitcolor": "white"
          },
          "hoverlabel": {
           "align": "left"
          },
          "hovermode": "closest",
          "mapbox": {
           "style": "light"
          },
          "paper_bgcolor": "white",
          "plot_bgcolor": "#E5ECF6",
          "polar": {
           "angularaxis": {
            "gridcolor": "white",
            "linecolor": "white",
            "ticks": ""
           },
           "bgcolor": "#E5ECF6",
           "radialaxis": {
            "gridcolor": "white",
            "linecolor": "white",
            "ticks": ""
           }
          },
          "scene": {
           "xaxis": {
            "backgroundcolor": "#E5ECF6",
            "gridcolor": "white",
            "gridwidth": 2,
            "linecolor": "white",
            "showbackground": true,
            "ticks": "",
            "zerolinecolor": "white"
           },
           "yaxis": {
            "backgroundcolor": "#E5ECF6",
            "gridcolor": "white",
            "gridwidth": 2,
            "linecolor": "white",
            "showbackground": true,
            "ticks": "",
            "zerolinecolor": "white"
           },
           "zaxis": {
            "backgroundcolor": "#E5ECF6",
            "gridcolor": "white",
            "gridwidth": 2,
            "linecolor": "white",
            "showbackground": true,
            "ticks": "",
            "zerolinecolor": "white"
           }
          },
          "shapedefaults": {
           "line": {
            "color": "#2a3f5f"
           }
          },
          "ternary": {
           "aaxis": {
            "gridcolor": "white",
            "linecolor": "white",
            "ticks": ""
           },
           "baxis": {
            "gridcolor": "white",
            "linecolor": "white",
            "ticks": ""
           },
           "bgcolor": "#E5ECF6",
           "caxis": {
            "gridcolor": "white",
            "linecolor": "white",
            "ticks": ""
           }
          },
          "title": {
           "x": 0.05
          },
          "xaxis": {
           "automargin": true,
           "gridcolor": "white",
           "linecolor": "white",
           "ticks": "",
           "title": {
            "standoff": 15
           },
           "zerolinecolor": "white",
           "zerolinewidth": 2
          },
          "yaxis": {
           "automargin": true,
           "gridcolor": "white",
           "linecolor": "white",
           "ticks": "",
           "title": {
            "standoff": 15
           },
           "zerolinecolor": "white",
           "zerolinewidth": 2
          }
         }
        },
        "title": {
         "text": "Sankey Diagram for cognitive variables, assessments, and assessment types"
        },
        "width": 1700
       }
      }
     },
     "metadata": {},
     "output_type": "display_data"
    }
   ],
   "source": [
    "#Making the sankey plot for cognitive variables\n",
    "# 1. Create unique labels\n",
    "labels = list(pd.concat([\n",
    "    df_sankey_cog['cv'], \n",
    "    df_sankey_cog['ca'], \n",
    "    df_sankey_cog['cat']\n",
    "]).unique())\n",
    "\n",
    "# 2. Map labels to indices\n",
    "label_map = {label: idx for idx, label in enumerate(labels)}\n",
    "\n",
    "# 3. Define sources, targets, and values\n",
    "sources = df_sankey_cog['cv'].map(label_map).tolist() + \\\n",
    "          df_sankey_cog['ca'].map(label_map).tolist()\n",
    "\n",
    "targets = df_sankey_cog['ca'].map(label_map).tolist() + \\\n",
    "            df_sankey_cog['cat'].map(label_map).tolist()\n",
    "\n",
    "values = df_sankey_cog['c_count'].tolist() + \\\n",
    "            df_sankey_cog['cat_count'].tolist()\n",
    "\n",
    "# 4. Generate pastel colors\n",
    "import random\n",
    "\n",
    "def pastel_color():\n",
    "    r = lambda: random.randint(100, 255)\n",
    "    return f'rgba({r()},{r()},{r()},0.6)'\n",
    "\n",
    "label_to_color = {label: pastel_color() for label in labels}\n",
    "node_color_list = [label_to_color[label] for label in labels]\n",
    "\n",
    "# 5. Set link colors by source node's color (first half) and middle node (second half)\n",
    "link_colors = [label_to_color[df_sankey_cog['cv'].iloc[i]] \n",
    "               for i in range(len(df_sankey_cog))] + \\\n",
    "              [label_to_color[df_sankey_cog['ca'].iloc[i]] \n",
    "               for i in range(len(df_sankey_cog))]\n",
    "\n",
    "# 7. Create the figure\n",
    "fig = go.Figure(data=[go.Sankey(\n",
    "    node=dict(\n",
    "        pad=15,\n",
    "        thickness=20,\n",
    "        line=dict(color=\"black\", width=0.9),\n",
    "        label=labels,\n",
    "        color=node_color_list,\n",
    "        align=\"left\"\n",
    "    ),\n",
    "    link=dict(\n",
    "        source=sources,\n",
    "        target=targets,\n",
    "        value=values,\n",
    "        color=link_colors,\n",
    "        customdata=df_sankey_cog['nameyear'].tolist() * 2,\n",
    "        hovertemplate='%{customdata}<extra></extra>'\n",
    "    )\n",
    ")])\n",
    "\n",
    "fig.update_layout(\n",
    "    title_text=\"Sankey Diagram for cognitive variables, assessments, and assessment types\",\n",
    "    font_size=16.5,\n",
    "    width=1700,\n",
    "    height=1200,\n",
    "    hovermode='x'\n",
    ")\n",
    "fig.show()\n",
    "\n",
    "fig.write_html(\"C:/Users/U727148/Latent_Variable_Supplement/sankey_cog_plot.html\", include_plotlyjs=\"cdn\")"
   ]
  },
  {
   "cell_type": "markdown",
   "id": "328d147a",
   "metadata": {},
   "source": [
    "#### Reporting types plot\n",
    "\n",
    "In this plot, we can see how the reporting types feed into each other for all the variables (answering the question whether studies only using self report for one of the variables are more likely to use self report for other variables as well). In contrast to the other dataframes, the reporting types are not exploded, meaning that studies using multiple reporting types are not fed into multiple measures. The left column is the P/CU trait column, the middle the behavioral and the left column contains the cognitive variable reporting types. For readability, some variable names have been abbreviated (in the behavioral: self report = s, other report = o; in the cognitive: self report = self, other report = other)."
   ]
  },
  {
   "cell_type": "code",
   "execution_count": 34,
   "id": "eecaacac",
   "metadata": {},
   "outputs": [
    {
     "data": {
      "application/vnd.plotly.v1+json": {
       "config": {
        "plotlyServerURL": "https://plot.ly"
       },
       "data": [
        {
         "link": {
          "color": [
           "rgba(219,150,187,0.6)",
           "rgba(211,137,118,0.6)",
           "rgba(211,137,118,0.6)",
           "rgba(219,150,187,0.6)",
           "rgba(211,137,118,0.6)",
           "rgba(219,150,187,0.6)",
           "rgba(219,150,187,0.6)",
           "rgba(211,137,118,0.6)",
           "rgba(211,137,118,0.6)",
           "rgba(211,137,118,0.6)",
           "rgba(219,150,187,0.6)",
           "rgba(219,150,187,0.6)",
           "rgba(219,150,187,0.6)",
           "rgba(101,208,182,0.6)",
           "rgba(101,208,182,0.6)",
           "rgba(219,150,187,0.6)",
           "rgba(211,137,118,0.6)",
           "rgba(219,150,187,0.6)",
           "rgba(103,201,105,0.6)",
           "rgba(211,137,118,0.6)",
           "rgba(211,137,118,0.6)",
           "rgba(211,137,118,0.6)",
           "rgba(211,137,118,0.6)",
           "rgba(219,150,187,0.6)",
           "rgba(211,137,118,0.6)",
           "rgba(219,150,187,0.6)",
           "rgba(219,150,187,0.6)",
           "rgba(219,150,187,0.6)",
           "rgba(103,153,135,0.6)",
           "rgba(211,137,118,0.6)",
           "rgba(219,150,187,0.6)",
           "rgba(211,137,118,0.6)",
           "rgba(211,137,118,0.6)",
           "rgba(219,150,187,0.6)",
           "rgba(219,150,187,0.6)",
           "rgba(219,150,187,0.6)",
           "rgba(219,150,187,0.6)",
           "rgba(211,137,118,0.6)",
           "rgba(103,153,135,0.6)",
           "rgba(219,150,187,0.6)",
           "rgba(211,137,118,0.6)",
           "rgba(211,137,118,0.6)",
           "rgba(103,153,135,0.6)",
           "rgba(219,150,187,0.6)",
           "rgba(101,208,182,0.6)",
           "rgba(211,137,118,0.6)",
           "rgba(103,153,135,0.6)",
           "rgba(211,137,118,0.6)",
           "rgba(211,137,118,0.6)",
           "rgba(219,150,187,0.6)",
           "rgba(211,137,118,0.6)",
           "rgba(211,137,118,0.6)",
           "rgba(211,137,118,0.6)",
           "rgba(211,137,118,0.6)",
           "rgba(211,137,118,0.6)",
           "rgba(219,150,187,0.6)",
           "rgba(101,208,182,0.6)",
           "rgba(125,169,169,0.6)",
           "rgba(211,137,118,0.6)",
           "rgba(219,150,187,0.6)",
           "rgba(103,153,135,0.6)",
           "rgba(219,150,187,0.6)",
           "rgba(219,150,187,0.6)",
           "rgba(219,150,187,0.6)",
           "rgba(219,150,187,0.6)",
           "rgba(103,201,105,0.6)",
           "rgba(103,153,135,0.6)",
           "rgba(211,137,118,0.6)",
           "rgba(219,150,187,0.6)",
           "rgba(211,137,118,0.6)",
           "rgba(219,150,187,0.6)",
           "rgba(211,137,118,0.6)",
           "rgba(219,150,187,0.6)",
           "rgba(103,153,135,0.6)",
           "rgba(211,137,118,0.6)",
           "rgba(211,137,118,0.6)",
           "rgba(103,201,105,0.6)",
           "rgba(219,150,187,0.6)",
           "rgba(103,153,135,0.6)",
           "rgba(129,166,245,0.6)",
           "rgba(129,166,245,0.6)",
           "rgba(178,214,147,0.6)",
           "rgba(219,220,253,0.6)",
           "rgba(129,166,245,0.6)",
           "rgba(219,220,253,0.6)",
           "rgba(129,166,245,0.6)",
           "rgba(199,190,231,0.6)",
           "rgba(219,220,253,0.6)",
           "rgba(129,166,245,0.6)",
           "rgba(136,245,235,0.6)",
           "rgba(199,190,231,0.6)",
           "rgba(199,190,231,0.6)",
           "rgba(199,190,231,0.6)",
           "rgba(199,190,231,0.6)",
           "rgba(199,190,231,0.6)",
           "rgba(129,166,245,0.6)",
           "rgba(199,190,231,0.6)",
           "rgba(214,253,136,0.6)",
           "rgba(136,245,235,0.6)",
           "rgba(129,166,245,0.6)",
           "rgba(129,166,245,0.6)",
           "rgba(245,255,241,0.6)",
           "rgba(199,190,231,0.6)",
           "rgba(129,166,245,0.6)",
           "rgba(129,166,245,0.6)",
           "rgba(195,171,114,0.6)",
           "rgba(245,255,241,0.6)",
           "rgba(129,166,245,0.6)",
           "rgba(129,166,245,0.6)",
           "rgba(199,190,231,0.6)",
           "rgba(129,166,245,0.6)",
           "rgba(129,166,245,0.6)",
           "rgba(199,190,231,0.6)",
           "rgba(199,190,231,0.6)",
           "rgba(190,185,176,0.6)",
           "rgba(219,220,253,0.6)",
           "rgba(129,166,245,0.6)",
           "rgba(178,214,147,0.6)",
           "rgba(199,190,231,0.6)",
           "rgba(129,166,245,0.6)",
           "rgba(129,166,245,0.6)",
           "rgba(214,253,136,0.6)",
           "rgba(213,252,223,0.6)",
           "rgba(226,208,219,0.6)",
           "rgba(129,166,245,0.6)",
           "rgba(129,166,245,0.6)",
           "rgba(129,166,245,0.6)",
           "rgba(154,206,208,0.6)",
           "rgba(199,190,231,0.6)",
           "rgba(154,206,208,0.6)",
           "rgba(129,166,245,0.6)",
           "rgba(129,166,245,0.6)",
           "rgba(129,166,245,0.6)",
           "rgba(214,253,136,0.6)",
           "rgba(199,190,231,0.6)",
           "rgba(245,255,241,0.6)",
           "rgba(129,166,245,0.6)",
           "rgba(129,166,245,0.6)",
           "rgba(245,255,241,0.6)",
           "rgba(215,195,240,0.6)",
           "rgba(129,166,245,0.6)",
           "rgba(199,190,231,0.6)",
           "rgba(199,190,231,0.6)",
           "rgba(199,190,231,0.6)",
           "rgba(215,191,112,0.6)",
           "rgba(129,166,245,0.6)",
           "rgba(154,206,208,0.6)",
           "rgba(219,220,253,0.6)",
           "rgba(129,166,245,0.6)",
           "rgba(129,166,245,0.6)",
           "rgba(129,166,245,0.6)",
           "rgba(219,220,253,0.6)",
           "rgba(154,206,208,0.6)",
           "rgba(129,166,245,0.6)",
           "rgba(129,166,245,0.6)",
           "rgba(122,171,213,0.6)",
           "rgba(129,166,245,0.6)",
           "rgba(215,195,240,0.6)"
          ],
          "customdata": [
           "Winters 2025",
           "Ciesenski 2024",
           "Kemp 2024",
           "Castagna 2024",
           "Cohn 2024",
           "Elster 2024",
           "Neumann 2024",
           "Međedovic 2024",
           "Roy 2023",
           "Joyner 2024",
           "Brislin 2024",
           "Shields 2024",
           "Alvarez-Voces 2024",
           "Tillem 2023",
           "Murray 2022",
           "Dugre 2023",
           "Pechorro 2023",
           "Payot 2022",
           "Hare 2022",
           "Colins  2022",
           "Gong 2022",
           "Sellbom 2022",
           "Drislane 2022",
           "Dugre 2022",
           "Wissenburg 2022",
           "Voulgaridou 2022",
           "Willoughby 2022",
           "Michielsen 2022",
           "Woerhle 2022",
           "Friedman 2021",
           "Lopez-Romero 2021",
           "Harrop 2021",
           "Sellbom 2021",
           "Byrd 2021",
           "Goulter 2021",
           "Gillespie 2021",
           "Hawes 2021",
           "Roy 2021",
           "Altikriti 2020",
           "Breaux 2020",
           "Maneiro 2020",
           "Wang 2020",
           "Lehmann 2019",
           "Piehler 2019",
           "Docherty 2019",
           "Maneiro 2019",
           "Waller 2019",
           "Goulter 2019",
           "Colins  2018",
           "Byrd 2018",
           "Adjorlolo 2018",
           "Carre 2018",
           "Dubas  2018",
           "Driessen 2018",
           "Boduszek 2017",
           "Fanti 2017",
           "Barhight 2017",
           "Hawes  2017",
           "Colins 2017",
           "Fanti 2017",
           "Krstic 2017",
           "Ray 2016",
           "Muratori 2016",
           "Wall 2016",
           "Andrade 2016",
           "Mokros 2015",
           "Dhingra 2015",
           "Neumann 2014",
           "White 2014",
           "Pardini 2013",
           "Fanti 2013",
           "Fanti 2013",
           "Hawes 2013",
           "Kimonis 2011",
           "Nijhof 2011",
           "Neumann 2010",
           "Blonigen 2010",
           "Kimonis 2008",
           "Vitacco 2006",
           "Winters 2025",
           "Ciesenski 2024",
           "Kemp 2024",
           "Castagna 2024",
           "Cohn 2024",
           "Elster 2024",
           "Neumann 2024",
           "Međedovic 2024",
           "Roy 2023",
           "Joyner 2024",
           "Brislin 2024",
           "Shields 2024",
           "Alvarez-Voces 2024",
           "Tillem 2023",
           "Murray 2022",
           "Dugre 2023",
           "Pechorro 2023",
           "Payot 2022",
           "Hare 2022",
           "Colins  2022",
           "Gong 2022",
           "Sellbom 2022",
           "Drislane 2022",
           "Dugre 2022",
           "Wissenburg 2022",
           "Voulgaridou 2022",
           "Willoughby 2022",
           "Michielsen 2022",
           "Woerhle 2022",
           "Friedman 2021",
           "Lopez-Romero 2021",
           "Harrop 2021",
           "Sellbom 2021",
           "Byrd 2021",
           "Goulter 2021",
           "Gillespie 2021",
           "Hawes 2021",
           "Roy 2021",
           "Altikriti 2020",
           "Breaux 2020",
           "Maneiro 2020",
           "Wang 2020",
           "Lehmann 2019",
           "Piehler 2019",
           "Docherty 2019",
           "Maneiro 2019",
           "Waller 2019",
           "Goulter 2019",
           "Colins  2018",
           "Byrd 2018",
           "Adjorlolo 2018",
           "Carre 2018",
           "Dubas  2018",
           "Driessen 2018",
           "Boduszek 2017",
           "Fanti 2017",
           "Barhight 2017",
           "Hawes  2017",
           "Colins 2017",
           "Fanti 2017",
           "Krstic 2017",
           "Ray 2016",
           "Muratori 2016",
           "Wall 2016",
           "Andrade 2016",
           "Mokros 2015",
           "Dhingra 2015",
           "Neumann 2014",
           "White 2014",
           "Pardini 2013",
           "Fanti 2013",
           "Fanti 2013",
           "Hawes 2013",
           "Kimonis 2011",
           "Nijhof 2011",
           "Neumann 2010",
           "Blonigen 2010",
           "Kimonis 2008",
           "Vitacco 2006"
          ],
          "hovertemplate": "%{customdata}<extra></extra>",
          "source": [
           0,
           1,
           1,
           0,
           1,
           0,
           0,
           1,
           1,
           1,
           0,
           0,
           0,
           2,
           2,
           0,
           1,
           0,
           3,
           1,
           1,
           1,
           1,
           0,
           1,
           0,
           0,
           0,
           4,
           1,
           0,
           1,
           1,
           0,
           0,
           0,
           0,
           1,
           4,
           0,
           1,
           1,
           4,
           0,
           2,
           1,
           4,
           1,
           1,
           0,
           1,
           1,
           1,
           1,
           1,
           0,
           2,
           5,
           1,
           0,
           4,
           0,
           0,
           0,
           0,
           3,
           4,
           1,
           0,
           1,
           0,
           1,
           0,
           4,
           1,
           1,
           3,
           0,
           4,
           13,
           13,
           14,
           15,
           13,
           15,
           13,
           16,
           15,
           13,
           17,
           16,
           16,
           16,
           16,
           16,
           13,
           16,
           18,
           17,
           13,
           13,
           19,
           16,
           13,
           13,
           20,
           19,
           13,
           13,
           16,
           13,
           13,
           16,
           16,
           21,
           15,
           13,
           14,
           16,
           13,
           13,
           18,
           22,
           23,
           13,
           13,
           13,
           24,
           16,
           24,
           13,
           13,
           13,
           18,
           16,
           19,
           13,
           13,
           19,
           25,
           13,
           16,
           16,
           16,
           26,
           13,
           24,
           15,
           13,
           13,
           13,
           15,
           24,
           13,
           13,
           27,
           13,
           25
          ],
          "target": [
           13,
           13,
           14,
           15,
           13,
           15,
           13,
           16,
           15,
           13,
           17,
           16,
           16,
           16,
           16,
           16,
           13,
           16,
           18,
           17,
           13,
           13,
           19,
           16,
           13,
           13,
           20,
           19,
           13,
           13,
           16,
           13,
           13,
           16,
           16,
           21,
           15,
           13,
           14,
           16,
           13,
           13,
           18,
           22,
           23,
           13,
           13,
           13,
           24,
           16,
           24,
           13,
           13,
           13,
           18,
           16,
           19,
           13,
           13,
           19,
           25,
           13,
           16,
           16,
           16,
           26,
           13,
           24,
           15,
           13,
           13,
           13,
           15,
           24,
           13,
           13,
           27,
           13,
           25,
           6,
           7,
           7,
           6,
           8,
           6,
           8,
           9,
           7,
           7,
           8,
           7,
           7,
           10,
           6,
           7,
           8,
           9,
           7,
           8,
           8,
           6,
           7,
           7,
           8,
           7,
           6,
           7,
           7,
           6,
           7,
           8,
           7,
           6,
           7,
           8,
           6,
           7,
           8,
           7,
           7,
           8,
           7,
           11,
           7,
           8,
           8,
           7,
           7,
           7,
           8,
           7,
           8,
           7,
           7,
           12,
           7,
           7,
           7,
           9,
           7,
           8,
           7,
           9,
           7,
           7,
           7,
           7,
           6,
           7,
           8,
           8,
           7,
           7,
           7,
           7,
           7,
           7,
           7
          ],
          "value": [
           31,
           32,
           32,
           31,
           32,
           31,
           31,
           32,
           32,
           32,
           31,
           31,
           31,
           4,
           4,
           31,
           32,
           31,
           3,
           32,
           32,
           32,
           32,
           31,
           32,
           31,
           31,
           31,
           8,
           32,
           31,
           32,
           32,
           31,
           31,
           31,
           31,
           32,
           8,
           31,
           32,
           32,
           8,
           31,
           4,
           32,
           8,
           32,
           32,
           31,
           32,
           32,
           32,
           32,
           32,
           31,
           4,
           1,
           32,
           31,
           8,
           31,
           31,
           31,
           31,
           3,
           8,
           32,
           31,
           32,
           31,
           32,
           31,
           8,
           32,
           32,
           3,
           31,
           8,
           10,
           null,
           null,
           10,
           18,
           10,
           18,
           4,
           null,
           null,
           18,
           null,
           null,
           1,
           10,
           null,
           18,
           4,
           null,
           18,
           18,
           10,
           null,
           null,
           18,
           null,
           10,
           null,
           null,
           10,
           null,
           18,
           null,
           10,
           null,
           18,
           10,
           null,
           18,
           null,
           null,
           18,
           null,
           1,
           null,
           18,
           18,
           null,
           null,
           null,
           18,
           null,
           18,
           null,
           null,
           1,
           null,
           null,
           null,
           4,
           null,
           18,
           null,
           4,
           null,
           null,
           null,
           null,
           10,
           null,
           18,
           18,
           null,
           null,
           null,
           null,
           null,
           null,
           null
          ]
         },
         "node": {
          "align": "left",
          "color": [
           "rgba(219,150,187,0.6)",
           "rgba(211,137,118,0.6)",
           "rgba(101,208,182,0.6)",
           "rgba(103,201,105,0.6)",
           "rgba(103,153,135,0.6)",
           "rgba(125,169,169,0.6)",
           "rgba(186,205,156,0.6)",
           "rgba(125,198,254,0.6)",
           "rgba(208,138,225,0.6)",
           "rgba(148,126,186,0.6)",
           "rgba(106,230,225,0.6)",
           "rgba(197,143,184,0.6)",
           "rgba(207,150,180,0.6)",
           "rgba(129,166,245,0.6)",
           "rgba(178,214,147,0.6)",
           "rgba(219,220,253,0.6)",
           "rgba(199,190,231,0.6)",
           "rgba(136,245,235,0.6)",
           "rgba(214,253,136,0.6)",
           "rgba(245,255,241,0.6)",
           "rgba(195,171,114,0.6)",
           "rgba(190,185,176,0.6)",
           "rgba(213,252,223,0.6)",
           "rgba(226,208,219,0.6)",
           "rgba(154,206,208,0.6)",
           "rgba(215,195,240,0.6)",
           "rgba(215,191,112,0.6)",
           "rgba(122,171,213,0.6)"
          ],
          "label": [
           "other report",
           "self report",
           "self report; other report",
           "interview; self report",
           "interview",
           "self report; interview",
           "experimental",
           null,
           "self",
           "other",
           "self; other",
           "experimental; other",
           "experimental; self",
           "s",
           "s; criminal record",
           "clinical assessment",
           "o",
           "o; clinical assessment",
           "observational",
           "s; o",
           "clinical assessment; observational",
           "Interview",
           "o; s; criminal record",
           "interview; criminal record",
           "s; observational",
           "criminal record",
           "s; clinical assessment",
           "s; interview"
          ],
          "line": {
           "color": "black",
           "width": 0.9
          },
          "pad": 15,
          "thickness": 20
         },
         "type": "sankey"
        }
       ],
       "layout": {
        "font": {
         "size": 16.5
        },
        "height": 1200,
        "hovermode": "x",
        "template": {
         "data": {
          "bar": [
           {
            "error_x": {
             "color": "#2a3f5f"
            },
            "error_y": {
             "color": "#2a3f5f"
            },
            "marker": {
             "line": {
              "color": "#E5ECF6",
              "width": 0.5
             },
             "pattern": {
              "fillmode": "overlay",
              "size": 10,
              "solidity": 0.2
             }
            },
            "type": "bar"
           }
          ],
          "barpolar": [
           {
            "marker": {
             "line": {
              "color": "#E5ECF6",
              "width": 0.5
             },
             "pattern": {
              "fillmode": "overlay",
              "size": 10,
              "solidity": 0.2
             }
            },
            "type": "barpolar"
           }
          ],
          "carpet": [
           {
            "aaxis": {
             "endlinecolor": "#2a3f5f",
             "gridcolor": "white",
             "linecolor": "white",
             "minorgridcolor": "white",
             "startlinecolor": "#2a3f5f"
            },
            "baxis": {
             "endlinecolor": "#2a3f5f",
             "gridcolor": "white",
             "linecolor": "white",
             "minorgridcolor": "white",
             "startlinecolor": "#2a3f5f"
            },
            "type": "carpet"
           }
          ],
          "choropleth": [
           {
            "colorbar": {
             "outlinewidth": 0,
             "ticks": ""
            },
            "type": "choropleth"
           }
          ],
          "contour": [
           {
            "colorbar": {
             "outlinewidth": 0,
             "ticks": ""
            },
            "colorscale": [
             [
              0,
              "#0d0887"
             ],
             [
              0.1111111111111111,
              "#46039f"
             ],
             [
              0.2222222222222222,
              "#7201a8"
             ],
             [
              0.3333333333333333,
              "#9c179e"
             ],
             [
              0.4444444444444444,
              "#bd3786"
             ],
             [
              0.5555555555555556,
              "#d8576b"
             ],
             [
              0.6666666666666666,
              "#ed7953"
             ],
             [
              0.7777777777777778,
              "#fb9f3a"
             ],
             [
              0.8888888888888888,
              "#fdca26"
             ],
             [
              1,
              "#f0f921"
             ]
            ],
            "type": "contour"
           }
          ],
          "contourcarpet": [
           {
            "colorbar": {
             "outlinewidth": 0,
             "ticks": ""
            },
            "type": "contourcarpet"
           }
          ],
          "heatmap": [
           {
            "colorbar": {
             "outlinewidth": 0,
             "ticks": ""
            },
            "colorscale": [
             [
              0,
              "#0d0887"
             ],
             [
              0.1111111111111111,
              "#46039f"
             ],
             [
              0.2222222222222222,
              "#7201a8"
             ],
             [
              0.3333333333333333,
              "#9c179e"
             ],
             [
              0.4444444444444444,
              "#bd3786"
             ],
             [
              0.5555555555555556,
              "#d8576b"
             ],
             [
              0.6666666666666666,
              "#ed7953"
             ],
             [
              0.7777777777777778,
              "#fb9f3a"
             ],
             [
              0.8888888888888888,
              "#fdca26"
             ],
             [
              1,
              "#f0f921"
             ]
            ],
            "type": "heatmap"
           }
          ],
          "histogram": [
           {
            "marker": {
             "pattern": {
              "fillmode": "overlay",
              "size": 10,
              "solidity": 0.2
             }
            },
            "type": "histogram"
           }
          ],
          "histogram2d": [
           {
            "colorbar": {
             "outlinewidth": 0,
             "ticks": ""
            },
            "colorscale": [
             [
              0,
              "#0d0887"
             ],
             [
              0.1111111111111111,
              "#46039f"
             ],
             [
              0.2222222222222222,
              "#7201a8"
             ],
             [
              0.3333333333333333,
              "#9c179e"
             ],
             [
              0.4444444444444444,
              "#bd3786"
             ],
             [
              0.5555555555555556,
              "#d8576b"
             ],
             [
              0.6666666666666666,
              "#ed7953"
             ],
             [
              0.7777777777777778,
              "#fb9f3a"
             ],
             [
              0.8888888888888888,
              "#fdca26"
             ],
             [
              1,
              "#f0f921"
             ]
            ],
            "type": "histogram2d"
           }
          ],
          "histogram2dcontour": [
           {
            "colorbar": {
             "outlinewidth": 0,
             "ticks": ""
            },
            "colorscale": [
             [
              0,
              "#0d0887"
             ],
             [
              0.1111111111111111,
              "#46039f"
             ],
             [
              0.2222222222222222,
              "#7201a8"
             ],
             [
              0.3333333333333333,
              "#9c179e"
             ],
             [
              0.4444444444444444,
              "#bd3786"
             ],
             [
              0.5555555555555556,
              "#d8576b"
             ],
             [
              0.6666666666666666,
              "#ed7953"
             ],
             [
              0.7777777777777778,
              "#fb9f3a"
             ],
             [
              0.8888888888888888,
              "#fdca26"
             ],
             [
              1,
              "#f0f921"
             ]
            ],
            "type": "histogram2dcontour"
           }
          ],
          "mesh3d": [
           {
            "colorbar": {
             "outlinewidth": 0,
             "ticks": ""
            },
            "type": "mesh3d"
           }
          ],
          "parcoords": [
           {
            "line": {
             "colorbar": {
              "outlinewidth": 0,
              "ticks": ""
             }
            },
            "type": "parcoords"
           }
          ],
          "pie": [
           {
            "automargin": true,
            "type": "pie"
           }
          ],
          "scatter": [
           {
            "fillpattern": {
             "fillmode": "overlay",
             "size": 10,
             "solidity": 0.2
            },
            "type": "scatter"
           }
          ],
          "scatter3d": [
           {
            "line": {
             "colorbar": {
              "outlinewidth": 0,
              "ticks": ""
             }
            },
            "marker": {
             "colorbar": {
              "outlinewidth": 0,
              "ticks": ""
             }
            },
            "type": "scatter3d"
           }
          ],
          "scattercarpet": [
           {
            "marker": {
             "colorbar": {
              "outlinewidth": 0,
              "ticks": ""
             }
            },
            "type": "scattercarpet"
           }
          ],
          "scattergeo": [
           {
            "marker": {
             "colorbar": {
              "outlinewidth": 0,
              "ticks": ""
             }
            },
            "type": "scattergeo"
           }
          ],
          "scattergl": [
           {
            "marker": {
             "colorbar": {
              "outlinewidth": 0,
              "ticks": ""
             }
            },
            "type": "scattergl"
           }
          ],
          "scattermap": [
           {
            "marker": {
             "colorbar": {
              "outlinewidth": 0,
              "ticks": ""
             }
            },
            "type": "scattermap"
           }
          ],
          "scattermapbox": [
           {
            "marker": {
             "colorbar": {
              "outlinewidth": 0,
              "ticks": ""
             }
            },
            "type": "scattermapbox"
           }
          ],
          "scatterpolar": [
           {
            "marker": {
             "colorbar": {
              "outlinewidth": 0,
              "ticks": ""
             }
            },
            "type": "scatterpolar"
           }
          ],
          "scatterpolargl": [
           {
            "marker": {
             "colorbar": {
              "outlinewidth": 0,
              "ticks": ""
             }
            },
            "type": "scatterpolargl"
           }
          ],
          "scatterternary": [
           {
            "marker": {
             "colorbar": {
              "outlinewidth": 0,
              "ticks": ""
             }
            },
            "type": "scatterternary"
           }
          ],
          "surface": [
           {
            "colorbar": {
             "outlinewidth": 0,
             "ticks": ""
            },
            "colorscale": [
             [
              0,
              "#0d0887"
             ],
             [
              0.1111111111111111,
              "#46039f"
             ],
             [
              0.2222222222222222,
              "#7201a8"
             ],
             [
              0.3333333333333333,
              "#9c179e"
             ],
             [
              0.4444444444444444,
              "#bd3786"
             ],
             [
              0.5555555555555556,
              "#d8576b"
             ],
             [
              0.6666666666666666,
              "#ed7953"
             ],
             [
              0.7777777777777778,
              "#fb9f3a"
             ],
             [
              0.8888888888888888,
              "#fdca26"
             ],
             [
              1,
              "#f0f921"
             ]
            ],
            "type": "surface"
           }
          ],
          "table": [
           {
            "cells": {
             "fill": {
              "color": "#EBF0F8"
             },
             "line": {
              "color": "white"
             }
            },
            "header": {
             "fill": {
              "color": "#C8D4E3"
             },
             "line": {
              "color": "white"
             }
            },
            "type": "table"
           }
          ]
         },
         "layout": {
          "annotationdefaults": {
           "arrowcolor": "#2a3f5f",
           "arrowhead": 0,
           "arrowwidth": 1
          },
          "autotypenumbers": "strict",
          "coloraxis": {
           "colorbar": {
            "outlinewidth": 0,
            "ticks": ""
           }
          },
          "colorscale": {
           "diverging": [
            [
             0,
             "#8e0152"
            ],
            [
             0.1,
             "#c51b7d"
            ],
            [
             0.2,
             "#de77ae"
            ],
            [
             0.3,
             "#f1b6da"
            ],
            [
             0.4,
             "#fde0ef"
            ],
            [
             0.5,
             "#f7f7f7"
            ],
            [
             0.6,
             "#e6f5d0"
            ],
            [
             0.7,
             "#b8e186"
            ],
            [
             0.8,
             "#7fbc41"
            ],
            [
             0.9,
             "#4d9221"
            ],
            [
             1,
             "#276419"
            ]
           ],
           "sequential": [
            [
             0,
             "#0d0887"
            ],
            [
             0.1111111111111111,
             "#46039f"
            ],
            [
             0.2222222222222222,
             "#7201a8"
            ],
            [
             0.3333333333333333,
             "#9c179e"
            ],
            [
             0.4444444444444444,
             "#bd3786"
            ],
            [
             0.5555555555555556,
             "#d8576b"
            ],
            [
             0.6666666666666666,
             "#ed7953"
            ],
            [
             0.7777777777777778,
             "#fb9f3a"
            ],
            [
             0.8888888888888888,
             "#fdca26"
            ],
            [
             1,
             "#f0f921"
            ]
           ],
           "sequentialminus": [
            [
             0,
             "#0d0887"
            ],
            [
             0.1111111111111111,
             "#46039f"
            ],
            [
             0.2222222222222222,
             "#7201a8"
            ],
            [
             0.3333333333333333,
             "#9c179e"
            ],
            [
             0.4444444444444444,
             "#bd3786"
            ],
            [
             0.5555555555555556,
             "#d8576b"
            ],
            [
             0.6666666666666666,
             "#ed7953"
            ],
            [
             0.7777777777777778,
             "#fb9f3a"
            ],
            [
             0.8888888888888888,
             "#fdca26"
            ],
            [
             1,
             "#f0f921"
            ]
           ]
          },
          "colorway": [
           "#636efa",
           "#EF553B",
           "#00cc96",
           "#ab63fa",
           "#FFA15A",
           "#19d3f3",
           "#FF6692",
           "#B6E880",
           "#FF97FF",
           "#FECB52"
          ],
          "font": {
           "color": "#2a3f5f"
          },
          "geo": {
           "bgcolor": "white",
           "lakecolor": "white",
           "landcolor": "#E5ECF6",
           "showlakes": true,
           "showland": true,
           "subunitcolor": "white"
          },
          "hoverlabel": {
           "align": "left"
          },
          "hovermode": "closest",
          "mapbox": {
           "style": "light"
          },
          "paper_bgcolor": "white",
          "plot_bgcolor": "#E5ECF6",
          "polar": {
           "angularaxis": {
            "gridcolor": "white",
            "linecolor": "white",
            "ticks": ""
           },
           "bgcolor": "#E5ECF6",
           "radialaxis": {
            "gridcolor": "white",
            "linecolor": "white",
            "ticks": ""
           }
          },
          "scene": {
           "xaxis": {
            "backgroundcolor": "#E5ECF6",
            "gridcolor": "white",
            "gridwidth": 2,
            "linecolor": "white",
            "showbackground": true,
            "ticks": "",
            "zerolinecolor": "white"
           },
           "yaxis": {
            "backgroundcolor": "#E5ECF6",
            "gridcolor": "white",
            "gridwidth": 2,
            "linecolor": "white",
            "showbackground": true,
            "ticks": "",
            "zerolinecolor": "white"
           },
           "zaxis": {
            "backgroundcolor": "#E5ECF6",
            "gridcolor": "white",
            "gridwidth": 2,
            "linecolor": "white",
            "showbackground": true,
            "ticks": "",
            "zerolinecolor": "white"
           }
          },
          "shapedefaults": {
           "line": {
            "color": "#2a3f5f"
           }
          },
          "ternary": {
           "aaxis": {
            "gridcolor": "white",
            "linecolor": "white",
            "ticks": ""
           },
           "baxis": {
            "gridcolor": "white",
            "linecolor": "white",
            "ticks": ""
           },
           "bgcolor": "#E5ECF6",
           "caxis": {
            "gridcolor": "white",
            "linecolor": "white",
            "ticks": ""
           }
          },
          "title": {
           "x": 0.05
          },
          "xaxis": {
           "automargin": true,
           "gridcolor": "white",
           "linecolor": "white",
           "ticks": "",
           "title": {
            "standoff": 15
           },
           "zerolinecolor": "white",
           "zerolinewidth": 2
          },
          "yaxis": {
           "automargin": true,
           "gridcolor": "white",
           "linecolor": "white",
           "ticks": "",
           "title": {
            "standoff": 15
           },
           "zerolinecolor": "white",
           "zerolinewidth": 2
          }
         }
        },
        "title": {
         "text": "Reporting types for P/CU traits, cognitive assessments, and behavioral assessments"
        },
        "width": 1700
       }
      }
     },
     "metadata": {},
     "output_type": "display_data"
    }
   ],
   "source": [
    "# 1. Create unique labels\n",
    "labels = list(pd.concat([\n",
    "    df_reports['assessment_type'], \n",
    "    df_reports['cognitive_assessment_type'], \n",
    "    df_reports['behavioral_assessment_type'],\n",
    "]).unique())\n",
    "\n",
    "# 2. Map labels to indices\n",
    "label_map = {label: idx for idx, label in enumerate(labels)}\n",
    "\n",
    "# 3. Define sources, targets, and values\n",
    "sources = df_reports['assessment_type'].map(label_map).tolist() + \\\n",
    "          df_reports['behavioral_assessment_type'].map(label_map).tolist()\n",
    "\n",
    "targets = df_reports['behavioral_assessment_type'].map(label_map).tolist() + \\\n",
    "            df_reports['cognitive_assessment_type'].map(label_map).tolist()\n",
    "\n",
    "values = df_reports['assessment_type_count'].tolist() + \\\n",
    "            df_reports['cognitive_assessment_type_count'].tolist()\n",
    "\n",
    "# 4. Generate pastel colors\n",
    "import random\n",
    "\n",
    "def pastel_color():\n",
    "    r = lambda: random.randint(100, 255)\n",
    "    return f'rgba({r()},{r()},{r()},0.6)'\n",
    "\n",
    "label_to_color = {label: pastel_color() for label in labels}\n",
    "node_color_list = [label_to_color[label] for label in labels]\n",
    "\n",
    "# 5. Set link colors by source node's color (first half) and middle node (second half)\n",
    "link_colors = [label_to_color[df_reports['assessment_type'].iloc[i]] \n",
    "               for i in range(len(df_reports))] + \\\n",
    "              [label_to_color[df_reports['behavioral_assessment_type'].iloc[i]] \n",
    "               for i in range(len(df_reports))]\n",
    "\n",
    "# 7. Create the figure\n",
    "fig = go.Figure(data=[go.Sankey(\n",
    "    node=dict(\n",
    "        pad=15,\n",
    "        thickness=20,\n",
    "        line=dict(color=\"black\", width=0.9),\n",
    "        label=labels,\n",
    "        color=node_color_list,\n",
    "        align=\"left\"\n",
    "    ),\n",
    "    link=dict(\n",
    "        source=sources,\n",
    "        target=targets,\n",
    "        value=values,\n",
    "        color=link_colors,\n",
    "        customdata=df_reports['nameyear'].tolist() * 2,\n",
    "        hovertemplate='%{customdata}<extra></extra>'\n",
    "    )\n",
    ")])\n",
    "\n",
    "fig.update_layout(\n",
    "    title_text=\"Reporting types for P/CU traits, cognitive assessments, and behavioral assessments\",\n",
    "    font_size=16.5,\n",
    "    width=1700,\n",
    "    height=1200,\n",
    "    hovermode='x'\n",
    ")\n",
    "fig.show()\n",
    "\n",
    "fig.write_html(\"C:/Users/U727148/Latent_Variable_Supplement/sankey_reports_plot.html\", include_plotlyjs=\"cdn\")"
   ]
  },
  {
   "cell_type": "code",
   "execution_count": 42,
   "id": "ccdee3e4",
   "metadata": {},
   "outputs": [
    {
     "data": {
      "text/html": [
       "<div>\n",
       "<style scoped>\n",
       "    .dataframe tbody tr th:only-of-type {\n",
       "        vertical-align: middle;\n",
       "    }\n",
       "\n",
       "    .dataframe tbody tr th {\n",
       "        vertical-align: top;\n",
       "    }\n",
       "\n",
       "    .dataframe thead th {\n",
       "        text-align: right;\n",
       "    }\n",
       "</style>\n",
       "<table border=\"1\" class=\"dataframe\">\n",
       "  <thead>\n",
       "    <tr style=\"text-align: right;\">\n",
       "      <th></th>\n",
       "      <th>assessment_type_count</th>\n",
       "      <th>cognitive_assessment_type_count</th>\n",
       "      <th>behavioral_assessment_type_count</th>\n",
       "    </tr>\n",
       "  </thead>\n",
       "  <tbody>\n",
       "    <tr>\n",
       "      <th>assessment_type_count</th>\n",
       "      <td>1.000000</td>\n",
       "      <td>0.107188</td>\n",
       "      <td>0.276320</td>\n",
       "    </tr>\n",
       "    <tr>\n",
       "      <th>cognitive_assessment_type_count</th>\n",
       "      <td>0.107188</td>\n",
       "      <td>1.000000</td>\n",
       "      <td>0.372502</td>\n",
       "    </tr>\n",
       "    <tr>\n",
       "      <th>behavioral_assessment_type_count</th>\n",
       "      <td>0.276320</td>\n",
       "      <td>0.372502</td>\n",
       "      <td>1.000000</td>\n",
       "    </tr>\n",
       "  </tbody>\n",
       "</table>\n",
       "</div>"
      ],
      "text/plain": [
       "                                  assessment_type_count  \\\n",
       "assessment_type_count                          1.000000   \n",
       "cognitive_assessment_type_count                0.107188   \n",
       "behavioral_assessment_type_count               0.276320   \n",
       "\n",
       "                                  cognitive_assessment_type_count  \\\n",
       "assessment_type_count                                    0.107188   \n",
       "cognitive_assessment_type_count                          1.000000   \n",
       "behavioral_assessment_type_count                         0.372502   \n",
       "\n",
       "                                  behavioral_assessment_type_count  \n",
       "assessment_type_count                                     0.276320  \n",
       "cognitive_assessment_type_count                           0.372502  \n",
       "behavioral_assessment_type_count                          1.000000  "
      ]
     },
     "execution_count": 42,
     "metadata": {},
     "output_type": "execute_result"
    }
   ],
   "source": [
    "df_reports_corr = df_reports[['assessment_type_count', 'cognitive_assessment_type_count', 'behavioral_assessment_type_count']].copy()\n",
    "corr = df_reports_corr.corr()\n",
    "corr"
   ]
  },
  {
   "cell_type": "markdown",
   "id": "690f7275",
   "metadata": {},
   "source": [
    "So we also see that how many assessments types were used correlate fairly substantially for the behavioral variable with both the P/CU variable (weakly) and the cognitive variable (medium)"
   ]
  },
  {
   "cell_type": "markdown",
   "id": "63b9c2a8",
   "metadata": {},
   "source": [
    "#### Outcomes of Latent Class Analysis Overview\n",
    "\n",
    "Here is a simple table with an overview of Latent Class Analysis/Latent Profile Analysis Solutions. Described are the Study Identifiers such as name of the first author, year, name of the study. what follows is which variables made up predictor(s) and how they were measured, outcomes, name and distribution of classes and some additional explanations. "
   ]
  },
  {
   "cell_type": "code",
   "execution_count": 33,
   "id": "23034b9d",
   "metadata": {},
   "outputs": [
    {
     "data": {
      "text/html": [
       "<div>\n",
       "<style scoped>\n",
       "    .dataframe tbody tr th:only-of-type {\n",
       "        vertical-align: middle;\n",
       "    }\n",
       "\n",
       "    .dataframe tbody tr th {\n",
       "        vertical-align: top;\n",
       "    }\n",
       "\n",
       "    .dataframe thead th {\n",
       "        text-align: right;\n",
       "    }\n",
       "</style>\n",
       "<table border=\"1\" class=\"dataframe\">\n",
       "  <thead>\n",
       "    <tr style=\"text-align: right;\">\n",
       "      <th></th>\n",
       "      <th>nameyear</th>\n",
       "      <th>region</th>\n",
       "      <th>age_mean</th>\n",
       "      <th>sample size</th>\n",
       "      <th>gender distr. (% f)</th>\n",
       "      <th>number_of_predictors</th>\n",
       "      <th>institutional_sample</th>\n",
       "      <th>psychopathic or CU trait</th>\n",
       "      <th>predictor (Scale)</th>\n",
       "      <th>Unnamed: 9</th>\n",
       "      <th>predictor (additional variables)</th>\n",
       "      <th>outcome variables</th>\n",
       "      <th>model</th>\n",
       "      <th>solution (no. of groups and distribution)</th>\n",
       "      <th>group names</th>\n",
       "      <th>comments</th>\n",
       "    </tr>\n",
       "  </thead>\n",
       "  <tbody>\n",
       "    <tr>\n",
       "      <th>0</th>\n",
       "      <td>Ciesenski 2024</td>\n",
       "      <td>north america</td>\n",
       "      <td>35.24</td>\n",
       "      <td>504</td>\n",
       "      <td>55.20</td>\n",
       "      <td>7</td>\n",
       "      <td>0</td>\n",
       "      <td>psychopathic traits</td>\n",
       "      <td>Psychopathy Checklist: Revised (PCL-R)</td>\n",
       "      <td>self report</td>\n",
       "      <td>anger; hostility; emotion liability; emotion i...</td>\n",
       "      <td>psychiatric comorbidity, aggression, self-harm...</td>\n",
       "      <td>latent class analysis</td>\n",
       "      <td>4</td>\n",
       "      <td>36.11% low emotion dysregulation and impulsivi...</td>\n",
       "      <td>mixture salsa/qualitative. CU-traits formed it...</td>\n",
       "    </tr>\n",
       "    <tr>\n",
       "      <th>1</th>\n",
       "      <td>Neumann 2024</td>\n",
       "      <td>north america</td>\n",
       "      <td>16.7</td>\n",
       "      <td>409</td>\n",
       "      <td>19.40</td>\n",
       "      <td>1</td>\n",
       "      <td>1</td>\n",
       "      <td>CU traits</td>\n",
       "      <td>Proposed Specifiers for Conduct Disorder Scale...</td>\n",
       "      <td>other report</td>\n",
       "      <td>NaN</td>\n",
       "      <td>Externalizing Behavior, Criminality, Behaviora...</td>\n",
       "      <td>latent profile analysis</td>\n",
       "      <td>4</td>\n",
       "      <td>34% general group; 31% externalizing group; 24...</td>\n",
       "      <td>Facets of the PSCD are: grandiose-manipulative...</td>\n",
       "    </tr>\n",
       "    <tr>\n",
       "      <th>2</th>\n",
       "      <td>Roy 2023</td>\n",
       "      <td>north america</td>\n",
       "      <td>29.9</td>\n",
       "      <td>2570</td>\n",
       "      <td>0.00</td>\n",
       "      <td>1</td>\n",
       "      <td>1</td>\n",
       "      <td>psychopathic traits</td>\n",
       "      <td>Psychopathy Checklist: Revised (PCL-R)</td>\n",
       "      <td>self report</td>\n",
       "      <td>NaN</td>\n",
       "      <td>Behavioral Inhibition/Activation, Criminal His...</td>\n",
       "      <td>latent profile analysis</td>\n",
       "      <td>4</td>\n",
       "      <td>40% externalizing, 36% psychopathic, 18% gener...</td>\n",
       "      <td>In a forensic sample, these four different gro...</td>\n",
       "    </tr>\n",
       "    <tr>\n",
       "      <th>3</th>\n",
       "      <td>Brislin 2024</td>\n",
       "      <td>north america</td>\n",
       "      <td>9.92</td>\n",
       "      <td>11552</td>\n",
       "      <td>45.30</td>\n",
       "      <td>2</td>\n",
       "      <td>0</td>\n",
       "      <td>CU traits</td>\n",
       "      <td>ABCD cu trait scale (SDQ/CBCL)</td>\n",
       "      <td>other report</td>\n",
       "      <td>impulsivity (BIS/BAS, UPPS)</td>\n",
       "      <td>Externalizing Behavior</td>\n",
       "      <td>latent profile analysis</td>\n",
       "      <td>3</td>\n",
       "      <td>35.89% low impulsivity but high CU traits, 52....</td>\n",
       "      <td>groups differ significantly on externalizing b...</td>\n",
       "    </tr>\n",
       "    <tr>\n",
       "      <th>4</th>\n",
       "      <td>Shields 2024</td>\n",
       "      <td>north america</td>\n",
       "      <td>9.81</td>\n",
       "      <td>342</td>\n",
       "      <td>53.22</td>\n",
       "      <td>1</td>\n",
       "      <td>0</td>\n",
       "      <td>CU traits</td>\n",
       "      <td>Inventory of Callous-Unemotional Traits (ICU),...</td>\n",
       "      <td>other report</td>\n",
       "      <td>NaN</td>\n",
       "      <td>aggression, CU-traits</td>\n",
       "      <td>latent profile analysis</td>\n",
       "      <td>0</td>\n",
       "      <td>no solution</td>\n",
       "      <td>results suggest that reactive aggression is un...</td>\n",
       "    </tr>\n",
       "    <tr>\n",
       "      <th>5</th>\n",
       "      <td>Hare 2022</td>\n",
       "      <td>south america</td>\n",
       "      <td>51.227</td>\n",
       "      <td>411</td>\n",
       "      <td>0.00</td>\n",
       "      <td>1</td>\n",
       "      <td>1</td>\n",
       "      <td>psychopathic traits</td>\n",
       "      <td>Psychopathy Checklist: Revised (PCL-R)</td>\n",
       "      <td>interview</td>\n",
       "      <td>NaN</td>\n",
       "      <td>Criminal Record</td>\n",
       "      <td>latent profile analysis</td>\n",
       "      <td>4</td>\n",
       "      <td>21% Prototypic Psychopathy; 26.2% Callous-Conn...</td>\n",
       "      <td>Study compared community, \"normal\" offenders, ...</td>\n",
       "    </tr>\n",
       "    <tr>\n",
       "      <th>6</th>\n",
       "      <td>Colins  2022</td>\n",
       "      <td>europe</td>\n",
       "      <td>16.2</td>\n",
       "      <td>302</td>\n",
       "      <td>100.00</td>\n",
       "      <td>1</td>\n",
       "      <td>1</td>\n",
       "      <td>psychopathic traits</td>\n",
       "      <td>Antisocial Process Screening Device (APSD)</td>\n",
       "      <td>self report</td>\n",
       "      <td>NaN</td>\n",
       "      <td>Criminal Record</td>\n",
       "      <td>latent profile analysis</td>\n",
       "      <td>2</td>\n",
       "      <td>74.2% low scoring, 25.8% high scoring</td>\n",
       "      <td>Study examined likelihood of future criminalit...</td>\n",
       "    </tr>\n",
       "    <tr>\n",
       "      <th>7</th>\n",
       "      <td>Gong 2022</td>\n",
       "      <td>asia</td>\n",
       "      <td>45.43</td>\n",
       "      <td>279</td>\n",
       "      <td>100.00</td>\n",
       "      <td>1</td>\n",
       "      <td>1</td>\n",
       "      <td>psychopathic traits</td>\n",
       "      <td>Levenson Self Report Psychopathy Rating scale ...</td>\n",
       "      <td>self report</td>\n",
       "      <td>NaN</td>\n",
       "      <td>Aggression</td>\n",
       "      <td>latent profile analysis</td>\n",
       "      <td>3</td>\n",
       "      <td>66.7% medium psychopathy, 27.6% low psychopath...</td>\n",
       "      <td>None of the groups were high on calloussness i...</td>\n",
       "    </tr>\n",
       "    <tr>\n",
       "      <th>8</th>\n",
       "      <td>Voulgaridou 2022</td>\n",
       "      <td>europe</td>\n",
       "      <td>14.04</td>\n",
       "      <td>2207</td>\n",
       "      <td>52.80</td>\n",
       "      <td>1</td>\n",
       "      <td>0</td>\n",
       "      <td>(CU traits)</td>\n",
       "      <td>Relational Aggression Scale</td>\n",
       "      <td>self report</td>\n",
       "      <td>NaN</td>\n",
       "      <td>CU-traits; hostile attribution bias</td>\n",
       "      <td>latent transition analysis</td>\n",
       "      <td>3</td>\n",
       "      <td>67.5% low; 24.7% medium; 7.8% high</td>\n",
       "      <td>Salsa. The three profiles differed (in expecte...</td>\n",
       "    </tr>\n",
       "    <tr>\n",
       "      <th>9</th>\n",
       "      <td>Willoughby 2022</td>\n",
       "      <td>north america</td>\n",
       "      <td>7.2</td>\n",
       "      <td>138</td>\n",
       "      <td>32.00</td>\n",
       "      <td>1</td>\n",
       "      <td>0</td>\n",
       "      <td>(CU traits)</td>\n",
       "      <td>ADHD and ODD behavior</td>\n",
       "      <td>other report</td>\n",
       "      <td>NaN</td>\n",
       "      <td>academic productivity, impairment, and social ...</td>\n",
       "      <td>latent profile analysis</td>\n",
       "      <td>3</td>\n",
       "      <td>17% high ADHD; 49% low ADHD and ODD; 34% high ...</td>\n",
       "      <td>significant differences between groups on acad...</td>\n",
       "    </tr>\n",
       "    <tr>\n",
       "      <th>10</th>\n",
       "      <td>Michielsen 2022</td>\n",
       "      <td>europe</td>\n",
       "      <td>14.77</td>\n",
       "      <td>679</td>\n",
       "      <td>51.98</td>\n",
       "      <td>2</td>\n",
       "      <td>0</td>\n",
       "      <td>CU traits</td>\n",
       "      <td>Youth Psychopathic Traits Inventory (YPI)</td>\n",
       "      <td>self report</td>\n",
       "      <td>Anxiety</td>\n",
       "      <td>Delinquency</td>\n",
       "      <td>latent profile analysis</td>\n",
       "      <td>3</td>\n",
       "      <td>74% reference (average) group); 14% high CU; 1...</td>\n",
       "      <td>In this community sample, the combined anxious...</td>\n",
       "    </tr>\n",
       "    <tr>\n",
       "      <th>11</th>\n",
       "      <td>Lopez-Romero 2021</td>\n",
       "      <td>europe</td>\n",
       "      <td>4.25</td>\n",
       "      <td>2247</td>\n",
       "      <td>48.60</td>\n",
       "      <td>1</td>\n",
       "      <td>0</td>\n",
       "      <td>CU/psychopathic traits</td>\n",
       "      <td>Child Problematic Traits Inventory (CPTI)</td>\n",
       "      <td>other report</td>\n",
       "      <td>NaN</td>\n",
       "      <td>Conduct Problems, Re- and Proactive Aggression...</td>\n",
       "      <td>latent profile analysis</td>\n",
       "      <td>5</td>\n",
       "      <td>39.2% control class; 34.8% high need for stim...</td>\n",
       "      <td>Differences in profiles on both Parent and tea...</td>\n",
       "    </tr>\n",
       "    <tr>\n",
       "      <th>12</th>\n",
       "      <td>Harrop 2021</td>\n",
       "      <td>north america</td>\n",
       "      <td>27.08</td>\n",
       "      <td>840</td>\n",
       "      <td>18.80</td>\n",
       "      <td>1</td>\n",
       "      <td>0</td>\n",
       "      <td>psychopathic traits</td>\n",
       "      <td>Levenson Self Report Psychopathy Rating scale ...</td>\n",
       "      <td>self report</td>\n",
       "      <td>NaN</td>\n",
       "      <td>Aggression, Sensation Seeking, Anger, Stoicism...</td>\n",
       "      <td>latent profile analysis</td>\n",
       "      <td>4</td>\n",
       "      <td>43.9% Average; 43.3% Low. 4.6% Callous (low on...</td>\n",
       "      <td>The high profile scored consistently higher on...</td>\n",
       "    </tr>\n",
       "    <tr>\n",
       "      <th>13</th>\n",
       "      <td>Gillespie 2021</td>\n",
       "      <td>north america</td>\n",
       "      <td>30</td>\n",
       "      <td>840</td>\n",
       "      <td>42.50</td>\n",
       "      <td>1</td>\n",
       "      <td>1</td>\n",
       "      <td>psychopathic traits</td>\n",
       "      <td>PCL:SV</td>\n",
       "      <td>other report</td>\n",
       "      <td>NaN</td>\n",
       "      <td>Anger (cognitive/behavioral/arousal); Depressi...</td>\n",
       "      <td>latent profile analysis</td>\n",
       "      <td>3</td>\n",
       "      <td>female: 49% low; 14% high (callous aggressive)...</td>\n",
       "      <td>Different solutions for men and women, in wome...</td>\n",
       "    </tr>\n",
       "    <tr>\n",
       "      <th>14</th>\n",
       "      <td>Gillespie 2021</td>\n",
       "      <td>north america</td>\n",
       "      <td>30</td>\n",
       "      <td>840</td>\n",
       "      <td>42.50</td>\n",
       "      <td>1</td>\n",
       "      <td>1</td>\n",
       "      <td>psychopathic traits</td>\n",
       "      <td>PCL:SV</td>\n",
       "      <td>other report</td>\n",
       "      <td>NaN</td>\n",
       "      <td>Anger (cognitive/behavioral/arousal); Depressi...</td>\n",
       "      <td>latent profile analysis</td>\n",
       "      <td>4</td>\n",
       "      <td>male: 34% low; 12% high (callous aggressive); ...</td>\n",
       "      <td>Different solutions for men and women, in wome...</td>\n",
       "    </tr>\n",
       "    <tr>\n",
       "      <th>15</th>\n",
       "      <td>Breaux 2020</td>\n",
       "      <td>north america</td>\n",
       "      <td>8.92</td>\n",
       "      <td>222</td>\n",
       "      <td>19.80</td>\n",
       "      <td>2</td>\n",
       "      <td>0</td>\n",
       "      <td>psychopathic traits</td>\n",
       "      <td>Child Psychopathy Scale (CPS)</td>\n",
       "      <td>other report</td>\n",
       "      <td>disruptive behavior disorder rating scale</td>\n",
       "      <td>Calloussness; Impairment; ADHD, ODD, CD symptoms</td>\n",
       "      <td>latent profile analysis</td>\n",
       "      <td>3</td>\n",
       "      <td>Parent-ratings: 26% low, 58% moderate, 16% high</td>\n",
       "      <td>The low profiles were lower on calloussness an...</td>\n",
       "    </tr>\n",
       "    <tr>\n",
       "      <th>16</th>\n",
       "      <td>Breaux 2020</td>\n",
       "      <td>north america</td>\n",
       "      <td>8.92</td>\n",
       "      <td>222</td>\n",
       "      <td>19.80</td>\n",
       "      <td>2</td>\n",
       "      <td>0</td>\n",
       "      <td>psychopathic traits</td>\n",
       "      <td>Child Psychopathy Scale (CPS)</td>\n",
       "      <td>other report</td>\n",
       "      <td>disruptive behavior disorder rating scale</td>\n",
       "      <td>Calloussness; Impairment; ADHD, ODD, CD symptoms</td>\n",
       "      <td>latent profile analysis</td>\n",
       "      <td>4</td>\n",
       "      <td>Teacher-ratings: 36% low, 28% moderate, 26% no...</td>\n",
       "      <td>The low profiles were lower on calloussness an...</td>\n",
       "    </tr>\n",
       "    <tr>\n",
       "      <th>17</th>\n",
       "      <td>Maneiro 2020</td>\n",
       "      <td>europe</td>\n",
       "      <td>20.55</td>\n",
       "      <td>316</td>\n",
       "      <td>51.30</td>\n",
       "      <td>1</td>\n",
       "      <td>0</td>\n",
       "      <td>psychopathic traits</td>\n",
       "      <td>Dark Triad Dirty Dozen</td>\n",
       "      <td>self report</td>\n",
       "      <td>NaN</td>\n",
       "      <td>Aggression, Substance Use, Risk, Internet Use</td>\n",
       "      <td>latent profile analysis</td>\n",
       "      <td>5</td>\n",
       "      <td>32.4% Narcissistic; 17.7% Macchiavellian/Narci...</td>\n",
       "      <td>Groups did not differ significantly in substan...</td>\n",
       "    </tr>\n",
       "    <tr>\n",
       "      <th>18</th>\n",
       "      <td>Wang 2020</td>\n",
       "      <td>asia</td>\n",
       "      <td>36.03</td>\n",
       "      <td>3375</td>\n",
       "      <td>0.00</td>\n",
       "      <td>1</td>\n",
       "      <td>1</td>\n",
       "      <td>psychopathic traits</td>\n",
       "      <td>Levenson Self Report Psychopathy Rating scale ...</td>\n",
       "      <td>self report</td>\n",
       "      <td>NaN</td>\n",
       "      <td>Aggression</td>\n",
       "      <td>latent profile analysis</td>\n",
       "      <td>4</td>\n",
       "      <td>59.9% low psychopathy;  19.5% moderate psychop...</td>\n",
       "      <td>Classes differ on re- and proactive aggression...</td>\n",
       "    </tr>\n",
       "    <tr>\n",
       "      <th>19</th>\n",
       "      <td>Lehmann 2019</td>\n",
       "      <td>europe</td>\n",
       "      <td>36.2</td>\n",
       "      <td>215</td>\n",
       "      <td>0.00</td>\n",
       "      <td>1</td>\n",
       "      <td>1</td>\n",
       "      <td>psychopathic traits</td>\n",
       "      <td>Psychopathy Checklist: Revised (PCL-R)</td>\n",
       "      <td>interview</td>\n",
       "      <td>NaN</td>\n",
       "      <td>Criminal Record</td>\n",
       "      <td>latent profile analysis</td>\n",
       "      <td>4</td>\n",
       "      <td>48.8% general offenders; 26.5% \"Sociopaths\" (a...</td>\n",
       "      <td>Groups differed on recidivism rates and types....</td>\n",
       "    </tr>\n",
       "    <tr>\n",
       "      <th>20</th>\n",
       "      <td>Piehler 2019</td>\n",
       "      <td>north america</td>\n",
       "      <td>14.8</td>\n",
       "      <td>197</td>\n",
       "      <td>42.60</td>\n",
       "      <td>1</td>\n",
       "      <td>1</td>\n",
       "      <td>(CU traits)</td>\n",
       "      <td>Self Control, Executive Function (DCCS, Flanke...</td>\n",
       "      <td>experimental; other report</td>\n",
       "      <td>NaN</td>\n",
       "      <td>CU-traits; criminal record &amp; conduct problems</td>\n",
       "      <td>latent profile analysis</td>\n",
       "      <td>3</td>\n",
       "      <td>10.4% cognitively inflexible; 36.1% adaptive; ...</td>\n",
       "      <td>groups differed significantly on measures of C...</td>\n",
       "    </tr>\n",
       "    <tr>\n",
       "      <th>21</th>\n",
       "      <td>Waller 2019</td>\n",
       "      <td>north america</td>\n",
       "      <td>not reported</td>\n",
       "      <td>1170</td>\n",
       "      <td>0.00</td>\n",
       "      <td>2</td>\n",
       "      <td>1</td>\n",
       "      <td>psychopathic traits</td>\n",
       "      <td>Psychopathy Checklist: Youth Version (PCL:YV)</td>\n",
       "      <td>interview</td>\n",
       "      <td>Anxiety</td>\n",
       "      <td>Alcohol and Marijuana Use</td>\n",
       "      <td>latent class analysis</td>\n",
       "      <td>4</td>\n",
       "      <td>39% low; 21% high anxiety/low psychopathy; 26%...</td>\n",
       "      <td>groups did not differ significantly on substan...</td>\n",
       "    </tr>\n",
       "    <tr>\n",
       "      <th>22</th>\n",
       "      <td>Goulter 2019</td>\n",
       "      <td>oceania</td>\n",
       "      <td>19.02</td>\n",
       "      <td>101</td>\n",
       "      <td>100.00</td>\n",
       "      <td>1</td>\n",
       "      <td>0</td>\n",
       "      <td>psychopathic traits</td>\n",
       "      <td>Psychopathic Personality Inventory (PPI)</td>\n",
       "      <td>self report</td>\n",
       "      <td>NaN</td>\n",
       "      <td>Aggression; Comorbidities</td>\n",
       "      <td>latent profile analysis</td>\n",
       "      <td>2</td>\n",
       "      <td>63.33% Primary; 36.7% Secondary</td>\n",
       "      <td>Secondary group characterized by  high anxiety...</td>\n",
       "    </tr>\n",
       "    <tr>\n",
       "      <th>23</th>\n",
       "      <td>Colins  2018</td>\n",
       "      <td>europe</td>\n",
       "      <td>16.7</td>\n",
       "      <td>847</td>\n",
       "      <td>0.00</td>\n",
       "      <td>2</td>\n",
       "      <td>1</td>\n",
       "      <td>psychopathic traits</td>\n",
       "      <td>Youth Psychopathic Traits Inventory (YPI)</td>\n",
       "      <td>self report</td>\n",
       "      <td>Anxiety</td>\n",
       "      <td>Aggression; substance use; Conduct Problems; C...</td>\n",
       "      <td>latent profile analysis</td>\n",
       "      <td>4</td>\n",
       "      <td>61.5% low/baseline; 21.6% moderate psychopathy...</td>\n",
       "      <td>Significant differences on Conduct Problems an...</td>\n",
       "    </tr>\n",
       "    <tr>\n",
       "      <th>24</th>\n",
       "      <td>Driessen 2018</td>\n",
       "      <td>north america</td>\n",
       "      <td>31.31</td>\n",
       "      <td>576</td>\n",
       "      <td>0.00</td>\n",
       "      <td>1</td>\n",
       "      <td>1</td>\n",
       "      <td>psychopathic traits</td>\n",
       "      <td>Self Report Psychopathy Scale (SRP)</td>\n",
       "      <td>self report</td>\n",
       "      <td>NaN</td>\n",
       "      <td>Violent Crime, Aggression, Disinhibition, Nega...</td>\n",
       "      <td>latent profile analysis</td>\n",
       "      <td>4</td>\n",
       "      <td>44.4% general offenders; 21% non-antisocial ps...</td>\n",
       "      <td>IA group scored highest on violent crrime, non...</td>\n",
       "    </tr>\n",
       "    <tr>\n",
       "      <th>25</th>\n",
       "      <td>Boduszek 2017</td>\n",
       "      <td>europe</td>\n",
       "      <td>34.26</td>\n",
       "      <td>1126</td>\n",
       "      <td>0.00</td>\n",
       "      <td>1</td>\n",
       "      <td>1</td>\n",
       "      <td>psychopathic traits</td>\n",
       "      <td>Psychopathic Personality Traits Scale (PPTS)</td>\n",
       "      <td>self report</td>\n",
       "      <td>NaN</td>\n",
       "      <td>Criminal Behavior</td>\n",
       "      <td>latent profile analysis</td>\n",
       "      <td>5</td>\n",
       "      <td>44.6% low; 20.8% high interpersonal manipulati...</td>\n",
       "      <td>Comparison of different crime types with perso...</td>\n",
       "    </tr>\n",
       "    <tr>\n",
       "      <th>26</th>\n",
       "      <td>Fanti 2017</td>\n",
       "      <td>north america</td>\n",
       "      <td>3</td>\n",
       "      <td>1167</td>\n",
       "      <td>48.30</td>\n",
       "      <td>4</td>\n",
       "      <td>0</td>\n",
       "      <td>CU traits</td>\n",
       "      <td>Achenbach System of Empirically Based Assessme...</td>\n",
       "      <td>other report</td>\n",
       "      <td>Externalizing problems, anxiety, depression</td>\n",
       "      <td>CU traits, externalizing, internalizing 12 yea...</td>\n",
       "      <td>latent profile analysis</td>\n",
       "      <td>4</td>\n",
       "      <td>68.1% low; 10.7% high on  Ext/Int, low callous...</td>\n",
       "      <td>Groups were stable between ages 3 and 15.</td>\n",
       "    </tr>\n",
       "    <tr>\n",
       "      <th>27</th>\n",
       "      <td>Colins 2017</td>\n",
       "      <td>europe</td>\n",
       "      <td>22.15</td>\n",
       "      <td>2500</td>\n",
       "      <td>52.60</td>\n",
       "      <td>1</td>\n",
       "      <td>0</td>\n",
       "      <td>psychopathic traits</td>\n",
       "      <td>Youth Psychopathic Traits Inventory (YPI)</td>\n",
       "      <td>self report</td>\n",
       "      <td>NaN</td>\n",
       "      <td>Aggression, substance Use, Comorbidities, Abus...</td>\n",
       "      <td>latent profile analysis</td>\n",
       "      <td>5</td>\n",
       "      <td>66% low/non-psychopathic; 12% high/psychopathi...</td>\n",
       "      <td>Slight gender differences (males very slightly...</td>\n",
       "    </tr>\n",
       "    <tr>\n",
       "      <th>28</th>\n",
       "      <td>Krstic 2017</td>\n",
       "      <td>north america</td>\n",
       "      <td>37.83</td>\n",
       "      <td>958</td>\n",
       "      <td>0.00</td>\n",
       "      <td>1</td>\n",
       "      <td>1</td>\n",
       "      <td>psychopathic traits</td>\n",
       "      <td>Psychopathy Checklist: Revised (PCL-R)</td>\n",
       "      <td>interview</td>\n",
       "      <td>NaN</td>\n",
       "      <td>Sexual Violence</td>\n",
       "      <td>latent profile analysis</td>\n",
       "      <td>4</td>\n",
       "      <td>44% general offender; 23% Sociopathic (high an...</td>\n",
       "      <td>Antisocial/personality factors predict sexual ...</td>\n",
       "    </tr>\n",
       "    <tr>\n",
       "      <th>29</th>\n",
       "      <td>Ray 2016</td>\n",
       "      <td>north america</td>\n",
       "      <td>15.29</td>\n",
       "      <td>1216</td>\n",
       "      <td>0.00</td>\n",
       "      <td>2</td>\n",
       "      <td>1</td>\n",
       "      <td>(CU traits)</td>\n",
       "      <td>delinquency; substance use</td>\n",
       "      <td>self report</td>\n",
       "      <td>NaN</td>\n",
       "      <td>CU traits (measured by ICU), IQ, neighbourhood...</td>\n",
       "      <td>latent class analysis</td>\n",
       "      <td>3</td>\n",
       "      <td>delinquency: fighter only 67%; minor crimes: 2...</td>\n",
       "      <td>CU traits and impulsivity contributed to delin...</td>\n",
       "    </tr>\n",
       "    <tr>\n",
       "      <th>30</th>\n",
       "      <td>Wall 2016</td>\n",
       "      <td>europe</td>\n",
       "      <td>9.38</td>\n",
       "      <td>1366</td>\n",
       "      <td>53.60</td>\n",
       "      <td>2</td>\n",
       "      <td>0</td>\n",
       "      <td>CU traits</td>\n",
       "      <td>Inventory of Callous-Unemotional Traits (ICU)</td>\n",
       "      <td>other report</td>\n",
       "      <td>Conduct Problems</td>\n",
       "      <td>Executive Function/Impulsivity, Parental Invol...</td>\n",
       "      <td>latent profile analysis</td>\n",
       "      <td>5</td>\n",
       "      <td>67.2% low risk; 9.4% high CU traits; 8.4% mode...</td>\n",
       "      <td>Groups significantly differed on EF/Impulsivit...</td>\n",
       "    </tr>\n",
       "    <tr>\n",
       "      <th>31</th>\n",
       "      <td>Andrade 2016</td>\n",
       "      <td>north america</td>\n",
       "      <td>8.8</td>\n",
       "      <td>208</td>\n",
       "      <td>21.60</td>\n",
       "      <td>3</td>\n",
       "      <td>0</td>\n",
       "      <td>CU traits</td>\n",
       "      <td>Callous-Unemotional Traits—Brief Measure (3 it...</td>\n",
       "      <td>other report</td>\n",
       "      <td>Impulsive Behavior, Externalizing Behavior as ...</td>\n",
       "      <td>Aggression</td>\n",
       "      <td>latent class analysis</td>\n",
       "      <td>5</td>\n",
       "      <td>35.6% low; 30.8% low-moderate; 21.6% moderate;...</td>\n",
       "      <td>significant differences in re- and proactive a...</td>\n",
       "    </tr>\n",
       "    <tr>\n",
       "      <th>32</th>\n",
       "      <td>Mokros 2015</td>\n",
       "      <td>north america</td>\n",
       "      <td>30.9</td>\n",
       "      <td>497</td>\n",
       "      <td>0.00</td>\n",
       "      <td>1</td>\n",
       "      <td>1</td>\n",
       "      <td>psychopathic traits</td>\n",
       "      <td>Psychopathy Checklist: Revised (PCL-R)</td>\n",
       "      <td>interview</td>\n",
       "      <td>NaN</td>\n",
       "      <td>ASPD symptoms</td>\n",
       "      <td>latent profile analysis</td>\n",
       "      <td>3</td>\n",
       "      <td>73.2% consistently high; 19.3% high interperso...</td>\n",
       "      <td>Groups differed significantly on total ASPD sy...</td>\n",
       "    </tr>\n",
       "    <tr>\n",
       "      <th>33</th>\n",
       "      <td>Dhingra 2015</td>\n",
       "      <td>north america</td>\n",
       "      <td>29.86</td>\n",
       "      <td>871</td>\n",
       "      <td>57.60</td>\n",
       "      <td>1</td>\n",
       "      <td>1</td>\n",
       "      <td>psychopathic traits</td>\n",
       "      <td>Psychopathy Checklist: Revised (PCL-R)</td>\n",
       "      <td>interview</td>\n",
       "      <td>NaN</td>\n",
       "      <td>Criminal Behavior</td>\n",
       "      <td>latent class analysis</td>\n",
       "      <td>4</td>\n",
       "      <td>26.4% High overall; 16% moderate; 31.3% antiso...</td>\n",
       "      <td>Psychopathic Classes were more likely to be a)...</td>\n",
       "    </tr>\n",
       "    <tr>\n",
       "      <th>34</th>\n",
       "      <td>Fanti 2013</td>\n",
       "      <td>europe</td>\n",
       "      <td>14.02</td>\n",
       "      <td>1674</td>\n",
       "      <td>50.10</td>\n",
       "      <td>2</td>\n",
       "      <td>0</td>\n",
       "      <td>NaN</td>\n",
       "      <td>Inventory of Callous-Unemotional Traits (ICU)</td>\n",
       "      <td>other report</td>\n",
       "      <td>Conduct Problems</td>\n",
       "      <td>Inattention/Impulsivity/Hyperactivity, Gender,...</td>\n",
       "      <td>latent profile analysis</td>\n",
       "      <td>5</td>\n",
       "      <td>48.7% low risk; 33.8% average; 6.9% low CP/hig...</td>\n",
       "      <td>Groups higher on CP scored higher on Hyperacti...</td>\n",
       "    </tr>\n",
       "    <tr>\n",
       "      <th>35</th>\n",
       "      <td>Fanti 2013</td>\n",
       "      <td>europe</td>\n",
       "      <td>16</td>\n",
       "      <td>2306</td>\n",
       "      <td>49.69</td>\n",
       "      <td>3</td>\n",
       "      <td>0</td>\n",
       "      <td>NaN</td>\n",
       "      <td>Inventory of Callous-Unemotional Traits (ICU)</td>\n",
       "      <td>self report</td>\n",
       "      <td>Conduct Problems, Anxiety</td>\n",
       "      <td>Aggression; Impulsivity; Sensation Seeking, Se...</td>\n",
       "      <td>latent profile analysis</td>\n",
       "      <td>4</td>\n",
       "      <td>80.5% low risk; 8.9% anxious; 7.8% primary CU;...</td>\n",
       "      <td>Differences on aggression (S-CU&gt;P-CU&gt;A&gt;L),  an...</td>\n",
       "    </tr>\n",
       "    <tr>\n",
       "      <th>36</th>\n",
       "      <td>Nijhof 2011</td>\n",
       "      <td>europe</td>\n",
       "      <td>15.76</td>\n",
       "      <td>214</td>\n",
       "      <td>47.20</td>\n",
       "      <td>1</td>\n",
       "      <td>1</td>\n",
       "      <td>NaN</td>\n",
       "      <td>Youth Psychopathic Traits Inventory (YPI)</td>\n",
       "      <td>self report</td>\n",
       "      <td>NaN</td>\n",
       "      <td>Problem Behavior (Int/Ext), Delinquency, Subst...</td>\n",
       "      <td>latent class analysis</td>\n",
       "      <td>3</td>\n",
       "      <td>51% low, 38.8% Impulsive; 10.2% Psychopathy-like</td>\n",
       "      <td>Bit of a salsa effect. Significant effect on a...</td>\n",
       "    </tr>\n",
       "  </tbody>\n",
       "</table>\n",
       "</div>"
      ],
      "text/plain": [
       "             nameyear         region      age_mean  sample size  \\\n",
       "0      Ciesenski 2024  north america         35.24          504   \n",
       "1        Neumann 2024  north america          16.7          409   \n",
       "2            Roy 2023  north america          29.9         2570   \n",
       "3        Brislin 2024  north america          9.92        11552   \n",
       "4        Shields 2024  north america          9.81          342   \n",
       "5           Hare 2022  south america        51.227          411   \n",
       "6        Colins  2022         europe          16.2          302   \n",
       "7           Gong 2022           asia         45.43          279   \n",
       "8    Voulgaridou 2022         europe         14.04         2207   \n",
       "9     Willoughby 2022  north america           7.2          138   \n",
       "10    Michielsen 2022         europe         14.77          679   \n",
       "11  Lopez-Romero 2021         europe          4.25         2247   \n",
       "12        Harrop 2021  north america         27.08          840   \n",
       "13     Gillespie 2021  north america            30          840   \n",
       "14     Gillespie 2021  north america            30          840   \n",
       "15        Breaux 2020  north america          8.92          222   \n",
       "16        Breaux 2020  north america          8.92          222   \n",
       "17       Maneiro 2020         europe         20.55          316   \n",
       "18          Wang 2020           asia         36.03         3375   \n",
       "19       Lehmann 2019         europe          36.2          215   \n",
       "20       Piehler 2019  north america          14.8          197   \n",
       "21        Waller 2019  north america  not reported         1170   \n",
       "22       Goulter 2019        oceania         19.02          101   \n",
       "23       Colins  2018         europe          16.7          847   \n",
       "24      Driessen 2018  north america         31.31          576   \n",
       "25      Boduszek 2017         europe         34.26         1126   \n",
       "26         Fanti 2017  north america             3         1167   \n",
       "27        Colins 2017         europe         22.15         2500   \n",
       "28        Krstic 2017  north america         37.83          958   \n",
       "29           Ray 2016  north america         15.29         1216   \n",
       "30          Wall 2016         europe          9.38         1366   \n",
       "31       Andrade 2016  north america           8.8          208   \n",
       "32        Mokros 2015  north america          30.9          497   \n",
       "33       Dhingra 2015  north america         29.86          871   \n",
       "34         Fanti 2013         europe         14.02         1674   \n",
       "35         Fanti 2013         europe            16         2306   \n",
       "36        Nijhof 2011         europe         15.76          214   \n",
       "\n",
       "    gender distr. (% f)  number_of_predictors  institutional_sample  \\\n",
       "0                 55.20                     7                     0   \n",
       "1                 19.40                     1                     1   \n",
       "2                  0.00                     1                     1   \n",
       "3                 45.30                     2                     0   \n",
       "4                 53.22                     1                     0   \n",
       "5                  0.00                     1                     1   \n",
       "6                100.00                     1                     1   \n",
       "7                100.00                     1                     1   \n",
       "8                 52.80                     1                     0   \n",
       "9                 32.00                     1                     0   \n",
       "10                51.98                     2                     0   \n",
       "11                48.60                     1                     0   \n",
       "12                18.80                     1                     0   \n",
       "13                42.50                     1                     1   \n",
       "14                42.50                     1                     1   \n",
       "15                19.80                     2                     0   \n",
       "16                19.80                     2                     0   \n",
       "17                51.30                     1                     0   \n",
       "18                 0.00                     1                     1   \n",
       "19                 0.00                     1                     1   \n",
       "20                42.60                     1                     1   \n",
       "21                 0.00                     2                     1   \n",
       "22               100.00                     1                     0   \n",
       "23                 0.00                     2                     1   \n",
       "24                 0.00                     1                     1   \n",
       "25                 0.00                     1                     1   \n",
       "26                48.30                     4                     0   \n",
       "27                52.60                     1                     0   \n",
       "28                 0.00                     1                     1   \n",
       "29                 0.00                     2                     1   \n",
       "30                53.60                     2                     0   \n",
       "31                21.60                     3                     0   \n",
       "32                 0.00                     1                     1   \n",
       "33                57.60                     1                     1   \n",
       "34                50.10                     2                     0   \n",
       "35                49.69                     3                     0   \n",
       "36                47.20                     1                     1   \n",
       "\n",
       "   psychopathic or CU trait  \\\n",
       "0       psychopathic traits   \n",
       "1                 CU traits   \n",
       "2       psychopathic traits   \n",
       "3                 CU traits   \n",
       "4                 CU traits   \n",
       "5       psychopathic traits   \n",
       "6       psychopathic traits   \n",
       "7       psychopathic traits   \n",
       "8               (CU traits)   \n",
       "9               (CU traits)   \n",
       "10                CU traits   \n",
       "11   CU/psychopathic traits   \n",
       "12      psychopathic traits   \n",
       "13      psychopathic traits   \n",
       "14      psychopathic traits   \n",
       "15      psychopathic traits   \n",
       "16      psychopathic traits   \n",
       "17      psychopathic traits   \n",
       "18      psychopathic traits   \n",
       "19      psychopathic traits   \n",
       "20              (CU traits)   \n",
       "21      psychopathic traits   \n",
       "22      psychopathic traits   \n",
       "23      psychopathic traits   \n",
       "24      psychopathic traits   \n",
       "25      psychopathic traits   \n",
       "26                CU traits   \n",
       "27      psychopathic traits   \n",
       "28      psychopathic traits   \n",
       "29              (CU traits)   \n",
       "30                CU traits   \n",
       "31                CU traits   \n",
       "32      psychopathic traits   \n",
       "33      psychopathic traits   \n",
       "34                      NaN   \n",
       "35                      NaN   \n",
       "36                      NaN   \n",
       "\n",
       "                                    predictor (Scale)  \\\n",
       "0              Psychopathy Checklist: Revised (PCL-R)   \n",
       "1   Proposed Specifiers for Conduct Disorder Scale...   \n",
       "2              Psychopathy Checklist: Revised (PCL-R)   \n",
       "3                      ABCD cu trait scale (SDQ/CBCL)   \n",
       "4   Inventory of Callous-Unemotional Traits (ICU),...   \n",
       "5              Psychopathy Checklist: Revised (PCL-R)   \n",
       "6          Antisocial Process Screening Device (APSD)   \n",
       "7   Levenson Self Report Psychopathy Rating scale ...   \n",
       "8                         Relational Aggression Scale   \n",
       "9                               ADHD and ODD behavior   \n",
       "10          Youth Psychopathic Traits Inventory (YPI)   \n",
       "11          Child Problematic Traits Inventory (CPTI)   \n",
       "12  Levenson Self Report Psychopathy Rating scale ...   \n",
       "13                                             PCL:SV   \n",
       "14                                             PCL:SV   \n",
       "15                      Child Psychopathy Scale (CPS)   \n",
       "16                      Child Psychopathy Scale (CPS)   \n",
       "17                             Dark Triad Dirty Dozen   \n",
       "18  Levenson Self Report Psychopathy Rating scale ...   \n",
       "19             Psychopathy Checklist: Revised (PCL-R)   \n",
       "20  Self Control, Executive Function (DCCS, Flanke...   \n",
       "21      Psychopathy Checklist: Youth Version (PCL:YV)   \n",
       "22           Psychopathic Personality Inventory (PPI)   \n",
       "23          Youth Psychopathic Traits Inventory (YPI)   \n",
       "24                Self Report Psychopathy Scale (SRP)   \n",
       "25       Psychopathic Personality Traits Scale (PPTS)   \n",
       "26  Achenbach System of Empirically Based Assessme...   \n",
       "27          Youth Psychopathic Traits Inventory (YPI)   \n",
       "28             Psychopathy Checklist: Revised (PCL-R)   \n",
       "29                         delinquency; substance use   \n",
       "30      Inventory of Callous-Unemotional Traits (ICU)   \n",
       "31  Callous-Unemotional Traits—Brief Measure (3 it...   \n",
       "32             Psychopathy Checklist: Revised (PCL-R)   \n",
       "33             Psychopathy Checklist: Revised (PCL-R)   \n",
       "34      Inventory of Callous-Unemotional Traits (ICU)   \n",
       "35      Inventory of Callous-Unemotional Traits (ICU)   \n",
       "36          Youth Psychopathic Traits Inventory (YPI)   \n",
       "\n",
       "                    Unnamed: 9  \\\n",
       "0                  self report   \n",
       "1                 other report   \n",
       "2                  self report   \n",
       "3                 other report   \n",
       "4                 other report   \n",
       "5                    interview   \n",
       "6                  self report   \n",
       "7                  self report   \n",
       "8                  self report   \n",
       "9                 other report   \n",
       "10                 self report   \n",
       "11                other report   \n",
       "12                 self report   \n",
       "13                other report   \n",
       "14                other report   \n",
       "15                other report   \n",
       "16                other report   \n",
       "17                 self report   \n",
       "18                 self report   \n",
       "19                   interview   \n",
       "20  experimental; other report   \n",
       "21                   interview   \n",
       "22                 self report   \n",
       "23                 self report   \n",
       "24                 self report   \n",
       "25                 self report   \n",
       "26                other report   \n",
       "27                 self report   \n",
       "28                   interview   \n",
       "29                 self report   \n",
       "30                other report   \n",
       "31                other report   \n",
       "32                   interview   \n",
       "33                   interview   \n",
       "34                other report   \n",
       "35                 self report   \n",
       "36                 self report   \n",
       "\n",
       "                     predictor (additional variables)  \\\n",
       "0   anger; hostility; emotion liability; emotion i...   \n",
       "1                                                 NaN   \n",
       "2                                                 NaN   \n",
       "3                         impulsivity (BIS/BAS, UPPS)   \n",
       "4                                                 NaN   \n",
       "5                                                 NaN   \n",
       "6                                                 NaN   \n",
       "7                                                 NaN   \n",
       "8                                                 NaN   \n",
       "9                                                 NaN   \n",
       "10                                            Anxiety   \n",
       "11                                                NaN   \n",
       "12                                                NaN   \n",
       "13                                                NaN   \n",
       "14                                                NaN   \n",
       "15         disruptive behavior disorder rating scale    \n",
       "16         disruptive behavior disorder rating scale    \n",
       "17                                                NaN   \n",
       "18                                                NaN   \n",
       "19                                                NaN   \n",
       "20                                                NaN   \n",
       "21                                            Anxiety   \n",
       "22                                                NaN   \n",
       "23                                            Anxiety   \n",
       "24                                                NaN   \n",
       "25                                                NaN   \n",
       "26        Externalizing problems, anxiety, depression   \n",
       "27                                                NaN   \n",
       "28                                                NaN   \n",
       "29                                                NaN   \n",
       "30                                   Conduct Problems   \n",
       "31  Impulsive Behavior, Externalizing Behavior as ...   \n",
       "32                                                NaN   \n",
       "33                                                NaN   \n",
       "34                                   Conduct Problems   \n",
       "35                          Conduct Problems, Anxiety   \n",
       "36                                                NaN   \n",
       "\n",
       "                                    outcome variables  \\\n",
       "0   psychiatric comorbidity, aggression, self-harm...   \n",
       "1   Externalizing Behavior, Criminality, Behaviora...   \n",
       "2   Behavioral Inhibition/Activation, Criminal His...   \n",
       "3                              Externalizing Behavior   \n",
       "4                              aggression, CU-traits    \n",
       "5                                     Criminal Record   \n",
       "6                                     Criminal Record   \n",
       "7                                          Aggression   \n",
       "8                 CU-traits; hostile attribution bias   \n",
       "9   academic productivity, impairment, and social ...   \n",
       "10                                        Delinquency   \n",
       "11  Conduct Problems, Re- and Proactive Aggression...   \n",
       "12  Aggression, Sensation Seeking, Anger, Stoicism...   \n",
       "13  Anger (cognitive/behavioral/arousal); Depressi...   \n",
       "14  Anger (cognitive/behavioral/arousal); Depressi...   \n",
       "15   Calloussness; Impairment; ADHD, ODD, CD symptoms   \n",
       "16   Calloussness; Impairment; ADHD, ODD, CD symptoms   \n",
       "17      Aggression, Substance Use, Risk, Internet Use   \n",
       "18                                         Aggression   \n",
       "19                                    Criminal Record   \n",
       "20      CU-traits; criminal record & conduct problems   \n",
       "21                          Alcohol and Marijuana Use   \n",
       "22                          Aggression; Comorbidities   \n",
       "23  Aggression; substance use; Conduct Problems; C...   \n",
       "24  Violent Crime, Aggression, Disinhibition, Nega...   \n",
       "25                                  Criminal Behavior   \n",
       "26  CU traits, externalizing, internalizing 12 yea...   \n",
       "27  Aggression, substance Use, Comorbidities, Abus...   \n",
       "28                                    Sexual Violence   \n",
       "29  CU traits (measured by ICU), IQ, neighbourhood...   \n",
       "30  Executive Function/Impulsivity, Parental Invol...   \n",
       "31                                         Aggression   \n",
       "32                                      ASPD symptoms   \n",
       "33                                  Criminal Behavior   \n",
       "34  Inattention/Impulsivity/Hyperactivity, Gender,...   \n",
       "35  Aggression; Impulsivity; Sensation Seeking, Se...   \n",
       "36  Problem Behavior (Int/Ext), Delinquency, Subst...   \n",
       "\n",
       "                          model  solution (no. of groups and distribution)  \\\n",
       "0         latent class analysis                                          4   \n",
       "1       latent profile analysis                                          4   \n",
       "2       latent profile analysis                                          4   \n",
       "3       latent profile analysis                                          3   \n",
       "4       latent profile analysis                                          0   \n",
       "5       latent profile analysis                                          4   \n",
       "6       latent profile analysis                                          2   \n",
       "7       latent profile analysis                                          3   \n",
       "8   latent transition analysis                                           3   \n",
       "9       latent profile analysis                                          3   \n",
       "10      latent profile analysis                                          3   \n",
       "11      latent profile analysis                                          5   \n",
       "12      latent profile analysis                                          4   \n",
       "13      latent profile analysis                                          3   \n",
       "14      latent profile analysis                                          4   \n",
       "15      latent profile analysis                                          3   \n",
       "16      latent profile analysis                                          4   \n",
       "17      latent profile analysis                                          5   \n",
       "18      latent profile analysis                                          4   \n",
       "19      latent profile analysis                                          4   \n",
       "20      latent profile analysis                                          3   \n",
       "21        latent class analysis                                          4   \n",
       "22      latent profile analysis                                          2   \n",
       "23      latent profile analysis                                          4   \n",
       "24      latent profile analysis                                          4   \n",
       "25      latent profile analysis                                          5   \n",
       "26      latent profile analysis                                          4   \n",
       "27      latent profile analysis                                          5   \n",
       "28      latent profile analysis                                          4   \n",
       "29        latent class analysis                                          3   \n",
       "30      latent profile analysis                                          5   \n",
       "31        latent class analysis                                          5   \n",
       "32      latent profile analysis                                          3   \n",
       "33        latent class analysis                                          4   \n",
       "34      latent profile analysis                                          5   \n",
       "35      latent profile analysis                                          4   \n",
       "36        latent class analysis                                          3   \n",
       "\n",
       "                                          group names  \\\n",
       "0   36.11% low emotion dysregulation and impulsivi...   \n",
       "1   34% general group; 31% externalizing group; 24...   \n",
       "2   40% externalizing, 36% psychopathic, 18% gener...   \n",
       "3   35.89% low impulsivity but high CU traits, 52....   \n",
       "4                                         no solution   \n",
       "5   21% Prototypic Psychopathy; 26.2% Callous-Conn...   \n",
       "6               74.2% low scoring, 25.8% high scoring   \n",
       "7   66.7% medium psychopathy, 27.6% low psychopath...   \n",
       "8                  67.5% low; 24.7% medium; 7.8% high   \n",
       "9   17% high ADHD; 49% low ADHD and ODD; 34% high ...   \n",
       "10  74% reference (average) group); 14% high CU; 1...   \n",
       "11   39.2% control class; 34.8% high need for stim...   \n",
       "12  43.9% Average; 43.3% Low. 4.6% Callous (low on...   \n",
       "13  female: 49% low; 14% high (callous aggressive)...   \n",
       "14  male: 34% low; 12% high (callous aggressive); ...   \n",
       "15    Parent-ratings: 26% low, 58% moderate, 16% high   \n",
       "16  Teacher-ratings: 36% low, 28% moderate, 26% no...   \n",
       "17  32.4% Narcissistic; 17.7% Macchiavellian/Narci...   \n",
       "18  59.9% low psychopathy;  19.5% moderate psychop...   \n",
       "19  48.8% general offenders; 26.5% \"Sociopaths\" (a...   \n",
       "20  10.4% cognitively inflexible; 36.1% adaptive; ...   \n",
       "21  39% low; 21% high anxiety/low psychopathy; 26%...   \n",
       "22                    63.33% Primary; 36.7% Secondary   \n",
       "23  61.5% low/baseline; 21.6% moderate psychopathy...   \n",
       "24  44.4% general offenders; 21% non-antisocial ps...   \n",
       "25  44.6% low; 20.8% high interpersonal manipulati...   \n",
       "26  68.1% low; 10.7% high on  Ext/Int, low callous...   \n",
       "27  66% low/non-psychopathic; 12% high/psychopathi...   \n",
       "28  44% general offender; 23% Sociopathic (high an...   \n",
       "29  delinquency: fighter only 67%; minor crimes: 2...   \n",
       "30  67.2% low risk; 9.4% high CU traits; 8.4% mode...   \n",
       "31  35.6% low; 30.8% low-moderate; 21.6% moderate;...   \n",
       "32  73.2% consistently high; 19.3% high interperso...   \n",
       "33  26.4% High overall; 16% moderate; 31.3% antiso...   \n",
       "34  48.7% low risk; 33.8% average; 6.9% low CP/hig...   \n",
       "35  80.5% low risk; 8.9% anxious; 7.8% primary CU;...   \n",
       "36   51% low, 38.8% Impulsive; 10.2% Psychopathy-like   \n",
       "\n",
       "                                             comments  \n",
       "0   mixture salsa/qualitative. CU-traits formed it...  \n",
       "1   Facets of the PSCD are: grandiose-manipulative...  \n",
       "2   In a forensic sample, these four different gro...  \n",
       "3   groups differ significantly on externalizing b...  \n",
       "4   results suggest that reactive aggression is un...  \n",
       "5   Study compared community, \"normal\" offenders, ...  \n",
       "6   Study examined likelihood of future criminalit...  \n",
       "7   None of the groups were high on calloussness i...  \n",
       "8   Salsa. The three profiles differed (in expecte...  \n",
       "9   significant differences between groups on acad...  \n",
       "10  In this community sample, the combined anxious...  \n",
       "11  Differences in profiles on both Parent and tea...  \n",
       "12  The high profile scored consistently higher on...  \n",
       "13  Different solutions for men and women, in wome...  \n",
       "14  Different solutions for men and women, in wome...  \n",
       "15  The low profiles were lower on calloussness an...  \n",
       "16  The low profiles were lower on calloussness an...  \n",
       "17  Groups did not differ significantly in substan...  \n",
       "18  Classes differ on re- and proactive aggression...  \n",
       "19  Groups differed on recidivism rates and types....  \n",
       "20  groups differed significantly on measures of C...  \n",
       "21  groups did not differ significantly on substan...  \n",
       "22  Secondary group characterized by  high anxiety...  \n",
       "23  Significant differences on Conduct Problems an...  \n",
       "24  IA group scored highest on violent crrime, non...  \n",
       "25  Comparison of different crime types with perso...  \n",
       "26         Groups were stable between ages 3 and 15.   \n",
       "27  Slight gender differences (males very slightly...  \n",
       "28  Antisocial/personality factors predict sexual ...  \n",
       "29  CU traits and impulsivity contributed to delin...  \n",
       "30  Groups significantly differed on EF/Impulsivit...  \n",
       "31  significant differences in re- and proactive a...  \n",
       "32  Groups differed significantly on total ASPD sy...  \n",
       "33  Psychopathic Classes were more likely to be a)...  \n",
       "34  Groups higher on CP scored higher on Hyperacti...  \n",
       "35  Differences on aggression (S-CU>P-CU>A>L),  an...  \n",
       "36  Bit of a salsa effect. Significant effect on a...  "
      ]
     },
     "execution_count": 33,
     "metadata": {},
     "output_type": "execute_result"
    }
   ],
   "source": [
    "LCA_outcomes"
   ]
  },
  {
   "cell_type": "markdown",
   "id": "3ba9d0df",
   "metadata": {},
   "source": [
    "As a tentative interpretation, it seems to me that group solutions of 3 mostly result in spectrum driven solution ('salsa' effect), meaning that there is a low, middle and high group that are not or only minimally different in a qualitative way. Four and five class solutions result mostly in qualitatively different profiles, with usually one large reference/low CU/psychopathic traits group, one that is consistently high, and two that are higher on only affective or behavioral traits. When there is variation, this occurs more on the behavioral traits. Often, outcomes also quantitatively and qualitatively differ between these groups. \n",
    "\n",
    "Another conclusion is that while different facets of psychopathy/CU traits exist on a spectrum and thus psychopathic traits themselves are a spectrum as well, they don't always neatly combine in a linear way. While the consistently high traits group often differ the most on aggression from the consistently low groups, groups high only behavioral/CU traits differ from the other groups in quantitative *and* qualitative ways (see e.g. involvement in different criminal activities or different cognitive outcomes). There was only one study on our dataset that predicted offense types and CU traits from cognitive variables (Piehler, 2019). The authors in this study draw the conclusion that both cognitively inflexible and emotionally disregulated youth tend to exhibit more conduct problems and externalizing behaviors, but differ in both *severity* and, crucially, in *type*. They suggest that there might be different developmental pathways leading to disruptive behavior disorders, that may also result in different behavioral subtypes. \n",
    "\n",
    "\n",
    "We draw some tentative recommendations:\n",
    "\n",
    "1. When performing LCA/LPA with psychopathic/CU traits as a sole predictor, one should aim for a class solution of >= 4. This gives a more qualitatively meaningful solution. If a solution of 2 or 3 is strongly preferred, then a linear regression might be indicated instead to actually cover the entire spectrum of the scale. \n",
    "2. When performing LCA/LPA with multiple predictors, this recommendation can be relaxed slightly, though the statistical indicators may favor a group solution with 4+ groups anyway. \n",
    "3. There is currently and underutilization of cognitive variables as predictors\n",
    "\n",
    "Considering the wider project and studies utilizing other modeling approaches such as factor analysis and growth analysis (see poster):\n",
    "\n",
    "4. Generally, person-centered approaches such as LCA/LPA find more (meaningful) group solutions than variable centered ones (growth models find more than LPA still). This is a good indicator that these approaches may be more adept at capturing the very real heterogeneity of how these variables tend to present (in patients/the community) and their outcomes. However, all of these approaches run under the assumption of linearity. It is quite likely though (and the data presented here support this idea as well) that associations are not linear. We should try to find some modeling approaches that do not work on linear assumptions. "
   ]
  }
 ],
 "metadata": {
  "kernelspec": {
   "display_name": "pymc_env",
   "language": "python",
   "name": "python3"
  },
  "language_info": {
   "codemirror_mode": {
    "name": "ipython",
    "version": 3
   },
   "file_extension": ".py",
   "mimetype": "text/x-python",
   "name": "python",
   "nbconvert_exporter": "python",
   "pygments_lexer": "ipython3",
   "version": "3.12.7"
  }
 },
 "nbformat": 4,
 "nbformat_minor": 5
}
