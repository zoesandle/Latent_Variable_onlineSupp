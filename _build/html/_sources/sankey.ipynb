{
 "cells": [
  {
   "cell_type": "markdown",
   "id": "9aa45f8f",
   "metadata": {},
   "source": [
    "#### Supplemental Materials \n",
    "For my systematic review on latent Variable modeling approaches, here are some additional plots and data that might be of interest. If you discover any issues, please contact zoe.sandle@donders.ru.nl."
   ]
  },
  {
   "cell_type": "code",
   "execution_count": 15,
   "id": "754d5901",
   "metadata": {},
   "outputs": [],
   "source": [
    "### read in data and activate the environmentimport pandas as pd\n",
    "import numpy as np\n",
    "import matplotlib.pyplot as plt\n",
    "import seaborn as sns\n",
    "import statsmodels.api as sm\n",
    "import statsmodels.formula.api as smf\n",
    "import pandas as pd\n",
    "import plotly.graph_objects as go\n",
    "\n",
    "#setting wd to where the data is\n",
    "import os\n",
    "os.chdir('C:/Users/U727148/Desktop/DATA/REVIEW/')\n",
    "df = pd.read_excel('updated_from_cleaned_20250423.xlsx')\n",
    "df_sankey_models_transformed = pd.read_excel('dfsankeymodels_updated_20250424.xlsx')\n",
    "LCA_outcomes = pd.read_excel('LCA_outcomes.xlsx')\n",
    "df_sankey_cups = pd.read_excel('dfsankeycu.xlsx')\n",
    "df_sankey_beh = pd.read_excel('dfsankey_behavioral_variables.xlsx')"
   ]
  },
  {
   "cell_type": "markdown",
   "id": "0e85264d",
   "metadata": {},
   "source": [
    "#### Sankey Plots \n",
    "\n",
    "In this first plot, the first column represents the general model used in all studies, the second column includes additional specifications (e.g. for factor analysis, whether it was exploratory or confirmatory, or which type of rotation was used). Follow up analyses are shown in the third column. Hovering over each node shows the number of incoming and outgoing flow, hovering over the connections shows the First Author & Year. Each node can be moved around for readability or bundled using box or lasso select. "
   ]
  },
  {
   "cell_type": "code",
   "execution_count": null,
   "id": "debf1e77",
   "metadata": {},
   "outputs": [
    {
     "data": {
      "application/vnd.plotly.v1+json": {
       "config": {
        "plotlyServerURL": "https://plot.ly"
       },
       "data": [
        {
         "link": {
          "color": [
           "rgba(135,126,113,0.6)",
           "rgba(211,147,220,0.6)",
           "rgba(135,126,113,0.6)",
           "rgba(135,126,113,0.6)",
           "rgba(232,247,217,0.6)",
           "rgba(154,234,141,0.6)",
           "rgba(232,247,217,0.6)",
           "rgba(211,147,220,0.6)",
           "rgba(135,126,113,0.6)",
           "rgba(211,147,220,0.6)",
           "rgba(135,126,113,0.6)",
           "rgba(211,147,220,0.6)",
           "rgba(135,126,113,0.6)",
           "rgba(211,147,220,0.6)",
           "rgba(154,199,250,0.6)",
           "rgba(225,222,199,0.6)",
           "rgba(254,129,143,0.6)",
           "rgba(254,129,143,0.6)",
           "rgba(135,126,113,0.6)",
           "rgba(135,126,113,0.6)",
           "rgba(211,147,220,0.6)",
           "rgba(211,147,220,0.6)",
           "rgba(211,147,220,0.6)",
           "rgba(154,234,141,0.6)",
           "rgba(135,126,113,0.6)",
           "rgba(154,199,250,0.6)",
           "rgba(135,126,113,0.6)",
           "rgba(211,147,220,0.6)",
           "rgba(235,168,217,0.6)",
           "rgba(135,126,113,0.6)",
           "rgba(211,147,220,0.6)",
           "rgba(211,147,220,0.6)",
           "rgba(154,234,141,0.6)",
           "rgba(154,234,141,0.6)",
           "rgba(211,147,220,0.6)",
           "rgba(211,147,220,0.6)",
           "rgba(135,126,113,0.6)",
           "rgba(254,129,143,0.6)",
           "rgba(154,199,250,0.6)",
           "rgba(211,147,220,0.6)",
           "rgba(254,129,143,0.6)",
           "rgba(135,126,113,0.6)",
           "rgba(154,199,250,0.6)",
           "rgba(135,126,113,0.6)",
           "rgba(211,147,220,0.6)",
           "rgba(211,147,220,0.6)",
           "rgba(135,126,113,0.6)",
           "rgba(211,147,220,0.6)",
           "rgba(211,147,220,0.6)",
           "rgba(211,147,220,0.6)",
           "rgba(154,199,250,0.6)",
           "rgba(135,126,113,0.6)",
           "rgba(235,168,217,0.6)",
           "rgba(154,234,141,0.6)",
           "rgba(211,147,220,0.6)",
           "rgba(211,147,220,0.6)",
           "rgba(211,147,220,0.6)",
           "rgba(154,199,250,0.6)",
           "rgba(135,126,113,0.6)",
           "rgba(154,234,141,0.6)",
           "rgba(154,199,250,0.6)",
           "rgba(211,147,220,0.6)",
           "rgba(211,147,220,0.6)",
           "rgba(211,147,220,0.6)",
           "rgba(154,234,141,0.6)",
           "rgba(154,234,141,0.6)",
           "rgba(154,199,250,0.6)",
           "rgba(211,147,220,0.6)",
           "rgba(154,199,250,0.6)",
           "rgba(135,126,113,0.6)",
           "rgba(154,234,141,0.6)",
           "rgba(211,147,220,0.6)",
           "rgba(211,147,220,0.6)",
           "rgba(154,199,250,0.6)",
           "rgba(211,147,220,0.6)",
           "rgba(211,147,220,0.6)",
           "rgba(211,147,220,0.6)",
           "rgba(211,147,220,0.6)",
           "rgba(135,126,113,0.6)",
           "rgba(135,126,113,0.6)",
           "rgba(254,129,143,0.6)",
           "rgba(154,199,250,0.6)",
           "rgba(211,147,220,0.6)",
           "rgba(211,147,220,0.6)",
           "rgba(154,234,141,0.6)",
           "rgba(106,149,247,0.6)",
           "rgba(135,126,113,0.6)",
           "rgba(211,147,220,0.6)",
           "rgba(154,234,141,0.6)",
           "rgba(135,126,113,0.6)",
           "rgba(135,126,113,0.6)",
           "rgba(135,126,113,0.6)",
           "rgba(226,114,196,0.6)",
           "rgba(193,103,193,0.6)",
           "rgba(197,244,141,0.6)",
           "rgba(148,167,210,0.6)",
           "rgba(218,158,177,0.6)",
           "rgba(184,230,250,0.6)",
           "rgba(215,154,229,0.6)",
           "rgba(111,205,124,0.6)",
           "rgba(132,138,203,0.6)",
           "rgba(111,205,124,0.6)",
           "rgba(104,219,133,0.6)",
           "rgba(111,205,124,0.6)",
           "rgba(197,244,141,0.6)",
           "rgba(111,205,124,0.6)",
           "rgba(180,182,208,0.6)",
           "rgba(123,211,244,0.6)",
           "rgba(123,195,152,0.6)",
           "rgba(158,169,201,0.6)",
           "rgba(107,149,228,0.6)",
           "rgba(197,244,141,0.6)",
           "rgba(111,205,124,0.6)",
           "rgba(111,205,124,0.6)",
           "rgba(111,205,124,0.6)",
           "rgba(184,230,250,0.6)",
           "rgba(107,149,228,0.6)",
           "rgba(115,181,158,0.6)",
           "rgba(197,244,141,0.6)",
           "rgba(199,255,236,0.6)",
           "rgba(176,156,181,0.6)",
           "rgba(132,138,203,0.6)",
           "rgba(111,205,124,0.6)",
           "rgba(111,205,124,0.6)",
           "rgba(184,230,250,0.6)",
           "rgba(184,230,250,0.6)",
           "rgba(111,205,124,0.6)",
           "rgba(111,205,124,0.6)",
           "rgba(151,181,227,0.6)",
           "rgba(170,116,130,0.6)",
           "rgba(115,181,158,0.6)",
           "rgba(111,205,124,0.6)",
           "rgba(245,100,253,0.6)",
           "rgba(197,244,141,0.6)",
           "rgba(115,181,158,0.6)",
           "rgba(197,244,141,0.6)",
           "rgba(111,205,124,0.6)",
           "rgba(111,205,124,0.6)",
           "rgba(197,244,141,0.6)",
           "rgba(111,205,124,0.6)",
           "rgba(111,205,124,0.6)",
           "rgba(111,205,124,0.6)",
           "rgba(115,181,158,0.6)",
           "rgba(176,156,181,0.6)",
           "rgba(197,244,141,0.6)",
           "rgba(184,230,250,0.6)",
           "rgba(193,103,193,0.6)",
           "rgba(111,205,124,0.6)",
           "rgba(111,205,124,0.6)",
           "rgba(115,181,158,0.6)",
           "rgba(197,244,141,0.6)",
           "rgba(184,230,250,0.6)",
           "rgba(115,181,158,0.6)",
           "rgba(111,205,124,0.6)",
           "rgba(111,205,124,0.6)",
           "rgba(111,205,124,0.6)",
           "rgba(148,167,210,0.6)",
           "rgba(184,138,111,0.6)",
           "rgba(137,106,210,0.6)",
           "rgba(111,205,124,0.6)",
           "rgba(115,181,158,0.6)",
           "rgba(197,244,141,0.6)",
           "rgba(184,230,250,0.6)",
           "rgba(111,205,124,0.6)",
           "rgba(193,103,193,0.6)",
           "rgba(135,178,198,0.6)",
           "rgba(111,205,124,0.6)",
           "rgba(193,103,193,0.6)",
           "rgba(111,205,124,0.6)",
           "rgba(193,103,193,0.6)",
           "rgba(197,244,141,0.6)",
           "rgba(184,230,250,0.6)",
           "rgba(244,231,114,0.6)",
           "rgba(115,181,158,0.6)",
           "rgba(111,205,124,0.6)",
           "rgba(111,205,124,0.6)",
           "rgba(184,230,250,0.6)",
           "rgba(167,133,107,0.6)",
           "rgba(197,244,141,0.6)",
           "rgba(193,103,193,0.6)",
           "rgba(203,201,243,0.6)",
           "rgba(197,244,141,0.6)",
           "rgba(197,244,141,0.6)",
           "rgba(197,244,141,0.6)"
          ],
          "customdata": [
           "Winters 2025",
           "Ciesenski 2024",
           "Kemp 2024",
           "Kemp 2024",
           "Castagna 2024",
           "Cohn 2024",
           "Elster 2024",
           "Neumann 2024",
           "Međedovic 2024",
           "Roy 2023",
           "Joyner 2024",
           "Brislin 2024",
           "Shields 2024",
           "Shields 2024",
           "Alvarez-Voces 2024",
           "Tillem 2023",
           "Murray 2022",
           "Dugre 2023",
           "Pechorro 2023",
           "Payot 2022",
           "Hare 2022",
           "Colins  2022",
           "Gong 2022",
           "Sellbom 2022",
           "Drislane 2022",
           "Dugre 2022",
           "Wissenburg 2022",
           "Voulgaridou 2022",
           "Willoughby 2022",
           "Willoughby 2022",
           "Willoughby 2022",
           "Michielsen 2022",
           "Woerhle 2022",
           "Friedman 2021",
           "Lopez-Romero 2021",
           "Harrop 2021",
           "Sellbom 2021",
           "Byrd 2021",
           "Goulter 2021",
           "Gillespie 2021",
           "Hawes 2021",
           "Roy 2021",
           "Altikriti 2020",
           "Breaux 2020",
           "Breaux 2020",
           "Maneiro 2020",
           "Wang 2020",
           "Wang 2020",
           "Lehmann 2019",
           "Piehler 2019",
           "Docherty 2019",
           "Maneiro 2019",
           "Maneiro 2019",
           "Maneiro 2019",
           "Waller 2019",
           "Goulter 2019",
           "Colins  2018",
           "Byrd 2018",
           "Adjorlolo 2018",
           "Carre 2018",
           "Dubas  2018",
           "Driessen 2018",
           "Boduszek 2017",
           "Fanti 2017",
           "Barhight 2017",
           "Barhight 2017",
           "Hawes  2017",
           "Colins 2017",
           "Fanti 2017",
           "Krstic 2017",
           "Krstic 2017",
           "Krstic 2017",
           "Ray 2016",
           "Muratori 2016",
           "Wall 2016",
           "Andrade 2016",
           "Mokros 2015",
           "Dhingra 2015",
           "Neumann 2014",
           "Neumann 2014",
           "White 2014",
           "Pardini 2013",
           "Fanti 2013",
           "Fanti 2013",
           "Hawes 2013",
           "Kimonis 2011",
           "Nijhof 2011",
           "Nijhof 2011",
           "Neumann 2010",
           "Blonigen 2010",
           "Kimonis 2008",
           "Vitacco 2006",
           "Winters 2025",
           "Ciesenski 2024",
           "Kemp 2024",
           "Kemp 2024",
           "Castagna 2024",
           "Cohn 2024",
           "Elster 2024",
           "Neumann 2024",
           "Međedovic 2024",
           "Roy 2023",
           "Joyner 2024",
           "Brislin 2024",
           "Shields 2024",
           "Shields 2024",
           "Alvarez-Voces 2024",
           "Tillem 2023",
           "Murray 2022",
           "Dugre 2023",
           "Pechorro 2023",
           "Payot 2022",
           "Hare 2022",
           "Colins  2022",
           "Gong 2022",
           "Sellbom 2022",
           "Drislane 2022",
           "Dugre 2022",
           "Wissenburg 2022",
           "Voulgaridou 2022",
           "Willoughby 2022",
           "Willoughby 2022",
           "Willoughby 2022",
           "Michielsen 2022",
           "Woerhle 2022",
           "Friedman 2021",
           "Lopez-Romero 2021",
           "Harrop 2021",
           "Sellbom 2021",
           "Byrd 2021",
           "Goulter 2021",
           "Gillespie 2021",
           "Hawes 2021",
           "Roy 2021",
           "Altikriti 2020",
           "Breaux 2020",
           "Breaux 2020",
           "Maneiro 2020",
           "Wang 2020",
           "Wang 2020",
           "Lehmann 2019",
           "Piehler 2019",
           "Docherty 2019",
           "Maneiro 2019",
           "Maneiro 2019",
           "Maneiro 2019",
           "Waller 2019",
           "Goulter 2019",
           "Colins  2018",
           "Byrd 2018",
           "Adjorlolo 2018",
           "Carre 2018",
           "Dubas  2018",
           "Driessen 2018",
           "Boduszek 2017",
           "Fanti 2017",
           "Barhight 2017",
           "Barhight 2017",
           "Hawes  2017",
           "Colins 2017",
           "Fanti 2017",
           "Krstic 2017",
           "Krstic 2017",
           "Krstic 2017",
           "Ray 2016",
           "Muratori 2016",
           "Wall 2016",
           "Andrade 2016",
           "Mokros 2015",
           "Dhingra 2015",
           "Neumann 2014",
           "Neumann 2014",
           "White 2014",
           "Pardini 2013",
           "Fanti 2013",
           "Fanti 2013",
           "Hawes 2013",
           "Kimonis 2011",
           "Nijhof 2011",
           "Nijhof 2011",
           "Neumann 2010",
           "Blonigen 2010",
           "Kimonis 2008",
           "Vitacco 2006"
          ],
          "hovertemplate": "%{customdata}<extra></extra>",
          "source": [
           0,
           1,
           0,
           0,
           2,
           3,
           2,
           1,
           0,
           1,
           0,
           1,
           0,
           1,
           4,
           5,
           6,
           6,
           0,
           0,
           1,
           1,
           1,
           3,
           0,
           4,
           0,
           1,
           7,
           0,
           1,
           1,
           3,
           3,
           1,
           1,
           0,
           6,
           4,
           1,
           6,
           0,
           4,
           0,
           1,
           1,
           0,
           1,
           1,
           1,
           4,
           0,
           7,
           3,
           1,
           1,
           1,
           4,
           0,
           3,
           4,
           1,
           1,
           1,
           3,
           3,
           4,
           1,
           4,
           0,
           3,
           1,
           1,
           4,
           1,
           1,
           1,
           1,
           0,
           0,
           6,
           4,
           1,
           1,
           3,
           8,
           0,
           1,
           3,
           0,
           0,
           0,
           9,
           10,
           11,
           12,
           13,
           14,
           15,
           16,
           17,
           16,
           18,
           16,
           11,
           16,
           19,
           20,
           21,
           22,
           23,
           11,
           16,
           16,
           16,
           14,
           23,
           24,
           11,
           25,
           26,
           17,
           16,
           16,
           14,
           14,
           16,
           16,
           27,
           28,
           24,
           16,
           29,
           11,
           24,
           11,
           16,
           16,
           11,
           16,
           16,
           16,
           24,
           26,
           11,
           14,
           10,
           16,
           16,
           24,
           11,
           14,
           24,
           16,
           16,
           16,
           12,
           30,
           31,
           16,
           24,
           11,
           14,
           16,
           10,
           32,
           16,
           10,
           16,
           10,
           11,
           14,
           33,
           24,
           16,
           16,
           14,
           34,
           11,
           10,
           35,
           11,
           11,
           11
          ],
          "target": [
           9,
           10,
           11,
           12,
           13,
           14,
           15,
           16,
           17,
           16,
           18,
           16,
           11,
           16,
           19,
           20,
           21,
           22,
           23,
           11,
           16,
           16,
           16,
           14,
           23,
           24,
           11,
           25,
           26,
           17,
           16,
           16,
           14,
           14,
           16,
           16,
           27,
           28,
           24,
           16,
           29,
           11,
           24,
           11,
           16,
           16,
           11,
           16,
           16,
           16,
           24,
           26,
           11,
           14,
           10,
           16,
           16,
           24,
           11,
           14,
           24,
           16,
           16,
           16,
           12,
           30,
           31,
           16,
           24,
           11,
           14,
           16,
           10,
           32,
           16,
           10,
           16,
           10,
           11,
           14,
           33,
           24,
           16,
           16,
           14,
           34,
           11,
           10,
           35,
           11,
           11,
           11,
           36,
           37,
           38,
           38,
           38,
           39,
           40,
           41,
           38,
           39,
           39,
           42,
           38,
           39,
           38,
           38,
           38,
           36,
           39,
           39,
           39,
           38,
           39,
           38,
           43,
           44,
           39,
           39,
           38,
           38,
           38,
           39,
           38,
           45,
           39,
           46,
           38,
           38,
           47,
           38,
           38,
           39,
           48,
           39,
           39,
           39,
           39,
           39,
           38,
           37,
           37,
           41,
           39,
           47,
           49,
           39,
           38,
           38,
           39,
           39,
           47,
           46,
           39,
           38,
           39,
           39,
           50,
           41,
           40,
           46,
           46,
           46,
           38,
           39,
           41,
           37,
           51,
           38,
           39,
           39,
           51,
           37,
           41,
           41,
           39,
           39,
           39,
           39,
           39,
           39,
           39,
           39
          ],
          "value": [
           21,
           29,
           21,
           null,
           2,
           8,
           2,
           29,
           21,
           29,
           21,
           29,
           21,
           6,
           11,
           1,
           5,
           5,
           21,
           21,
           29,
           29,
           29,
           8,
           21,
           11,
           21,
           29,
           1,
           1,
           6,
           29,
           8,
           8,
           29,
           29,
           21,
           5,
           11,
           29,
           5,
           21,
           11,
           21,
           6,
           29,
           21,
           6,
           29,
           29,
           11,
           21,
           1,
           2,
           29,
           29,
           29,
           11,
           21,
           8,
           11,
           29,
           29,
           29,
           8,
           null,
           11,
           29,
           11,
           21,
           2,
           6,
           29,
           11,
           29,
           29,
           29,
           29,
           21,
           null,
           5,
           11,
           29,
           29,
           8,
           1,
           21,
           6,
           8,
           21,
           21,
           21,
           1,
           2,
           2,
           null,
           9,
           29,
           2,
           6,
           9,
           29,
           29,
           1,
           9,
           2,
           9,
           1,
           1,
           1,
           29,
           29,
           29,
           1,
           29,
           1,
           1,
           1,
           29,
           29,
           1,
           null,
           null,
           29,
           9,
           1,
           29,
           4,
           9,
           9,
           null,
           2,
           4,
           29,
           1,
           29,
           null,
           29,
           29,
           null,
           9,
           4,
           2,
           6,
           2,
           null,
           1,
           29,
           1,
           4,
           29,
           29,
           null,
           4,
           29,
           4,
           29,
           null,
           1,
           6,
           2,
           4,
           null,
           null,
           9,
           29,
           6,
           2,
           2,
           4,
           29,
           null,
           2,
           2,
           6,
           6,
           29,
           29,
           29,
           null,
           29,
           29,
           29,
           29
          ]
         },
         "node": {
          "align": "left",
          "color": [
           "rgba(135,126,113,0.6)",
           "rgba(211,147,220,0.6)",
           "rgba(232,247,217,0.6)",
           "rgba(154,234,141,0.6)",
           "rgba(154,199,250,0.6)",
           "rgba(225,222,199,0.6)",
           "rgba(254,129,143,0.6)",
           "rgba(235,168,217,0.6)",
           "rgba(106,149,247,0.6)",
           "rgba(226,114,196,0.6)",
           "rgba(193,103,193,0.6)",
           "rgba(197,244,141,0.6)",
           "rgba(148,167,210,0.6)",
           "rgba(218,158,177,0.6)",
           "rgba(184,230,250,0.6)",
           "rgba(215,154,229,0.6)",
           "rgba(111,205,124,0.6)",
           "rgba(132,138,203,0.6)",
           "rgba(104,219,133,0.6)",
           "rgba(180,182,208,0.6)",
           "rgba(123,211,244,0.6)",
           "rgba(123,195,152,0.6)",
           "rgba(158,169,201,0.6)",
           "rgba(107,149,228,0.6)",
           "rgba(115,181,158,0.6)",
           "rgba(199,255,236,0.6)",
           "rgba(176,156,181,0.6)",
           "rgba(151,181,227,0.6)",
           "rgba(170,116,130,0.6)",
           "rgba(245,100,253,0.6)",
           "rgba(184,138,111,0.6)",
           "rgba(137,106,210,0.6)",
           "rgba(135,178,198,0.6)",
           "rgba(244,231,114,0.6)",
           "rgba(167,133,107,0.6)",
           "rgba(203,201,243,0.6)",
           "rgba(211,108,226,0.6)",
           "rgba(251,251,158,0.6)",
           "rgba(138,168,185,0.6)",
           "rgba(202,213,162,0.6)",
           "rgba(107,202,175,0.6)",
           "rgba(175,147,221,0.6)",
           "rgba(181,149,105,0.6)",
           "rgba(188,195,172,0.6)",
           "rgba(166,236,240,0.6)",
           "rgba(118,102,131,0.6)",
           "rgba(118,189,221,0.6)",
           "rgba(148,199,213,0.6)",
           "rgba(142,133,197,0.6)",
           "rgba(158,180,243,0.6)",
           "rgba(124,240,178,0.6)",
           "rgba(111,224,244,0.6)"
          ],
          "label": [
           "factor analysis",
           "LCA",
           "computational modeling",
           "SEM",
           "growth model",
           "graph analysis",
           "fMRI task",
           "principal component analysis",
           "clustering ",
           "EF brain model (CFA with connectivity density as variable of interest) with interaction terms for CU and CP",
           "latent class analysis",
           "CFA",
           "multitrait–multimethod (MT-MM) design",
           "drift diffusion model",
           "structural equation model",
           "rescorla-wagner model",
           "latent profile analysis",
           "EFA (correlated)",
           "bass-ackwards confirmatory factor analysis with varimax rotation",
           "Univariate Latent Growth Curve Model",
           "minimum spanning tree analysis using the Kruskal algorithm",
           "whole brain analysis",
           "ROI analysis",
           "CFA (correlated)",
           "Latent Class Growth Analysis (LCGA)",
           "latent transition analysis (LPA at 2 time points)",
           "PCA (correlated)",
           "EFA (uncorrelated)",
           "Higher-order latent network factor model with Monte Carlo numerical integration",
           "second order CFA with Monte Carlo numerical integration",
           "correlated trait–correlated method (CT-CM)",
           "Latent Growth Curve Modeling (LGCM)",
           "Unconditional latent growth curve model",
           "computational EV and PE links to activation ",
           "model based clustering",
           "structural equation modeling",
           "post hoc tests (kruskal-wallis)",
           "chi squared test ",
           "regression",
           "correlation",
           "rm-ANOVA",
           "MANOVA",
           "R3STEP auxiliary command",
           "SEM with latent regression",
           "generalized estimating equations (GEE) models",
           "standard twin model",
           "ANOVA",
           "none",
           "bootstrapped likelihood ratio test (BLRT)",
           "MANCOVA",
           "latent trajectory interaction",
           "t-Test"
          ],
          "line": {
           "color": "black",
           "width": 0.9
          },
          "pad": 15,
          "thickness": 20
         },
         "type": "sankey"
        }
       ],
       "layout": {
        "font": {
         "size": 16.5
        },
        "height": 800,
        "hovermode": "x",
        "template": {
         "data": {
          "bar": [
           {
            "error_x": {
             "color": "#2a3f5f"
            },
            "error_y": {
             "color": "#2a3f5f"
            },
            "marker": {
             "line": {
              "color": "#E5ECF6",
              "width": 0.5
             },
             "pattern": {
              "fillmode": "overlay",
              "size": 10,
              "solidity": 0.2
             }
            },
            "type": "bar"
           }
          ],
          "barpolar": [
           {
            "marker": {
             "line": {
              "color": "#E5ECF6",
              "width": 0.5
             },
             "pattern": {
              "fillmode": "overlay",
              "size": 10,
              "solidity": 0.2
             }
            },
            "type": "barpolar"
           }
          ],
          "carpet": [
           {
            "aaxis": {
             "endlinecolor": "#2a3f5f",
             "gridcolor": "white",
             "linecolor": "white",
             "minorgridcolor": "white",
             "startlinecolor": "#2a3f5f"
            },
            "baxis": {
             "endlinecolor": "#2a3f5f",
             "gridcolor": "white",
             "linecolor": "white",
             "minorgridcolor": "white",
             "startlinecolor": "#2a3f5f"
            },
            "type": "carpet"
           }
          ],
          "choropleth": [
           {
            "colorbar": {
             "outlinewidth": 0,
             "ticks": ""
            },
            "type": "choropleth"
           }
          ],
          "contour": [
           {
            "colorbar": {
             "outlinewidth": 0,
             "ticks": ""
            },
            "colorscale": [
             [
              0,
              "#0d0887"
             ],
             [
              0.1111111111111111,
              "#46039f"
             ],
             [
              0.2222222222222222,
              "#7201a8"
             ],
             [
              0.3333333333333333,
              "#9c179e"
             ],
             [
              0.4444444444444444,
              "#bd3786"
             ],
             [
              0.5555555555555556,
              "#d8576b"
             ],
             [
              0.6666666666666666,
              "#ed7953"
             ],
             [
              0.7777777777777778,
              "#fb9f3a"
             ],
             [
              0.8888888888888888,
              "#fdca26"
             ],
             [
              1,
              "#f0f921"
             ]
            ],
            "type": "contour"
           }
          ],
          "contourcarpet": [
           {
            "colorbar": {
             "outlinewidth": 0,
             "ticks": ""
            },
            "type": "contourcarpet"
           }
          ],
          "heatmap": [
           {
            "colorbar": {
             "outlinewidth": 0,
             "ticks": ""
            },
            "colorscale": [
             [
              0,
              "#0d0887"
             ],
             [
              0.1111111111111111,
              "#46039f"
             ],
             [
              0.2222222222222222,
              "#7201a8"
             ],
             [
              0.3333333333333333,
              "#9c179e"
             ],
             [
              0.4444444444444444,
              "#bd3786"
             ],
             [
              0.5555555555555556,
              "#d8576b"
             ],
             [
              0.6666666666666666,
              "#ed7953"
             ],
             [
              0.7777777777777778,
              "#fb9f3a"
             ],
             [
              0.8888888888888888,
              "#fdca26"
             ],
             [
              1,
              "#f0f921"
             ]
            ],
            "type": "heatmap"
           }
          ],
          "histogram": [
           {
            "marker": {
             "pattern": {
              "fillmode": "overlay",
              "size": 10,
              "solidity": 0.2
             }
            },
            "type": "histogram"
           }
          ],
          "histogram2d": [
           {
            "colorbar": {
             "outlinewidth": 0,
             "ticks": ""
            },
            "colorscale": [
             [
              0,
              "#0d0887"
             ],
             [
              0.1111111111111111,
              "#46039f"
             ],
             [
              0.2222222222222222,
              "#7201a8"
             ],
             [
              0.3333333333333333,
              "#9c179e"
             ],
             [
              0.4444444444444444,
              "#bd3786"
             ],
             [
              0.5555555555555556,
              "#d8576b"
             ],
             [
              0.6666666666666666,
              "#ed7953"
             ],
             [
              0.7777777777777778,
              "#fb9f3a"
             ],
             [
              0.8888888888888888,
              "#fdca26"
             ],
             [
              1,
              "#f0f921"
             ]
            ],
            "type": "histogram2d"
           }
          ],
          "histogram2dcontour": [
           {
            "colorbar": {
             "outlinewidth": 0,
             "ticks": ""
            },
            "colorscale": [
             [
              0,
              "#0d0887"
             ],
             [
              0.1111111111111111,
              "#46039f"
             ],
             [
              0.2222222222222222,
              "#7201a8"
             ],
             [
              0.3333333333333333,
              "#9c179e"
             ],
             [
              0.4444444444444444,
              "#bd3786"
             ],
             [
              0.5555555555555556,
              "#d8576b"
             ],
             [
              0.6666666666666666,
              "#ed7953"
             ],
             [
              0.7777777777777778,
              "#fb9f3a"
             ],
             [
              0.8888888888888888,
              "#fdca26"
             ],
             [
              1,
              "#f0f921"
             ]
            ],
            "type": "histogram2dcontour"
           }
          ],
          "mesh3d": [
           {
            "colorbar": {
             "outlinewidth": 0,
             "ticks": ""
            },
            "type": "mesh3d"
           }
          ],
          "parcoords": [
           {
            "line": {
             "colorbar": {
              "outlinewidth": 0,
              "ticks": ""
             }
            },
            "type": "parcoords"
           }
          ],
          "pie": [
           {
            "automargin": true,
            "type": "pie"
           }
          ],
          "scatter": [
           {
            "fillpattern": {
             "fillmode": "overlay",
             "size": 10,
             "solidity": 0.2
            },
            "type": "scatter"
           }
          ],
          "scatter3d": [
           {
            "line": {
             "colorbar": {
              "outlinewidth": 0,
              "ticks": ""
             }
            },
            "marker": {
             "colorbar": {
              "outlinewidth": 0,
              "ticks": ""
             }
            },
            "type": "scatter3d"
           }
          ],
          "scattercarpet": [
           {
            "marker": {
             "colorbar": {
              "outlinewidth": 0,
              "ticks": ""
             }
            },
            "type": "scattercarpet"
           }
          ],
          "scattergeo": [
           {
            "marker": {
             "colorbar": {
              "outlinewidth": 0,
              "ticks": ""
             }
            },
            "type": "scattergeo"
           }
          ],
          "scattergl": [
           {
            "marker": {
             "colorbar": {
              "outlinewidth": 0,
              "ticks": ""
             }
            },
            "type": "scattergl"
           }
          ],
          "scattermap": [
           {
            "marker": {
             "colorbar": {
              "outlinewidth": 0,
              "ticks": ""
             }
            },
            "type": "scattermap"
           }
          ],
          "scattermapbox": [
           {
            "marker": {
             "colorbar": {
              "outlinewidth": 0,
              "ticks": ""
             }
            },
            "type": "scattermapbox"
           }
          ],
          "scatterpolar": [
           {
            "marker": {
             "colorbar": {
              "outlinewidth": 0,
              "ticks": ""
             }
            },
            "type": "scatterpolar"
           }
          ],
          "scatterpolargl": [
           {
            "marker": {
             "colorbar": {
              "outlinewidth": 0,
              "ticks": ""
             }
            },
            "type": "scatterpolargl"
           }
          ],
          "scatterternary": [
           {
            "marker": {
             "colorbar": {
              "outlinewidth": 0,
              "ticks": ""
             }
            },
            "type": "scatterternary"
           }
          ],
          "surface": [
           {
            "colorbar": {
             "outlinewidth": 0,
             "ticks": ""
            },
            "colorscale": [
             [
              0,
              "#0d0887"
             ],
             [
              0.1111111111111111,
              "#46039f"
             ],
             [
              0.2222222222222222,
              "#7201a8"
             ],
             [
              0.3333333333333333,
              "#9c179e"
             ],
             [
              0.4444444444444444,
              "#bd3786"
             ],
             [
              0.5555555555555556,
              "#d8576b"
             ],
             [
              0.6666666666666666,
              "#ed7953"
             ],
             [
              0.7777777777777778,
              "#fb9f3a"
             ],
             [
              0.8888888888888888,
              "#fdca26"
             ],
             [
              1,
              "#f0f921"
             ]
            ],
            "type": "surface"
           }
          ],
          "table": [
           {
            "cells": {
             "fill": {
              "color": "#EBF0F8"
             },
             "line": {
              "color": "white"
             }
            },
            "header": {
             "fill": {
              "color": "#C8D4E3"
             },
             "line": {
              "color": "white"
             }
            },
            "type": "table"
           }
          ]
         },
         "layout": {
          "annotationdefaults": {
           "arrowcolor": "#2a3f5f",
           "arrowhead": 0,
           "arrowwidth": 1
          },
          "autotypenumbers": "strict",
          "coloraxis": {
           "colorbar": {
            "outlinewidth": 0,
            "ticks": ""
           }
          },
          "colorscale": {
           "diverging": [
            [
             0,
             "#8e0152"
            ],
            [
             0.1,
             "#c51b7d"
            ],
            [
             0.2,
             "#de77ae"
            ],
            [
             0.3,
             "#f1b6da"
            ],
            [
             0.4,
             "#fde0ef"
            ],
            [
             0.5,
             "#f7f7f7"
            ],
            [
             0.6,
             "#e6f5d0"
            ],
            [
             0.7,
             "#b8e186"
            ],
            [
             0.8,
             "#7fbc41"
            ],
            [
             0.9,
             "#4d9221"
            ],
            [
             1,
             "#276419"
            ]
           ],
           "sequential": [
            [
             0,
             "#0d0887"
            ],
            [
             0.1111111111111111,
             "#46039f"
            ],
            [
             0.2222222222222222,
             "#7201a8"
            ],
            [
             0.3333333333333333,
             "#9c179e"
            ],
            [
             0.4444444444444444,
             "#bd3786"
            ],
            [
             0.5555555555555556,
             "#d8576b"
            ],
            [
             0.6666666666666666,
             "#ed7953"
            ],
            [
             0.7777777777777778,
             "#fb9f3a"
            ],
            [
             0.8888888888888888,
             "#fdca26"
            ],
            [
             1,
             "#f0f921"
            ]
           ],
           "sequentialminus": [
            [
             0,
             "#0d0887"
            ],
            [
             0.1111111111111111,
             "#46039f"
            ],
            [
             0.2222222222222222,
             "#7201a8"
            ],
            [
             0.3333333333333333,
             "#9c179e"
            ],
            [
             0.4444444444444444,
             "#bd3786"
            ],
            [
             0.5555555555555556,
             "#d8576b"
            ],
            [
             0.6666666666666666,
             "#ed7953"
            ],
            [
             0.7777777777777778,
             "#fb9f3a"
            ],
            [
             0.8888888888888888,
             "#fdca26"
            ],
            [
             1,
             "#f0f921"
            ]
           ]
          },
          "colorway": [
           "#636efa",
           "#EF553B",
           "#00cc96",
           "#ab63fa",
           "#FFA15A",
           "#19d3f3",
           "#FF6692",
           "#B6E880",
           "#FF97FF",
           "#FECB52"
          ],
          "font": {
           "color": "#2a3f5f"
          },
          "geo": {
           "bgcolor": "white",
           "lakecolor": "white",
           "landcolor": "#E5ECF6",
           "showlakes": true,
           "showland": true,
           "subunitcolor": "white"
          },
          "hoverlabel": {
           "align": "left"
          },
          "hovermode": "closest",
          "mapbox": {
           "style": "light"
          },
          "paper_bgcolor": "white",
          "plot_bgcolor": "#E5ECF6",
          "polar": {
           "angularaxis": {
            "gridcolor": "white",
            "linecolor": "white",
            "ticks": ""
           },
           "bgcolor": "#E5ECF6",
           "radialaxis": {
            "gridcolor": "white",
            "linecolor": "white",
            "ticks": ""
           }
          },
          "scene": {
           "xaxis": {
            "backgroundcolor": "#E5ECF6",
            "gridcolor": "white",
            "gridwidth": 2,
            "linecolor": "white",
            "showbackground": true,
            "ticks": "",
            "zerolinecolor": "white"
           },
           "yaxis": {
            "backgroundcolor": "#E5ECF6",
            "gridcolor": "white",
            "gridwidth": 2,
            "linecolor": "white",
            "showbackground": true,
            "ticks": "",
            "zerolinecolor": "white"
           },
           "zaxis": {
            "backgroundcolor": "#E5ECF6",
            "gridcolor": "white",
            "gridwidth": 2,
            "linecolor": "white",
            "showbackground": true,
            "ticks": "",
            "zerolinecolor": "white"
           }
          },
          "shapedefaults": {
           "line": {
            "color": "#2a3f5f"
           }
          },
          "ternary": {
           "aaxis": {
            "gridcolor": "white",
            "linecolor": "white",
            "ticks": ""
           },
           "baxis": {
            "gridcolor": "white",
            "linecolor": "white",
            "ticks": ""
           },
           "bgcolor": "#E5ECF6",
           "caxis": {
            "gridcolor": "white",
            "linecolor": "white",
            "ticks": ""
           }
          },
          "title": {
           "x": 0.05
          },
          "xaxis": {
           "automargin": true,
           "gridcolor": "white",
           "linecolor": "white",
           "ticks": "",
           "title": {
            "standoff": 15
           },
           "zerolinecolor": "white",
           "zerolinewidth": 2
          },
          "yaxis": {
           "automargin": true,
           "gridcolor": "white",
           "linecolor": "white",
           "ticks": "",
           "title": {
            "standoff": 15
           },
           "zerolinecolor": "white",
           "zerolinewidth": 2
          }
         }
        },
        "title": {
         "text": "Sankey Diagram for model types"
        },
        "width": 1500
       }
      }
     },
     "metadata": {},
     "output_type": "display_data"
    }
   ],
   "source": [
    "# 1. Create unique labels\n",
    "labels = list(pd.concat([\n",
    "    df_sankey_models_transformed['gm'], \n",
    "    df_sankey_models_transformed['mit'], \n",
    "    df_sankey_models_transformed['oa']\n",
    "]).unique())\n",
    "\n",
    "# 2. Map labels to indices\n",
    "label_map = {label: idx for idx, label in enumerate(labels)}\n",
    "\n",
    "# 3. Define sources, targets, and values\n",
    "sources = df_sankey_models_transformed['gm'].map(label_map).tolist() + \\\n",
    "          df_sankey_models_transformed['mit'].map(label_map).tolist()\n",
    "\n",
    "targets = df_sankey_models_transformed['mit'].map(label_map).tolist() + \\\n",
    "          df_sankey_models_transformed['oa'].map(label_map).tolist()\n",
    "\n",
    "values = df_sankey_models_transformed['gm_count'].tolist() + \\\n",
    "         df_sankey_models_transformed['oa_count'].tolist()\n",
    "\n",
    "# 4. Generate pastel colors\n",
    "import random\n",
    "\n",
    "def pastel_color():\n",
    "    r = lambda: random.randint(100, 255)\n",
    "    return f'rgba({r()},{r()},{r()},0.6)'\n",
    "\n",
    "label_to_color = {label: pastel_color() for label in labels}\n",
    "node_color_list = [label_to_color[label] for label in labels]\n",
    "\n",
    "# 5. Set link colors by source node's color (first half) and middle node (second half)\n",
    "link_colors = [label_to_color[df_sankey_models_transformed['gm'].iloc[i]] \n",
    "               for i in range(len(df_sankey_models_transformed))] + \\\n",
    "              [label_to_color[df_sankey_models_transformed['mit'].iloc[i]] \n",
    "               for i in range(len(df_sankey_models_transformed))]\n",
    "\n",
    "# 7. Create the figure\n",
    "fig = go.Figure(data=[go.Sankey(\n",
    "    node=dict(\n",
    "        pad=15,\n",
    "        thickness=20,\n",
    "        line=dict(color=\"black\", width=0.9),\n",
    "        label=labels,\n",
    "        color=node_color_list,\n",
    "        align=\"left\"\n",
    "    ),\n",
    "    link=dict(\n",
    "        source=sources,\n",
    "        target=targets,\n",
    "        value=values,\n",
    "        color=link_colors,\n",
    "        customdata=df_sankey_models_transformed['nameyear'].tolist() * 2,\n",
    "        hovertemplate='%{customdata}<extra></extra>'\n",
    "    )\n",
    ")])\n",
    "\n",
    "fig.update_layout(\n",
    "    title_text=\"Sankey Diagram for model types\",\n",
    "    font_size=16.5,\n",
    "    width=1500,\n",
    "    height=800,\n",
    "    hovermode='x'\n",
    ")\n",
    "fig.show()\n",
    "\n",
    "fig.write_html(\"C:/Users/U727148/Latent_Variable_Supplement/sankey_models_plot.html\", include_plotlyjs=\"cdn\")"
   ]
  },
  {
   "cell_type": "markdown",
   "id": "f2778692",
   "metadata": {},
   "source": [
    "#### Variable Plots\n",
    "\n",
    "In these plots, I am modeling the flow of usage from 1. variable, 2. scale used, 3. type of assessment (self and other report, experimental, observational). This is for the psychopathic traits/CU traits variable, the behavioral variable, and the cognitive variable (for the brain variables, there was not enough data available).\n"
   ]
  },
  {
   "cell_type": "code",
   "execution_count": 13,
   "id": "10e7c495",
   "metadata": {},
   "outputs": [
    {
     "data": {
      "application/vnd.plotly.v1+json": {
       "config": {
        "plotlyServerURL": "https://plot.ly"
       },
       "data": [
        {
         "link": {
          "color": [
           "rgba(158,197,210,0.6)",
           "rgba(158,197,210,0.6)",
           "rgba(158,197,210,0.6)",
           "rgba(158,197,210,0.6)",
           "rgba(215,103,252,0.6)",
           "rgba(158,197,210,0.6)",
           "rgba(158,197,210,0.6)",
           "rgba(215,103,252,0.6)",
           "rgba(215,103,252,0.6)",
           "rgba(215,103,252,0.6)",
           "rgba(158,197,210,0.6)",
           "rgba(158,197,210,0.6)",
           "rgba(158,197,210,0.6)",
           "rgba(158,197,210,0.6)",
           "rgba(158,197,210,0.6)",
           "rgba(158,197,210,0.6)",
           "rgba(215,103,252,0.6)",
           "rgba(158,197,210,0.6)",
           "rgba(215,103,252,0.6)",
           "rgba(215,103,252,0.6)",
           "rgba(215,103,252,0.6)",
           "rgba(215,103,252,0.6)",
           "rgba(215,103,252,0.6)",
           "rgba(158,197,210,0.6)",
           "rgba(215,103,252,0.6)",
           "rgba(158,197,210,0.6)",
           "rgba(158,197,210,0.6)",
           "rgba(158,197,210,0.6)",
           "rgba(215,103,252,0.6)",
           "rgba(215,103,252,0.6)",
           "rgba(215,103,252,0.6)",
           "rgba(215,103,252,0.6)",
           "rgba(215,103,252,0.6)",
           "rgba(158,197,210,0.6)",
           "rgba(158,197,210,0.6)",
           "rgba(215,103,252,0.6)",
           "rgba(158,197,210,0.6)",
           "rgba(215,103,252,0.6)",
           "rgba(215,103,252,0.6)",
           "rgba(229,231,153,0.6)",
           "rgba(215,103,252,0.6)",
           "rgba(215,103,252,0.6)",
           "rgba(215,103,252,0.6)",
           "rgba(158,197,210,0.6)",
           "rgba(229,231,153,0.6)",
           "rgba(215,103,252,0.6)",
           "rgba(215,103,252,0.6)",
           "rgba(215,103,252,0.6)",
           "rgba(215,103,252,0.6)",
           "rgba(158,197,210,0.6)",
           "rgba(215,103,252,0.6)",
           "rgba(215,103,252,0.6)",
           "rgba(215,103,252,0.6)",
           "rgba(215,103,252,0.6)",
           "rgba(215,103,252,0.6)",
           "rgba(158,197,210,0.6)",
           "rgba(158,197,210,0.6)",
           "rgba(229,231,153,0.6)",
           "rgba(215,103,252,0.6)",
           "rgba(158,197,210,0.6)",
           "rgba(215,103,252,0.6)",
           "rgba(158,197,210,0.6)",
           "rgba(158,197,210,0.6)",
           "rgba(158,197,210,0.6)",
           "rgba(158,197,210,0.6)",
           "rgba(215,103,252,0.6)",
           "rgba(215,103,252,0.6)",
           "rgba(215,103,252,0.6)",
           "rgba(158,197,210,0.6)",
           "rgba(215,103,252,0.6)",
           "rgba(158,197,210,0.6)",
           "rgba(158,197,210,0.6)",
           "rgba(158,197,210,0.6)",
           "rgba(215,103,252,0.6)",
           "rgba(215,103,252,0.6)",
           "rgba(215,103,252,0.6)",
           "rgba(215,103,252,0.6)",
           "rgba(158,197,210,0.6)",
           "rgba(215,103,252,0.6)",
           "rgba(215,103,252,0.6)",
           "rgba(158,197,210,0.6)",
           "rgba(158,197,210,0.6)",
           "rgba(158,197,210,0.6)",
           "rgba(158,197,210,0.6)",
           "rgba(215,103,252,0.6)",
           "rgba(215,103,252,0.6)",
           "rgba(215,103,252,0.6)",
           "rgba(215,103,252,0.6)",
           "rgba(215,103,252,0.6)",
           "rgba(158,197,210,0.6)",
           "rgba(215,103,252,0.6)",
           "rgba(158,197,210,0.6)",
           "rgba(158,197,210,0.6)",
           "rgba(158,197,210,0.6)",
           "rgba(158,197,210,0.6)",
           "rgba(215,103,252,0.6)",
           "rgba(215,103,252,0.6)",
           "rgba(215,103,252,0.6)",
           "rgba(215,103,252,0.6)",
           "rgba(215,103,252,0.6)",
           "rgba(158,197,210,0.6)",
           "rgba(215,103,252,0.6)",
           "rgba(241,173,153,0.6)",
           "rgba(207,156,238,0.6)",
           "rgba(241,173,153,0.6)",
           "rgba(241,173,153,0.6)",
           "rgba(204,227,199,0.6)",
           "rgba(162,115,135,0.6)",
           "rgba(206,180,189,0.6)",
           "rgba(116,134,172,0.6)",
           "rgba(207,156,238,0.6)",
           "rgba(204,227,199,0.6)",
           "rgba(162,124,207,0.6)",
           "rgba(253,123,173,0.6)",
           "rgba(135,212,191,0.6)",
           "rgba(204,227,199,0.6)",
           "rgba(104,196,179,0.6)",
           "rgba(241,173,153,0.6)",
           "rgba(149,217,188,0.6)",
           "rgba(241,173,153,0.6)",
           "rgba(241,173,153,0.6)",
           "rgba(241,173,153,0.6)",
           "rgba(241,173,153,0.6)",
           "rgba(241,173,153,0.6)",
           "rgba(216,125,107,0.6)",
           "rgba(241,173,153,0.6)",
           "rgba(207,156,238,0.6)",
           "rgba(204,227,199,0.6)",
           "rgba(217,110,220,0.6)",
           "rgba(135,212,191,0.6)",
           "rgba(218,193,109,0.6)",
           "rgba(162,124,207,0.6)",
           "rgba(218,193,109,0.6)",
           "rgba(162,124,207,0.6)",
           "rgba(168,243,250,0.6)",
           "rgba(207,156,238,0.6)",
           "rgba(209,143,193,0.6)",
           "rgba(135,212,191,0.6)",
           "rgba(241,173,153,0.6)",
           "rgba(149,217,188,0.6)",
           "rgba(162,115,135,0.6)",
           "rgba(207,156,238,0.6)",
           "rgba(135,212,191,0.6)",
           "rgba(149,217,188,0.6)",
           "rgba(135,212,191,0.6)",
           "rgba(116,101,188,0.6)",
           "rgba(104,196,179,0.6)",
           "rgba(217,110,220,0.6)",
           "rgba(207,156,238,0.6)",
           "rgba(104,196,179,0.6)",
           "rgba(218,193,109,0.6)",
           "rgba(207,156,238,0.6)",
           "rgba(176,239,184,0.6)",
           "rgba(241,173,153,0.6)",
           "rgba(230,226,117,0.6)",
           "rgba(135,212,191,0.6)",
           "rgba(207,156,238,0.6)",
           "rgba(241,173,153,0.6)",
           "rgba(180,199,207,0.6)",
           "rgba(204,227,199,0.6)",
           "rgba(230,226,117,0.6)",
           "rgba(162,115,135,0.6)",
           "rgba(207,156,238,0.6)",
           "rgba(162,124,207,0.6)",
           "rgba(162,115,135,0.6)",
           "rgba(180,199,207,0.6)",
           "rgba(204,227,199,0.6)",
           "rgba(162,115,135,0.6)",
           "rgba(204,227,199,0.6)",
           "rgba(218,193,109,0.6)",
           "rgba(162,115,135,0.6)",
           "rgba(204,227,199,0.6)",
           "rgba(155,114,248,0.6)",
           "rgba(247,241,157,0.6)",
           "rgba(162,115,135,0.6)",
           "rgba(241,173,153,0.6)",
           "rgba(241,173,153,0.6)",
           "rgba(180,199,207,0.6)",
           "rgba(204,227,199,0.6)",
           "rgba(162,115,135,0.6)",
           "rgba(241,173,153,0.6)",
           "rgba(207,156,238,0.6)",
           "rgba(241,173,153,0.6)",
           "rgba(217,110,220,0.6)",
           "rgba(241,173,153,0.6)",
           "rgba(177,238,115,0.6)",
           "rgba(207,156,238,0.6)",
           "rgba(204,227,199,0.6)",
           "rgba(207,156,238,0.6)",
           "rgba(162,115,135,0.6)",
           "rgba(204,227,199,0.6)",
           "rgba(241,173,153,0.6)",
           "rgba(204,227,199,0.6)",
           "rgba(241,173,153,0.6)",
           "rgba(241,173,153,0.6)",
           "rgba(217,110,220,0.6)",
           "rgba(255,105,131,0.6)",
           "rgba(207,156,238,0.6)",
           "rgba(162,115,135,0.6)",
           "rgba(121,212,166,0.6)",
           "rgba(207,156,238,0.6)",
           "rgba(104,175,171,0.6)",
           "rgba(241,173,153,0.6)",
           "rgba(207,156,238,0.6)"
          ],
          "customdata": [
           "Winters 2025",
           "Ciesenski 2024",
           "Kemp 2024",
           "Kemp 2024",
           "Castagna 2024",
           "Cohn 2024",
           "Elster 2024",
           "Neumann 2024",
           "Međedovic 2024",
           "Roy 2023",
           "Joyner 2024",
           "Brislin 2024",
           "Shields 2024",
           "Shields 2024",
           "Alvarez-Voces 2024",
           "Tillem 2023",
           "Murray 2022",
           "Dugre 2023",
           "Pechorro 2023",
           "Payot 2022",
           "Hare 2022",
           "Colins  2022",
           "Gong 2022",
           "Sellbom 2022",
           "Drislane 2022",
           "Dugre 2022",
           "Wissenburg 2022",
           "Voulgaridou 2022",
           "Willoughby 2022",
           "Willoughby 2022",
           "Willoughby 2022",
           "Michielsen 2022",
           "Woerhle 2022",
           "Friedman 2021",
           "Lopez-Romero 2021",
           "Harrop 2021",
           "Sellbom 2021",
           "Byrd 2021",
           "Goulter 2021",
           "Gillespie 2021",
           "Hawes 2021",
           "Roy 2021",
           "Altikriti 2020",
           "Breaux 2020",
           "Breaux 2020",
           "Maneiro 2020",
           "Wang 2020",
           "Wang 2020",
           "Lehmann 2019",
           "Piehler 2019",
           "Docherty 2019",
           "Maneiro 2019",
           "Maneiro 2019",
           "Maneiro 2019",
           "Waller 2019",
           "Goulter 2019",
           "Colins  2018",
           "Byrd 2018",
           "Adjorlolo 2018",
           "Carre 2018",
           "Dubas  2018",
           "Driessen 2018",
           "Boduszek 2017",
           "Fanti 2017",
           "Barhight 2017",
           "Barhight 2017",
           "Hawes  2017",
           "Colins 2017",
           "Fanti 2017",
           "Krstic 2017",
           "Krstic 2017",
           "Krstic 2017",
           "Ray 2016",
           "Muratori 2016",
           "Wall 2016",
           "Andrade 2016",
           "Mokros 2015",
           "Dhingra 2015",
           "Neumann 2014",
           "Neumann 2014",
           "White 2014",
           "Pardini 2013",
           "Fanti 2013",
           "Fanti 2013",
           "Hawes 2013",
           "Kimonis 2011",
           "Nijhof 2011",
           "Nijhof 2011",
           "Neumann 2010",
           "Blonigen 2010",
           "Kimonis 2008",
           "Vitacco 2006",
           "Winters 2025",
           "Ciesenski 2024",
           "Kemp 2024",
           "Kemp 2024",
           "Castagna 2024",
           "Cohn 2024",
           "Elster 2024",
           "Neumann 2024",
           "Međedovic 2024",
           "Roy 2023",
           "Joyner 2024",
           "Brislin 2024",
           "Shields 2024",
           "Shields 2024",
           "Alvarez-Voces 2024",
           "Tillem 2023",
           "Murray 2022",
           "Dugre 2023",
           "Pechorro 2023",
           "Payot 2022",
           "Hare 2022",
           "Colins  2022",
           "Gong 2022",
           "Sellbom 2022",
           "Drislane 2022",
           "Dugre 2022",
           "Wissenburg 2022",
           "Voulgaridou 2022",
           "Willoughby 2022",
           "Willoughby 2022",
           "Willoughby 2022",
           "Michielsen 2022",
           "Woerhle 2022",
           "Friedman 2021",
           "Lopez-Romero 2021",
           "Harrop 2021",
           "Sellbom 2021",
           "Byrd 2021",
           "Goulter 2021",
           "Gillespie 2021",
           "Hawes 2021",
           "Roy 2021",
           "Altikriti 2020",
           "Breaux 2020",
           "Breaux 2020",
           "Maneiro 2020",
           "Wang 2020",
           "Wang 2020",
           "Lehmann 2019",
           "Piehler 2019",
           "Docherty 2019",
           "Maneiro 2019",
           "Maneiro 2019",
           "Maneiro 2019",
           "Waller 2019",
           "Goulter 2019",
           "Colins  2018",
           "Byrd 2018",
           "Adjorlolo 2018",
           "Carre 2018",
           "Dubas  2018",
           "Driessen 2018",
           "Boduszek 2017",
           "Fanti 2017",
           "Barhight 2017",
           "Barhight 2017",
           "Hawes  2017",
           "Colins 2017",
           "Fanti 2017",
           "Krstic 2017",
           "Krstic 2017",
           "Krstic 2017",
           "Ray 2016",
           "Muratori 2016",
           "Wall 2016",
           "Andrade 2016",
           "Mokros 2015",
           "Dhingra 2015",
           "Neumann 2014",
           "Neumann 2014",
           "White 2014",
           "Pardini 2013",
           "Fanti 2013",
           "Fanti 2013",
           "Hawes 2013",
           "Kimonis 2011",
           "Nijhof 2011",
           "Nijhof 2011",
           "Neumann 2010",
           "Blonigen 2010",
           "Kimonis 2008",
           "Vitacco 2006"
          ],
          "hovertemplate": "%{customdata}<extra></extra>",
          "source": [
           0,
           0,
           0,
           0,
           1,
           0,
           0,
           1,
           1,
           1,
           0,
           0,
           0,
           0,
           0,
           0,
           1,
           0,
           1,
           1,
           1,
           1,
           1,
           0,
           1,
           0,
           0,
           0,
           1,
           1,
           1,
           1,
           1,
           0,
           0,
           1,
           0,
           1,
           1,
           2,
           1,
           1,
           1,
           0,
           2,
           1,
           1,
           1,
           1,
           0,
           1,
           1,
           1,
           1,
           1,
           0,
           0,
           2,
           1,
           0,
           1,
           0,
           0,
           0,
           0,
           1,
           1,
           1,
           0,
           1,
           0,
           0,
           0,
           1,
           1,
           1,
           1,
           0,
           1,
           1,
           0,
           0,
           0,
           0,
           1,
           1,
           1,
           1,
           1,
           0,
           1,
           0,
           0,
           0,
           0,
           1,
           1,
           1,
           1,
           1,
           0,
           1,
           3,
           4,
           3,
           3,
           5,
           6,
           7,
           8,
           4,
           5,
           9,
           10,
           11,
           5,
           12,
           3,
           13,
           3,
           3,
           3,
           3,
           3,
           14,
           3,
           4,
           5,
           15,
           11,
           16,
           9,
           16,
           9,
           17,
           4,
           18,
           11,
           3,
           13,
           6,
           4,
           11,
           13,
           11,
           19,
           12,
           15,
           4,
           12,
           16,
           4,
           20,
           3,
           21,
           11,
           4,
           3,
           22,
           5,
           21,
           6,
           4,
           9,
           6,
           22,
           5,
           6,
           5,
           16,
           6,
           5,
           23,
           24,
           6,
           3,
           3,
           22,
           5,
           6,
           3,
           4,
           3,
           15,
           3,
           25,
           4,
           5,
           4,
           6,
           5,
           3,
           5,
           3,
           3,
           15,
           26,
           4,
           6,
           27,
           4,
           28,
           3,
           4
          ],
          "target": [
           3,
           4,
           3,
           3,
           5,
           6,
           7,
           8,
           4,
           5,
           9,
           10,
           11,
           5,
           12,
           3,
           13,
           3,
           3,
           3,
           3,
           3,
           14,
           3,
           4,
           5,
           15,
           11,
           16,
           9,
           16,
           9,
           17,
           4,
           18,
           11,
           3,
           13,
           6,
           4,
           11,
           13,
           11,
           19,
           12,
           15,
           4,
           12,
           16,
           4,
           20,
           3,
           21,
           11,
           4,
           3,
           22,
           5,
           21,
           6,
           4,
           9,
           6,
           22,
           5,
           6,
           5,
           16,
           6,
           5,
           23,
           24,
           6,
           3,
           3,
           22,
           5,
           6,
           3,
           4,
           3,
           15,
           3,
           25,
           4,
           5,
           4,
           6,
           5,
           3,
           5,
           3,
           3,
           15,
           26,
           4,
           6,
           27,
           4,
           28,
           3,
           4,
           29,
           30,
           30,
           29,
           30,
           29,
           29,
           30,
           30,
           30,
           30,
           30,
           30,
           30,
           29,
           29,
           29,
           30,
           29,
           30,
           29,
           29,
           30,
           29,
           31,
           30,
           30,
           30,
           30,
           30,
           30,
           30,
           30,
           29,
           29,
           30,
           29,
           29,
           29,
           31,
           30,
           29,
           30,
           30,
           29,
           29,
           29,
           29,
           30,
           31,
           29,
           29,
           30,
           30,
           31,
           29,
           30,
           29,
           30,
           30,
           31,
           30,
           30,
           29,
           30,
           30,
           30,
           30,
           30,
           30,
           30,
           29,
           29,
           30,
           29,
           30,
           31,
           30,
           29,
           31,
           29,
           29,
           29,
           29,
           31,
           30,
           31,
           30,
           30,
           29,
           30,
           29,
           30,
           29,
           29,
           31,
           30,
           30,
           31,
           30,
           29,
           31
          ],
          "value": [
           44,
           44,
           44,
           44,
           55,
           44,
           44,
           55,
           55,
           55,
           44,
           44,
           44,
           44,
           44,
           44,
           55,
           44,
           55,
           55,
           55,
           55,
           55,
           44,
           55,
           44,
           44,
           44,
           55,
           55,
           55,
           55,
           55,
           44,
           44,
           55,
           44,
           55,
           55,
           3,
           55,
           55,
           55,
           44,
           3,
           55,
           55,
           55,
           55,
           44,
           55,
           55,
           55,
           55,
           55,
           44,
           44,
           3,
           55,
           44,
           55,
           44,
           44,
           44,
           44,
           55,
           55,
           55,
           44,
           55,
           44,
           44,
           44,
           55,
           55,
           55,
           55,
           44,
           55,
           55,
           44,
           44,
           44,
           44,
           55,
           55,
           55,
           55,
           55,
           44,
           55,
           44,
           44,
           44,
           44,
           55,
           55,
           55,
           55,
           55,
           44,
           55,
           39,
           51,
           51,
           39,
           51,
           39,
           39,
           51,
           51,
           51,
           51,
           51,
           51,
           51,
           39,
           39,
           39,
           51,
           39,
           51,
           39,
           39,
           51,
           39,
           12,
           51,
           51,
           51,
           51,
           51,
           51,
           51,
           51,
           39,
           39,
           51,
           39,
           39,
           39,
           12,
           51,
           39,
           51,
           51,
           39,
           39,
           39,
           39,
           51,
           12,
           39,
           39,
           51,
           51,
           12,
           39,
           51,
           39,
           51,
           51,
           12,
           51,
           51,
           39,
           51,
           51,
           51,
           51,
           51,
           51,
           51,
           39,
           39,
           51,
           39,
           51,
           12,
           51,
           39,
           12,
           39,
           39,
           39,
           39,
           12,
           51,
           12,
           51,
           51,
           39,
           51,
           39,
           51,
           39,
           39,
           12,
           51,
           51,
           12,
           51,
           39,
           12
          ]
         },
         "node": {
          "align": "left",
          "color": [
           "rgba(158,197,210,0.6)",
           "rgba(215,103,252,0.6)",
           "rgba(229,231,153,0.6)",
           "rgba(241,173,153,0.6)",
           "rgba(207,156,238,0.6)",
           "rgba(204,227,199,0.6)",
           "rgba(162,115,135,0.6)",
           "rgba(206,180,189,0.6)",
           "rgba(116,134,172,0.6)",
           "rgba(162,124,207,0.6)",
           "rgba(253,123,173,0.6)",
           "rgba(135,212,191,0.6)",
           "rgba(104,196,179,0.6)",
           "rgba(149,217,188,0.6)",
           "rgba(216,125,107,0.6)",
           "rgba(217,110,220,0.6)",
           "rgba(218,193,109,0.6)",
           "rgba(168,243,250,0.6)",
           "rgba(209,143,193,0.6)",
           "rgba(116,101,188,0.6)",
           "rgba(176,239,184,0.6)",
           "rgba(230,226,117,0.6)",
           "rgba(180,199,207,0.6)",
           "rgba(155,114,248,0.6)",
           "rgba(247,241,157,0.6)",
           "rgba(177,238,115,0.6)",
           "rgba(255,105,131,0.6)",
           "rgba(121,212,166,0.6)",
           "rgba(104,175,171,0.6)",
           "rgba(173,108,163,0.6)",
           "rgba(160,141,253,0.6)",
           "rgba(253,202,241,0.6)"
          ],
          "label": [
           "cu traits",
           "psychopathic traits",
           "cu traits; psychopathic traits",
           "Inventory of Callous-Unemotional Traits (ICU)",
           "Psychopathy Checklist: Revised (PCL-R)",
           "Self Report Psychopathy Scale (SRP)",
           "Youth Psychopathic Traits Inventory (YPI)",
           "Proposed Specifiers for Conduct Disorder Scale (PSDC)",
           "Short Psychopathy Rating Scale (SPRS)",
           "Psychopathic Personality Inventory (PPI)",
           "Elemental Psychopathy Assessment (EPA)",
           "Levenson Self Report Psychopathy Rating scale (LSRP)",
           "ABCD cu trait scale (SDQ/CBCL)",
           "Child Problematic Traits Inventory (CPTI)",
           "Short Dark Tetrad (SD4)",
           "Antisocial Process Screening Device (APSD)",
           "Triarchic Psychopathy Measure (TriPM)",
           "Minnesota Multiphasic Personality Inventory-Triarchic (MMPI-Tri)",
           "Hurtful and Uncaring Behavior Scale (HUB)",
           "Comprehensive Assessment of Psychopathic Personality (CAPP)",
           "Child Psychopathy Scale (CPS)",
           "Dark Triad Dirty Dozen",
           "Teacher Report Form Interpersonal Calloussness (TRF-IC)",
           "Psychopathic Personality Traits Scale (PPTS)",
           "Achenbach System of Empirically Based Assessment (ASEBA)",
           "Callous-Unemotional Traits—Brief Measure (3 items)",
           "Strengths and Difficulties Questionnaire (SDQ)",
           "Minnesota Temperament Inventory (MTI)",
           "Psychoapthic Personality Inventory (PPI)",
           "other report",
           "self report",
           "interview"
          ],
          "line": {
           "color": "black",
           "width": 0.9
          },
          "pad": 15,
          "thickness": 20
         },
         "type": "sankey"
        }
       ],
       "layout": {
        "font": {
         "size": 16.5
        },
        "height": 800,
        "hovermode": "x",
        "template": {
         "data": {
          "bar": [
           {
            "error_x": {
             "color": "#2a3f5f"
            },
            "error_y": {
             "color": "#2a3f5f"
            },
            "marker": {
             "line": {
              "color": "#E5ECF6",
              "width": 0.5
             },
             "pattern": {
              "fillmode": "overlay",
              "size": 10,
              "solidity": 0.2
             }
            },
            "type": "bar"
           }
          ],
          "barpolar": [
           {
            "marker": {
             "line": {
              "color": "#E5ECF6",
              "width": 0.5
             },
             "pattern": {
              "fillmode": "overlay",
              "size": 10,
              "solidity": 0.2
             }
            },
            "type": "barpolar"
           }
          ],
          "carpet": [
           {
            "aaxis": {
             "endlinecolor": "#2a3f5f",
             "gridcolor": "white",
             "linecolor": "white",
             "minorgridcolor": "white",
             "startlinecolor": "#2a3f5f"
            },
            "baxis": {
             "endlinecolor": "#2a3f5f",
             "gridcolor": "white",
             "linecolor": "white",
             "minorgridcolor": "white",
             "startlinecolor": "#2a3f5f"
            },
            "type": "carpet"
           }
          ],
          "choropleth": [
           {
            "colorbar": {
             "outlinewidth": 0,
             "ticks": ""
            },
            "type": "choropleth"
           }
          ],
          "contour": [
           {
            "colorbar": {
             "outlinewidth": 0,
             "ticks": ""
            },
            "colorscale": [
             [
              0,
              "#0d0887"
             ],
             [
              0.1111111111111111,
              "#46039f"
             ],
             [
              0.2222222222222222,
              "#7201a8"
             ],
             [
              0.3333333333333333,
              "#9c179e"
             ],
             [
              0.4444444444444444,
              "#bd3786"
             ],
             [
              0.5555555555555556,
              "#d8576b"
             ],
             [
              0.6666666666666666,
              "#ed7953"
             ],
             [
              0.7777777777777778,
              "#fb9f3a"
             ],
             [
              0.8888888888888888,
              "#fdca26"
             ],
             [
              1,
              "#f0f921"
             ]
            ],
            "type": "contour"
           }
          ],
          "contourcarpet": [
           {
            "colorbar": {
             "outlinewidth": 0,
             "ticks": ""
            },
            "type": "contourcarpet"
           }
          ],
          "heatmap": [
           {
            "colorbar": {
             "outlinewidth": 0,
             "ticks": ""
            },
            "colorscale": [
             [
              0,
              "#0d0887"
             ],
             [
              0.1111111111111111,
              "#46039f"
             ],
             [
              0.2222222222222222,
              "#7201a8"
             ],
             [
              0.3333333333333333,
              "#9c179e"
             ],
             [
              0.4444444444444444,
              "#bd3786"
             ],
             [
              0.5555555555555556,
              "#d8576b"
             ],
             [
              0.6666666666666666,
              "#ed7953"
             ],
             [
              0.7777777777777778,
              "#fb9f3a"
             ],
             [
              0.8888888888888888,
              "#fdca26"
             ],
             [
              1,
              "#f0f921"
             ]
            ],
            "type": "heatmap"
           }
          ],
          "histogram": [
           {
            "marker": {
             "pattern": {
              "fillmode": "overlay",
              "size": 10,
              "solidity": 0.2
             }
            },
            "type": "histogram"
           }
          ],
          "histogram2d": [
           {
            "colorbar": {
             "outlinewidth": 0,
             "ticks": ""
            },
            "colorscale": [
             [
              0,
              "#0d0887"
             ],
             [
              0.1111111111111111,
              "#46039f"
             ],
             [
              0.2222222222222222,
              "#7201a8"
             ],
             [
              0.3333333333333333,
              "#9c179e"
             ],
             [
              0.4444444444444444,
              "#bd3786"
             ],
             [
              0.5555555555555556,
              "#d8576b"
             ],
             [
              0.6666666666666666,
              "#ed7953"
             ],
             [
              0.7777777777777778,
              "#fb9f3a"
             ],
             [
              0.8888888888888888,
              "#fdca26"
             ],
             [
              1,
              "#f0f921"
             ]
            ],
            "type": "histogram2d"
           }
          ],
          "histogram2dcontour": [
           {
            "colorbar": {
             "outlinewidth": 0,
             "ticks": ""
            },
            "colorscale": [
             [
              0,
              "#0d0887"
             ],
             [
              0.1111111111111111,
              "#46039f"
             ],
             [
              0.2222222222222222,
              "#7201a8"
             ],
             [
              0.3333333333333333,
              "#9c179e"
             ],
             [
              0.4444444444444444,
              "#bd3786"
             ],
             [
              0.5555555555555556,
              "#d8576b"
             ],
             [
              0.6666666666666666,
              "#ed7953"
             ],
             [
              0.7777777777777778,
              "#fb9f3a"
             ],
             [
              0.8888888888888888,
              "#fdca26"
             ],
             [
              1,
              "#f0f921"
             ]
            ],
            "type": "histogram2dcontour"
           }
          ],
          "mesh3d": [
           {
            "colorbar": {
             "outlinewidth": 0,
             "ticks": ""
            },
            "type": "mesh3d"
           }
          ],
          "parcoords": [
           {
            "line": {
             "colorbar": {
              "outlinewidth": 0,
              "ticks": ""
             }
            },
            "type": "parcoords"
           }
          ],
          "pie": [
           {
            "automargin": true,
            "type": "pie"
           }
          ],
          "scatter": [
           {
            "fillpattern": {
             "fillmode": "overlay",
             "size": 10,
             "solidity": 0.2
            },
            "type": "scatter"
           }
          ],
          "scatter3d": [
           {
            "line": {
             "colorbar": {
              "outlinewidth": 0,
              "ticks": ""
             }
            },
            "marker": {
             "colorbar": {
              "outlinewidth": 0,
              "ticks": ""
             }
            },
            "type": "scatter3d"
           }
          ],
          "scattercarpet": [
           {
            "marker": {
             "colorbar": {
              "outlinewidth": 0,
              "ticks": ""
             }
            },
            "type": "scattercarpet"
           }
          ],
          "scattergeo": [
           {
            "marker": {
             "colorbar": {
              "outlinewidth": 0,
              "ticks": ""
             }
            },
            "type": "scattergeo"
           }
          ],
          "scattergl": [
           {
            "marker": {
             "colorbar": {
              "outlinewidth": 0,
              "ticks": ""
             }
            },
            "type": "scattergl"
           }
          ],
          "scattermap": [
           {
            "marker": {
             "colorbar": {
              "outlinewidth": 0,
              "ticks": ""
             }
            },
            "type": "scattermap"
           }
          ],
          "scattermapbox": [
           {
            "marker": {
             "colorbar": {
              "outlinewidth": 0,
              "ticks": ""
             }
            },
            "type": "scattermapbox"
           }
          ],
          "scatterpolar": [
           {
            "marker": {
             "colorbar": {
              "outlinewidth": 0,
              "ticks": ""
             }
            },
            "type": "scatterpolar"
           }
          ],
          "scatterpolargl": [
           {
            "marker": {
             "colorbar": {
              "outlinewidth": 0,
              "ticks": ""
             }
            },
            "type": "scatterpolargl"
           }
          ],
          "scatterternary": [
           {
            "marker": {
             "colorbar": {
              "outlinewidth": 0,
              "ticks": ""
             }
            },
            "type": "scatterternary"
           }
          ],
          "surface": [
           {
            "colorbar": {
             "outlinewidth": 0,
             "ticks": ""
            },
            "colorscale": [
             [
              0,
              "#0d0887"
             ],
             [
              0.1111111111111111,
              "#46039f"
             ],
             [
              0.2222222222222222,
              "#7201a8"
             ],
             [
              0.3333333333333333,
              "#9c179e"
             ],
             [
              0.4444444444444444,
              "#bd3786"
             ],
             [
              0.5555555555555556,
              "#d8576b"
             ],
             [
              0.6666666666666666,
              "#ed7953"
             ],
             [
              0.7777777777777778,
              "#fb9f3a"
             ],
             [
              0.8888888888888888,
              "#fdca26"
             ],
             [
              1,
              "#f0f921"
             ]
            ],
            "type": "surface"
           }
          ],
          "table": [
           {
            "cells": {
             "fill": {
              "color": "#EBF0F8"
             },
             "line": {
              "color": "white"
             }
            },
            "header": {
             "fill": {
              "color": "#C8D4E3"
             },
             "line": {
              "color": "white"
             }
            },
            "type": "table"
           }
          ]
         },
         "layout": {
          "annotationdefaults": {
           "arrowcolor": "#2a3f5f",
           "arrowhead": 0,
           "arrowwidth": 1
          },
          "autotypenumbers": "strict",
          "coloraxis": {
           "colorbar": {
            "outlinewidth": 0,
            "ticks": ""
           }
          },
          "colorscale": {
           "diverging": [
            [
             0,
             "#8e0152"
            ],
            [
             0.1,
             "#c51b7d"
            ],
            [
             0.2,
             "#de77ae"
            ],
            [
             0.3,
             "#f1b6da"
            ],
            [
             0.4,
             "#fde0ef"
            ],
            [
             0.5,
             "#f7f7f7"
            ],
            [
             0.6,
             "#e6f5d0"
            ],
            [
             0.7,
             "#b8e186"
            ],
            [
             0.8,
             "#7fbc41"
            ],
            [
             0.9,
             "#4d9221"
            ],
            [
             1,
             "#276419"
            ]
           ],
           "sequential": [
            [
             0,
             "#0d0887"
            ],
            [
             0.1111111111111111,
             "#46039f"
            ],
            [
             0.2222222222222222,
             "#7201a8"
            ],
            [
             0.3333333333333333,
             "#9c179e"
            ],
            [
             0.4444444444444444,
             "#bd3786"
            ],
            [
             0.5555555555555556,
             "#d8576b"
            ],
            [
             0.6666666666666666,
             "#ed7953"
            ],
            [
             0.7777777777777778,
             "#fb9f3a"
            ],
            [
             0.8888888888888888,
             "#fdca26"
            ],
            [
             1,
             "#f0f921"
            ]
           ],
           "sequentialminus": [
            [
             0,
             "#0d0887"
            ],
            [
             0.1111111111111111,
             "#46039f"
            ],
            [
             0.2222222222222222,
             "#7201a8"
            ],
            [
             0.3333333333333333,
             "#9c179e"
            ],
            [
             0.4444444444444444,
             "#bd3786"
            ],
            [
             0.5555555555555556,
             "#d8576b"
            ],
            [
             0.6666666666666666,
             "#ed7953"
            ],
            [
             0.7777777777777778,
             "#fb9f3a"
            ],
            [
             0.8888888888888888,
             "#fdca26"
            ],
            [
             1,
             "#f0f921"
            ]
           ]
          },
          "colorway": [
           "#636efa",
           "#EF553B",
           "#00cc96",
           "#ab63fa",
           "#FFA15A",
           "#19d3f3",
           "#FF6692",
           "#B6E880",
           "#FF97FF",
           "#FECB52"
          ],
          "font": {
           "color": "#2a3f5f"
          },
          "geo": {
           "bgcolor": "white",
           "lakecolor": "white",
           "landcolor": "#E5ECF6",
           "showlakes": true,
           "showland": true,
           "subunitcolor": "white"
          },
          "hoverlabel": {
           "align": "left"
          },
          "hovermode": "closest",
          "mapbox": {
           "style": "light"
          },
          "paper_bgcolor": "white",
          "plot_bgcolor": "#E5ECF6",
          "polar": {
           "angularaxis": {
            "gridcolor": "white",
            "linecolor": "white",
            "ticks": ""
           },
           "bgcolor": "#E5ECF6",
           "radialaxis": {
            "gridcolor": "white",
            "linecolor": "white",
            "ticks": ""
           }
          },
          "scene": {
           "xaxis": {
            "backgroundcolor": "#E5ECF6",
            "gridcolor": "white",
            "gridwidth": 2,
            "linecolor": "white",
            "showbackground": true,
            "ticks": "",
            "zerolinecolor": "white"
           },
           "yaxis": {
            "backgroundcolor": "#E5ECF6",
            "gridcolor": "white",
            "gridwidth": 2,
            "linecolor": "white",
            "showbackground": true,
            "ticks": "",
            "zerolinecolor": "white"
           },
           "zaxis": {
            "backgroundcolor": "#E5ECF6",
            "gridcolor": "white",
            "gridwidth": 2,
            "linecolor": "white",
            "showbackground": true,
            "ticks": "",
            "zerolinecolor": "white"
           }
          },
          "shapedefaults": {
           "line": {
            "color": "#2a3f5f"
           }
          },
          "ternary": {
           "aaxis": {
            "gridcolor": "white",
            "linecolor": "white",
            "ticks": ""
           },
           "baxis": {
            "gridcolor": "white",
            "linecolor": "white",
            "ticks": ""
           },
           "bgcolor": "#E5ECF6",
           "caxis": {
            "gridcolor": "white",
            "linecolor": "white",
            "ticks": ""
           }
          },
          "title": {
           "x": 0.05
          },
          "xaxis": {
           "automargin": true,
           "gridcolor": "white",
           "linecolor": "white",
           "ticks": "",
           "title": {
            "standoff": 15
           },
           "zerolinecolor": "white",
           "zerolinewidth": 2
          },
          "yaxis": {
           "automargin": true,
           "gridcolor": "white",
           "linecolor": "white",
           "ticks": "",
           "title": {
            "standoff": 15
           },
           "zerolinecolor": "white",
           "zerolinewidth": 2
          }
         }
        },
        "title": {
         "text": "Sankey Diagram for psychopathic/CU traits, scales, and assessment types"
        },
        "width": 1500
       }
      }
     },
     "metadata": {},
     "output_type": "display_data"
    }
   ],
   "source": [
    "# 1. Create unique labels\n",
    "labels = list(pd.concat([\n",
    "    df_sankey_cups['p_or_cu'], \n",
    "    df_sankey_cups['scale'], \n",
    "    df_sankey_cups['reporting_type']\n",
    "]).unique())\n",
    "\n",
    "# 2. Map labels to indices\n",
    "label_map = {label: idx for idx, label in enumerate(labels)}\n",
    "\n",
    "# 3. Define sources, targets, and values\n",
    "sources = df_sankey_cups['p_or_cu'].map(label_map).tolist() + \\\n",
    "          df_sankey_cups['scale'].map(label_map).tolist()\n",
    "\n",
    "targets = df_sankey_cups['scale'].map(label_map).tolist() + \\\n",
    "          df_sankey_cups['reporting_type'].map(label_map).tolist()\n",
    "\n",
    "values = df_sankey_cups['pcu_count'].tolist() + \\\n",
    "         df_sankey_cups['reporttype_count'].tolist()\n",
    "\n",
    "# 4. Generate pastel colors\n",
    "import random\n",
    "\n",
    "def pastel_color():\n",
    "    r = lambda: random.randint(100, 255)\n",
    "    return f'rgba({r()},{r()},{r()},0.6)'\n",
    "\n",
    "label_to_color = {label: pastel_color() for label in labels}\n",
    "node_color_list = [label_to_color[label] for label in labels]\n",
    "\n",
    "# 5. Set link colors by source node's color (first half) and middle node (second half)\n",
    "link_colors = [label_to_color[df_sankey_cups['p_or_cu'].iloc[i]] \n",
    "               for i in range(len(df_sankey_cups))] + \\\n",
    "              [label_to_color[df_sankey_cups['scale'].iloc[i]] \n",
    "               for i in range(len(df_sankey_cups))]\n",
    "\n",
    "# 7. Create the figure\n",
    "fig = go.Figure(data=[go.Sankey(\n",
    "    node=dict(\n",
    "        pad=15,\n",
    "        thickness=20,\n",
    "        line=dict(color=\"black\", width=0.9),\n",
    "        label=labels,\n",
    "        color=node_color_list,\n",
    "        align=\"left\"\n",
    "    ),\n",
    "    link=dict(\n",
    "        source=sources,\n",
    "        target=targets,\n",
    "        value=values,\n",
    "        color=link_colors,\n",
    "        customdata=df_sankey_models_transformed['nameyear'].tolist() * 2,\n",
    "        hovertemplate='%{customdata}<extra></extra>'\n",
    "    )\n",
    ")])\n",
    "\n",
    "fig.update_layout(\n",
    "    title_text=\"Sankey Diagram for psychopathic/CU traits, scales, and assessment types\",\n",
    "    font_size=16.5,\n",
    "    width=1500,\n",
    "    height=800,\n",
    "    hovermode='x'\n",
    ")\n",
    "fig.show()\n",
    "\n",
    "fig.write_html(\"C:/Users/U727148/Latent_Variable_Supplement/sankey_pcu_plot.html\", include_plotlyjs=\"cdn\")"
   ]
  },
  {
   "cell_type": "code",
   "execution_count": 27,
   "id": "19b5d9fc",
   "metadata": {},
   "outputs": [],
   "source": [
    "#adding count vars to the behavioral variables based on how many times they appear in the data\n",
    "#we add a new column to the df_sankey_beh dataframe that counts the number of times each behavioral variable appears in the data\n",
    "df_sankey_beh['b_count'] = df_sankey_beh['behavioral_variable'].map(df_sankey_beh['behavioral_variable'].value_counts())\n",
    "df_sankey_beh['ss_count'] = df_sankey_beh['scale_summarized'].map(df_sankey_beh['scale_summarized'].value_counts())\n",
    "df_sankey_beh['a_count'] = df_sankey_beh['behavioral_assessment'].map(df_sankey_beh['behavioral_assessment'].value_counts())\n",
    "df_sankey_beh['at_count'] = df_sankey_beh['behavioral_assessment_type'].map(df_sankey_beh['behavioral_assessment_type'].value_counts())\n",
    "\n"
   ]
  },
  {
   "cell_type": "markdown",
   "id": "05f86534",
   "metadata": {},
   "source": [
    "#### Behavioral Variables\n",
    "\n",
    "In this plot, we see the behavioral variables, the scale they were investigated with, and reporting types. Because of the diversity of scales, I also added a node where I summarize the type of scale for easier viewing between the scale and the reporting type. "
   ]
  },
  {
   "cell_type": "code",
   "execution_count": 44,
   "id": "0aab3ebe",
   "metadata": {},
   "outputs": [
    {
     "data": {
      "application/vnd.plotly.v1+json": {
       "config": {
        "plotlyServerURL": "https://plot.ly"
       },
       "data": [
        {
         "link": {
          "color": [
           "rgba(137,130,114,0.6)",
           "rgba(206,216,132,0.6)",
           "rgba(232,151,177,0.6)",
           "rgba(232,151,177,0.6)",
           "rgba(145,183,166,0.6)",
           "rgba(206,216,132,0.6)",
           "rgba(137,130,114,0.6)",
           "rgba(137,130,114,0.6)",
           "rgba(209,104,237,0.6)",
           "rgba(206,216,132,0.6)",
           "rgba(137,130,114,0.6)",
           "rgba(232,151,177,0.6)",
           "rgba(209,104,237,0.6)",
           "rgba(232,151,177,0.6)",
           "rgba(232,151,177,0.6)",
           "rgba(137,130,114,0.6)",
           "rgba(145,183,166,0.6)",
           "rgba(206,216,132,0.6)",
           "rgba(137,130,114,0.6)",
           "rgba(145,183,166,0.6)",
           "rgba(206,216,132,0.6)",
           "rgba(137,130,114,0.6)",
           "rgba(232,151,177,0.6)",
           "rgba(145,183,166,0.6)",
           "rgba(232,151,177,0.6)",
           "rgba(137,130,114,0.6)",
           "rgba(209,104,237,0.6)",
           "rgba(206,216,132,0.6)",
           "rgba(232,151,177,0.6)",
           "rgba(209,104,237,0.6)",
           "rgba(166,245,105,0.6)",
           "rgba(137,130,114,0.6)",
           "rgba(232,151,177,0.6)",
           "rgba(209,104,237,0.6)",
           "rgba(206,216,132,0.6)",
           "rgba(206,216,132,0.6)",
           "rgba(216,164,127,0.6)",
           "rgba(145,183,166,0.6)",
           "rgba(145,183,166,0.6)",
           "rgba(232,151,177,0.6)",
           "rgba(209,104,237,0.6)",
           "rgba(145,183,166,0.6)",
           "rgba(206,216,132,0.6)",
           "rgba(145,183,166,0.6)",
           "rgba(206,216,132,0.6)",
           "rgba(137,130,114,0.6)",
           "rgba(206,216,132,0.6)",
           "rgba(232,151,177,0.6)",
           "rgba(145,183,166,0.6)",
           "rgba(209,104,237,0.6)",
           "rgba(145,183,166,0.6)",
           "rgba(137,130,114,0.6)",
           "rgba(206,216,132,0.6)",
           "rgba(145,183,166,0.6)",
           "rgba(145,183,166,0.6)",
           "rgba(145,183,166,0.6)",
           "rgba(209,104,237,0.6)",
           "rgba(232,151,177,0.6)",
           "rgba(145,183,166,0.6)",
           "rgba(206,216,132,0.6)",
           "rgba(209,104,237,0.6)",
           "rgba(206,216,132,0.6)",
           "rgba(232,151,177,0.6)",
           "rgba(232,151,177,0.6)",
           "rgba(137,130,114,0.6)",
           "rgba(145,183,166,0.6)",
           "rgba(206,216,132,0.6)",
           "rgba(145,183,166,0.6)",
           "rgba(206,216,132,0.6)",
           "rgba(232,151,177,0.6)",
           "rgba(209,104,237,0.6)",
           "rgba(206,216,132,0.6)",
           "rgba(206,216,132,0.6)",
           "rgba(137,130,114,0.6)",
           "rgba(232,151,177,0.6)",
           "rgba(209,104,237,0.6)",
           "rgba(145,183,166,0.6)",
           "rgba(206,216,132,0.6)",
           "rgba(232,151,177,0.6)",
           "rgba(183,215,248,0.6)",
           "rgba(209,104,237,0.6)",
           "rgba(145,183,166,0.6)",
           "rgba(232,151,177,0.6)",
           "rgba(232,151,177,0.6)",
           "rgba(206,216,132,0.6)",
           "rgba(145,183,166,0.6)",
           "rgba(206,216,132,0.6)",
           "rgba(137,130,114,0.6)",
           "rgba(206,216,132,0.6)",
           "rgba(232,151,177,0.6)",
           "rgba(209,104,237,0.6)",
           "rgba(145,183,166,0.6)",
           "rgba(216,164,127,0.6)",
           "rgba(137,130,114,0.6)",
           "rgba(242,153,144,0.6)",
           "rgba(232,151,177,0.6)",
           "rgba(209,104,237,0.6)",
           "rgba(216,164,127,0.6)",
           "rgba(145,183,166,0.6)",
           "rgba(209,104,237,0.6)",
           "rgba(137,130,114,0.6)",
           "rgba(206,216,132,0.6)",
           "rgba(145,183,166,0.6)",
           "rgba(153,205,136,0.6)",
           "rgba(216,164,127,0.6)",
           "rgba(232,151,177,0.6)",
           "rgba(232,151,177,0.6)",
           "rgba(145,183,166,0.6)",
           "rgba(145,183,166,0.6)",
           "rgba(232,151,177,0.6)",
           "rgba(209,104,237,0.6)",
           "rgba(216,164,127,0.6)",
           "rgba(137,130,114,0.6)",
           "rgba(145,183,166,0.6)",
           "rgba(206,216,132,0.6)",
           "rgba(166,245,105,0.6)",
           "rgba(232,151,177,0.6)",
           "rgba(145,183,166,0.6)",
           "rgba(209,104,237,0.6)",
           "rgba(145,183,166,0.6)",
           "rgba(145,183,166,0.6)",
           "rgba(232,151,177,0.6)",
           "rgba(206,216,132,0.6)",
           "rgba(174,217,201,0.6)",
           "rgba(253,197,206,0.6)",
           "rgba(115,220,107,0.6)",
           "rgba(115,220,107,0.6)",
           "rgba(229,167,247,0.6)",
           "rgba(253,197,206,0.6)",
           "rgba(229,167,247,0.6)",
           "rgba(174,217,201,0.6)",
           "rgba(105,165,106,0.6)",
           "rgba(253,197,206,0.6)",
           "rgba(115,220,107,0.6)",
           "rgba(160,210,178,0.6)",
           "rgba(105,165,106,0.6)",
           "rgba(115,220,107,0.6)",
           "rgba(115,220,107,0.6)",
           "rgba(229,167,247,0.6)",
           "rgba(174,217,201,0.6)",
           "rgba(253,197,206,0.6)",
           "rgba(229,167,247,0.6)",
           "rgba(174,217,201,0.6)",
           "rgba(174,217,201,0.6)",
           "rgba(174,217,201,0.6)",
           "rgba(115,220,107,0.6)",
           "rgba(174,217,201,0.6)",
           "rgba(160,210,178,0.6)",
           "rgba(229,167,247,0.6)",
           "rgba(160,210,178,0.6)",
           "rgba(253,197,206,0.6)",
           "rgba(253,197,206,0.6)",
           "rgba(105,165,106,0.6)",
           "rgba(160,210,178,0.6)",
           "rgba(174,217,201,0.6)",
           "rgba(206,172,194,0.6)",
           "rgba(206,172,194,0.6)",
           "rgba(115,220,107,0.6)",
           "rgba(253,197,206,0.6)",
           "rgba(229,167,247,0.6)",
           "rgba(160,210,178,0.6)",
           "rgba(174,217,201,0.6)",
           "rgba(115,220,107,0.6)",
           "rgba(105,165,106,0.6)",
           "rgba(174,217,201,0.6)",
           "rgba(253,197,206,0.6)",
           "rgba(174,217,201,0.6)",
           "rgba(229,167,247,0.6)",
           "rgba(253,197,206,0.6)",
           "rgba(253,197,206,0.6)",
           "rgba(253,197,206,0.6)",
           "rgba(115,220,107,0.6)",
           "rgba(105,165,106,0.6)",
           "rgba(174,217,201,0.6)",
           "rgba(174,217,201,0.6)",
           "rgba(174,217,201,0.6)",
           "rgba(229,167,247,0.6)",
           "rgba(229,167,247,0.6)",
           "rgba(115,220,107,0.6)",
           "rgba(105,165,106,0.6)",
           "rgba(160,210,178,0.6)",
           "rgba(229,167,247,0.6)",
           "rgba(253,197,206,0.6)",
           "rgba(105,165,106,0.6)",
           "rgba(253,197,206,0.6)",
           "rgba(160,210,178,0.6)",
           "rgba(160,210,178,0.6)",
           "rgba(174,217,201,0.6)",
           "rgba(115,220,107,0.6)",
           "rgba(253,197,206,0.6)",
           "rgba(160,210,178,0.6)",
           "rgba(253,197,206,0.6)",
           "rgba(160,210,178,0.6)",
           "rgba(105,165,106,0.6)",
           "rgba(174,217,201,0.6)",
           "rgba(253,197,206,0.6)",
           "rgba(174,217,201,0.6)",
           "rgba(160,210,178,0.6)",
           "rgba(105,165,106,0.6)",
           "rgba(174,217,201,0.6)",
           "rgba(253,197,206,0.6)",
           "rgba(160,210,178,0.6)",
           "rgba(206,172,194,0.6)",
           "rgba(105,165,106,0.6)",
           "rgba(174,217,201,0.6)",
           "rgba(160,210,178,0.6)",
           "rgba(160,210,178,0.6)",
           "rgba(174,217,201,0.6)",
           "rgba(253,197,206,0.6)",
           "rgba(253,197,206,0.6)",
           "rgba(115,220,107,0.6)",
           "rgba(253,197,206,0.6)",
           "rgba(206,172,194,0.6)",
           "rgba(105,165,106,0.6)",
           "rgba(229,167,247,0.6)",
           "rgba(229,167,247,0.6)",
           "rgba(174,217,201,0.6)",
           "rgba(206,172,194,0.6)",
           "rgba(115,220,107,0.6)",
           "rgba(105,165,106,0.6)",
           "rgba(174,217,201,0.6)",
           "rgba(105,165,106,0.6)",
           "rgba(229,167,247,0.6)",
           "rgba(229,167,247,0.6)",
           "rgba(174,217,201,0.6)",
           "rgba(253,197,206,0.6)",
           "rgba(174,217,201,0.6)",
           "rgba(229,167,247,0.6)",
           "rgba(253,197,206,0.6)",
           "rgba(174,217,201,0.6)",
           "rgba(229,167,247,0.6)",
           "rgba(229,167,247,0.6)",
           "rgba(160,210,178,0.6)",
           "rgba(105,165,106,0.6)",
           "rgba(229,167,247,0.6)",
           "rgba(174,217,201,0.6)",
           "rgba(229,167,247,0.6)",
           "rgba(253,197,206,0.6)",
           "rgba(160,210,178,0.6)",
           "rgba(174,217,201,0.6)",
           "rgba(206,172,194,0.6)",
           "rgba(206,172,194,0.6)",
           "rgba(229,167,247,0.6)",
           "rgba(229,167,247,0.6)",
           "rgba(115,220,107,0.6)",
           "rgba(253,197,206,0.6)",
           "rgba(245,253,180,0.6)",
           "rgba(245,253,180,0.6)",
           "rgba(157,231,167,0.6)",
           "rgba(245,253,180,0.6)",
           "rgba(150,108,246,0.6)",
           "rgba(245,253,180,0.6)",
           "rgba(150,108,246,0.6)",
           "rgba(245,253,180,0.6)",
           "rgba(245,253,180,0.6)",
           "rgba(179,135,139,0.6)",
           "rgba(150,108,246,0.6)",
           "rgba(157,231,167,0.6)",
           "rgba(245,253,180,0.6)",
           "rgba(245,253,180,0.6)",
           "rgba(245,253,180,0.6)",
           "rgba(150,108,246,0.6)",
           "rgba(179,135,139,0.6)",
           "rgba(179,135,139,0.6)",
           "rgba(179,135,139,0.6)",
           "rgba(179,135,139,0.6)",
           "rgba(179,135,139,0.6)",
           "rgba(179,135,139,0.6)",
           "rgba(245,253,180,0.6)",
           "rgba(179,135,139,0.6)",
           "rgba(157,231,167,0.6)",
           "rgba(179,135,139,0.6)",
           "rgba(157,231,167,0.6)",
           "rgba(245,253,180,0.6)",
           "rgba(245,253,180,0.6)",
           "rgba(245,253,180,0.6)",
           "rgba(125,216,163,0.6)",
           "rgba(179,135,139,0.6)",
           "rgba(245,253,180,0.6)",
           "rgba(245,253,180,0.6)",
           "rgba(245,253,180,0.6)",
           "rgba(245,253,180,0.6)",
           "rgba(150,108,246,0.6)",
           "rgba(125,216,163,0.6)",
           "rgba(245,253,180,0.6)",
           "rgba(245,253,180,0.6)",
           "rgba(245,253,180,0.6)",
           "rgba(179,135,139,0.6)",
           "rgba(245,253,180,0.6)",
           "rgba(245,253,180,0.6)",
           "rgba(179,135,139,0.6)",
           "rgba(179,135,139,0.6)",
           "rgba(245,253,180,0.6)",
           "rgba(245,253,180,0.6)",
           "rgba(245,253,180,0.6)",
           "rgba(245,253,180,0.6)",
           "rgba(179,135,139,0.6)",
           "rgba(179,135,139,0.6)",
           "rgba(155,107,219,0.6)",
           "rgba(179,135,139,0.6)",
           "rgba(150,108,246,0.6)",
           "rgba(245,253,180,0.6)",
           "rgba(245,253,180,0.6)",
           "rgba(245,253,180,0.6)",
           "rgba(179,135,139,0.6)",
           "rgba(245,253,180,0.6)",
           "rgba(245,253,180,0.6)",
           "rgba(245,253,180,0.6)",
           "rgba(157,231,167,0.6)",
           "rgba(157,231,167,0.6)",
           "rgba(179,135,139,0.6)",
           "rgba(245,253,180,0.6)",
           "rgba(155,107,219,0.6)",
           "rgba(157,231,167,0.6)",
           "rgba(245,253,180,0.6)",
           "rgba(245,253,180,0.6)",
           "rgba(245,253,180,0.6)",
           "rgba(245,253,180,0.6)",
           "rgba(245,253,180,0.6)",
           "rgba(245,253,180,0.6)",
           "rgba(157,231,167,0.6)",
           "rgba(245,253,180,0.6)",
           "rgba(179,135,139,0.6)",
           "rgba(245,253,180,0.6)",
           "rgba(157,231,167,0.6)",
           "rgba(245,253,180,0.6)",
           "rgba(245,253,180,0.6)",
           "rgba(245,253,180,0.6)",
           "rgba(157,231,167,0.6)",
           "rgba(157,231,167,0.6)",
           "rgba(179,135,139,0.6)",
           "rgba(179,135,139,0.6)",
           "rgba(245,253,180,0.6)",
           "rgba(245,253,180,0.6)",
           "rgba(245,253,180,0.6)",
           "rgba(245,253,180,0.6)",
           "rgba(245,253,180,0.6)",
           "rgba(179,135,139,0.6)",
           "rgba(245,253,180,0.6)",
           "rgba(179,135,139,0.6)",
           "rgba(157,231,167,0.6)",
           "rgba(245,253,180,0.6)",
           "rgba(245,253,180,0.6)",
           "rgba(179,135,139,0.6)",
           "rgba(179,135,139,0.6)",
           "rgba(150,108,246,0.6)",
           "rgba(179,135,139,0.6)",
           "rgba(179,135,139,0.6)",
           "rgba(245,253,180,0.6)",
           "rgba(245,253,180,0.6)",
           "rgba(150,108,246,0.6)",
           "rgba(245,253,180,0.6)",
           "rgba(245,253,180,0.6)",
           "rgba(125,216,163,0.6)",
           "rgba(150,108,246,0.6)",
           "rgba(245,253,180,0.6)",
           "rgba(245,253,180,0.6)",
           "rgba(245,253,180,0.6)",
           "rgba(245,253,180,0.6)",
           "rgba(150,108,246,0.6)",
           "rgba(245,253,180,0.6)",
           "rgba(125,216,163,0.6)",
           "rgba(245,253,180,0.6)",
           "rgba(245,253,180,0.6)",
           "rgba(245,253,180,0.6)",
           "rgba(245,253,180,0.6)",
           "rgba(245,253,180,0.6)",
           "rgba(245,253,180,0.6)",
           "rgba(157,231,167,0.6)"
          ],
          "customdata": [
           "Winters 2025",
           "Ciesenski 2024",
           "Kemp 2024",
           "Kemp 2024",
           "Castagna 2024",
           "Cohn 2024",
           "Elster 2024",
           "Neumann 2024",
           "Međedovic 2024",
           "Roy 2023",
           "Joyner 2024",
           "Brislin 2024",
           "Shields 2024",
           "Shields 2024",
           "Alvarez-Voces 2024",
           "Tillem 2023",
           "Murray 2022",
           "Dugre 2023",
           "Pechorro 2023",
           "Payot 2022",
           "Hare 2022",
           "Colins  2022",
           "Gong 2022",
           "Sellbom 2022",
           "Drislane 2022",
           "Dugre 2022",
           "Wissenburg 2022",
           "Voulgaridou 2022",
           "Willoughby 2022",
           "Willoughby 2022",
           "Willoughby 2022",
           "Michielsen 2022",
           "Woerhle 2022",
           "Friedman 2021",
           "Lopez-Romero 2021",
           "Harrop 2021",
           "Sellbom 2021",
           "Byrd 2021",
           "Goulter 2021",
           "Gillespie 2021",
           "Hawes 2021",
           "Roy 2021",
           "Altikriti 2020",
           "Breaux 2020",
           "Breaux 2020",
           "Maneiro 2020",
           "Wang 2020",
           "Wang 2020",
           "Lehmann 2019",
           "Piehler 2019",
           "Docherty 2019",
           "Maneiro 2019",
           "Maneiro 2019",
           "Maneiro 2019",
           "Waller 2019",
           "Goulter 2019",
           "Colins  2018",
           "Byrd 2018",
           "Adjorlolo 2018",
           "Carre 2018",
           "Dubas  2018",
           "Driessen 2018",
           "Boduszek 2017",
           "Fanti 2017",
           "Barhight 2017",
           "Barhight 2017",
           "Hawes  2017",
           "Colins 2017",
           "Fanti 2017",
           "Krstic 2017",
           "Krstic 2017",
           "Krstic 2017",
           "Ray 2016",
           "Muratori 2016",
           "Wall 2016",
           "Andrade 2016",
           "Mokros 2015",
           "Dhingra 2015",
           "Neumann 2014",
           "Neumann 2014",
           "White 2014",
           "Pardini 2013",
           "Fanti 2013",
           "Fanti 2013",
           "Hawes 2013",
           "Kimonis 2011",
           "Nijhof 2011",
           "Nijhof 2011",
           "Neumann 2010",
           "Blonigen 2010",
           "Kimonis 2008",
           "Vitacco 2006",
           "Winters 2025",
           "Ciesenski 2024",
           "Kemp 2024",
           "Kemp 2024",
           "Castagna 2024",
           "Cohn 2024",
           "Elster 2024",
           "Neumann 2024",
           "Međedovic 2024",
           "Roy 2023",
           "Joyner 2024",
           "Brislin 2024",
           "Shields 2024",
           "Shields 2024",
           "Alvarez-Voces 2024",
           "Tillem 2023",
           "Murray 2022",
           "Dugre 2023",
           "Pechorro 2023",
           "Payot 2022",
           "Hare 2022",
           "Colins  2022",
           "Gong 2022",
           "Sellbom 2022",
           "Drislane 2022",
           "Dugre 2022",
           "Wissenburg 2022",
           "Voulgaridou 2022",
           "Willoughby 2022",
           "Willoughby 2022",
           "Willoughby 2022",
           "Michielsen 2022",
           "Woerhle 2022",
           "Friedman 2021",
           "Lopez-Romero 2021",
           "Harrop 2021",
           "Sellbom 2021",
           "Byrd 2021",
           "Goulter 2021",
           "Gillespie 2021",
           "Hawes 2021",
           "Roy 2021",
           "Altikriti 2020",
           "Breaux 2020",
           "Breaux 2020",
           "Maneiro 2020",
           "Wang 2020",
           "Wang 2020",
           "Lehmann 2019",
           "Piehler 2019",
           "Docherty 2019",
           "Maneiro 2019",
           "Maneiro 2019",
           "Maneiro 2019",
           "Waller 2019",
           "Goulter 2019",
           "Colins  2018",
           "Byrd 2018",
           "Adjorlolo 2018",
           "Carre 2018",
           "Dubas  2018",
           "Driessen 2018",
           "Boduszek 2017",
           "Fanti 2017",
           "Barhight 2017",
           "Barhight 2017",
           "Hawes  2017",
           "Colins 2017",
           "Fanti 2017",
           "Krstic 2017",
           "Krstic 2017",
           "Krstic 2017",
           "Ray 2016",
           "Muratori 2016",
           "Wall 2016",
           "Andrade 2016",
           "Mokros 2015",
           "Dhingra 2015",
           "Neumann 2014",
           "Neumann 2014",
           "White 2014",
           "Pardini 2013",
           "Fanti 2013",
           "Fanti 2013",
           "Hawes 2013",
           "Kimonis 2011",
           "Nijhof 2011",
           "Nijhof 2011",
           "Neumann 2010",
           "Blonigen 2010",
           "Kimonis 2008",
           "Vitacco 2006",
           "Winters 2025",
           "Ciesenski 2024",
           "Kemp 2024",
           "Kemp 2024",
           "Castagna 2024",
           "Cohn 2024",
           "Elster 2024",
           "Neumann 2024",
           "Međedovic 2024",
           "Roy 2023",
           "Joyner 2024",
           "Brislin 2024",
           "Shields 2024",
           "Shields 2024",
           "Alvarez-Voces 2024",
           "Tillem 2023",
           "Murray 2022",
           "Dugre 2023",
           "Pechorro 2023",
           "Payot 2022",
           "Hare 2022",
           "Colins  2022",
           "Gong 2022",
           "Sellbom 2022",
           "Drislane 2022",
           "Dugre 2022",
           "Wissenburg 2022",
           "Voulgaridou 2022",
           "Willoughby 2022",
           "Willoughby 2022",
           "Willoughby 2022",
           "Michielsen 2022",
           "Woerhle 2022",
           "Friedman 2021",
           "Lopez-Romero 2021",
           "Harrop 2021",
           "Sellbom 2021",
           "Byrd 2021",
           "Goulter 2021",
           "Gillespie 2021",
           "Hawes 2021",
           "Roy 2021",
           "Altikriti 2020",
           "Breaux 2020",
           "Breaux 2020",
           "Maneiro 2020",
           "Wang 2020",
           "Wang 2020",
           "Lehmann 2019",
           "Piehler 2019",
           "Docherty 2019",
           "Maneiro 2019",
           "Maneiro 2019",
           "Maneiro 2019",
           "Waller 2019",
           "Goulter 2019",
           "Colins  2018",
           "Byrd 2018",
           "Adjorlolo 2018",
           "Carre 2018",
           "Dubas  2018",
           "Driessen 2018",
           "Boduszek 2017",
           "Fanti 2017",
           "Barhight 2017",
           "Barhight 2017",
           "Hawes  2017",
           "Colins 2017",
           "Fanti 2017",
           "Krstic 2017",
           "Krstic 2017",
           "Krstic 2017",
           "Ray 2016",
           "Muratori 2016",
           "Wall 2016",
           "Andrade 2016",
           "Mokros 2015",
           "Dhingra 2015",
           "Neumann 2014",
           "Neumann 2014",
           "White 2014",
           "Pardini 2013",
           "Fanti 2013",
           "Fanti 2013",
           "Hawes 2013",
           "Kimonis 2011",
           "Nijhof 2011",
           "Nijhof 2011",
           "Neumann 2010",
           "Blonigen 2010",
           "Kimonis 2008",
           "Vitacco 2006",
           "Winters 2025",
           "Ciesenski 2024",
           "Kemp 2024",
           "Kemp 2024",
           "Castagna 2024",
           "Cohn 2024",
           "Elster 2024",
           "Neumann 2024",
           "Međedovic 2024",
           "Roy 2023",
           "Joyner 2024",
           "Brislin 2024",
           "Shields 2024",
           "Shields 2024",
           "Alvarez-Voces 2024",
           "Tillem 2023",
           "Murray 2022",
           "Dugre 2023",
           "Pechorro 2023",
           "Payot 2022",
           "Hare 2022",
           "Colins  2022",
           "Gong 2022",
           "Sellbom 2022",
           "Drislane 2022",
           "Dugre 2022",
           "Wissenburg 2022",
           "Voulgaridou 2022",
           "Willoughby 2022",
           "Willoughby 2022",
           "Willoughby 2022",
           "Michielsen 2022",
           "Woerhle 2022",
           "Friedman 2021",
           "Lopez-Romero 2021",
           "Harrop 2021",
           "Sellbom 2021",
           "Byrd 2021",
           "Goulter 2021",
           "Gillespie 2021",
           "Hawes 2021",
           "Roy 2021",
           "Altikriti 2020",
           "Breaux 2020",
           "Breaux 2020",
           "Maneiro 2020",
           "Wang 2020",
           "Wang 2020",
           "Lehmann 2019",
           "Piehler 2019",
           "Docherty 2019",
           "Maneiro 2019",
           "Maneiro 2019",
           "Maneiro 2019",
           "Waller 2019",
           "Goulter 2019",
           "Colins  2018",
           "Byrd 2018",
           "Adjorlolo 2018",
           "Carre 2018",
           "Dubas  2018",
           "Driessen 2018",
           "Boduszek 2017",
           "Fanti 2017",
           "Barhight 2017",
           "Barhight 2017",
           "Hawes  2017",
           "Colins 2017",
           "Fanti 2017",
           "Krstic 2017",
           "Krstic 2017",
           "Krstic 2017",
           "Ray 2016",
           "Muratori 2016",
           "Wall 2016",
           "Andrade 2016",
           "Mokros 2015",
           "Dhingra 2015",
           "Neumann 2014",
           "Neumann 2014",
           "White 2014",
           "Pardini 2013",
           "Fanti 2013",
           "Fanti 2013",
           "Hawes 2013",
           "Kimonis 2011",
           "Nijhof 2011",
           "Nijhof 2011",
           "Neumann 2010",
           "Blonigen 2010",
           "Kimonis 2008",
           "Vitacco 2006",
           "Winters 2025",
           "Ciesenski 2024",
           "Kemp 2024",
           "Kemp 2024",
           "Castagna 2024",
           "Cohn 2024",
           "Elster 2024",
           "Neumann 2024",
           "Međedovic 2024",
           "Roy 2023",
           "Joyner 2024",
           "Brislin 2024",
           "Shields 2024",
           "Shields 2024",
           "Alvarez-Voces 2024",
           "Tillem 2023",
           "Murray 2022",
           "Dugre 2023",
           "Pechorro 2023",
           "Payot 2022",
           "Hare 2022",
           "Colins  2022",
           "Gong 2022",
           "Sellbom 2022",
           "Drislane 2022",
           "Dugre 2022",
           "Wissenburg 2022",
           "Voulgaridou 2022",
           "Willoughby 2022",
           "Willoughby 2022",
           "Willoughby 2022",
           "Michielsen 2022",
           "Woerhle 2022",
           "Friedman 2021",
           "Lopez-Romero 2021",
           "Harrop 2021",
           "Sellbom 2021",
           "Byrd 2021",
           "Goulter 2021",
           "Gillespie 2021",
           "Hawes 2021",
           "Roy 2021",
           "Altikriti 2020",
           "Breaux 2020",
           "Breaux 2020",
           "Maneiro 2020",
           "Wang 2020",
           "Wang 2020",
           "Lehmann 2019",
           "Piehler 2019",
           "Docherty 2019",
           "Maneiro 2019",
           "Maneiro 2019",
           "Maneiro 2019",
           "Waller 2019",
           "Goulter 2019",
           "Colins  2018",
           "Byrd 2018",
           "Adjorlolo 2018",
           "Carre 2018",
           "Dubas  2018",
           "Driessen 2018",
           "Boduszek 2017",
           "Fanti 2017",
           "Barhight 2017",
           "Barhight 2017",
           "Hawes  2017",
           "Colins 2017",
           "Fanti 2017",
           "Krstic 2017",
           "Krstic 2017",
           "Krstic 2017",
           "Ray 2016",
           "Muratori 2016",
           "Wall 2016",
           "Andrade 2016",
           "Mokros 2015",
           "Dhingra 2015",
           "Neumann 2014",
           "Neumann 2014",
           "White 2014",
           "Pardini 2013",
           "Fanti 2013",
           "Fanti 2013",
           "Hawes 2013",
           "Kimonis 2011",
           "Nijhof 2011",
           "Nijhof 2011",
           "Neumann 2010",
           "Blonigen 2010",
           "Kimonis 2008",
           "Vitacco 2006"
          ],
          "hovertemplate": "%{customdata}<extra></extra>",
          "source": [
           0,
           1,
           2,
           2,
           3,
           1,
           0,
           0,
           4,
           1,
           0,
           2,
           4,
           2,
           2,
           0,
           3,
           1,
           0,
           3,
           1,
           0,
           2,
           3,
           2,
           0,
           4,
           1,
           2,
           4,
           5,
           0,
           2,
           4,
           1,
           1,
           6,
           3,
           3,
           2,
           4,
           3,
           1,
           3,
           1,
           0,
           1,
           2,
           3,
           4,
           3,
           0,
           1,
           3,
           3,
           3,
           4,
           2,
           3,
           1,
           4,
           1,
           2,
           2,
           0,
           3,
           1,
           3,
           1,
           2,
           4,
           1,
           1,
           0,
           2,
           4,
           3,
           1,
           2,
           7,
           4,
           3,
           2,
           2,
           1,
           3,
           1,
           0,
           1,
           2,
           4,
           3,
           6,
           0,
           8,
           2,
           4,
           6,
           3,
           4,
           0,
           1,
           3,
           9,
           6,
           2,
           2,
           3,
           3,
           2,
           4,
           6,
           0,
           3,
           1,
           5,
           2,
           3,
           4,
           3,
           3,
           2,
           1,
           10,
           11,
           12,
           13,
           14,
           11,
           15,
           16,
           13,
           11,
           17,
           12,
           18,
           19,
           20,
           15,
           21,
           22,
           17,
           21,
           21,
           21,
           23,
           21,
           12,
           24,
           12,
           25,
           26,
           27,
           28,
           21,
           29,
           13,
           30,
           31,
           17,
           28,
           10,
           32,
           32,
           21,
           33,
           10,
           17,
           34,
           11,
           35,
           36,
           37,
           21,
           21,
           38,
           21,
           15,
           20,
           39,
           12,
           14,
           25,
           13,
           25,
           12,
           12,
           40,
           41,
           11,
           12,
           25,
           42,
           43,
           44,
           25,
           45,
           12,
           46,
           21,
           33,
           12,
           13,
           13,
           47,
           12,
           12,
           10,
           31,
           25,
           41,
           33,
           13,
           39,
           48,
           49,
           50,
           13,
           51,
           52,
           21,
           53,
           15,
           49,
           54,
           55,
           56,
           17,
           57,
           58,
           59,
           15,
           12,
           60,
           61,
           50,
           62,
           63,
           28,
           64,
           13,
           13,
           17,
           17,
           41,
           65,
           66,
           67,
           68,
           68,
           69,
           67,
           69,
           66,
           70,
           67,
           68,
           71,
           70,
           68,
           68,
           69,
           66,
           67,
           69,
           66,
           66,
           66,
           68,
           66,
           71,
           69,
           71,
           67,
           67,
           70,
           71,
           66,
           72,
           72,
           68,
           67,
           69,
           71,
           66,
           68,
           70,
           66,
           67,
           66,
           69,
           67,
           67,
           67,
           68,
           70,
           66,
           66,
           66,
           69,
           69,
           68,
           70,
           71,
           69,
           67,
           70,
           67,
           71,
           71,
           66,
           68,
           67,
           71,
           67,
           71,
           70,
           66,
           67,
           66,
           71,
           70,
           66,
           67,
           71,
           72,
           70,
           66,
           71,
           71,
           66,
           67,
           67,
           68,
           67,
           72,
           70,
           69,
           69,
           66,
           72,
           68,
           70,
           66,
           70,
           69,
           69,
           66,
           67,
           66,
           69,
           67,
           66,
           69,
           69,
           71,
           70,
           69,
           66,
           69,
           67,
           71,
           66,
           72,
           72,
           69,
           69,
           68,
           67
          ],
          "target": [
           10,
           11,
           12,
           13,
           14,
           11,
           15,
           16,
           13,
           11,
           17,
           12,
           18,
           19,
           20,
           15,
           21,
           22,
           17,
           21,
           21,
           21,
           23,
           21,
           12,
           24,
           12,
           25,
           26,
           27,
           28,
           21,
           29,
           13,
           30,
           31,
           17,
           28,
           10,
           32,
           32,
           21,
           33,
           10,
           17,
           34,
           11,
           35,
           36,
           37,
           21,
           21,
           38,
           21,
           15,
           20,
           39,
           12,
           14,
           25,
           13,
           25,
           12,
           12,
           40,
           41,
           11,
           12,
           25,
           42,
           43,
           44,
           25,
           45,
           12,
           46,
           21,
           33,
           12,
           13,
           13,
           47,
           12,
           12,
           10,
           31,
           25,
           41,
           33,
           13,
           39,
           48,
           49,
           50,
           13,
           51,
           52,
           21,
           53,
           15,
           49,
           54,
           55,
           56,
           17,
           57,
           58,
           59,
           15,
           12,
           60,
           61,
           50,
           62,
           63,
           28,
           64,
           13,
           13,
           17,
           17,
           41,
           65,
           66,
           67,
           68,
           68,
           69,
           67,
           69,
           66,
           70,
           67,
           68,
           71,
           70,
           68,
           68,
           69,
           66,
           67,
           69,
           66,
           66,
           66,
           68,
           66,
           71,
           69,
           71,
           67,
           67,
           70,
           71,
           66,
           72,
           72,
           68,
           67,
           69,
           71,
           66,
           68,
           70,
           66,
           67,
           66,
           69,
           67,
           67,
           67,
           68,
           70,
           66,
           66,
           66,
           69,
           69,
           68,
           70,
           71,
           69,
           67,
           70,
           67,
           71,
           71,
           66,
           68,
           67,
           71,
           67,
           71,
           70,
           66,
           67,
           66,
           71,
           70,
           66,
           67,
           71,
           72,
           70,
           66,
           71,
           71,
           66,
           67,
           67,
           68,
           67,
           72,
           70,
           69,
           69,
           66,
           72,
           68,
           70,
           66,
           70,
           69,
           69,
           66,
           67,
           66,
           69,
           67,
           66,
           69,
           69,
           71,
           70,
           69,
           66,
           69,
           67,
           71,
           66,
           72,
           72,
           69,
           69,
           68,
           67,
           73,
           73,
           74,
           73,
           75,
           73,
           75,
           73,
           73,
           76,
           75,
           74,
           73,
           73,
           73,
           75,
           76,
           76,
           76,
           76,
           76,
           76,
           73,
           76,
           74,
           76,
           74,
           73,
           73,
           73,
           77,
           76,
           73,
           73,
           73,
           73,
           75,
           77,
           73,
           73,
           73,
           76,
           73,
           73,
           76,
           76,
           73,
           73,
           73,
           73,
           76,
           76,
           78,
           76,
           75,
           73,
           73,
           73,
           76,
           73,
           73,
           73,
           74,
           74,
           76,
           73,
           78,
           74,
           73,
           73,
           73,
           73,
           73,
           73,
           74,
           73,
           76,
           73,
           74,
           73,
           73,
           73,
           74,
           74,
           76,
           76,
           73,
           73,
           73,
           73,
           73,
           76,
           73,
           76,
           74,
           73,
           73,
           76,
           76,
           75,
           76,
           76,
           73,
           73,
           75,
           73,
           73,
           77,
           75,
           73,
           73,
           73,
           73,
           75,
           73,
           77,
           73,
           73,
           73,
           73,
           73,
           73,
           74
          ],
          "value": [
           17,
           25,
           26,
           26,
           28,
           25,
           17,
           17,
           17,
           25,
           17,
           26,
           17,
           26,
           26,
           17,
           28,
           25,
           17,
           28,
           25,
           17,
           26,
           28,
           26,
           17,
           17,
           25,
           26,
           17,
           2,
           17,
           26,
           17,
           25,
           25,
           5,
           28,
           28,
           26,
           17,
           28,
           25,
           28,
           25,
           17,
           25,
           26,
           28,
           17,
           28,
           17,
           25,
           28,
           28,
           28,
           17,
           26,
           28,
           25,
           17,
           25,
           26,
           26,
           17,
           28,
           25,
           28,
           25,
           26,
           17,
           25,
           25,
           17,
           26,
           17,
           28,
           25,
           26,
           1,
           17,
           28,
           26,
           26,
           25,
           28,
           25,
           17,
           25,
           26,
           17,
           28,
           5,
           17,
           1,
           26,
           17,
           5,
           28,
           17,
           17,
           25,
           28,
           1,
           5,
           26,
           26,
           28,
           28,
           26,
           17,
           5,
           17,
           28,
           25,
           2,
           26,
           28,
           17,
           28,
           28,
           26,
           25,
           27,
           24,
           14,
           14,
           21,
           24,
           21,
           27,
           14,
           24,
           14,
           16,
           14,
           14,
           14,
           21,
           27,
           24,
           21,
           27,
           27,
           27,
           14,
           27,
           16,
           21,
           16,
           24,
           24,
           14,
           16,
           27,
           7,
           7,
           14,
           24,
           21,
           16,
           27,
           14,
           14,
           27,
           24,
           27,
           21,
           24,
           24,
           24,
           14,
           14,
           27,
           27,
           27,
           21,
           21,
           14,
           14,
           16,
           21,
           24,
           14,
           24,
           16,
           16,
           27,
           14,
           24,
           16,
           24,
           16,
           14,
           27,
           24,
           27,
           16,
           14,
           27,
           24,
           16,
           7,
           14,
           27,
           16,
           16,
           27,
           24,
           24,
           14,
           24,
           7,
           14,
           21,
           21,
           27,
           7,
           14,
           14,
           27,
           14,
           21,
           21,
           27,
           24,
           27,
           21,
           24,
           27,
           21,
           21,
           16,
           14,
           21,
           27,
           21,
           24,
           16,
           27,
           7,
           7,
           21,
           21,
           14,
           24,
           67,
           67,
           13,
           67,
           10,
           67,
           10,
           67,
           67,
           27,
           10,
           13,
           67,
           67,
           67,
           10,
           27,
           27,
           27,
           27,
           27,
           27,
           67,
           27,
           13,
           27,
           13,
           67,
           67,
           67,
           4,
           27,
           67,
           67,
           67,
           67,
           10,
           4,
           67,
           67,
           67,
           27,
           67,
           67,
           27,
           27,
           67,
           67,
           67,
           67,
           27,
           27,
           2,
           27,
           10,
           67,
           67,
           67,
           27,
           67,
           67,
           67,
           13,
           13,
           27,
           67,
           2,
           13,
           67,
           67,
           67,
           67,
           67,
           67,
           13,
           67,
           27,
           67,
           13,
           67,
           67,
           67,
           13,
           13,
           27,
           27,
           67,
           67,
           67,
           67,
           67,
           27,
           67,
           27,
           13,
           67,
           67,
           27,
           27,
           10,
           27,
           27,
           67,
           67,
           10,
           67,
           67,
           4,
           10,
           67,
           67,
           67,
           67,
           10,
           67,
           4,
           67,
           67,
           67,
           67,
           67,
           67,
           13
          ]
         },
         "node": {
          "align": "left",
          "color": [
           "rgba(137,130,114,0.6)",
           "rgba(206,216,132,0.6)",
           "rgba(232,151,177,0.6)",
           "rgba(145,183,166,0.6)",
           "rgba(209,104,237,0.6)",
           "rgba(166,245,105,0.6)",
           "rgba(216,164,127,0.6)",
           "rgba(183,215,248,0.6)",
           "rgba(242,153,144,0.6)",
           "rgba(153,205,136,0.6)",
           "rgba(121,253,211,0.6)",
           "rgba(239,131,227,0.6)",
           "rgba(170,132,231,0.6)",
           "rgba(147,239,244,0.6)",
           "rgba(131,236,167,0.6)",
           "rgba(206,228,137,0.6)",
           "rgba(114,101,173,0.6)",
           "rgba(157,140,200,0.6)",
           "rgba(221,239,194,0.6)",
           "rgba(122,213,171,0.6)",
           "rgba(107,197,132,0.6)",
           "rgba(116,181,232,0.6)",
           "rgba(230,168,106,0.6)",
           "rgba(150,229,137,0.6)",
           "rgba(235,175,108,0.6)",
           "rgba(195,118,199,0.6)",
           "rgba(224,184,228,0.6)",
           "rgba(209,188,174,0.6)",
           "rgba(252,244,191,0.6)",
           "rgba(146,221,187,0.6)",
           "rgba(192,164,185,0.6)",
           "rgba(210,132,226,0.6)",
           "rgba(183,112,103,0.6)",
           "rgba(121,170,119,0.6)",
           "rgba(220,246,239,0.6)",
           "rgba(232,163,169,0.6)",
           "rgba(244,153,161,0.6)",
           "rgba(135,228,151,0.6)",
           "rgba(216,246,215,0.6)",
           "rgba(147,108,230,0.6)",
           "rgba(245,170,235,0.6)",
           "rgba(117,191,243,0.6)",
           "rgba(195,146,221,0.6)",
           "rgba(236,105,236,0.6)",
           "rgba(111,123,122,0.6)",
           "rgba(149,133,167,0.6)",
           "rgba(224,128,245,0.6)",
           "rgba(170,253,133,0.6)",
           "rgba(224,244,251,0.6)",
           "rgba(119,156,171,0.6)",
           "rgba(125,126,182,0.6)",
           "rgba(214,101,135,0.6)",
           "rgba(235,169,217,0.6)",
           "rgba(169,102,230,0.6)",
           "rgba(181,141,205,0.6)",
           "rgba(204,153,205,0.6)",
           "rgba(183,222,167,0.6)",
           "rgba(147,254,236,0.6)",
           "rgba(163,148,162,0.6)",
           "rgba(191,136,198,0.6)",
           "rgba(179,240,238,0.6)",
           "rgba(224,223,173,0.6)",
           "rgba(222,196,232,0.6)",
           "rgba(147,193,172,0.6)",
           "rgba(132,226,128,0.6)",
           "rgba(112,224,139,0.6)",
           "rgba(174,217,201,0.6)",
           "rgba(253,197,206,0.6)",
           "rgba(115,220,107,0.6)",
           "rgba(229,167,247,0.6)",
           "rgba(105,165,106,0.6)",
           "rgba(160,210,178,0.6)",
           "rgba(206,172,194,0.6)",
           "rgba(245,253,180,0.6)",
           "rgba(157,231,167,0.6)",
           "rgba(150,108,246,0.6)",
           "rgba(179,135,139,0.6)",
           "rgba(125,216,163,0.6)",
           "rgba(155,107,219,0.6)"
          ],
          "label": [
           "conduct problems",
           "aggression",
           "criminal behavior",
           "externalizing behavior",
           "substance use",
           "prison behavior",
           "clinical symptoms",
           "workplace deviance",
           "sexual violence",
           "behavioral inhibition",
           "Achenbach System of Empirically Based Assessment (ASEBA)",
           "Buss-Perry Aggressiveness Questionnaire (BPAQ)",
           "criminal record",
           "study specific",
           "Disruptive Behavior Disorders Rating Scale (DBD)",
           "Kiddie-Schedule for Affective Disorders and Schizophrenia (K-SADS)",
           "Personality Assessment Inventory (PAI)",
           "DSM",
           "Daily Drinking Questionnaire (DDQ)",
           "Delinquent Behavior Index",
           "Crime and Analogous Behavior scale (CAB)",
           "Child Behavior Checklist (CBCL)",
           "Forms and Functions of aggression Questionnaire (FFA)",
           "General Delinquency Seriousness Classification (GDSC)",
           "Diagnostic Interview Schedule for Children (DISC-IV)",
           "Reactive-Proactive Aggression Questionnaire (RPAQ)",
           "Antisocial Behavior Questionnaire (ABQ)",
           "Substance Abuse factor scale",
           "observed behavior",
           "Measure of Criminal Attitudes and Associates",
           "Aggression Questionnaire (AQ)",
           "Relational Aggression Scale (RAS)",
           "Self-Reported Early Delinquency (SRED)",
           "Agresssion Questionnaire (AQ)",
           "The Parents’ and Teachers’ Report of Reactive and Proactive Behaviors ",
           "Antisocial Behavior Questionnaire (ASB)",
           "Offender Assessment System",
           "Drug Abuse Screening Test",
           "Conflict Tactics Scale (CTS)",
           "The Alcohol Use Disorders Identification Test (AUDIT)",
           "Behavior Assessment System for Children Rating Scales (BASC-2 PRS)",
           "Self Reported Delinquency Scale (SRD)",
           "Self Reported Offending",
           "Substance use/Abuse Inventory",
           "Peer Conflict Scale (PCS)",
           "Strengths and Difficulties Questionnaire (SDQ)",
           "MAYSI-2 Alcohol/ Drug Use (ADU) scale",
           "Externalizing Spectrum Inventory (ESI)",
           "Adult ADHD Self-Report Scale",
           "Child Symptom Inventory for Parents-4 (CSI-4)",
           "Checkmate plus Youth’s Inventory-4 (YI-4)",
           "self-report of offending scale (SRO)",
           "substance use/Abuse Inventory",
           "CSAP (Center for Substance Abuse Prevention) Student Survey",
           "IOWA Conners Rating Scale",
           "aggression rating scale (ARS)",
           "Behavioral Inhibition System (BIS)",
           "violence screen MacArthur Risk (8 items)",
           "Adult Self-Report (ASR)",
           "The Computerized Diagnostic Interview Schedule for ASPD and INT",
           "Substance Use Questionnaire (SUQ)",
           "Adolescent Symptom Inventory (ASI-4)",
           "Diagnostic Interview Schedule for Children, Adolescents and Parents (DISCAP)",
           "Aggressive Incident Coding Scheme (AICS)",
           "Youth self report (YSR)",
           "Aggression, Reactivity, Fear (ARF)",
           "Behavioral Checklists and Rating Scales",
           "Aggression and Antisocial Behavior Questionnaires",
           "Delinquency and Criminal Behavior Scales",
           "Psychiatric and Symptom Inventories",
           "Substance Use and Abuse Scales",
           "no scale",
           "Other Scale",
           "self report",
           "criminal records",
           "clinical assessment",
           "other report",
           "observational",
           "interview"
          ],
          "line": {
           "color": "black",
           "width": 0.9
          },
          "pad": 15,
          "thickness": 20
         },
         "type": "sankey"
        }
       ],
       "layout": {
        "font": {
         "size": 16.5
        },
        "height": 1200,
        "hovermode": "x",
        "template": {
         "data": {
          "bar": [
           {
            "error_x": {
             "color": "#2a3f5f"
            },
            "error_y": {
             "color": "#2a3f5f"
            },
            "marker": {
             "line": {
              "color": "#E5ECF6",
              "width": 0.5
             },
             "pattern": {
              "fillmode": "overlay",
              "size": 10,
              "solidity": 0.2
             }
            },
            "type": "bar"
           }
          ],
          "barpolar": [
           {
            "marker": {
             "line": {
              "color": "#E5ECF6",
              "width": 0.5
             },
             "pattern": {
              "fillmode": "overlay",
              "size": 10,
              "solidity": 0.2
             }
            },
            "type": "barpolar"
           }
          ],
          "carpet": [
           {
            "aaxis": {
             "endlinecolor": "#2a3f5f",
             "gridcolor": "white",
             "linecolor": "white",
             "minorgridcolor": "white",
             "startlinecolor": "#2a3f5f"
            },
            "baxis": {
             "endlinecolor": "#2a3f5f",
             "gridcolor": "white",
             "linecolor": "white",
             "minorgridcolor": "white",
             "startlinecolor": "#2a3f5f"
            },
            "type": "carpet"
           }
          ],
          "choropleth": [
           {
            "colorbar": {
             "outlinewidth": 0,
             "ticks": ""
            },
            "type": "choropleth"
           }
          ],
          "contour": [
           {
            "colorbar": {
             "outlinewidth": 0,
             "ticks": ""
            },
            "colorscale": [
             [
              0,
              "#0d0887"
             ],
             [
              0.1111111111111111,
              "#46039f"
             ],
             [
              0.2222222222222222,
              "#7201a8"
             ],
             [
              0.3333333333333333,
              "#9c179e"
             ],
             [
              0.4444444444444444,
              "#bd3786"
             ],
             [
              0.5555555555555556,
              "#d8576b"
             ],
             [
              0.6666666666666666,
              "#ed7953"
             ],
             [
              0.7777777777777778,
              "#fb9f3a"
             ],
             [
              0.8888888888888888,
              "#fdca26"
             ],
             [
              1,
              "#f0f921"
             ]
            ],
            "type": "contour"
           }
          ],
          "contourcarpet": [
           {
            "colorbar": {
             "outlinewidth": 0,
             "ticks": ""
            },
            "type": "contourcarpet"
           }
          ],
          "heatmap": [
           {
            "colorbar": {
             "outlinewidth": 0,
             "ticks": ""
            },
            "colorscale": [
             [
              0,
              "#0d0887"
             ],
             [
              0.1111111111111111,
              "#46039f"
             ],
             [
              0.2222222222222222,
              "#7201a8"
             ],
             [
              0.3333333333333333,
              "#9c179e"
             ],
             [
              0.4444444444444444,
              "#bd3786"
             ],
             [
              0.5555555555555556,
              "#d8576b"
             ],
             [
              0.6666666666666666,
              "#ed7953"
             ],
             [
              0.7777777777777778,
              "#fb9f3a"
             ],
             [
              0.8888888888888888,
              "#fdca26"
             ],
             [
              1,
              "#f0f921"
             ]
            ],
            "type": "heatmap"
           }
          ],
          "histogram": [
           {
            "marker": {
             "pattern": {
              "fillmode": "overlay",
              "size": 10,
              "solidity": 0.2
             }
            },
            "type": "histogram"
           }
          ],
          "histogram2d": [
           {
            "colorbar": {
             "outlinewidth": 0,
             "ticks": ""
            },
            "colorscale": [
             [
              0,
              "#0d0887"
             ],
             [
              0.1111111111111111,
              "#46039f"
             ],
             [
              0.2222222222222222,
              "#7201a8"
             ],
             [
              0.3333333333333333,
              "#9c179e"
             ],
             [
              0.4444444444444444,
              "#bd3786"
             ],
             [
              0.5555555555555556,
              "#d8576b"
             ],
             [
              0.6666666666666666,
              "#ed7953"
             ],
             [
              0.7777777777777778,
              "#fb9f3a"
             ],
             [
              0.8888888888888888,
              "#fdca26"
             ],
             [
              1,
              "#f0f921"
             ]
            ],
            "type": "histogram2d"
           }
          ],
          "histogram2dcontour": [
           {
            "colorbar": {
             "outlinewidth": 0,
             "ticks": ""
            },
            "colorscale": [
             [
              0,
              "#0d0887"
             ],
             [
              0.1111111111111111,
              "#46039f"
             ],
             [
              0.2222222222222222,
              "#7201a8"
             ],
             [
              0.3333333333333333,
              "#9c179e"
             ],
             [
              0.4444444444444444,
              "#bd3786"
             ],
             [
              0.5555555555555556,
              "#d8576b"
             ],
             [
              0.6666666666666666,
              "#ed7953"
             ],
             [
              0.7777777777777778,
              "#fb9f3a"
             ],
             [
              0.8888888888888888,
              "#fdca26"
             ],
             [
              1,
              "#f0f921"
             ]
            ],
            "type": "histogram2dcontour"
           }
          ],
          "mesh3d": [
           {
            "colorbar": {
             "outlinewidth": 0,
             "ticks": ""
            },
            "type": "mesh3d"
           }
          ],
          "parcoords": [
           {
            "line": {
             "colorbar": {
              "outlinewidth": 0,
              "ticks": ""
             }
            },
            "type": "parcoords"
           }
          ],
          "pie": [
           {
            "automargin": true,
            "type": "pie"
           }
          ],
          "scatter": [
           {
            "fillpattern": {
             "fillmode": "overlay",
             "size": 10,
             "solidity": 0.2
            },
            "type": "scatter"
           }
          ],
          "scatter3d": [
           {
            "line": {
             "colorbar": {
              "outlinewidth": 0,
              "ticks": ""
             }
            },
            "marker": {
             "colorbar": {
              "outlinewidth": 0,
              "ticks": ""
             }
            },
            "type": "scatter3d"
           }
          ],
          "scattercarpet": [
           {
            "marker": {
             "colorbar": {
              "outlinewidth": 0,
              "ticks": ""
             }
            },
            "type": "scattercarpet"
           }
          ],
          "scattergeo": [
           {
            "marker": {
             "colorbar": {
              "outlinewidth": 0,
              "ticks": ""
             }
            },
            "type": "scattergeo"
           }
          ],
          "scattergl": [
           {
            "marker": {
             "colorbar": {
              "outlinewidth": 0,
              "ticks": ""
             }
            },
            "type": "scattergl"
           }
          ],
          "scattermap": [
           {
            "marker": {
             "colorbar": {
              "outlinewidth": 0,
              "ticks": ""
             }
            },
            "type": "scattermap"
           }
          ],
          "scattermapbox": [
           {
            "marker": {
             "colorbar": {
              "outlinewidth": 0,
              "ticks": ""
             }
            },
            "type": "scattermapbox"
           }
          ],
          "scatterpolar": [
           {
            "marker": {
             "colorbar": {
              "outlinewidth": 0,
              "ticks": ""
             }
            },
            "type": "scatterpolar"
           }
          ],
          "scatterpolargl": [
           {
            "marker": {
             "colorbar": {
              "outlinewidth": 0,
              "ticks": ""
             }
            },
            "type": "scatterpolargl"
           }
          ],
          "scatterternary": [
           {
            "marker": {
             "colorbar": {
              "outlinewidth": 0,
              "ticks": ""
             }
            },
            "type": "scatterternary"
           }
          ],
          "surface": [
           {
            "colorbar": {
             "outlinewidth": 0,
             "ticks": ""
            },
            "colorscale": [
             [
              0,
              "#0d0887"
             ],
             [
              0.1111111111111111,
              "#46039f"
             ],
             [
              0.2222222222222222,
              "#7201a8"
             ],
             [
              0.3333333333333333,
              "#9c179e"
             ],
             [
              0.4444444444444444,
              "#bd3786"
             ],
             [
              0.5555555555555556,
              "#d8576b"
             ],
             [
              0.6666666666666666,
              "#ed7953"
             ],
             [
              0.7777777777777778,
              "#fb9f3a"
             ],
             [
              0.8888888888888888,
              "#fdca26"
             ],
             [
              1,
              "#f0f921"
             ]
            ],
            "type": "surface"
           }
          ],
          "table": [
           {
            "cells": {
             "fill": {
              "color": "#EBF0F8"
             },
             "line": {
              "color": "white"
             }
            },
            "header": {
             "fill": {
              "color": "#C8D4E3"
             },
             "line": {
              "color": "white"
             }
            },
            "type": "table"
           }
          ]
         },
         "layout": {
          "annotationdefaults": {
           "arrowcolor": "#2a3f5f",
           "arrowhead": 0,
           "arrowwidth": 1
          },
          "autotypenumbers": "strict",
          "coloraxis": {
           "colorbar": {
            "outlinewidth": 0,
            "ticks": ""
           }
          },
          "colorscale": {
           "diverging": [
            [
             0,
             "#8e0152"
            ],
            [
             0.1,
             "#c51b7d"
            ],
            [
             0.2,
             "#de77ae"
            ],
            [
             0.3,
             "#f1b6da"
            ],
            [
             0.4,
             "#fde0ef"
            ],
            [
             0.5,
             "#f7f7f7"
            ],
            [
             0.6,
             "#e6f5d0"
            ],
            [
             0.7,
             "#b8e186"
            ],
            [
             0.8,
             "#7fbc41"
            ],
            [
             0.9,
             "#4d9221"
            ],
            [
             1,
             "#276419"
            ]
           ],
           "sequential": [
            [
             0,
             "#0d0887"
            ],
            [
             0.1111111111111111,
             "#46039f"
            ],
            [
             0.2222222222222222,
             "#7201a8"
            ],
            [
             0.3333333333333333,
             "#9c179e"
            ],
            [
             0.4444444444444444,
             "#bd3786"
            ],
            [
             0.5555555555555556,
             "#d8576b"
            ],
            [
             0.6666666666666666,
             "#ed7953"
            ],
            [
             0.7777777777777778,
             "#fb9f3a"
            ],
            [
             0.8888888888888888,
             "#fdca26"
            ],
            [
             1,
             "#f0f921"
            ]
           ],
           "sequentialminus": [
            [
             0,
             "#0d0887"
            ],
            [
             0.1111111111111111,
             "#46039f"
            ],
            [
             0.2222222222222222,
             "#7201a8"
            ],
            [
             0.3333333333333333,
             "#9c179e"
            ],
            [
             0.4444444444444444,
             "#bd3786"
            ],
            [
             0.5555555555555556,
             "#d8576b"
            ],
            [
             0.6666666666666666,
             "#ed7953"
            ],
            [
             0.7777777777777778,
             "#fb9f3a"
            ],
            [
             0.8888888888888888,
             "#fdca26"
            ],
            [
             1,
             "#f0f921"
            ]
           ]
          },
          "colorway": [
           "#636efa",
           "#EF553B",
           "#00cc96",
           "#ab63fa",
           "#FFA15A",
           "#19d3f3",
           "#FF6692",
           "#B6E880",
           "#FF97FF",
           "#FECB52"
          ],
          "font": {
           "color": "#2a3f5f"
          },
          "geo": {
           "bgcolor": "white",
           "lakecolor": "white",
           "landcolor": "#E5ECF6",
           "showlakes": true,
           "showland": true,
           "subunitcolor": "white"
          },
          "hoverlabel": {
           "align": "left"
          },
          "hovermode": "closest",
          "mapbox": {
           "style": "light"
          },
          "paper_bgcolor": "white",
          "plot_bgcolor": "#E5ECF6",
          "polar": {
           "angularaxis": {
            "gridcolor": "white",
            "linecolor": "white",
            "ticks": ""
           },
           "bgcolor": "#E5ECF6",
           "radialaxis": {
            "gridcolor": "white",
            "linecolor": "white",
            "ticks": ""
           }
          },
          "scene": {
           "xaxis": {
            "backgroundcolor": "#E5ECF6",
            "gridcolor": "white",
            "gridwidth": 2,
            "linecolor": "white",
            "showbackground": true,
            "ticks": "",
            "zerolinecolor": "white"
           },
           "yaxis": {
            "backgroundcolor": "#E5ECF6",
            "gridcolor": "white",
            "gridwidth": 2,
            "linecolor": "white",
            "showbackground": true,
            "ticks": "",
            "zerolinecolor": "white"
           },
           "zaxis": {
            "backgroundcolor": "#E5ECF6",
            "gridcolor": "white",
            "gridwidth": 2,
            "linecolor": "white",
            "showbackground": true,
            "ticks": "",
            "zerolinecolor": "white"
           }
          },
          "shapedefaults": {
           "line": {
            "color": "#2a3f5f"
           }
          },
          "ternary": {
           "aaxis": {
            "gridcolor": "white",
            "linecolor": "white",
            "ticks": ""
           },
           "baxis": {
            "gridcolor": "white",
            "linecolor": "white",
            "ticks": ""
           },
           "bgcolor": "#E5ECF6",
           "caxis": {
            "gridcolor": "white",
            "linecolor": "white",
            "ticks": ""
           }
          },
          "title": {
           "x": 0.05
          },
          "xaxis": {
           "automargin": true,
           "gridcolor": "white",
           "linecolor": "white",
           "ticks": "",
           "title": {
            "standoff": 15
           },
           "zerolinecolor": "white",
           "zerolinewidth": 2
          },
          "yaxis": {
           "automargin": true,
           "gridcolor": "white",
           "linecolor": "white",
           "ticks": "",
           "title": {
            "standoff": 15
           },
           "zerolinecolor": "white",
           "zerolinewidth": 2
          }
         }
        },
        "title": {
         "text": "Sankey Diagram for variables, scales, and assessment types"
        },
        "width": 1700
       }
      }
     },
     "metadata": {},
     "output_type": "display_data"
    }
   ],
   "source": [
    "#Sankey plot for behavioral variables\n",
    "# 1. Create unique labels\n",
    "labels = list(pd.concat([\n",
    "    df_sankey_beh['behavioral_variable'], \n",
    "    df_sankey_beh['behavioral_assessment'], \n",
    "    df_sankey_beh['scale_summarized'],\n",
    "    df_sankey_beh['behavioral_assessment_type'],\n",
    "]).unique())\n",
    "\n",
    "# 2. Map labels to indices\n",
    "label_map = {label: idx for idx, label in enumerate(labels)}\n",
    "\n",
    "# 3. Define sources, targets, and values\n",
    "sources = df_sankey_beh['behavioral_variable'].map(label_map).tolist() + \\\n",
    "          df_sankey_beh['behavioral_assessment'].map(label_map).tolist() + \\\n",
    "          df_sankey_beh['scale_summarized'].map(label_map).tolist() \n",
    "\n",
    "targets = df_sankey_beh['behavioral_assessment'].map(label_map).tolist() + \\\n",
    "          df_sankey_beh['scale_summarized'].map(label_map).tolist() + \\\n",
    "          df_sankey_beh['behavioral_assessment_type'].map(label_map).tolist()\n",
    "\n",
    "values = df_sankey_beh['b_count'].tolist() + \\\n",
    "         df_sankey_beh['ss_count'].tolist() + \\\n",
    "         df_sankey_beh['at_count'].tolist()\n",
    "\n",
    "# 4. Generate pastel colors\n",
    "import random\n",
    "\n",
    "def pastel_color():\n",
    "    r = lambda: random.randint(100, 255)\n",
    "    return f'rgba({r()},{r()},{r()},0.6)'\n",
    "\n",
    "label_to_color = {label: pastel_color() for label in labels}\n",
    "node_color_list = [label_to_color[label] for label in labels]\n",
    "\n",
    "# 5. Set link colors by source node's color (first) and middle nodes (second) and last node\n",
    "link_colors = [label_to_color[df_sankey_beh['behavioral_variable'].iloc[i]] \n",
    "               for i in range(len(df_sankey_beh))] + \\\n",
    "              [label_to_color[df_sankey_beh['scale_summarized'].iloc[i]] \n",
    "               for i in range(len(df_sankey_beh))] + \\\n",
    "              [label_to_color[df_sankey_beh['behavioral_assessment_type'].iloc[i]] \n",
    "               for i in range(len(df_sankey_beh))]\n",
    "\n",
    "# 7. Create the figure\n",
    "fig = go.Figure(data=[go.Sankey(\n",
    "    node=dict(\n",
    "        pad=15,\n",
    "        thickness=20,\n",
    "        line=dict(color=\"black\", width=0.9),\n",
    "        label=labels,\n",
    "        color=node_color_list,\n",
    "        align=\"left\"\n",
    "    ),\n",
    "    link=dict(\n",
    "        source=sources,\n",
    "        target=targets,\n",
    "        value=values,\n",
    "        color=link_colors,\n",
    "        customdata=df_sankey_models_transformed['nameyear'].tolist() * 5,\n",
    "        hovertemplate='%{customdata}<extra></extra>'\n",
    "    )\n",
    ")])\n",
    "\n",
    "fig.update_layout(\n",
    "    title_text=\"Sankey Diagram for variables, scales, and assessment types\",\n",
    "    font_size=16.5,\n",
    "    width=1700,\n",
    "    height=1200,\n",
    "    hovermode='x'\n",
    ")\n",
    "fig.show()\n",
    "\n",
    "fig.write_html(\"C:/Users/U727148/Latent_Variable_Supplement/sankey_behavior_plot.html\", include_plotlyjs=\"cdn\")"
   ]
  },
  {
   "cell_type": "markdown",
   "id": "4ab2da25",
   "metadata": {},
   "source": [
    "#### Cognitive variables\n",
    "\n",
    "This is an overview plot for the studies using cognitive variables (which of course is only 40.5% of studies actually did). Left is the variable, in the middle is the name of the scale or test used, and left is the type of report."
   ]
  },
  {
   "cell_type": "code",
   "execution_count": 79,
   "id": "773d0b03",
   "metadata": {},
   "outputs": [
    {
     "data": {
      "application/vnd.plotly.v1+json": {
       "config": {
        "plotlyServerURL": "https://plot.ly"
       },
       "data": [
        {
         "link": {
          "color": [
           "rgba(187,181,199,0.6)",
           "rgba(132,165,163,0.6)",
           "rgba(223,246,107,0.6)",
           "rgba(187,181,199,0.6)",
           "rgba(132,165,163,0.6)",
           "rgba(217,241,145,0.6)",
           "rgba(238,231,212,0.6)",
           "rgba(132,165,163,0.6)",
           "rgba(168,230,199,0.6)",
           "rgba(238,231,212,0.6)",
           "rgba(169,162,162,0.6)",
           "rgba(207,188,238,0.6)",
           "rgba(187,181,199,0.6)",
           "rgba(187,181,199,0.6)",
           "rgba(187,181,199,0.6)",
           "rgba(187,181,199,0.6)",
           "rgba(207,188,238,0.6)",
           "rgba(194,111,157,0.6)",
           "rgba(169,162,162,0.6)",
           "rgba(132,165,163,0.6)",
           "rgba(156,144,212,0.6)",
           "rgba(187,181,199,0.6)",
           "rgba(132,165,163,0.6)",
           "rgba(238,231,212,0.6)",
           "rgba(132,165,163,0.6)",
           "rgba(238,231,212,0.6)",
           "rgba(169,162,162,0.6)",
           "rgba(132,165,163,0.6)",
           "rgba(169,162,162,0.6)",
           "rgba(187,181,199,0.6)",
           "rgba(169,162,162,0.6)",
           "rgba(187,181,199,0.6)",
           "rgba(132,165,163,0.6)",
           "rgba(132,165,163,0.6)",
           "rgba(132,165,163,0.6)",
           "rgba(132,165,163,0.6)",
           "rgba(169,162,162,0.6)",
           "rgba(169,162,162,0.6)",
           "rgba(169,162,162,0.6)",
           "rgba(187,181,199,0.6)",
           "rgba(132,165,163,0.6)",
           "rgba(132,165,163,0.6)",
           "rgba(132,165,163,0.6)",
           "rgba(187,181,199,0.6)",
           "rgba(169,162,162,0.6)",
           "rgba(238,231,212,0.6)",
           "rgba(132,165,163,0.6)",
           "rgba(132,165,163,0.6)",
           "rgba(194,111,157,0.6)",
           "rgba(117,147,107,0.6)",
           "rgba(249,159,140,0.6)",
           "rgba(113,204,186,0.6)",
           "rgba(189,252,232,0.6)",
           "rgba(249,159,140,0.6)",
           "rgba(120,192,130,0.6)",
           "rgba(221,149,205,0.6)",
           "rgba(249,159,140,0.6)",
           "rgba(176,109,113,0.6)",
           "rgba(186,144,110,0.6)",
           "rgba(206,244,201,0.6)",
           "rgba(204,167,171,0.6)",
           "rgba(181,139,154,0.6)",
           "rgba(118,125,200,0.6)",
           "rgba(141,222,108,0.6)",
           "rgba(212,125,232,0.6)",
           "rgba(241,247,214,0.6)",
           "rgba(166,101,215,0.6)",
           "rgba(134,121,247,0.6)",
           "rgba(249,159,140,0.6)",
           "rgba(251,196,243,0.6)",
           "rgba(204,211,213,0.6)",
           "rgba(211,173,163,0.6)",
           "rgba(186,144,110,0.6)",
           "rgba(249,159,140,0.6)",
           "rgba(186,144,110,0.6)",
           "rgba(118,137,191,0.6)",
           "rgba(249,159,140,0.6)",
           "rgba(179,170,233,0.6)",
           "rgba(141,222,108,0.6)",
           "rgba(238,124,192,0.6)",
           "rgba(237,244,245,0.6)",
           "rgba(211,173,163,0.6)",
           "rgba(241,154,105,0.6)",
           "rgba(249,159,140,0.6)",
           "rgba(162,120,156,0.6)",
           "rgba(247,249,166,0.6)",
           "rgba(251,196,243,0.6)",
           "rgba(241,154,105,0.6)",
           "rgba(156,213,200,0.6)",
           "rgba(241,154,105,0.6)",
           "rgba(101,110,181,0.6)",
           "rgba(219,198,216,0.6)",
           "rgba(156,213,200,0.6)",
           "rgba(222,110,131,0.6)",
           "rgba(173,156,240,0.6)",
           "rgba(101,110,181,0.6)",
           "rgba(101,110,181,0.6)",
           "rgba(141,203,103,0.6)"
          ],
          "customdata": [
           "Winters 2025",
           "Ciesenski 2024",
           "Castagna 2024",
           "Cohn 2024",
           "Cohn 2024",
           "Cohn 2024",
           "Elster 2024",
           "Međedovic 2024",
           "Brislin 2024",
           "Murray 2022",
           "Pechorro 2023",
           "Payot 2022",
           "Sellbom 2022",
           "Sellbom 2022",
           "Sellbom 2022",
           "Sellbom 2022",
           "Wissenburg 2022",
           "Wissenburg 2022",
           "Wissenburg 2022",
           "Wissenburg 2022",
           "Willoughby 2022",
           "Friedman 2021",
           "Harrop 2021",
           "Byrd 2021",
           "Gillespie 2021",
           "Hawes 2021",
           "Altikriti 2020",
           "Wang 2020",
           "Piehler 2019",
           "Piehler 2019",
           "Piehler 2019",
           "Piehler 2019",
           "Maneiro 2019",
           "Waller 2019",
           "Adjorlolo 2018",
           "Dubas  2018",
           "Fanti 2017",
           "Fanti 2017",
           "Fanti 2017",
           "Fanti 2017",
           "Ray 2016",
           "Wall 2016",
           "Wall 2016",
           "Wall 2016",
           "Wall 2016",
           "White 2014",
           "Fanti 2013a",
           "Fanti 2013b",
           "Fanti 2013a",
           "Winters 2025",
           "Ciesenski 2024",
           "Castagna 2024",
           "Cohn 2024",
           "Cohn 2024",
           "Cohn 2024",
           "Elster 2024",
           "Međedovic 2024",
           "Brislin 2024",
           "Murray 2022",
           "Pechorro 2023",
           "Payot 2022",
           "Sellbom 2022",
           "Sellbom 2022",
           "Sellbom 2022",
           "Sellbom 2022",
           "Wissenburg 2022",
           "Wissenburg 2022",
           "Wissenburg 2022",
           "Wissenburg 2022",
           "Willoughby 2022",
           "Friedman 2021",
           "Harrop 2021",
           "Byrd 2021",
           "Gillespie 2021",
           "Hawes 2021",
           "Altikriti 2020",
           "Wang 2020",
           "Piehler 2019",
           "Piehler 2019",
           "Piehler 2019",
           "Piehler 2019",
           "Maneiro 2019",
           "Waller 2019",
           "Adjorlolo 2018",
           "Dubas  2018",
           "Fanti 2017",
           "Fanti 2017",
           "Fanti 2017",
           "Fanti 2017",
           "Ray 2016",
           "Wall 2016",
           "Wall 2016",
           "Wall 2016",
           "Wall 2016",
           "White 2014",
           "Fanti 2013a",
           "Fanti 2013b",
           "Fanti 2013a"
          ],
          "hovertemplate": "%{customdata}<extra></extra>",
          "source": [
           0,
           1,
           2,
           0,
           1,
           3,
           4,
           1,
           5,
           4,
           6,
           7,
           0,
           0,
           0,
           0,
           7,
           8,
           6,
           1,
           9,
           0,
           1,
           4,
           1,
           4,
           6,
           1,
           6,
           0,
           6,
           0,
           1,
           1,
           1,
           1,
           6,
           6,
           6,
           0,
           1,
           1,
           1,
           0,
           6,
           4,
           1,
           1,
           8,
           10,
           11,
           12,
           13,
           11,
           14,
           15,
           11,
           16,
           17,
           18,
           19,
           20,
           21,
           22,
           23,
           24,
           25,
           26,
           11,
           27,
           28,
           29,
           17,
           11,
           17,
           30,
           11,
           31,
           22,
           32,
           33,
           29,
           34,
           11,
           35,
           36,
           27,
           34,
           37,
           34,
           38,
           39,
           37,
           40,
           41,
           38,
           38,
           42
          ],
          "target": [
           10,
           11,
           12,
           13,
           11,
           14,
           15,
           11,
           16,
           17,
           18,
           19,
           20,
           21,
           22,
           23,
           24,
           25,
           26,
           11,
           27,
           28,
           29,
           17,
           11,
           17,
           30,
           11,
           31,
           22,
           32,
           33,
           29,
           34,
           11,
           35,
           36,
           27,
           34,
           37,
           34,
           38,
           39,
           37,
           40,
           41,
           38,
           38,
           42,
           43,
           44,
           43,
           44,
           44,
           44,
           43,
           45,
           44,
           43,
           44,
           45,
           43,
           43,
           43,
           43,
           44,
           44,
           44,
           44,
           43,
           43,
           44,
           43,
           44,
           43,
           44,
           44,
           43,
           43,
           45,
           43,
           44,
           44,
           44,
           44,
           43,
           43,
           44,
           45,
           44,
           44,
           44,
           45,
           45,
           43,
           44,
           44,
           44
          ],
          "value": [
           11,
           16,
           1,
           11,
           16,
           1,
           5,
           16,
           1,
           5,
           9,
           2,
           11,
           11,
           11,
           11,
           2,
           2,
           9,
           16,
           1,
           11,
           16,
           5,
           16,
           5,
           9,
           16,
           9,
           11,
           9,
           11,
           16,
           16,
           16,
           16,
           9,
           9,
           9,
           11,
           16,
           16,
           16,
           11,
           9,
           5,
           16,
           16,
           2,
           18,
           25,
           18,
           25,
           25,
           25,
           18,
           6,
           25,
           18,
           25,
           6,
           18,
           18,
           18,
           18,
           25,
           25,
           25,
           25,
           18,
           18,
           25,
           18,
           25,
           18,
           25,
           25,
           18,
           18,
           6,
           18,
           25,
           25,
           25,
           25,
           18,
           18,
           25,
           6,
           25,
           25,
           25,
           6,
           6,
           18,
           25,
           25,
           25
          ]
         },
         "node": {
          "align": "left",
          "color": [
           "rgba(187,181,199,0.6)",
           "rgba(132,165,163,0.6)",
           "rgba(223,246,107,0.6)",
           "rgba(217,241,145,0.6)",
           "rgba(238,231,212,0.6)",
           "rgba(168,230,199,0.6)",
           "rgba(169,162,162,0.6)",
           "rgba(207,188,238,0.6)",
           "rgba(194,111,157,0.6)",
           "rgba(156,144,212,0.6)",
           "rgba(117,147,107,0.6)",
           "rgba(249,159,140,0.6)",
           "rgba(113,204,186,0.6)",
           "rgba(189,252,232,0.6)",
           "rgba(120,192,130,0.6)",
           "rgba(221,149,205,0.6)",
           "rgba(176,109,113,0.6)",
           "rgba(186,144,110,0.6)",
           "rgba(206,244,201,0.6)",
           "rgba(204,167,171,0.6)",
           "rgba(181,139,154,0.6)",
           "rgba(118,125,200,0.6)",
           "rgba(141,222,108,0.6)",
           "rgba(212,125,232,0.6)",
           "rgba(241,247,214,0.6)",
           "rgba(166,101,215,0.6)",
           "rgba(134,121,247,0.6)",
           "rgba(251,196,243,0.6)",
           "rgba(204,211,213,0.6)",
           "rgba(211,173,163,0.6)",
           "rgba(118,137,191,0.6)",
           "rgba(179,170,233,0.6)",
           "rgba(238,124,192,0.6)",
           "rgba(237,244,245,0.6)",
           "rgba(241,154,105,0.6)",
           "rgba(162,120,156,0.6)",
           "rgba(247,249,166,0.6)",
           "rgba(156,213,200,0.6)",
           "rgba(101,110,181,0.6)",
           "rgba(219,198,216,0.6)",
           "rgba(222,110,131,0.6)",
           "rgba(173,156,240,0.6)",
           "rgba(141,203,103,0.6)",
           "rgba(183,204,105,0.6)",
           "rgba(255,114,205,0.6)",
           "rgba(150,151,170,0.6)"
          ],
          "label": [
           "executive function",
           "impulsivity",
           "drift rate",
           "disinhibition",
           "reward/punishment learning",
           "general cognitive ability",
           "self control",
           "empathy",
           "sensation seeking",
           "Inhibition",
           "Delis-Kaplan Executive Function System (D-KEFS)",
           "Barratt Impulsiveness Scale (BIS)",
           "Conners Continious Perfromance Test (CPT-3)",
           "Behavior Rating Inventory of Executive Functioning-Inhibit Scale (BRIEF)",
           "Personality Disorder Inventory for DSM-5 Brief Form-Disinhibition Scale (PID-5-BF)",
           "probabilistic RL-task",
           "General Cognitive Ability (GCA)",
           "Monetary Incentive Delay Task",
           "Low Self-Control Scale (LSCS)",
           "Griffith Empathy Measure (GEM)",
           "Trail Making Test (TMT)",
           "Porteus Maze",
           "Flanker Task",
           "Diagnostic Analysis of Nonverbal Accuracy Scale-2 (DANVA)",
           "Interpersonal Reactivity Index (IRI)",
           "Brief Sensation Seeking Scale (BSSS)",
           "Self-Control Scale (SCS)",
           "Stroop Task",
           "study specific EF tasks for inhibiting, updating, shifting",
           "Impulsive Behavior Scale (UPPS-P)",
           "study specific self-control items (8)",
           "Dimensional change card sort (DCCS)",
           "Early Adolescent Temperament Questionnaire Revised (EATQ)",
           "Iowa Gambling Task (IGT)",
           "Weinberger Adjustment Inventory (WAI)",
           "Eysenck Impulsiveness Scale (EIS)",
           "Tower of London",
           "Executive Skills Questionnaire (ESQ)",
           "Antisocial Process Screening Device (APSD)",
           "Impulsive-Hyperactive symptoms score CSI-4",
           "Social-Emotional Assets and Resilience scale (SEARS)",
           "Doors Task (images behind three doors were either contamination-oriented, appetetive or fear inducing)",
           "Sensation Seeking Scale Form-V (SSS-V)",
           "experimental",
           "self report",
           "other report"
          ],
          "line": {
           "color": "black",
           "width": 0.9
          },
          "pad": 15,
          "thickness": 20
         },
         "type": "sankey"
        }
       ],
       "layout": {
        "font": {
         "size": 16.5
        },
        "height": 1200,
        "hovermode": "x",
        "template": {
         "data": {
          "bar": [
           {
            "error_x": {
             "color": "#2a3f5f"
            },
            "error_y": {
             "color": "#2a3f5f"
            },
            "marker": {
             "line": {
              "color": "#E5ECF6",
              "width": 0.5
             },
             "pattern": {
              "fillmode": "overlay",
              "size": 10,
              "solidity": 0.2
             }
            },
            "type": "bar"
           }
          ],
          "barpolar": [
           {
            "marker": {
             "line": {
              "color": "#E5ECF6",
              "width": 0.5
             },
             "pattern": {
              "fillmode": "overlay",
              "size": 10,
              "solidity": 0.2
             }
            },
            "type": "barpolar"
           }
          ],
          "carpet": [
           {
            "aaxis": {
             "endlinecolor": "#2a3f5f",
             "gridcolor": "white",
             "linecolor": "white",
             "minorgridcolor": "white",
             "startlinecolor": "#2a3f5f"
            },
            "baxis": {
             "endlinecolor": "#2a3f5f",
             "gridcolor": "white",
             "linecolor": "white",
             "minorgridcolor": "white",
             "startlinecolor": "#2a3f5f"
            },
            "type": "carpet"
           }
          ],
          "choropleth": [
           {
            "colorbar": {
             "outlinewidth": 0,
             "ticks": ""
            },
            "type": "choropleth"
           }
          ],
          "contour": [
           {
            "colorbar": {
             "outlinewidth": 0,
             "ticks": ""
            },
            "colorscale": [
             [
              0,
              "#0d0887"
             ],
             [
              0.1111111111111111,
              "#46039f"
             ],
             [
              0.2222222222222222,
              "#7201a8"
             ],
             [
              0.3333333333333333,
              "#9c179e"
             ],
             [
              0.4444444444444444,
              "#bd3786"
             ],
             [
              0.5555555555555556,
              "#d8576b"
             ],
             [
              0.6666666666666666,
              "#ed7953"
             ],
             [
              0.7777777777777778,
              "#fb9f3a"
             ],
             [
              0.8888888888888888,
              "#fdca26"
             ],
             [
              1,
              "#f0f921"
             ]
            ],
            "type": "contour"
           }
          ],
          "contourcarpet": [
           {
            "colorbar": {
             "outlinewidth": 0,
             "ticks": ""
            },
            "type": "contourcarpet"
           }
          ],
          "heatmap": [
           {
            "colorbar": {
             "outlinewidth": 0,
             "ticks": ""
            },
            "colorscale": [
             [
              0,
              "#0d0887"
             ],
             [
              0.1111111111111111,
              "#46039f"
             ],
             [
              0.2222222222222222,
              "#7201a8"
             ],
             [
              0.3333333333333333,
              "#9c179e"
             ],
             [
              0.4444444444444444,
              "#bd3786"
             ],
             [
              0.5555555555555556,
              "#d8576b"
             ],
             [
              0.6666666666666666,
              "#ed7953"
             ],
             [
              0.7777777777777778,
              "#fb9f3a"
             ],
             [
              0.8888888888888888,
              "#fdca26"
             ],
             [
              1,
              "#f0f921"
             ]
            ],
            "type": "heatmap"
           }
          ],
          "histogram": [
           {
            "marker": {
             "pattern": {
              "fillmode": "overlay",
              "size": 10,
              "solidity": 0.2
             }
            },
            "type": "histogram"
           }
          ],
          "histogram2d": [
           {
            "colorbar": {
             "outlinewidth": 0,
             "ticks": ""
            },
            "colorscale": [
             [
              0,
              "#0d0887"
             ],
             [
              0.1111111111111111,
              "#46039f"
             ],
             [
              0.2222222222222222,
              "#7201a8"
             ],
             [
              0.3333333333333333,
              "#9c179e"
             ],
             [
              0.4444444444444444,
              "#bd3786"
             ],
             [
              0.5555555555555556,
              "#d8576b"
             ],
             [
              0.6666666666666666,
              "#ed7953"
             ],
             [
              0.7777777777777778,
              "#fb9f3a"
             ],
             [
              0.8888888888888888,
              "#fdca26"
             ],
             [
              1,
              "#f0f921"
             ]
            ],
            "type": "histogram2d"
           }
          ],
          "histogram2dcontour": [
           {
            "colorbar": {
             "outlinewidth": 0,
             "ticks": ""
            },
            "colorscale": [
             [
              0,
              "#0d0887"
             ],
             [
              0.1111111111111111,
              "#46039f"
             ],
             [
              0.2222222222222222,
              "#7201a8"
             ],
             [
              0.3333333333333333,
              "#9c179e"
             ],
             [
              0.4444444444444444,
              "#bd3786"
             ],
             [
              0.5555555555555556,
              "#d8576b"
             ],
             [
              0.6666666666666666,
              "#ed7953"
             ],
             [
              0.7777777777777778,
              "#fb9f3a"
             ],
             [
              0.8888888888888888,
              "#fdca26"
             ],
             [
              1,
              "#f0f921"
             ]
            ],
            "type": "histogram2dcontour"
           }
          ],
          "mesh3d": [
           {
            "colorbar": {
             "outlinewidth": 0,
             "ticks": ""
            },
            "type": "mesh3d"
           }
          ],
          "parcoords": [
           {
            "line": {
             "colorbar": {
              "outlinewidth": 0,
              "ticks": ""
             }
            },
            "type": "parcoords"
           }
          ],
          "pie": [
           {
            "automargin": true,
            "type": "pie"
           }
          ],
          "scatter": [
           {
            "fillpattern": {
             "fillmode": "overlay",
             "size": 10,
             "solidity": 0.2
            },
            "type": "scatter"
           }
          ],
          "scatter3d": [
           {
            "line": {
             "colorbar": {
              "outlinewidth": 0,
              "ticks": ""
             }
            },
            "marker": {
             "colorbar": {
              "outlinewidth": 0,
              "ticks": ""
             }
            },
            "type": "scatter3d"
           }
          ],
          "scattercarpet": [
           {
            "marker": {
             "colorbar": {
              "outlinewidth": 0,
              "ticks": ""
             }
            },
            "type": "scattercarpet"
           }
          ],
          "scattergeo": [
           {
            "marker": {
             "colorbar": {
              "outlinewidth": 0,
              "ticks": ""
             }
            },
            "type": "scattergeo"
           }
          ],
          "scattergl": [
           {
            "marker": {
             "colorbar": {
              "outlinewidth": 0,
              "ticks": ""
             }
            },
            "type": "scattergl"
           }
          ],
          "scattermap": [
           {
            "marker": {
             "colorbar": {
              "outlinewidth": 0,
              "ticks": ""
             }
            },
            "type": "scattermap"
           }
          ],
          "scattermapbox": [
           {
            "marker": {
             "colorbar": {
              "outlinewidth": 0,
              "ticks": ""
             }
            },
            "type": "scattermapbox"
           }
          ],
          "scatterpolar": [
           {
            "marker": {
             "colorbar": {
              "outlinewidth": 0,
              "ticks": ""
             }
            },
            "type": "scatterpolar"
           }
          ],
          "scatterpolargl": [
           {
            "marker": {
             "colorbar": {
              "outlinewidth": 0,
              "ticks": ""
             }
            },
            "type": "scatterpolargl"
           }
          ],
          "scatterternary": [
           {
            "marker": {
             "colorbar": {
              "outlinewidth": 0,
              "ticks": ""
             }
            },
            "type": "scatterternary"
           }
          ],
          "surface": [
           {
            "colorbar": {
             "outlinewidth": 0,
             "ticks": ""
            },
            "colorscale": [
             [
              0,
              "#0d0887"
             ],
             [
              0.1111111111111111,
              "#46039f"
             ],
             [
              0.2222222222222222,
              "#7201a8"
             ],
             [
              0.3333333333333333,
              "#9c179e"
             ],
             [
              0.4444444444444444,
              "#bd3786"
             ],
             [
              0.5555555555555556,
              "#d8576b"
             ],
             [
              0.6666666666666666,
              "#ed7953"
             ],
             [
              0.7777777777777778,
              "#fb9f3a"
             ],
             [
              0.8888888888888888,
              "#fdca26"
             ],
             [
              1,
              "#f0f921"
             ]
            ],
            "type": "surface"
           }
          ],
          "table": [
           {
            "cells": {
             "fill": {
              "color": "#EBF0F8"
             },
             "line": {
              "color": "white"
             }
            },
            "header": {
             "fill": {
              "color": "#C8D4E3"
             },
             "line": {
              "color": "white"
             }
            },
            "type": "table"
           }
          ]
         },
         "layout": {
          "annotationdefaults": {
           "arrowcolor": "#2a3f5f",
           "arrowhead": 0,
           "arrowwidth": 1
          },
          "autotypenumbers": "strict",
          "coloraxis": {
           "colorbar": {
            "outlinewidth": 0,
            "ticks": ""
           }
          },
          "colorscale": {
           "diverging": [
            [
             0,
             "#8e0152"
            ],
            [
             0.1,
             "#c51b7d"
            ],
            [
             0.2,
             "#de77ae"
            ],
            [
             0.3,
             "#f1b6da"
            ],
            [
             0.4,
             "#fde0ef"
            ],
            [
             0.5,
             "#f7f7f7"
            ],
            [
             0.6,
             "#e6f5d0"
            ],
            [
             0.7,
             "#b8e186"
            ],
            [
             0.8,
             "#7fbc41"
            ],
            [
             0.9,
             "#4d9221"
            ],
            [
             1,
             "#276419"
            ]
           ],
           "sequential": [
            [
             0,
             "#0d0887"
            ],
            [
             0.1111111111111111,
             "#46039f"
            ],
            [
             0.2222222222222222,
             "#7201a8"
            ],
            [
             0.3333333333333333,
             "#9c179e"
            ],
            [
             0.4444444444444444,
             "#bd3786"
            ],
            [
             0.5555555555555556,
             "#d8576b"
            ],
            [
             0.6666666666666666,
             "#ed7953"
            ],
            [
             0.7777777777777778,
             "#fb9f3a"
            ],
            [
             0.8888888888888888,
             "#fdca26"
            ],
            [
             1,
             "#f0f921"
            ]
           ],
           "sequentialminus": [
            [
             0,
             "#0d0887"
            ],
            [
             0.1111111111111111,
             "#46039f"
            ],
            [
             0.2222222222222222,
             "#7201a8"
            ],
            [
             0.3333333333333333,
             "#9c179e"
            ],
            [
             0.4444444444444444,
             "#bd3786"
            ],
            [
             0.5555555555555556,
             "#d8576b"
            ],
            [
             0.6666666666666666,
             "#ed7953"
            ],
            [
             0.7777777777777778,
             "#fb9f3a"
            ],
            [
             0.8888888888888888,
             "#fdca26"
            ],
            [
             1,
             "#f0f921"
            ]
           ]
          },
          "colorway": [
           "#636efa",
           "#EF553B",
           "#00cc96",
           "#ab63fa",
           "#FFA15A",
           "#19d3f3",
           "#FF6692",
           "#B6E880",
           "#FF97FF",
           "#FECB52"
          ],
          "font": {
           "color": "#2a3f5f"
          },
          "geo": {
           "bgcolor": "white",
           "lakecolor": "white",
           "landcolor": "#E5ECF6",
           "showlakes": true,
           "showland": true,
           "subunitcolor": "white"
          },
          "hoverlabel": {
           "align": "left"
          },
          "hovermode": "closest",
          "mapbox": {
           "style": "light"
          },
          "paper_bgcolor": "white",
          "plot_bgcolor": "#E5ECF6",
          "polar": {
           "angularaxis": {
            "gridcolor": "white",
            "linecolor": "white",
            "ticks": ""
           },
           "bgcolor": "#E5ECF6",
           "radialaxis": {
            "gridcolor": "white",
            "linecolor": "white",
            "ticks": ""
           }
          },
          "scene": {
           "xaxis": {
            "backgroundcolor": "#E5ECF6",
            "gridcolor": "white",
            "gridwidth": 2,
            "linecolor": "white",
            "showbackground": true,
            "ticks": "",
            "zerolinecolor": "white"
           },
           "yaxis": {
            "backgroundcolor": "#E5ECF6",
            "gridcolor": "white",
            "gridwidth": 2,
            "linecolor": "white",
            "showbackground": true,
            "ticks": "",
            "zerolinecolor": "white"
           },
           "zaxis": {
            "backgroundcolor": "#E5ECF6",
            "gridcolor": "white",
            "gridwidth": 2,
            "linecolor": "white",
            "showbackground": true,
            "ticks": "",
            "zerolinecolor": "white"
           }
          },
          "shapedefaults": {
           "line": {
            "color": "#2a3f5f"
           }
          },
          "ternary": {
           "aaxis": {
            "gridcolor": "white",
            "linecolor": "white",
            "ticks": ""
           },
           "baxis": {
            "gridcolor": "white",
            "linecolor": "white",
            "ticks": ""
           },
           "bgcolor": "#E5ECF6",
           "caxis": {
            "gridcolor": "white",
            "linecolor": "white",
            "ticks": ""
           }
          },
          "title": {
           "x": 0.05
          },
          "xaxis": {
           "automargin": true,
           "gridcolor": "white",
           "linecolor": "white",
           "ticks": "",
           "title": {
            "standoff": 15
           },
           "zerolinecolor": "white",
           "zerolinewidth": 2
          },
          "yaxis": {
           "automargin": true,
           "gridcolor": "white",
           "linecolor": "white",
           "ticks": "",
           "title": {
            "standoff": 15
           },
           "zerolinecolor": "white",
           "zerolinewidth": 2
          }
         }
        },
        "title": {
         "text": "Sankey Diagram for cognitive variables, assessments, and assessment types"
        },
        "width": 1700
       }
      }
     },
     "metadata": {},
     "output_type": "display_data"
    }
   ],
   "source": [
    "#Making the sankey plot for cognitive variables\n",
    "# 1. Create unique labels\n",
    "labels = list(pd.concat([\n",
    "    df_sankey_cog['cv'], \n",
    "    df_sankey_cog['ca'], \n",
    "    df_sankey_cog['cat']\n",
    "]).unique())\n",
    "\n",
    "# 2. Map labels to indices\n",
    "label_map = {label: idx for idx, label in enumerate(labels)}\n",
    "\n",
    "# 3. Define sources, targets, and values\n",
    "sources = df_sankey_cog['cv'].map(label_map).tolist() + \\\n",
    "          df_sankey_cog['ca'].map(label_map).tolist()\n",
    "\n",
    "targets = df_sankey_cog['ca'].map(label_map).tolist() + \\\n",
    "            df_sankey_cog['cat'].map(label_map).tolist()\n",
    "\n",
    "values = df_sankey_cog['c_count'].tolist() + \\\n",
    "            df_sankey_cog['cat_count'].tolist()\n",
    "\n",
    "# 4. Generate pastel colors\n",
    "import random\n",
    "\n",
    "def pastel_color():\n",
    "    r = lambda: random.randint(100, 255)\n",
    "    return f'rgba({r()},{r()},{r()},0.6)'\n",
    "\n",
    "label_to_color = {label: pastel_color() for label in labels}\n",
    "node_color_list = [label_to_color[label] for label in labels]\n",
    "\n",
    "# 5. Set link colors by source node's color (first half) and middle node (second half)\n",
    "link_colors = [label_to_color[df_sankey_cog['cv'].iloc[i]] \n",
    "               for i in range(len(df_sankey_cog))] + \\\n",
    "              [label_to_color[df_sankey_cog['ca'].iloc[i]] \n",
    "               for i in range(len(df_sankey_cog))]\n",
    "\n",
    "# 7. Create the figure\n",
    "fig = go.Figure(data=[go.Sankey(\n",
    "    node=dict(\n",
    "        pad=15,\n",
    "        thickness=20,\n",
    "        line=dict(color=\"black\", width=0.9),\n",
    "        label=labels,\n",
    "        color=node_color_list,\n",
    "        align=\"left\"\n",
    "    ),\n",
    "    link=dict(\n",
    "        source=sources,\n",
    "        target=targets,\n",
    "        value=values,\n",
    "        color=link_colors,\n",
    "        customdata=df_sankey_cog['nameyear'].tolist() * 2,\n",
    "        hovertemplate='%{customdata}<extra></extra>'\n",
    "    )\n",
    ")])\n",
    "\n",
    "fig.update_layout(\n",
    "    title_text=\"Sankey Diagram for cognitive variables, assessments, and assessment types\",\n",
    "    font_size=16.5,\n",
    "    width=1700,\n",
    "    height=1200,\n",
    "    hovermode='x'\n",
    ")\n",
    "fig.show()\n",
    "\n",
    "fig.write_html(\"C:/Users/U727148/Latent_Variable_Supplement/sankey_cog_plot.html\", include_plotlyjs=\"cdn\")"
   ]
  }
 ],
 "metadata": {
  "kernelspec": {
   "display_name": "pymc_env",
   "language": "python",
   "name": "python3"
  },
  "language_info": {
   "codemirror_mode": {
    "name": "ipython",
    "version": 3
   },
   "file_extension": ".py",
   "mimetype": "text/x-python",
   "name": "python",
   "nbconvert_exporter": "python",
   "pygments_lexer": "ipython3",
   "version": "3.12.7"
  }
 },
 "nbformat": 4,
 "nbformat_minor": 5
}
